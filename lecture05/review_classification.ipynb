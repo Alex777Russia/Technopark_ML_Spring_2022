{
 "cells": [
  {
   "cell_type": "markdown",
   "metadata": {
    "id": "x90yAt8E9LAR",
    "toc": true
   },
   "source": [
    "<h1>Table of Contents<span class=\"tocSkip\"></span></h1>\n",
    "<div class=\"toc\"><ul class=\"toc-item\"><li><span><a href=\"#Где-брать-данные?\" data-toc-modified-id=\"Где-брать-данные?-1\"><span class=\"toc-item-num\">1&nbsp;&nbsp;</span>Где брать данные?</a></span></li><li><span><a href=\"#Exploratory-Data-Analysis\" data-toc-modified-id=\"Exploratory-Data-Analysis-2\"><span class=\"toc-item-num\">2&nbsp;&nbsp;</span>Exploratory Data Analysis</a></span><ul class=\"toc-item\"><li><ul class=\"toc-item\"><li><span><a href=\"#Какие-бывают-значения-рейтинга?\" data-toc-modified-id=\"Какие-бывают-значения-рейтинга?-2.0.1\"><span class=\"toc-item-num\">2.0.1&nbsp;&nbsp;</span>Какие бывают значения рейтинга?</a></span></li><li><span><a href=\"#Добавьте-целевую-переменную\" data-toc-modified-id=\"Добавьте-целевую-переменную-2.0.2\"><span class=\"toc-item-num\">2.0.2&nbsp;&nbsp;</span>Добавьте целевую переменную</a></span></li><li><span><a href=\"#Худший-и-лучший-банк\" data-toc-modified-id=\"Худший-и-лучший-банк-2.0.3\"><span class=\"toc-item-num\">2.0.3&nbsp;&nbsp;</span>Худший и лучший банк</a></span></li><li><span><a href=\"#Отличается-ли-длина-у-хороших-и-плохих-отзывов?\" data-toc-modified-id=\"Отличается-ли-длина-у-хороших-и-плохих-отзывов?-2.0.4\"><span class=\"toc-item-num\">2.0.4&nbsp;&nbsp;</span>Отличается ли длина у хороших и плохих отзывов?</a></span></li><li><span><a href=\"#Отличается-ли-распределение-количества-восклицательных-знаков?\" data-toc-modified-id=\"Отличается-ли-распределение-количества-восклицательных-знаков?-2.0.5\"><span class=\"toc-item-num\">2.0.5&nbsp;&nbsp;</span>Отличается ли распределение количества восклицательных знаков?</a></span></li></ul></li></ul></li><li><span><a href=\"#Бейзлайн-модель-классификации\" data-toc-modified-id=\"Бейзлайн-модель-классификации-3\"><span class=\"toc-item-num\">3&nbsp;&nbsp;</span>Бейзлайн модель классификации</a></span></li><li><span><a href=\"#Обработка-текста\" data-toc-modified-id=\"Обработка-текста-4\"><span class=\"toc-item-num\">4&nbsp;&nbsp;</span>Обработка текста</a></span><ul class=\"toc-item\"><li><span><a href=\"#Модель-на-словах.-CountVectorizer\" data-toc-modified-id=\"Модель-на-словах.-CountVectorizer-4.1\"><span class=\"toc-item-num\">4.1&nbsp;&nbsp;</span>Модель на словах. CountVectorizer</a></span></li><li><span><a href=\"#Модель-на-n-gram'ах-символов.-TfidfVectorizer\" data-toc-modified-id=\"Модель-на-n-gram'ах-символов.-TfidfVectorizer-4.2\"><span class=\"toc-item-num\">4.2&nbsp;&nbsp;</span>Модель на n-gram'ах символов. TfidfVectorizer</a></span></li><li><span><a href=\"#Подбор-параметров-с-помощью-кросс-валидации\" data-toc-modified-id=\"Подбор-параметров-с-помощью-кросс-валидации-4.3\"><span class=\"toc-item-num\">4.3&nbsp;&nbsp;</span>Подбор параметров с помощью кросс-валидации</a></span></li><li><span><a href=\"#Объединение-признаков\" data-toc-modified-id=\"Объединение-признаков-4.4\"><span class=\"toc-item-num\">4.4&nbsp;&nbsp;</span>Объединение признаков</a></span></li><li><span><a href=\"#Визуализация-отзывов\" data-toc-modified-id=\"Визуализация-отзывов-4.5\"><span class=\"toc-item-num\">4.5&nbsp;&nbsp;</span>Визуализация отзывов</a></span></li></ul></li><li><span><a href=\"#Проблемы-анализа-тональности\" data-toc-modified-id=\"Проблемы-анализа-тональности-5\"><span class=\"toc-item-num\">5&nbsp;&nbsp;</span>Проблемы анализа тональности</a></span></li></ul></div>"
   ]
  },
  {
   "cell_type": "code",
   "execution_count": 1,
   "metadata": {
    "ExecuteTime": {
     "end_time": "2021-04-14T09:49:53.783551Z",
     "start_time": "2021-04-14T09:49:51.250996Z"
    },
    "colab": {
     "base_uri": "https://localhost:8080/"
    },
    "id": "5PuwMVGk9LAV",
    "outputId": "e3550495-1ee8-4c57-c4e8-f63ab38d21cf"
   },
   "outputs": [
    {
     "name": "stderr",
     "output_type": "stream",
     "text": [
      "[nltk_data] Downloading package stopwords to\n",
      "[nltk_data]     /Users/k.shematorov/nltk_data...\n",
      "[nltk_data]   Package stopwords is already up-to-date!\n"
     ]
    }
   ],
   "source": [
    "import json\n",
    "import re\n",
    "import requests\n",
    "\n",
    "import nltk\n",
    "nltk.download('stopwords')\n",
    "import pandas as pd\n",
    "import numpy as np\n",
    "import matplotlib.pyplot as plt\n",
    "plt.style.use('ggplot')\n",
    "from bs4 import BeautifulSoup\n",
    "from sklearn.model_selection import train_test_split, GridSearchCV\n",
    "from sklearn.preprocessing  import StandardScaler\n",
    "from sklearn.feature_extraction.text import TfidfVectorizer, CountVectorizer\n",
    "from sklearn.linear_model import LogisticRegression, SGDClassifier\n",
    "from sklearn.tree import DecisionTreeClassifier, plot_tree\n",
    "from sklearn.pipeline import Pipeline, FeatureUnion\n",
    "from sklearn.compose import ColumnTransformer\n",
    "from sklearn.metrics import f1_score\n",
    "from IPython.core.display import HTML, display"
   ]
  },
  {
   "cell_type": "code",
   "execution_count": 2,
   "metadata": {
    "ExecuteTime": {
     "end_time": "2021-04-14T09:49:53.788973Z",
     "start_time": "2021-04-14T09:49:53.786326Z"
    },
    "id": "7wyPh1Tg9LAX"
   },
   "outputs": [],
   "source": [
    "SEED = 42\n",
    "\n",
    "TOKEN_PATTERN = \"[а-яё]+\"\n",
    "\n",
    "DATA_PATH = 'parsed_reviews.csv'"
   ]
  },
  {
   "cell_type": "markdown",
   "metadata": {
    "id": "wWdBlg_69LAX"
   },
   "source": [
    "Uncomment if you are using colab"
   ]
  },
  {
   "cell_type": "code",
   "execution_count": null,
   "metadata": {
    "ExecuteTime": {
     "end_time": "2021-04-14T09:49:53.793653Z",
     "start_time": "2021-04-14T09:49:53.790913Z"
    },
    "colab": {
     "base_uri": "https://localhost:8080/"
    },
    "id": "JlA0KumP9LAY",
    "outputId": "4b22c224-6b19-4f87-8471-ac89cd6ed018"
   },
   "outputs": [],
   "source": [
    "#!mkdir ./data\n",
    "#!wget https://raw.githubusercontent.com/vadim0912/MLIntro2022_Spring/master/lecture06/data/parsed_reviews.csv.gz -O $DATA_PATH"
   ]
  },
  {
   "cell_type": "markdown",
   "metadata": {
    "ExecuteTime": {
     "end_time": "2020-10-30T21:16:23.760727Z",
     "start_time": "2020-10-30T21:16:23.698135Z"
    },
    "id": "l6qBL_Aw9LAa"
   },
   "source": [
    "# Exploratory Data Analysis"
   ]
  },
  {
   "cell_type": "code",
   "execution_count": 3,
   "metadata": {
    "ExecuteTime": {
     "end_time": "2021-04-14T09:49:54.524316Z",
     "start_time": "2021-04-14T09:49:54.388702Z"
    },
    "colab": {
     "base_uri": "https://localhost:8080/"
    },
    "id": "4Y3x6Iue9LAa",
    "outputId": "f3d8f272-9061-46e0-abcf-396ca864509f"
   },
   "outputs": [
    {
     "name": "stdout",
     "output_type": "stream",
     "text": [
      "-rw-r--r--@ 1 k.shematorov  staff   204M  6 апр 17:02 parsed_reviews.csv\r\n"
     ]
    }
   ],
   "source": [
    "!ls -lah $DATA_PATH"
   ]
  },
  {
   "cell_type": "code",
   "execution_count": null,
   "metadata": {
    "ExecuteTime": {
     "end_time": "2021-04-14T09:49:55.307489Z",
     "start_time": "2021-04-14T09:49:54.527300Z"
    },
    "colab": {
     "base_uri": "https://localhost:8080/"
    },
    "id": "T0vOkxtO9LAb",
    "outputId": "a5a98488-d81c-449b-ccf8-c5a07a831297"
   },
   "outputs": [],
   "source": [
    "!gunzip -c $DATA_PATH | wc -l"
   ]
  },
  {
   "cell_type": "code",
   "execution_count": 4,
   "metadata": {
    "ExecuteTime": {
     "end_time": "2021-04-14T09:49:56.918774Z",
     "start_time": "2021-04-14T09:49:55.310216Z"
    },
    "id": "y-J6GuDU9LAb"
   },
   "outputs": [],
   "source": [
    "df = pd.read_csv(DATA_PATH, nrows=50_000)"
   ]
  },
  {
   "cell_type": "markdown",
   "metadata": {
    "id": "Dt-s2hD89LAb"
   },
   "source": [
    "### Какие бывают значения рейтинга?"
   ]
  },
  {
   "cell_type": "code",
   "execution_count": 5,
   "metadata": {
    "ExecuteTime": {
     "end_time": "2021-04-14T09:49:56.939305Z",
     "start_time": "2021-04-14T09:49:56.920658Z"
    },
    "colab": {
     "base_uri": "https://localhost:8080/"
    },
    "id": "-fCAGM0t9LAc",
    "outputId": "ed149141-7f2c-4b37-cf4f-74aedabce457"
   },
   "outputs": [
    {
     "data": {
      "text/plain": [
       "1    29975\n",
       "5    13089\n",
       "2     4570\n",
       "3     1283\n",
       "4     1083\n",
       "Name: rating, dtype: int64"
      ]
     },
     "execution_count": 5,
     "metadata": {},
     "output_type": "execute_result"
    }
   ],
   "source": [
    "df['rating'].value_counts()"
   ]
  },
  {
   "cell_type": "markdown",
   "metadata": {
    "id": "p7Fgl-Sv9LAc"
   },
   "source": [
    "### Добавьте целевую переменную\n",
    "* $y = 1$, если рейтинг высокий\n",
    "* $y = 0$, если рейтинг низкий"
   ]
  },
  {
   "cell_type": "code",
   "execution_count": 6,
   "metadata": {
    "ExecuteTime": {
     "end_time": "2021-04-14T09:49:56.955595Z",
     "start_time": "2021-04-14T09:49:56.941718Z"
    },
    "id": "VVUlrQwA9LAc"
   },
   "outputs": [],
   "source": [
    "df = df[df.rating != 3].reset_index(drop=True)"
   ]
  },
  {
   "cell_type": "code",
   "execution_count": 7,
   "metadata": {
    "ExecuteTime": {
     "end_time": "2021-04-14T09:49:56.982890Z",
     "start_time": "2021-04-14T09:49:56.958176Z"
    },
    "id": "ntmdqPFG9LAc"
   },
   "outputs": [],
   "source": [
    "df['y'] = df.rating.apply(lambda x: int(x > 3)).values"
   ]
  },
  {
   "cell_type": "code",
   "execution_count": 8,
   "metadata": {
    "ExecuteTime": {
     "end_time": "2021-04-14T09:49:57.000785Z",
     "start_time": "2021-04-14T09:49:56.985326Z"
    },
    "colab": {
     "base_uri": "https://localhost:8080/",
     "height": 206
    },
    "id": "Y8VqS48M9LAd",
    "outputId": "f9d4b40c-275b-401f-d326-538f52cc17dc"
   },
   "outputs": [
    {
     "data": {
      "text/html": [
       "<div>\n",
       "<style scoped>\n",
       "    .dataframe tbody tr th:only-of-type {\n",
       "        vertical-align: middle;\n",
       "    }\n",
       "\n",
       "    .dataframe tbody tr th {\n",
       "        vertical-align: top;\n",
       "    }\n",
       "\n",
       "    .dataframe thead th {\n",
       "        text-align: right;\n",
       "    }\n",
       "</style>\n",
       "<table border=\"1\" class=\"dataframe\">\n",
       "  <thead>\n",
       "    <tr style=\"text-align: right;\">\n",
       "      <th></th>\n",
       "      <th>body</th>\n",
       "      <th>title</th>\n",
       "      <th>rating</th>\n",
       "      <th>date</th>\n",
       "      <th>bank_name</th>\n",
       "      <th>y</th>\n",
       "    </tr>\n",
       "  </thead>\n",
       "  <tbody>\n",
       "    <tr>\n",
       "      <th>0</th>\n",
       "      <td>Пользуюсь услугами банка около 4х лет.&amp;amp;amp...</td>\n",
       "      <td>Очень эффективный банк</td>\n",
       "      <td>5</td>\n",
       "      <td>2020-10-02</td>\n",
       "      <td>Альфа-Банк</td>\n",
       "      <td>1</td>\n",
       "    </tr>\n",
       "    <tr>\n",
       "      <th>1</th>\n",
       "      <td>Несколько лет назад открыл кредитную карту в П...</td>\n",
       "      <td>Бешеные комиссии в Почта банке</td>\n",
       "      <td>1</td>\n",
       "      <td>2020-10-02</td>\n",
       "      <td>Почта Банк</td>\n",
       "      <td>0</td>\n",
       "    </tr>\n",
       "    <tr>\n",
       "      <th>2</th>\n",
       "      <td>Решил закрыть карту этого банка. Через чат поп...</td>\n",
       "      <td>Ужасное обслуживание. Пустили по кругу</td>\n",
       "      <td>1</td>\n",
       "      <td>2020-10-02</td>\n",
       "      <td>Хоум Кредит Банк</td>\n",
       "      <td>0</td>\n",
       "    </tr>\n",
       "    <tr>\n",
       "      <th>3</th>\n",
       "      <td>В марте 2020 года я потеряла работу , В конце ...</td>\n",
       "      <td>Сотрудники Сбербанка намерено меня обманули !!!!</td>\n",
       "      <td>1</td>\n",
       "      <td>2020-10-02</td>\n",
       "      <td>СберБанк</td>\n",
       "      <td>0</td>\n",
       "    </tr>\n",
       "    <tr>\n",
       "      <th>4</th>\n",
       "      <td>закончился вклад-депозит. во-первых, клиентски...</td>\n",
       "      <td>невозможно забрать свои же деньги</td>\n",
       "      <td>1</td>\n",
       "      <td>2020-10-02</td>\n",
       "      <td>Банк Открытие</td>\n",
       "      <td>0</td>\n",
       "    </tr>\n",
       "  </tbody>\n",
       "</table>\n",
       "</div>"
      ],
      "text/plain": [
       "                                                body  \\\n",
       "0  Пользуюсь услугами банка около 4х лет.&amp;amp...   \n",
       "1  Несколько лет назад открыл кредитную карту в П...   \n",
       "2  Решил закрыть карту этого банка. Через чат поп...   \n",
       "3  В марте 2020 года я потеряла работу , В конце ...   \n",
       "4  закончился вклад-депозит. во-первых, клиентски...   \n",
       "\n",
       "                                              title  rating        date  \\\n",
       "0                            Очень эффективный банк       5  2020-10-02   \n",
       "1                    Бешеные комиссии в Почта банке       1  2020-10-02   \n",
       "2            Ужасное обслуживание. Пустили по кругу       1  2020-10-02   \n",
       "3  Сотрудники Сбербанка намерено меня обманули !!!!       1  2020-10-02   \n",
       "4                 невозможно забрать свои же деньги       1  2020-10-02   \n",
       "\n",
       "          bank_name  y  \n",
       "0        Альфа-Банк  1  \n",
       "1        Почта Банк  0  \n",
       "2  Хоум Кредит Банк  0  \n",
       "3          СберБанк  0  \n",
       "4     Банк Открытие  0  "
      ]
     },
     "execution_count": 8,
     "metadata": {},
     "output_type": "execute_result"
    }
   ],
   "source": [
    "df.head()"
   ]
  },
  {
   "cell_type": "markdown",
   "metadata": {
    "id": "YPJzu4KS9LAd"
   },
   "source": [
    "какой баланс классов?"
   ]
  },
  {
   "cell_type": "code",
   "execution_count": 9,
   "metadata": {
    "ExecuteTime": {
     "end_time": "2021-04-14T09:49:57.009841Z",
     "start_time": "2021-04-14T09:49:57.002927Z"
    },
    "colab": {
     "base_uri": "https://localhost:8080/"
    },
    "id": "D5-Vd48S9LAd",
    "outputId": "7d094b3f-7f18-4e45-f11a-3e0ccbbc4e41"
   },
   "outputs": [
    {
     "data": {
      "text/plain": [
       "0    34545\n",
       "1    14172\n",
       "Name: y, dtype: int64"
      ]
     },
     "execution_count": 9,
     "metadata": {},
     "output_type": "execute_result"
    }
   ],
   "source": [
    "df['y'].value_counts()"
   ]
  },
  {
   "cell_type": "markdown",
   "metadata": {
    "id": "RvtC_JVD9LAd"
   },
   "source": [
    "### Худший и лучший банк"
   ]
  },
  {
   "cell_type": "code",
   "execution_count": 10,
   "metadata": {
    "ExecuteTime": {
     "end_time": "2021-04-14T09:49:57.029331Z",
     "start_time": "2021-04-14T09:49:57.011994Z"
    },
    "id": "UbInFEBl9LAe"
   },
   "outputs": [],
   "source": [
    "stat = (\n",
    "    df[['bank_name',  'date', 'rating']]\n",
    "    .groupby('bank_name', as_index=False)\n",
    "    .agg({'date': 'count', 'rating': 'mean'})\n",
    "    .rename({'date': 'review_count', 'rating': 'mean_rating'}, axis=1)\n",
    ")"
   ]
  },
  {
   "cell_type": "code",
   "execution_count": 11,
   "metadata": {
    "ExecuteTime": {
     "end_time": "2021-04-14T09:49:57.042921Z",
     "start_time": "2021-04-14T09:49:57.031480Z"
    },
    "colab": {
     "base_uri": "https://localhost:8080/",
     "height": 206
    },
    "id": "PNJGkzOy9LAe",
    "outputId": "4b8934bf-2d86-4a09-9b46-c726a79d8407"
   },
   "outputs": [
    {
     "data": {
      "text/html": [
       "<div>\n",
       "<style scoped>\n",
       "    .dataframe tbody tr th:only-of-type {\n",
       "        vertical-align: middle;\n",
       "    }\n",
       "\n",
       "    .dataframe tbody tr th {\n",
       "        vertical-align: top;\n",
       "    }\n",
       "\n",
       "    .dataframe thead th {\n",
       "        text-align: right;\n",
       "    }\n",
       "</style>\n",
       "<table border=\"1\" class=\"dataframe\">\n",
       "  <thead>\n",
       "    <tr style=\"text-align: right;\">\n",
       "      <th></th>\n",
       "      <th>bank_name</th>\n",
       "      <th>review_count</th>\n",
       "      <th>mean_rating</th>\n",
       "    </tr>\n",
       "  </thead>\n",
       "  <tbody>\n",
       "    <tr>\n",
       "      <th>163</th>\n",
       "      <td>Совкомбанк</td>\n",
       "      <td>3062</td>\n",
       "      <td>3.285761</td>\n",
       "    </tr>\n",
       "    <tr>\n",
       "      <th>172</th>\n",
       "      <td>Тинькофф Банк</td>\n",
       "      <td>4314</td>\n",
       "      <td>2.994669</td>\n",
       "    </tr>\n",
       "    <tr>\n",
       "      <th>13</th>\n",
       "      <td>Альфа-Банк</td>\n",
       "      <td>4783</td>\n",
       "      <td>2.426720</td>\n",
       "    </tr>\n",
       "    <tr>\n",
       "      <th>154</th>\n",
       "      <td>СберБанк</td>\n",
       "      <td>6368</td>\n",
       "      <td>1.897142</td>\n",
       "    </tr>\n",
       "    <tr>\n",
       "      <th>38</th>\n",
       "      <td>ВТБ</td>\n",
       "      <td>5449</td>\n",
       "      <td>1.830428</td>\n",
       "    </tr>\n",
       "  </tbody>\n",
       "</table>\n",
       "</div>"
      ],
      "text/plain": [
       "         bank_name  review_count  mean_rating\n",
       "163     Совкомбанк          3062     3.285761\n",
       "172  Тинькофф Банк          4314     2.994669\n",
       "13      Альфа-Банк          4783     2.426720\n",
       "154       СберБанк          6368     1.897142\n",
       "38             ВТБ          5449     1.830428"
      ]
     },
     "execution_count": 11,
     "metadata": {},
     "output_type": "execute_result"
    }
   ],
   "source": [
    "(\n",
    "    stat[stat['review_count'] > 3_000]\n",
    "    .sort_values('mean_rating', ascending=False)\n",
    ")"
   ]
  },
  {
   "cell_type": "markdown",
   "metadata": {
    "id": "rNvowgEt9LAe"
   },
   "source": [
    "### Отличается ли длина у хороших и плохих отзывов?\n",
    "\n",
    "посчитайте длины хороших и плохих отзывов"
   ]
  },
  {
   "cell_type": "code",
   "execution_count": 12,
   "metadata": {
    "ExecuteTime": {
     "end_time": "2021-04-14T09:49:57.087527Z",
     "start_time": "2021-04-14T09:49:57.044898Z"
    },
    "id": "g4EkxHsS9LAe"
   },
   "outputs": [],
   "source": [
    "body_len_0 = df.loc[df['y'] == 0, 'body'].str.len().values\n",
    "body_len_1 = df.loc[df['y'] == 1, 'body'].str.len().values"
   ]
  },
  {
   "cell_type": "markdown",
   "metadata": {
    "id": "Jpaez9rZ9LAe"
   },
   "source": [
    "постройте гистограммы для для хороших и плохих отзывов (ограничьте максимальную длину `max_body_length`)"
   ]
  },
  {
   "cell_type": "code",
   "execution_count": 13,
   "metadata": {
    "ExecuteTime": {
     "end_time": "2021-04-14T09:49:57.753333Z",
     "start_time": "2021-04-14T09:49:57.089671Z"
    },
    "colab": {
     "base_uri": "https://localhost:8080/",
     "height": 265
    },
    "id": "ucLaLINA9LAf",
    "outputId": "0d5c90a2-dec4-4759-cc7b-a773a8ba1f00"
   },
   "outputs": [
    {
     "data": {
      "image/png": "[encoded data removed]",
      "text/plain": [
       "<Figure size 432x288 with 1 Axes>"
      ]
     },
     "metadata": {},
     "output_type": "display_data"
    }
   ],
   "source": [
    "max_body_length = 5_000\n",
    "\n",
    "bins=100\n",
    "alpha=0.5\n",
    "\n",
    "plt.hist(body_len_0[body_len_0 <= max_body_length], alpha=alpha, bins=bins, label=r'$y = 0$')\n",
    "plt.hist(body_len_1[body_len_1 <= max_body_length], alpha=alpha, bins=bins, label=r'$y = 1$')\n",
    "plt.legend();"
   ]
  },
  {
   "cell_type": "markdown",
   "metadata": {
    "id": "tK1MvSxs9LAf"
   },
   "source": [
    "отличаются ли медианы распределений?"
   ]
  },
  {
   "cell_type": "code",
   "execution_count": 14,
   "metadata": {
    "ExecuteTime": {
     "end_time": "2021-04-14T09:49:57.760742Z",
     "start_time": "2021-04-14T09:49:57.755398Z"
    },
    "colab": {
     "base_uri": "https://localhost:8080/"
    },
    "id": "Nv03nD9E9LAf",
    "outputId": "1af5722b-fab9-4753-fb46-89e69005e408"
   },
   "outputs": [
    {
     "data": {
      "text/plain": [
       "(1145.0, 601.0)"
      ]
     },
     "execution_count": 14,
     "metadata": {},
     "output_type": "execute_result"
    }
   ],
   "source": [
    "np.median(body_len_0), np.median(body_len_1)"
   ]
  },
  {
   "cell_type": "markdown",
   "metadata": {
    "id": "d_G4HzNg9LAg"
   },
   "source": [
    "### Отличается ли распределение количества восклицательных знаков?"
   ]
  },
  {
   "cell_type": "code",
   "execution_count": 15,
   "metadata": {
    "ExecuteTime": {
     "end_time": "2021-04-14T09:49:57.898391Z",
     "start_time": "2021-04-14T09:49:57.762757Z"
    },
    "id": "hRdissgr9LAg"
   },
   "outputs": [],
   "source": [
    "body_exclamation_0 = df[df.y == 0].body.str.count('!')\n",
    "body_exclamation_1 = df[df.y == 1].body.str.count('!')\n",
    "\n",
    "title_exclamation_0 = df[df.y == 0].title.str.count('!')\n",
    "title_exclamation_1 = df[df.y == 1].title.str.count('!')"
   ]
  },
  {
   "cell_type": "code",
   "execution_count": 16,
   "metadata": {
    "ExecuteTime": {
     "end_time": "2021-04-14T09:49:58.276123Z",
     "start_time": "2021-04-14T09:49:57.900340Z"
    },
    "colab": {
     "base_uri": "https://localhost:8080/",
     "height": 513
    },
    "id": "oSFaYWfa9LAg",
    "outputId": "27c094ff-13fa-4f94-ec46-fe0e15f285b8"
   },
   "outputs": [
    {
     "data": {
      "image/png": "[encoded data removed]",
      "text/plain": [
       "<Figure size 432x288 with 1 Axes>"
      ]
     },
     "metadata": {},
     "output_type": "display_data"
    },
    {
     "data": {
      "image/png": "[encoded data removed]",
      "text/plain": [
       "<Figure size 432x288 with 1 Axes>"
      ]
     },
     "metadata": {},
     "output_type": "display_data"
    }
   ],
   "source": [
    "max_symbols = 25\n",
    "title_max_symbols = 10\n",
    "\n",
    "plt.hist(\n",
    "    body_exclamation_1[body_exclamation_1 <= max_symbols],\n",
    "    label=r'$y = 1$', bins=max_symbols, alpha=alpha\n",
    ")\n",
    "plt.hist(\n",
    "    body_exclamation_0[body_exclamation_0 <= max_symbols],\n",
    "    label=r'$y = 0$', bins=max_symbols, alpha=alpha\n",
    ")\n",
    "plt.legend()\n",
    "plt.show()\n",
    "\n",
    "plt.hist(\n",
    "    title_exclamation_1[title_exclamation_1 <= title_max_symbols],\n",
    "    label=r'$y = 1$', bins=title_max_symbols, alpha=alpha\n",
    ")\n",
    "plt.hist(\n",
    "    title_exclamation_0[title_exclamation_0 <= title_max_symbols],\n",
    "    label=r'$y = 0$', bins=title_max_symbols, alpha=alpha\n",
    ")\n",
    "plt.legend()\n",
    "plt.show()"
   ]
  },
  {
   "cell_type": "code",
   "execution_count": 17,
   "metadata": {
    "ExecuteTime": {
     "end_time": "2021-04-14T09:49:58.284180Z",
     "start_time": "2021-04-14T09:49:58.278496Z"
    },
    "colab": {
     "base_uri": "https://localhost:8080/"
    },
    "id": "C6apPg5D9LAg",
    "outputId": "7fc906c2-ac55-4ec8-abee-9b36a4a67897"
   },
   "outputs": [
    {
     "data": {
      "text/plain": [
       "(1.0, 1.0)"
      ]
     },
     "execution_count": 17,
     "metadata": {},
     "output_type": "execute_result"
    }
   ],
   "source": [
    "np.median(body_exclamation_0), np.median(body_exclamation_1)"
   ]
  },
  {
   "cell_type": "markdown",
   "metadata": {
    "id": "C5HJk3wj9LAh"
   },
   "source": [
    "# Бейзлайн модель классификации"
   ]
  },
  {
   "cell_type": "code",
   "execution_count": 18,
   "metadata": {
    "ExecuteTime": {
     "end_time": "2021-04-14T09:49:58.458355Z",
     "start_time": "2021-04-14T09:49:58.286707Z"
    },
    "id": "7A2fAOK69LAh"
   },
   "outputs": [],
   "source": [
    "df['body_len'] = df.body.str.len()\n",
    "df['title_len'] = df.title.str.len()\n",
    "df['body_!'] = df.body.str.count('!')\n",
    "df['title_!'] = df.title.str.count('!')\n",
    "\n",
    "baseline_features = ['body_len', 'title_len', 'body_!', 'title_!']"
   ]
  },
  {
   "cell_type": "code",
   "execution_count": 19,
   "metadata": {
    "ExecuteTime": {
     "end_time": "2021-04-14T09:49:58.472536Z",
     "start_time": "2021-04-14T09:49:58.460395Z"
    },
    "colab": {
     "base_uri": "https://localhost:8080/",
     "height": 337
    },
    "id": "L2qmxRdI9LAh",
    "outputId": "7372302a-bbd5-49e8-d75e-582974e38d28"
   },
   "outputs": [
    {
     "data": {
      "text/html": [
       "<div>\n",
       "<style scoped>\n",
       "    .dataframe tbody tr th:only-of-type {\n",
       "        vertical-align: middle;\n",
       "    }\n",
       "\n",
       "    .dataframe tbody tr th {\n",
       "        vertical-align: top;\n",
       "    }\n",
       "\n",
       "    .dataframe thead th {\n",
       "        text-align: right;\n",
       "    }\n",
       "</style>\n",
       "<table border=\"1\" class=\"dataframe\">\n",
       "  <thead>\n",
       "    <tr style=\"text-align: right;\">\n",
       "      <th></th>\n",
       "      <th>body</th>\n",
       "      <th>title</th>\n",
       "      <th>rating</th>\n",
       "      <th>date</th>\n",
       "      <th>bank_name</th>\n",
       "      <th>y</th>\n",
       "      <th>body_len</th>\n",
       "      <th>title_len</th>\n",
       "      <th>body_!</th>\n",
       "      <th>title_!</th>\n",
       "    </tr>\n",
       "  </thead>\n",
       "  <tbody>\n",
       "    <tr>\n",
       "      <th>0</th>\n",
       "      <td>Пользуюсь услугами банка около 4х лет.&amp;amp;amp...</td>\n",
       "      <td>Очень эффективный банк</td>\n",
       "      <td>5</td>\n",
       "      <td>2020-10-02</td>\n",
       "      <td>Альфа-Банк</td>\n",
       "      <td>1</td>\n",
       "      <td>522</td>\n",
       "      <td>22</td>\n",
       "      <td>1</td>\n",
       "      <td>0</td>\n",
       "    </tr>\n",
       "    <tr>\n",
       "      <th>1</th>\n",
       "      <td>Несколько лет назад открыл кредитную карту в П...</td>\n",
       "      <td>Бешеные комиссии в Почта банке</td>\n",
       "      <td>1</td>\n",
       "      <td>2020-10-02</td>\n",
       "      <td>Почта Банк</td>\n",
       "      <td>0</td>\n",
       "      <td>1067</td>\n",
       "      <td>30</td>\n",
       "      <td>0</td>\n",
       "      <td>0</td>\n",
       "    </tr>\n",
       "    <tr>\n",
       "      <th>2</th>\n",
       "      <td>Решил закрыть карту этого банка. Через чат поп...</td>\n",
       "      <td>Ужасное обслуживание. Пустили по кругу</td>\n",
       "      <td>1</td>\n",
       "      <td>2020-10-02</td>\n",
       "      <td>Хоум Кредит Банк</td>\n",
       "      <td>0</td>\n",
       "      <td>725</td>\n",
       "      <td>38</td>\n",
       "      <td>0</td>\n",
       "      <td>0</td>\n",
       "    </tr>\n",
       "    <tr>\n",
       "      <th>3</th>\n",
       "      <td>В марте 2020 года я потеряла работу , В конце ...</td>\n",
       "      <td>Сотрудники Сбербанка намерено меня обманули !!!!</td>\n",
       "      <td>1</td>\n",
       "      <td>2020-10-02</td>\n",
       "      <td>СберБанк</td>\n",
       "      <td>0</td>\n",
       "      <td>1332</td>\n",
       "      <td>48</td>\n",
       "      <td>1</td>\n",
       "      <td>4</td>\n",
       "    </tr>\n",
       "    <tr>\n",
       "      <th>4</th>\n",
       "      <td>закончился вклад-депозит. во-первых, клиентски...</td>\n",
       "      <td>невозможно забрать свои же деньги</td>\n",
       "      <td>1</td>\n",
       "      <td>2020-10-02</td>\n",
       "      <td>Банк Открытие</td>\n",
       "      <td>0</td>\n",
       "      <td>1352</td>\n",
       "      <td>33</td>\n",
       "      <td>4</td>\n",
       "      <td>0</td>\n",
       "    </tr>\n",
       "  </tbody>\n",
       "</table>\n",
       "</div>"
      ],
      "text/plain": [
       "                                                body  \\\n",
       "0  Пользуюсь услугами банка около 4х лет.&amp;amp...   \n",
       "1  Несколько лет назад открыл кредитную карту в П...   \n",
       "2  Решил закрыть карту этого банка. Через чат поп...   \n",
       "3  В марте 2020 года я потеряла работу , В конце ...   \n",
       "4  закончился вклад-депозит. во-первых, клиентски...   \n",
       "\n",
       "                                              title  rating        date  \\\n",
       "0                            Очень эффективный банк       5  2020-10-02   \n",
       "1                    Бешеные комиссии в Почта банке       1  2020-10-02   \n",
       "2            Ужасное обслуживание. Пустили по кругу       1  2020-10-02   \n",
       "3  Сотрудники Сбербанка намерено меня обманули !!!!       1  2020-10-02   \n",
       "4                 невозможно забрать свои же деньги       1  2020-10-02   \n",
       "\n",
       "          bank_name  y  body_len  title_len  body_!  title_!  \n",
       "0        Альфа-Банк  1       522         22       1        0  \n",
       "1        Почта Банк  0      1067         30       0        0  \n",
       "2  Хоум Кредит Банк  0       725         38       0        0  \n",
       "3          СберБанк  0      1332         48       1        4  \n",
       "4     Банк Открытие  0      1352         33       4        0  "
      ]
     },
     "execution_count": 19,
     "metadata": {},
     "output_type": "execute_result"
    }
   ],
   "source": [
    "df.head()"
   ]
  },
  {
   "cell_type": "code",
   "execution_count": 20,
   "metadata": {
    "ExecuteTime": {
     "end_time": "2021-04-14T09:49:58.499249Z",
     "start_time": "2021-04-14T09:49:58.474515Z"
    },
    "id": "DaUP9QaM9LAh"
   },
   "outputs": [],
   "source": [
    "df_train, df_test = train_test_split(df, test_size=0.2, random_state=SEED)\n",
    "df_train, df_val = train_test_split(df_train, test_size=0.2, random_state=SEED)"
   ]
  },
  {
   "cell_type": "code",
   "execution_count": 21,
   "metadata": {
    "ExecuteTime": {
     "end_time": "2021-04-14T09:49:58.506588Z",
     "start_time": "2021-04-14T09:49:58.501584Z"
    },
    "id": "a_RIEFSU9LAh"
   },
   "outputs": [],
   "source": [
    "x_train = df_train[baseline_features].values\n",
    "y_train = df_train.y.values\n",
    "\n",
    "x_val = df_val[baseline_features].values\n",
    "y_val = df_val.y.values"
   ]
  },
  {
   "cell_type": "code",
   "execution_count": 22,
   "metadata": {
    "ExecuteTime": {
     "end_time": "2021-04-14T09:49:58.546542Z",
     "start_time": "2021-04-14T09:49:58.508642Z"
    },
    "id": "Af-bab_69LAi"
   },
   "outputs": [],
   "source": [
    "baseline = Pipeline([\n",
    "    ('scaler', StandardScaler()),\n",
    "    ('clf', LogisticRegression(random_state=SEED, solver='lbfgs', class_weight='balanced'))\n",
    "]).fit(x_train, y_train)"
   ]
  },
  {
   "cell_type": "code",
   "execution_count": 23,
   "metadata": {
    "ExecuteTime": {
     "end_time": "2021-04-14T09:49:58.569829Z",
     "start_time": "2021-04-14T09:49:58.548738Z"
    },
    "colab": {
     "base_uri": "https://localhost:8080/"
    },
    "id": "HEAobkbt9LAi",
    "outputId": "b194166a-b28a-4b1c-c246-44a105e30e37"
   },
   "outputs": [
    {
     "data": {
      "text/plain": [
       "0.5599253973402529"
      ]
     },
     "execution_count": 23,
     "metadata": {},
     "output_type": "execute_result"
    }
   ],
   "source": [
    "y_train_pred = baseline.predict(x_train)\n",
    "f1_score(y_train, y_train_pred)"
   ]
  },
  {
   "cell_type": "code",
   "execution_count": 24,
   "metadata": {
    "ExecuteTime": {
     "end_time": "2021-04-14T09:49:58.581764Z",
     "start_time": "2021-04-14T09:49:58.572125Z"
    },
    "colab": {
     "base_uri": "https://localhost:8080/"
    },
    "id": "Dg-HLgH09LAi",
    "outputId": "48a4803b-1c75-40bc-a2e4-bab7ddac9326"
   },
   "outputs": [
    {
     "data": {
      "text/plain": [
       "0.5661788617886179"
      ]
     },
     "execution_count": 24,
     "metadata": {},
     "output_type": "execute_result"
    }
   ],
   "source": [
    "y_val_pred = baseline.predict(x_val)\n",
    "f1_score(y_val, y_val_pred)"
   ]
  },
  {
   "cell_type": "markdown",
   "metadata": {
    "id": "oyM4KQsG9LAi"
   },
   "source": [
    "оцените важность признаков. проинтерпретируйте полученный результат"
   ]
  },
  {
   "cell_type": "code",
   "execution_count": 25,
   "metadata": {
    "ExecuteTime": {
     "end_time": "2021-04-14T09:49:58.587542Z",
     "start_time": "2021-04-14T09:49:58.584389Z"
    },
    "id": "CDJWnJHt9LAi"
   },
   "outputs": [],
   "source": [
    "baseline_clf = baseline.steps[1][1]"
   ]
  },
  {
   "cell_type": "code",
   "execution_count": 26,
   "metadata": {
    "ExecuteTime": {
     "end_time": "2021-04-14T09:49:58.593977Z",
     "start_time": "2021-04-14T09:49:58.590013Z"
    },
    "colab": {
     "base_uri": "https://localhost:8080/"
    },
    "id": "BWxCMeGS9LAi",
    "outputId": "4691a7a3-e7e7-4cc1-f70a-4d7d98fdb1b1"
   },
   "outputs": [
    {
     "data": {
      "text/plain": [
       "['body_len', 'title_len', 'body_!', 'title_!']"
      ]
     },
     "execution_count": 26,
     "metadata": {},
     "output_type": "execute_result"
    }
   ],
   "source": [
    "baseline_features"
   ]
  },
  {
   "cell_type": "code",
   "execution_count": 27,
   "metadata": {
    "ExecuteTime": {
     "end_time": "2021-04-14T09:49:58.600986Z",
     "start_time": "2021-04-14T09:49:58.596226Z"
    },
    "colab": {
     "base_uri": "https://localhost:8080/"
    },
    "id": "az4gazGx9LAj",
    "outputId": "0e3bde44-f9c4-4f47-bfd9-d2c3483a2a3a"
   },
   "outputs": [
    {
     "data": {
      "text/plain": [
       "array([[-1.01917758, -0.46866134, -0.09123499,  0.02989326]])"
      ]
     },
     "execution_count": 27,
     "metadata": {},
     "output_type": "execute_result"
    }
   ],
   "source": [
    "baseline_clf.coef_"
   ]
  },
  {
   "cell_type": "code",
   "execution_count": 28,
   "metadata": {
    "ExecuteTime": {
     "end_time": "2021-04-14T09:49:58.607668Z",
     "start_time": "2021-04-14T09:49:58.603238Z"
    },
    "colab": {
     "base_uri": "https://localhost:8080/"
    },
    "id": "pKtfawxP9LAj",
    "outputId": "a8fd1737-8127-4fc5-8de6-c716b64b992b"
   },
   "outputs": [
    {
     "data": {
      "text/plain": [
       "array([-0.30513707])"
      ]
     },
     "execution_count": 28,
     "metadata": {},
     "output_type": "execute_result"
    }
   ],
   "source": [
    "baseline_clf.intercept_"
   ]
  },
  {
   "cell_type": "markdown",
   "metadata": {
    "id": "5Ji9zp3W9LAj"
   },
   "source": [
    "# Обработка текста"
   ]
  },
  {
   "cell_type": "markdown",
   "metadata": {
    "id": "MphqJcwE9LAj"
   },
   "source": [
    "## Модель на словах. CountVectorizer"
   ]
  },
  {
   "cell_type": "code",
   "execution_count": 29,
   "metadata": {
    "ExecuteTime": {
     "end_time": "2021-04-14T09:49:58.615258Z",
     "start_time": "2021-04-14T09:49:58.609982Z"
    },
    "id": "zJUNNXUw9LAj"
   },
   "outputs": [],
   "source": [
    "stop_words = nltk.corpus.stopwords.words('russian')"
   ]
  },
  {
   "cell_type": "code",
   "execution_count": 30,
   "metadata": {
    "ExecuteTime": {
     "end_time": "2021-04-14T09:49:58.623531Z",
     "start_time": "2021-04-14T09:49:58.617998Z"
    },
    "id": "V9VAoVeH9LAj"
   },
   "outputs": [],
   "source": [
    "count_model = Pipeline([\n",
    "    (\n",
    "        'vectorizer',\n",
    "        CountVectorizer(\n",
    "            lowercase=True, ngram_range=(1, 1), token_pattern=TOKEN_PATTERN,\n",
    "            stop_words=stop_words, min_df=3, max_df=0.8\n",
    "        )\n",
    "    ),\n",
    "    ('clf', SGDClassifier(random_state=SEED, loss='log', class_weight='balanced'))\n",
    "])"
   ]
  },
  {
   "cell_type": "code",
   "execution_count": 31,
   "metadata": {
    "ExecuteTime": {
     "end_time": "2021-04-14T09:49:58.629163Z",
     "start_time": "2021-04-14T09:49:58.625993Z"
    },
    "id": "x3Ls3Xrm9LAj"
   },
   "outputs": [],
   "source": [
    "x_train = df_train['body'].values\n",
    "x_val = df_val['body'].values"
   ]
  },
  {
   "cell_type": "code",
   "execution_count": 32,
   "metadata": {
    "ExecuteTime": {
     "end_time": "2021-04-14T09:50:02.726749Z",
     "start_time": "2021-04-14T09:49:58.631334Z"
    },
    "id": "-Az9cBfn9LAk"
   },
   "outputs": [
    {
     "data": {
      "text/plain": [
       "Pipeline(steps=[('vectorizer',\n",
       "                 CountVectorizer(max_df=0.8, min_df=3,\n",
       "                                 stop_words=['и', 'в', 'во', 'не', 'что', 'он',\n",
       "                                             'на', 'я', 'с', 'со', 'как', 'а',\n",
       "                                             'то', 'все', 'она', 'так', 'его',\n",
       "                                             'но', 'да', 'ты', 'к', 'у', 'же',\n",
       "                                             'вы', 'за', 'бы', 'по', 'только',\n",
       "                                             'ее', 'мне', ...],\n",
       "                                 token_pattern='[а-яё]+')),\n",
       "                ('clf',\n",
       "                 SGDClassifier(class_weight='balanced', loss='log',\n",
       "                               random_state=42))])"
      ]
     },
     "execution_count": 32,
     "metadata": {},
     "output_type": "execute_result"
    }
   ],
   "source": [
    "count_model.fit(x_train, y_train)"
   ]
  },
  {
   "cell_type": "code",
   "execution_count": 33,
   "metadata": {
    "ExecuteTime": {
     "end_time": "2021-04-14T09:50:02.730887Z",
     "start_time": "2021-04-14T09:50:02.728489Z"
    },
    "id": "Aa3hoPhL9LAk"
   },
   "outputs": [],
   "source": [
    "vectorizer = count_model.steps[0][1]"
   ]
  },
  {
   "cell_type": "code",
   "execution_count": 34,
   "metadata": {
    "ExecuteTime": {
     "end_time": "2021-04-14T09:50:02.778301Z",
     "start_time": "2021-04-14T09:50:02.732942Z"
    },
    "id": "zeDRoIYs9LAk"
   },
   "outputs": [
    {
     "data": {
      "text/plain": [
       "41085"
      ]
     },
     "execution_count": 34,
     "metadata": {},
     "output_type": "execute_result"
    }
   ],
   "source": [
    "features = np.array(vectorizer.get_feature_names())\n",
    "\n",
    "len(features)"
   ]
  },
  {
   "cell_type": "code",
   "execution_count": 35,
   "metadata": {
    "ExecuteTime": {
     "end_time": "2021-04-14T09:50:02.784798Z",
     "start_time": "2021-04-14T09:50:02.780653Z"
    },
    "id": "BkZQ-BIN9LAk"
   },
   "outputs": [],
   "source": [
    "count_features = vectorizer.transform(x_train[[0]]).toarray()[0]"
   ]
  },
  {
   "cell_type": "code",
   "execution_count": 36,
   "metadata": {
    "ExecuteTime": {
     "end_time": "2021-04-14T09:50:02.798936Z",
     "start_time": "2021-04-14T09:50:02.787384Z"
    },
    "id": "BwHUdIZf9LAk"
   },
   "outputs": [
    {
     "data": {
      "text/html": [
       "<div>\n",
       "<style scoped>\n",
       "    .dataframe tbody tr th:only-of-type {\n",
       "        vertical-align: middle;\n",
       "    }\n",
       "\n",
       "    .dataframe tbody tr th {\n",
       "        vertical-align: top;\n",
       "    }\n",
       "\n",
       "    .dataframe thead th {\n",
       "        text-align: right;\n",
       "    }\n",
       "</style>\n",
       "<table border=\"1\" class=\"dataframe\">\n",
       "  <thead>\n",
       "    <tr style=\"text-align: right;\">\n",
       "      <th></th>\n",
       "      <th>token</th>\n",
       "      <th>count</th>\n",
       "    </tr>\n",
       "  </thead>\n",
       "  <tbody>\n",
       "    <tr>\n",
       "      <th>0</th>\n",
       "      <td>автокредита</td>\n",
       "      <td>1</td>\n",
       "    </tr>\n",
       "    <tr>\n",
       "      <th>1</th>\n",
       "      <td>банком</td>\n",
       "      <td>1</td>\n",
       "    </tr>\n",
       "    <tr>\n",
       "      <th>2</th>\n",
       "      <td>включена</td>\n",
       "      <td>1</td>\n",
       "    </tr>\n",
       "    <tr>\n",
       "      <th>3</th>\n",
       "      <td>воспользоваться</td>\n",
       "      <td>1</td>\n",
       "    </tr>\n",
       "    <tr>\n",
       "      <th>4</th>\n",
       "      <td>договора</td>\n",
       "      <td>1</td>\n",
       "    </tr>\n",
       "    <tr>\n",
       "      <th>5</th>\n",
       "      <td>дорогах</td>\n",
       "      <td>1</td>\n",
       "    </tr>\n",
       "    <tr>\n",
       "      <th>6</th>\n",
       "      <td>золотой</td>\n",
       "      <td>1</td>\n",
       "    </tr>\n",
       "    <tr>\n",
       "      <th>7</th>\n",
       "      <td>карту</td>\n",
       "      <td>1</td>\n",
       "    </tr>\n",
       "    <tr>\n",
       "      <th>8</th>\n",
       "      <td>ключ</td>\n",
       "      <td>1</td>\n",
       "    </tr>\n",
       "    <tr>\n",
       "      <th>9</th>\n",
       "      <td>кому</td>\n",
       "      <td>1</td>\n",
       "    </tr>\n",
       "    <tr>\n",
       "      <th>10</th>\n",
       "      <td>которая</td>\n",
       "      <td>1</td>\n",
       "    </tr>\n",
       "    <tr>\n",
       "      <th>11</th>\n",
       "      <td>которой</td>\n",
       "      <td>1</td>\n",
       "    </tr>\n",
       "    <tr>\n",
       "      <th>12</th>\n",
       "      <td>кредит</td>\n",
       "      <td>2</td>\n",
       "    </tr>\n",
       "    <tr>\n",
       "      <th>13</th>\n",
       "      <td>кредита</td>\n",
       "      <td>1</td>\n",
       "    </tr>\n",
       "    <tr>\n",
       "      <th>14</th>\n",
       "      <td>могу</td>\n",
       "      <td>1</td>\n",
       "    </tr>\n",
       "    <tr>\n",
       "      <th>15</th>\n",
       "      <td>навязали</td>\n",
       "      <td>1</td>\n",
       "    </tr>\n",
       "    <tr>\n",
       "      <th>16</th>\n",
       "      <td>нужна</td>\n",
       "      <td>1</td>\n",
       "    </tr>\n",
       "    <tr>\n",
       "      <th>17</th>\n",
       "      <td>одобряют</td>\n",
       "      <td>1</td>\n",
       "    </tr>\n",
       "    <tr>\n",
       "      <th>18</th>\n",
       "      <td>оказалась</td>\n",
       "      <td>1</td>\n",
       "    </tr>\n",
       "    <tr>\n",
       "      <th>19</th>\n",
       "      <td>оплаты</td>\n",
       "      <td>1</td>\n",
       "    </tr>\n",
       "    <tr>\n",
       "      <th>20</th>\n",
       "      <td>отказываются</td>\n",
       "      <td>1</td>\n",
       "    </tr>\n",
       "    <tr>\n",
       "      <th>21</th>\n",
       "      <td>оформили</td>\n",
       "      <td>1</td>\n",
       "    </tr>\n",
       "    <tr>\n",
       "      <th>22</th>\n",
       "      <td>оформлении</td>\n",
       "      <td>1</td>\n",
       "    </tr>\n",
       "    <tr>\n",
       "      <th>23</th>\n",
       "      <td>первый</td>\n",
       "      <td>1</td>\n",
       "    </tr>\n",
       "    <tr>\n",
       "      <th>24</th>\n",
       "      <td>пользуюсь</td>\n",
       "      <td>1</td>\n",
       "    </tr>\n",
       "    <tr>\n",
       "      <th>25</th>\n",
       "      <td>помощь</td>\n",
       "      <td>1</td>\n",
       "    </tr>\n",
       "    <tr>\n",
       "      <th>26</th>\n",
       "      <td>последний</td>\n",
       "      <td>1</td>\n",
       "    </tr>\n",
       "    <tr>\n",
       "      <th>27</th>\n",
       "      <td>последствии</td>\n",
       "      <td>1</td>\n",
       "    </tr>\n",
       "    <tr>\n",
       "      <th>28</th>\n",
       "      <td>проживания</td>\n",
       "      <td>1</td>\n",
       "    </tr>\n",
       "    <tr>\n",
       "      <th>29</th>\n",
       "      <td>р</td>\n",
       "      <td>2</td>\n",
       "    </tr>\n",
       "    <tr>\n",
       "      <th>30</th>\n",
       "      <td>расторгать</td>\n",
       "      <td>1</td>\n",
       "    </tr>\n",
       "    <tr>\n",
       "      <th>31</th>\n",
       "      <td>рекомендую</td>\n",
       "      <td>1</td>\n",
       "    </tr>\n",
       "    <tr>\n",
       "      <th>32</th>\n",
       "      <td>стоит</td>\n",
       "      <td>1</td>\n",
       "    </tr>\n",
       "    <tr>\n",
       "      <th>33</th>\n",
       "      <td>удаленности</td>\n",
       "      <td>1</td>\n",
       "    </tr>\n",
       "    <tr>\n",
       "      <th>34</th>\n",
       "      <td>удобства</td>\n",
       "      <td>1</td>\n",
       "    </tr>\n",
       "    <tr>\n",
       "      <th>35</th>\n",
       "      <td>услугу</td>\n",
       "      <td>1</td>\n",
       "    </tr>\n",
       "    <tr>\n",
       "      <th>36</th>\n",
       "      <td>этим</td>\n",
       "      <td>1</td>\n",
       "    </tr>\n",
       "  </tbody>\n",
       "</table>\n",
       "</div>"
      ],
      "text/plain": [
       "              token  count\n",
       "0       автокредита      1\n",
       "1            банком      1\n",
       "2          включена      1\n",
       "3   воспользоваться      1\n",
       "4          договора      1\n",
       "5           дорогах      1\n",
       "6           золотой      1\n",
       "7             карту      1\n",
       "8              ключ      1\n",
       "9              кому      1\n",
       "10          которая      1\n",
       "11          которой      1\n",
       "12           кредит      2\n",
       "13          кредита      1\n",
       "14             могу      1\n",
       "15         навязали      1\n",
       "16            нужна      1\n",
       "17         одобряют      1\n",
       "18        оказалась      1\n",
       "19           оплаты      1\n",
       "20     отказываются      1\n",
       "21         оформили      1\n",
       "22       оформлении      1\n",
       "23           первый      1\n",
       "24        пользуюсь      1\n",
       "25           помощь      1\n",
       "26        последний      1\n",
       "27      последствии      1\n",
       "28       проживания      1\n",
       "29                р      2\n",
       "30       расторгать      1\n",
       "31       рекомендую      1\n",
       "32            стоит      1\n",
       "33      удаленности      1\n",
       "34         удобства      1\n",
       "35           услугу      1\n",
       "36             этим      1"
      ]
     },
     "execution_count": 36,
     "metadata": {},
     "output_type": "execute_result"
    }
   ],
   "source": [
    "pd.DataFrame({\n",
    "    'token': features[count_features > 0], \n",
    "    'count':count_features[count_features > 0]\n",
    "})"
   ]
  },
  {
   "cell_type": "code",
   "execution_count": 37,
   "metadata": {
    "ExecuteTime": {
     "end_time": "2021-04-14T09:50:06.906186Z",
     "start_time": "2021-04-14T09:50:02.800799Z"
    },
    "id": "V_cFshcd9LAk"
   },
   "outputs": [
    {
     "data": {
      "text/plain": [
       "0.9951080085747265"
      ]
     },
     "execution_count": 37,
     "metadata": {},
     "output_type": "execute_result"
    }
   ],
   "source": [
    "f1_score(y_train, count_model.predict(x_train))"
   ]
  },
  {
   "cell_type": "code",
   "execution_count": 38,
   "metadata": {
    "ExecuteTime": {
     "end_time": "2021-04-14T09:50:07.991122Z",
     "start_time": "2021-04-14T09:50:06.908471Z"
    },
    "id": "SwHMpkQE9LAl"
   },
   "outputs": [
    {
     "data": {
      "text/plain": [
       "0.9075194468452896"
      ]
     },
     "execution_count": 38,
     "metadata": {},
     "output_type": "execute_result"
    }
   ],
   "source": [
    "f1_score(y_val, count_model.predict(x_val))"
   ]
  },
  {
   "cell_type": "code",
   "execution_count": 39,
   "metadata": {
    "ExecuteTime": {
     "end_time": "2021-04-14T09:50:08.000682Z",
     "start_time": "2021-04-14T09:50:07.993566Z"
    },
    "id": "xKKqe2Ob9LAl"
   },
   "outputs": [],
   "source": [
    "tree_model = Pipeline([\n",
    "    (\n",
    "        'vectorizer',\n",
    "        CountVectorizer(\n",
    "            lowercase=True, ngram_range=(1, 1), token_pattern=TOKEN_PATTERN,\n",
    "            stop_words=stop_words, min_df=3, max_df=0.8\n",
    "        )\n",
    "    ),\n",
    "    ('clf', DecisionTreeClassifier(random_state=SEED, criterion='entropy', max_depth=10))\n",
    "])"
   ]
  },
  {
   "cell_type": "markdown",
   "metadata": {
    "id": "YN0iAIdy9LAl"
   },
   "source": [
    "обучите деревянную модель. сравните качество на тренировочном и валидационном наборах"
   ]
  },
  {
   "cell_type": "code",
   "execution_count": 40,
   "metadata": {
    "ExecuteTime": {
     "end_time": "2021-04-14T09:50:15.984473Z",
     "start_time": "2021-04-14T09:50:08.006981Z"
    },
    "id": "I2O5z8fs9LAl"
   },
   "outputs": [
    {
     "data": {
      "text/plain": [
       "Pipeline(steps=[('vectorizer',\n",
       "                 CountVectorizer(max_df=0.8, min_df=3,\n",
       "                                 stop_words=['и', 'в', 'во', 'не', 'что', 'он',\n",
       "                                             'на', 'я', 'с', 'со', 'как', 'а',\n",
       "                                             'то', 'все', 'она', 'так', 'его',\n",
       "                                             'но', 'да', 'ты', 'к', 'у', 'же',\n",
       "                                             'вы', 'за', 'бы', 'по', 'только',\n",
       "                                             'ее', 'мне', ...],\n",
       "                                 token_pattern='[а-яё]+')),\n",
       "                ('clf',\n",
       "                 DecisionTreeClassifier(criterion='entropy', max_depth=10,\n",
       "                                        random_state=42))])"
      ]
     },
     "execution_count": 40,
     "metadata": {},
     "output_type": "execute_result"
    }
   ],
   "source": [
    "tree_model.fit(x_train, y_train)"
   ]
  },
  {
   "cell_type": "code",
   "execution_count": 41,
   "metadata": {
    "ExecuteTime": {
     "end_time": "2021-04-14T09:50:19.979550Z",
     "start_time": "2021-04-14T09:50:15.986339Z"
    },
    "id": "SZqZAwmo9LAl"
   },
   "outputs": [
    {
     "data": {
      "text/plain": [
       "0.8212472806381437"
      ]
     },
     "execution_count": 41,
     "metadata": {},
     "output_type": "execute_result"
    }
   ],
   "source": [
    "f1_score(\n",
    "    y_train,\n",
    "    tree_model.predict(x_train)\n",
    ")"
   ]
  },
  {
   "cell_type": "code",
   "execution_count": 42,
   "metadata": {
    "ExecuteTime": {
     "end_time": "2021-04-14T09:50:21.136459Z",
     "start_time": "2021-04-14T09:50:19.981614Z"
    },
    "id": "1MwvyNb_9LAl"
   },
   "outputs": [
    {
     "data": {
      "text/plain": [
       "0.7915379130021393"
      ]
     },
     "execution_count": 42,
     "metadata": {},
     "output_type": "execute_result"
    }
   ],
   "source": [
    "f1_score(\n",
    "    y_val,\n",
    "    tree_model.predict(x_val)\n",
    ")"
   ]
  },
  {
   "cell_type": "code",
   "execution_count": 43,
   "metadata": {
    "ExecuteTime": {
     "end_time": "2021-04-14T09:50:21.141445Z",
     "start_time": "2021-04-14T09:50:21.138806Z"
    },
    "id": "V75EiYED9LAl"
   },
   "outputs": [],
   "source": [
    "clf = tree_model.steps[1][1]"
   ]
  },
  {
   "cell_type": "code",
   "execution_count": 44,
   "metadata": {
    "ExecuteTime": {
     "end_time": "2021-04-14T09:50:22.075229Z",
     "start_time": "2021-04-14T09:50:21.145520Z"
    },
    "id": "OFfXWxkS9LAm"
   },
   "outputs": [
    {
     "data": {
      "image/png": "[encoded data removed]",
      "text/plain": [
       "<Figure size 2800x1200 with 1 Axes>"
      ]
     },
     "metadata": {},
     "output_type": "display_data"
    }
   ],
   "source": [
    "plt.style.use('default')\n",
    "plt.figure(figsize=(28,12))\n",
    "plot_tree(\n",
    "    clf, max_depth=3, fontsize=14, filled=True, precision=0, label='root',\n",
    "    impurity=False, feature_names=tree_model.steps[0][1].get_feature_names()\n",
    ");"
   ]
  },
  {
   "cell_type": "code",
   "execution_count": 45,
   "metadata": {
    "ExecuteTime": {
     "end_time": "2021-04-14T09:50:22.081038Z",
     "start_time": "2021-04-14T09:50:22.077866Z"
    },
    "id": "gvhDcIaz9LAm"
   },
   "outputs": [],
   "source": [
    "plt.style.use('ggplot')"
   ]
  },
  {
   "cell_type": "markdown",
   "metadata": {
    "id": "D9quXb-w9LAm"
   },
   "source": [
    "## Модель на n-gram'ах символов. TfidfVectorizer"
   ]
  },
  {
   "cell_type": "code",
   "execution_count": 46,
   "metadata": {
    "ExecuteTime": {
     "end_time": "2021-04-14T09:50:22.086630Z",
     "start_time": "2021-04-14T09:50:22.083072Z"
    },
    "id": "pn0AZa-d9LAm"
   },
   "outputs": [],
   "source": [
    "def preprocessor(text):\n",
    "    whitespaced_text = re.sub(\"[^а-яё!:)(]\", ' ', text.lower())\n",
    "    return re.sub(' +', ' ',  whitespaced_text)"
   ]
  },
  {
   "cell_type": "code",
   "execution_count": 47,
   "metadata": {
    "ExecuteTime": {
     "end_time": "2021-04-14T09:50:22.095529Z",
     "start_time": "2021-04-14T09:50:22.088941Z"
    },
    "id": "TnO9u3UA9LAp"
   },
   "outputs": [],
   "source": [
    "char_tfidf_model = Pipeline([\n",
    "    (\n",
    "        'vectorizer',\n",
    "        TfidfVectorizer(\n",
    "            lowercase=True, ngram_range=(2, 4), analyzer='char',\n",
    "            preprocessor=preprocessor, min_df=5, max_df=0.8\n",
    "        )\n",
    "    ),\n",
    "    ('clf', SGDClassifier(random_state=SEED, loss='log', class_weight='balanced'))\n",
    "])"
   ]
  },
  {
   "cell_type": "code",
   "execution_count": 48,
   "metadata": {
    "ExecuteTime": {
     "end_time": "2021-04-14T09:51:24.000810Z",
     "start_time": "2021-04-14T09:50:22.098036Z"
    },
    "id": "Y3MnN3vh9LAq"
   },
   "outputs": [
    {
     "data": {
      "text/plain": [
       "Pipeline(steps=[('vectorizer',\n",
       "                 TfidfVectorizer(analyzer='char', max_df=0.8, min_df=5,\n",
       "                                 ngram_range=(2, 4),\n",
       "                                 preprocessor=<function preprocessor at 0x7fdb0b0f8790>)),\n",
       "                ('clf',\n",
       "                 SGDClassifier(class_weight='balanced', loss='log',\n",
       "                               random_state=42))])"
      ]
     },
     "execution_count": 48,
     "metadata": {},
     "output_type": "execute_result"
    }
   ],
   "source": [
    "char_tfidf_model.fit(x_train, y_train)"
   ]
  },
  {
   "cell_type": "code",
   "execution_count": 49,
   "metadata": {
    "ExecuteTime": {
     "end_time": "2021-04-14T09:51:24.076720Z",
     "start_time": "2021-04-14T09:51:24.003599Z"
    },
    "id": "j-kqO6hn9LAq"
   },
   "outputs": [
    {
     "data": {
      "text/plain": [
       "63817"
      ]
     },
     "execution_count": 49,
     "metadata": {},
     "output_type": "execute_result"
    }
   ],
   "source": [
    "len(char_tfidf_model.steps[0][1].get_feature_names())"
   ]
  },
  {
   "cell_type": "code",
   "execution_count": 50,
   "metadata": {
    "ExecuteTime": {
     "end_time": "2021-04-14T09:51:24.085628Z",
     "start_time": "2021-04-14T09:51:24.079009Z"
    },
    "id": "6HCcrbTX9LAq"
   },
   "outputs": [],
   "source": [
    "weights = char_tfidf_model.steps[1][1].coef_[0]"
   ]
  },
  {
   "cell_type": "code",
   "execution_count": 51,
   "metadata": {
    "ExecuteTime": {
     "end_time": "2021-04-14T09:51:24.168292Z",
     "start_time": "2021-04-14T09:51:24.088468Z"
    },
    "id": "QIYROc7k9LAq"
   },
   "outputs": [],
   "source": [
    "feature_names = np.array(\n",
    "    char_tfidf_model.steps[0][1].get_feature_names()\n",
    ")"
   ]
  },
  {
   "cell_type": "code",
   "execution_count": 52,
   "metadata": {
    "ExecuteTime": {
     "end_time": "2021-04-14T09:51:24.178655Z",
     "start_time": "2021-04-14T09:51:24.170353Z"
    },
    "id": "mI15-XkN9LAq"
   },
   "outputs": [],
   "source": [
    "order = weights.argsort()"
   ]
  },
  {
   "cell_type": "code",
   "execution_count": 53,
   "metadata": {
    "ExecuteTime": {
     "end_time": "2021-04-14T09:51:24.187880Z",
     "start_time": "2021-04-14T09:51:24.180975Z"
    },
    "id": "EDRg1nVA9LAq"
   },
   "outputs": [
    {
     "data": {
      "text/plain": [
       "array(['лаг', 'ыстр', 'быс', 'быст', ' быс', 'бла', 'пас', 'дар', 'аго',\n",
       "       'благ', 'лаго', ' спа', 'сиб', 'одар', 'спа', 'агод', 'паси',\n",
       "       'асиб', 'сибо', 'спас'], dtype='<U4')"
      ]
     },
     "execution_count": 53,
     "metadata": {},
     "output_type": "execute_result"
    }
   ],
   "source": [
    "feature_names[order][-20:]"
   ]
  },
  {
   "cell_type": "code",
   "execution_count": 54,
   "metadata": {
    "ExecuteTime": {
     "end_time": "2021-04-14T09:52:40.667860Z",
     "start_time": "2021-04-14T09:51:24.190979Z"
    },
    "id": "G45PzSwo9LAq"
   },
   "outputs": [
    {
     "data": {
      "text/plain": [
       "0.9359480028887284"
      ]
     },
     "execution_count": 54,
     "metadata": {},
     "output_type": "execute_result"
    }
   ],
   "source": [
    "f1_score(y_train, char_tfidf_model.predict(x_train))"
   ]
  },
  {
   "cell_type": "code",
   "execution_count": 55,
   "metadata": {
    "ExecuteTime": {
     "end_time": "2021-04-14T09:53:02.189911Z",
     "start_time": "2021-04-14T09:52:40.672648Z"
    },
    "id": "PZ3Uwncr9LAq"
   },
   "outputs": [
    {
     "data": {
      "text/plain": [
       "0.9265687583444592"
      ]
     },
     "execution_count": 55,
     "metadata": {},
     "output_type": "execute_result"
    }
   ],
   "source": [
    "f1_score(y_val, char_tfidf_model.predict(x_val))"
   ]
  },
  {
   "cell_type": "markdown",
   "metadata": {
    "id": "p4eSeShA9LAr"
   },
   "source": [
    "## Подбор параметров с помощью кросс-валидации"
   ]
  },
  {
   "cell_type": "code",
   "execution_count": 56,
   "metadata": {
    "ExecuteTime": {
     "end_time": "2021-04-14T09:53:02.213214Z",
     "start_time": "2021-04-14T09:53:02.193438Z"
    },
    "id": "FVN-uNDM9LAr"
   },
   "outputs": [],
   "source": [
    "parameters = {\n",
    "    'vectorizer__max_df': (0.5, 0.75),\n",
    "    'vectorizer__min_df': (3, 5, 7),\n",
    "    'clf__alpha': (0.0001, 0.001, 0.01),\n",
    "}"
   ]
  },
  {
   "cell_type": "code",
   "execution_count": 57,
   "metadata": {
    "ExecuteTime": {
     "end_time": "2021-04-14T09:53:02.233709Z",
     "start_time": "2021-04-14T09:53:02.219464Z"
    },
    "id": "rjjxnty19LAr"
   },
   "outputs": [],
   "source": [
    "grid_search = GridSearchCV(count_model, parameters, cv=3, n_jobs=-1, scoring='f1', verbose=1)"
   ]
  },
  {
   "cell_type": "code",
   "execution_count": 58,
   "metadata": {
    "ExecuteTime": {
     "end_time": "2021-04-14T09:54:54.112666Z",
     "start_time": "2021-04-14T09:53:02.238243Z"
    },
    "id": "jdeGTqud9LAr"
   },
   "outputs": [
    {
     "name": "stdout",
     "output_type": "stream",
     "text": [
      "Fitting 3 folds for each of 18 candidates, totalling 54 fits\n"
     ]
    },
    {
     "data": {
      "text/plain": [
       "GridSearchCV(cv=3,\n",
       "             estimator=Pipeline(steps=[('vectorizer',\n",
       "                                        CountVectorizer(max_df=0.8, min_df=3,\n",
       "                                                        stop_words=['и', 'в',\n",
       "                                                                    'во', 'не',\n",
       "                                                                    'что', 'он',\n",
       "                                                                    'на', 'я',\n",
       "                                                                    'с', 'со',\n",
       "                                                                    'как', 'а',\n",
       "                                                                    'то', 'все',\n",
       "                                                                    'она',\n",
       "                                                                    'так',\n",
       "                                                                    'его', 'но',\n",
       "                                                                    'да', 'ты',\n",
       "                                                                    'к', 'у',\n",
       "                                                                    'же', 'вы',\n",
       "                                                                    'за', 'бы',\n",
       "                                                                    'по',\n",
       "                                                                    'только',\n",
       "                                                                    'ее', 'мне', ...],\n",
       "                                                        token_pattern='[а-яё]+')),\n",
       "                                       ('clf',\n",
       "                                        SGDClassifier(class_weight='balanced',\n",
       "                                                      loss='log',\n",
       "                                                      random_state=42))]),\n",
       "             n_jobs=-1,\n",
       "             param_grid={'clf__alpha': (0.0001, 0.001, 0.01),\n",
       "                         'vectorizer__max_df': (0.5, 0.75),\n",
       "                         'vectorizer__min_df': (3, 5, 7)},\n",
       "             scoring='f1', verbose=1)"
      ]
     },
     "execution_count": 58,
     "metadata": {},
     "output_type": "execute_result"
    }
   ],
   "source": [
    "grid_search.fit(x_train, y_train)"
   ]
  },
  {
   "cell_type": "code",
   "execution_count": 59,
   "metadata": {
    "ExecuteTime": {
     "end_time": "2021-04-14T09:54:54.126044Z",
     "start_time": "2021-04-14T09:54:54.120479Z"
    },
    "id": "6u-yZNAT9LAr"
   },
   "outputs": [],
   "source": [
    "best_parameters = grid_search.best_estimator_.get_params()"
   ]
  },
  {
   "cell_type": "code",
   "execution_count": 60,
   "metadata": {
    "ExecuteTime": {
     "end_time": "2021-04-14T09:54:54.137345Z",
     "start_time": "2021-04-14T09:54:54.129618Z"
    },
    "id": "GZjiaYha9LAr"
   },
   "outputs": [
    {
     "name": "stdout",
     "output_type": "stream",
     "text": [
      "\tclf__alpha: 0.001\n",
      "\tvectorizer__max_df: 0.5\n",
      "\tvectorizer__min_df: 3\n"
     ]
    }
   ],
   "source": [
    "for param_name in sorted(parameters.keys()):\n",
    "    print(\"\\t%s: %r\" % (param_name, best_parameters[param_name]))"
   ]
  },
  {
   "cell_type": "code",
   "execution_count": 61,
   "metadata": {
    "ExecuteTime": {
     "end_time": "2021-04-14T09:54:54.366562Z",
     "start_time": "2021-04-14T09:54:54.141028Z"
    },
    "id": "5LcpZZqk9LAr"
   },
   "outputs": [
    {
     "data": {
      "image/png": "[encoded data removed]",
      "text/plain": [
       "<Figure size 640x480 with 1 Axes>"
      ]
     },
     "metadata": {},
     "output_type": "display_data"
    }
   ],
   "source": [
    "mean_score = grid_search.cv_results_['mean_test_score']\n",
    "std_score = grid_search.cv_results_['std_test_score']\n",
    "x = np.arange(0, mean_score.size)\n",
    "\n",
    "plt.errorbar(x, mean_score, yerr=std_score);"
   ]
  },
  {
   "cell_type": "code",
   "execution_count": 62,
   "metadata": {
    "ExecuteTime": {
     "end_time": "2021-04-14T09:54:54.381908Z",
     "start_time": "2021-04-14T09:54:54.369523Z"
    },
    "id": "QVm6h-c29LAs"
   },
   "outputs": [
    {
     "data": {
      "text/plain": [
       "{'mean_fit_time': array([10.29240203,  9.93320092,  9.33298866,  8.61316697,  8.56449835,\n",
       "         9.04837235, 10.29360263, 10.72281297, 12.75137003, 13.27719307,\n",
       "        12.80647333, 12.75358701, 13.44075505, 14.44359636, 14.61906266,\n",
       "        14.50683403, 13.37593301, 14.14462868]),\n",
       " 'std_fit_time': array([0.05498928, 0.11244737, 0.75014529, 0.06849127, 0.12526777,\n",
       "        0.61764692, 0.20043179, 0.07313499, 0.32430263, 0.05494238,\n",
       "        0.33912285, 0.34495736, 0.18626347, 0.69154259, 0.14581059,\n",
       "        0.2935613 , 0.11987774, 0.28159463]),\n",
       " 'mean_score_time': array([4.38305783, 4.0392491 , 3.39879767, 3.35636346, 3.35641797,\n",
       "        4.52257498, 5.07677571, 5.13825401, 5.61646859, 5.18582193,\n",
       "        5.63483763, 6.87420026, 7.36451785, 7.1202747 , 6.3408734 ,\n",
       "        5.47040399, 7.28444131, 6.3157359 ]),\n",
       " 'std_score_time': array([0.10100748, 0.13487564, 0.09597968, 0.02425343, 0.00779666,\n",
       "        0.82868536, 0.06254812, 0.0943063 , 0.3229722 , 0.0225794 ,\n",
       "        0.62748153, 0.05666743, 0.16450402, 0.2397344 , 0.44374514,\n",
       "        0.10875052, 0.11378291, 0.42081978]),\n",
       " 'param_clf__alpha': masked_array(data=[0.0001, 0.0001, 0.0001, 0.0001, 0.0001, 0.0001, 0.001,\n",
       "                    0.001, 0.001, 0.001, 0.001, 0.001, 0.01, 0.01, 0.01,\n",
       "                    0.01, 0.01, 0.01],\n",
       "              mask=[False, False, False, False, False, False, False, False,\n",
       "                    False, False, False, False, False, False, False, False,\n",
       "                    False, False],\n",
       "        fill_value='?',\n",
       "             dtype=object),\n",
       " 'param_vectorizer__max_df': masked_array(data=[0.5, 0.5, 0.5, 0.75, 0.75, 0.75, 0.5, 0.5, 0.5, 0.75,\n",
       "                    0.75, 0.75, 0.5, 0.5, 0.5, 0.75, 0.75, 0.75],\n",
       "              mask=[False, False, False, False, False, False, False, False,\n",
       "                    False, False, False, False, False, False, False, False,\n",
       "                    False, False],\n",
       "        fill_value='?',\n",
       "             dtype=object),\n",
       " 'param_vectorizer__min_df': masked_array(data=[3, 5, 7, 3, 5, 7, 3, 5, 7, 3, 5, 7, 3, 5, 7, 3, 5, 7],\n",
       "              mask=[False, False, False, False, False, False, False, False,\n",
       "                    False, False, False, False, False, False, False, False,\n",
       "                    False, False],\n",
       "        fill_value='?',\n",
       "             dtype=object),\n",
       " 'params': [{'clf__alpha': 0.0001,\n",
       "   'vectorizer__max_df': 0.5,\n",
       "   'vectorizer__min_df': 3},\n",
       "  {'clf__alpha': 0.0001, 'vectorizer__max_df': 0.5, 'vectorizer__min_df': 5},\n",
       "  {'clf__alpha': 0.0001, 'vectorizer__max_df': 0.5, 'vectorizer__min_df': 7},\n",
       "  {'clf__alpha': 0.0001, 'vectorizer__max_df': 0.75, 'vectorizer__min_df': 3},\n",
       "  {'clf__alpha': 0.0001, 'vectorizer__max_df': 0.75, 'vectorizer__min_df': 5},\n",
       "  {'clf__alpha': 0.0001, 'vectorizer__max_df': 0.75, 'vectorizer__min_df': 7},\n",
       "  {'clf__alpha': 0.001, 'vectorizer__max_df': 0.5, 'vectorizer__min_df': 3},\n",
       "  {'clf__alpha': 0.001, 'vectorizer__max_df': 0.5, 'vectorizer__min_df': 5},\n",
       "  {'clf__alpha': 0.001, 'vectorizer__max_df': 0.5, 'vectorizer__min_df': 7},\n",
       "  {'clf__alpha': 0.001, 'vectorizer__max_df': 0.75, 'vectorizer__min_df': 3},\n",
       "  {'clf__alpha': 0.001, 'vectorizer__max_df': 0.75, 'vectorizer__min_df': 5},\n",
       "  {'clf__alpha': 0.001, 'vectorizer__max_df': 0.75, 'vectorizer__min_df': 7},\n",
       "  {'clf__alpha': 0.01, 'vectorizer__max_df': 0.5, 'vectorizer__min_df': 3},\n",
       "  {'clf__alpha': 0.01, 'vectorizer__max_df': 0.5, 'vectorizer__min_df': 5},\n",
       "  {'clf__alpha': 0.01, 'vectorizer__max_df': 0.5, 'vectorizer__min_df': 7},\n",
       "  {'clf__alpha': 0.01, 'vectorizer__max_df': 0.75, 'vectorizer__min_df': 3},\n",
       "  {'clf__alpha': 0.01, 'vectorizer__max_df': 0.75, 'vectorizer__min_df': 5},\n",
       "  {'clf__alpha': 0.01, 'vectorizer__max_df': 0.75, 'vectorizer__min_df': 7}],\n",
       " 'split0_test_score': array([0.91218786, 0.90926989, 0.90787105, 0.90837438, 0.89938531,\n",
       "        0.91025431, 0.91959716, 0.91916859, 0.91916859, 0.91578947,\n",
       "        0.91527094, 0.9147083 , 0.91244393, 0.91244393, 0.91244393,\n",
       "        0.91044283, 0.91059329, 0.9107733 ]),\n",
       " 'split1_test_score': array([0.91313735, 0.90960265, 0.90650074, 0.90511187, 0.90418574,\n",
       "        0.89941596, 0.92110092, 0.92128085, 0.92140831, 0.92176814,\n",
       "        0.92186978, 0.92174203, 0.90667993, 0.90683024, 0.90667993,\n",
       "        0.90842855, 0.90821736, 0.90821736]),\n",
       " 'split2_test_score': array([0.91502202, 0.91346779, 0.91127332, 0.91847469, 0.91154911,\n",
       "        0.91577738, 0.92107001, 0.92033647, 0.91988131, 0.91783303,\n",
       "        0.91788712, 0.91791413, 0.90695012, 0.9073075 , 0.90701095,\n",
       "        0.90674927, 0.90660147, 0.90645372]),\n",
       " 'mean_test_score': array([0.91344908, 0.91078011, 0.90854837, 0.91065365, 0.90504006,\n",
       "        0.90848255, 0.92058936, 0.92026197, 0.92015274, 0.91846355,\n",
       "        0.91834261, 0.91812149, 0.90869133, 0.90886056, 0.9087116 ,\n",
       "        0.90854021, 0.90847071, 0.90848146]),\n",
       " 'std_test_score': array([0.00117785, 0.00190533, 0.0020064 , 0.00568844, 0.00500246,\n",
       "        0.00679599, 0.00070171, 0.00086394, 0.00093429, 0.00248117,\n",
       "        0.00271315, 0.00287525, 0.00265578, 0.00254131, 0.00264261,\n",
       "        0.00150996, 0.00163947, 0.00177332]),\n",
       " 'rank_test_score': array([ 7,  8, 13,  9, 18, 15,  1,  2,  3,  4,  5,  6, 12, 10, 11, 14, 17,\n",
       "        16], dtype=int32)}"
      ]
     },
     "execution_count": 62,
     "metadata": {},
     "output_type": "execute_result"
    }
   ],
   "source": [
    "grid_search.cv_results_"
   ]
  },
  {
   "cell_type": "code",
   "execution_count": 63,
   "metadata": {
    "ExecuteTime": {
     "end_time": "2021-04-14T09:54:54.387929Z",
     "start_time": "2021-04-14T09:54:54.385323Z"
    },
    "id": "lgu7Vr4e9LAs"
   },
   "outputs": [],
   "source": [
    "cv_tuned_pipeline = grid_search.best_estimator_"
   ]
  },
  {
   "cell_type": "code",
   "execution_count": 64,
   "metadata": {
    "ExecuteTime": {
     "end_time": "2021-04-14T09:54:58.439473Z",
     "start_time": "2021-04-14T09:54:54.390309Z"
    },
    "id": "KB-f8bwn9LAs"
   },
   "outputs": [
    {
     "data": {
      "text/plain": [
       "0.9601796571178178"
      ]
     },
     "execution_count": 64,
     "metadata": {},
     "output_type": "execute_result"
    }
   ],
   "source": [
    "f1_score(\n",
    "    y_train,\n",
    "    cv_tuned_pipeline.predict(x_train)\n",
    ")"
   ]
  },
  {
   "cell_type": "code",
   "execution_count": 65,
   "metadata": {
    "ExecuteTime": {
     "end_time": "2021-04-14T09:54:59.595016Z",
     "start_time": "2021-04-14T09:54:58.441418Z"
    },
    "id": "iJUeBgJ59LAs"
   },
   "outputs": [
    {
     "data": {
      "text/plain": [
       "0.9145466405740378"
      ]
     },
     "execution_count": 65,
     "metadata": {},
     "output_type": "execute_result"
    }
   ],
   "source": [
    "f1_score(\n",
    "    y_val,\n",
    "    cv_tuned_pipeline.predict(x_val)\n",
    ")"
   ]
  },
  {
   "cell_type": "markdown",
   "metadata": {
    "id": "BJNFKqHM9LAs"
   },
   "source": [
    "## Объединение признаков"
   ]
  },
  {
   "cell_type": "code",
   "execution_count": 66,
   "metadata": {
    "ExecuteTime": {
     "end_time": "2021-04-14T09:54:59.608168Z",
     "start_time": "2021-04-14T09:54:59.598178Z"
    },
    "id": "2qixQkws9LAs"
   },
   "outputs": [],
   "source": [
    "pipeline = Pipeline([\n",
    "    (\n",
    "        'features', \n",
    "        ColumnTransformer([\n",
    "            (\n",
    "                'title', \n",
    "                TfidfVectorizer(\n",
    "                    lowercase=True, ngram_range=(1, 2), token_pattern=TOKEN_PATTERN,\n",
    "                    stop_words=stop_words, min_df=5, max_df=0.75\n",
    "                ), \n",
    "                'title'\n",
    "            ),\n",
    "            (\n",
    "                'body',\n",
    "                CountVectorizer(\n",
    "                    lowercase=True, ngram_range=(1, 1), token_pattern=TOKEN_PATTERN,\n",
    "                    stop_words=stop_words, min_df=3, max_df=0.75\n",
    "                ), \n",
    "                'body'\n",
    "            )\n",
    "        ])\n",
    "    ),\n",
    "    ('clf', SGDClassifier(random_state=SEED, alpha=0.01))\n",
    "])"
   ]
  },
  {
   "cell_type": "code",
   "execution_count": 67,
   "metadata": {
    "ExecuteTime": {
     "end_time": "2021-04-14T09:55:04.182966Z",
     "start_time": "2021-04-14T09:54:59.610731Z"
    },
    "id": "EuRQ3D3m9LAs"
   },
   "outputs": [
    {
     "data": {
      "text/plain": [
       "Pipeline(steps=[('features',\n",
       "                 ColumnTransformer(transformers=[('title',\n",
       "                                                  TfidfVectorizer(max_df=0.75,\n",
       "                                                                  min_df=5,\n",
       "                                                                  ngram_range=(1,\n",
       "                                                                               2),\n",
       "                                                                  stop_words=['и',\n",
       "                                                                              'в',\n",
       "                                                                              'во',\n",
       "                                                                              'не',\n",
       "                                                                              'что',\n",
       "                                                                              'он',\n",
       "                                                                              'на',\n",
       "                                                                              'я',\n",
       "                                                                              'с',\n",
       "                                                                              'со',\n",
       "                                                                              'как',\n",
       "                                                                              'а',\n",
       "                                                                              'то',\n",
       "                                                                              'все',\n",
       "                                                                              'она',\n",
       "                                                                              'так',\n",
       "                                                                              'его',\n",
       "                                                                              'но',\n",
       "                                                                              'да',\n",
       "                                                                              'ты',\n",
       "                                                                              'к',\n",
       "                                                                              'у',\n",
       "                                                                              'же',\n",
       "                                                                              'вы',\n",
       "                                                                              'за',\n",
       "                                                                              'бы',\n",
       "                                                                              'по',\n",
       "                                                                              'только',\n",
       "                                                                              'ее',\n",
       "                                                                              'мне', ...],\n",
       "                                                                  token_pattern='[а-яё]+'),\n",
       "                                                  'title'),\n",
       "                                                 ('body',\n",
       "                                                  CountVectorizer(max_df=0.75,\n",
       "                                                                  min_df=3,\n",
       "                                                                  stop_words=['и',\n",
       "                                                                              'в',\n",
       "                                                                              'во',\n",
       "                                                                              'не',\n",
       "                                                                              'что',\n",
       "                                                                              'он',\n",
       "                                                                              'на',\n",
       "                                                                              'я',\n",
       "                                                                              'с',\n",
       "                                                                              'со',\n",
       "                                                                              'как',\n",
       "                                                                              'а',\n",
       "                                                                              'то',\n",
       "                                                                              'все',\n",
       "                                                                              'она',\n",
       "                                                                              'так',\n",
       "                                                                              'его',\n",
       "                                                                              'но',\n",
       "                                                                              'да',\n",
       "                                                                              'ты',\n",
       "                                                                              'к',\n",
       "                                                                              'у',\n",
       "                                                                              'же',\n",
       "                                                                              'вы',\n",
       "                                                                              'за',\n",
       "                                                                              'бы',\n",
       "                                                                              'по',\n",
       "                                                                              'только',\n",
       "                                                                              'ее',\n",
       "                                                                              'мне', ...],\n",
       "                                                                  token_pattern='[а-яё]+'),\n",
       "                                                  'body')])),\n",
       "                ('clf', SGDClassifier(alpha=0.01, random_state=42))])"
      ]
     },
     "execution_count": 67,
     "metadata": {},
     "output_type": "execute_result"
    }
   ],
   "source": [
    "pipeline.fit(df_train, y_train)"
   ]
  },
  {
   "cell_type": "code",
   "execution_count": 68,
   "metadata": {
    "ExecuteTime": {
     "end_time": "2021-04-14T09:55:09.048104Z",
     "start_time": "2021-04-14T09:55:04.185068Z"
    },
    "id": "-2IMfL5z9LAs"
   },
   "outputs": [
    {
     "data": {
      "text/plain": [
       "0.9442055163713515"
      ]
     },
     "execution_count": 68,
     "metadata": {},
     "output_type": "execute_result"
    }
   ],
   "source": [
    "f1_score(\n",
    "    y_train,\n",
    "    pipeline.predict(df_train)\n",
    ")"
   ]
  },
  {
   "cell_type": "code",
   "execution_count": 69,
   "metadata": {
    "ExecuteTime": {
     "end_time": "2021-04-14T09:55:10.146528Z",
     "start_time": "2021-04-14T09:55:09.054258Z"
    },
    "id": "_i1knTOQ9LAt"
   },
   "outputs": [
    {
     "data": {
      "text/plain": [
       "0.9216272121351414"
      ]
     },
     "execution_count": 69,
     "metadata": {},
     "output_type": "execute_result"
    }
   ],
   "source": [
    "f1_score(\n",
    "    y_val,\n",
    "    pipeline.predict(df_val)\n",
    ")"
   ]
  },
  {
   "cell_type": "markdown",
   "metadata": {
    "id": "FkRQzcnm9LAt"
   },
   "source": [
    "получите признаки из векторизатора. посмотрите на добавленные биграммы"
   ]
  },
  {
   "cell_type": "code",
   "execution_count": 70,
   "metadata": {
    "ExecuteTime": {
     "end_time": "2021-04-14T09:55:10.156282Z",
     "start_time": "2021-04-14T09:55:10.149609Z"
    },
    "id": "IRyhvA6v9LAt"
   },
   "outputs": [],
   "source": [
    "vectorizer = pipeline[\"features\"].named_transformers_[\"title\"]"
   ]
  },
  {
   "cell_type": "code",
   "execution_count": 71,
   "metadata": {
    "ExecuteTime": {
     "end_time": "2021-04-14T09:55:10.176543Z",
     "start_time": "2021-04-14T09:55:10.158706Z"
    },
    "id": "UM2gPdH19LAt"
   },
   "outputs": [
    {
     "data": {
      "text/plain": [
       "['абсолют',\n",
       " 'абсолютная',\n",
       " 'абсолютная некомпетентность',\n",
       " 'абсолютно',\n",
       " 'абсолютно неклиентоориентированный',\n",
       " 'абсолютно некомпетентные',\n",
       " 'абсолютное',\n",
       " 'абсолютный',\n",
       " 'авиабилеты',\n",
       " 'авто',\n",
       " 'автозаводской',\n",
       " 'автокредит',\n",
       " 'автокредита',\n",
       " 'автокредиту',\n",
       " 'автомобиль',\n",
       " 'автомобиля',\n",
       " 'ад',\n",
       " 'ада',\n",
       " 'адекватный',\n",
       " 'адрес',\n",
       " 'адресу',\n",
       " 'аижк',\n",
       " 'ак',\n",
       " 'ак барс',\n",
       " 'аккредитив',\n",
       " 'аккредитива',\n",
       " 'аккредитиву',\n",
       " 'активации',\n",
       " 'активация',\n",
       " 'активация карты',\n",
       " 'активировать',\n",
       " 'активировать карту',\n",
       " 'активный',\n",
       " 'акцией',\n",
       " 'акции',\n",
       " 'акции приведи',\n",
       " 'акций',\n",
       " 'акция',\n",
       " 'акция приведи',\n",
       " 'альфа',\n",
       " 'альфа банк',\n",
       " 'альфа банка',\n",
       " 'альфа банке',\n",
       " 'альфа банком',\n",
       " 'альфа банку',\n",
       " 'альфа чек',\n",
       " 'альфабанк',\n",
       " 'альфе',\n",
       " 'аннулирование',\n",
       " 'ао',\n",
       " 'ао альфа',\n",
       " 'ао россельхозбанк',\n",
       " 'апреля',\n",
       " 'арест',\n",
       " 'арест счета',\n",
       " 'ареста',\n",
       " 'б',\n",
       " 'базы',\n",
       " 'баланс',\n",
       " 'баланса',\n",
       " 'баллов',\n",
       " 'баллы',\n",
       " 'банк',\n",
       " 'банк банк',\n",
       " 'банк берет',\n",
       " 'банк бизнеса',\n",
       " 'банк вводит',\n",
       " 'банк вернул',\n",
       " 'банк возвращает',\n",
       " 'банк восточный',\n",
       " 'банк втб',\n",
       " 'банк выдает',\n",
       " 'банк выдаёт',\n",
       " 'банк выполняет',\n",
       " 'банк дает',\n",
       " 'банк делает',\n",
       " 'банк дом',\n",
       " 'банк заблокировал',\n",
       " 'банк забрал',\n",
       " 'банк закрывает',\n",
       " 'банк закрыл',\n",
       " 'банк зарабатывает',\n",
       " 'банк затягивает',\n",
       " 'банк зачисляет',\n",
       " 'банк зенит',\n",
       " 'банк знает',\n",
       " 'банк игнорирует',\n",
       " 'банк идет',\n",
       " 'банк идёт',\n",
       " 'банк изменил',\n",
       " 'банк исполняет',\n",
       " 'банк испортил',\n",
       " 'банк котором',\n",
       " 'банк которому',\n",
       " 'банк который',\n",
       " 'банк которым',\n",
       " 'банк лучший',\n",
       " 'банк людей',\n",
       " 'банк меняет',\n",
       " 'банк месяца',\n",
       " 'банк мире',\n",
       " 'банк нарушает',\n",
       " 'банк начисляет',\n",
       " 'банк незаконно',\n",
       " 'банк обманул',\n",
       " 'банк обманщик',\n",
       " 'банк обманщики',\n",
       " 'банк обманывает',\n",
       " 'банк одностороннем',\n",
       " 'банк отвечает',\n",
       " 'банк отдает',\n",
       " 'банк отдаёт',\n",
       " 'банк отказал',\n",
       " 'банк отказался',\n",
       " 'банк отказывает',\n",
       " 'банк отказывается',\n",
       " 'банк открытие',\n",
       " 'банк очень',\n",
       " 'банк передает',\n",
       " 'банк помог',\n",
       " 'банк портит',\n",
       " 'банк потерял',\n",
       " 'банк предоставляет',\n",
       " 'банк препятствует',\n",
       " 'банк принимает',\n",
       " 'банк присвоил',\n",
       " 'банк просто',\n",
       " 'банк против',\n",
       " 'банк работает',\n",
       " 'банк реагирует',\n",
       " 'банк решает',\n",
       " 'банк решил',\n",
       " 'банк решить',\n",
       " 'банк россии',\n",
       " 'банк русский',\n",
       " 'банк рф',\n",
       " 'банк самовольно',\n",
       " 'банк скатился',\n",
       " 'банк снимает',\n",
       " 'банк соблюдает',\n",
       " 'банк специально',\n",
       " 'банк списал',\n",
       " 'банк списывает',\n",
       " 'банк стал',\n",
       " 'банк теряет',\n",
       " 'банк тинькофф',\n",
       " 'банк требует',\n",
       " 'банк увеличил',\n",
       " 'банк удерживает',\n",
       " 'банк умеет',\n",
       " 'банк хоум',\n",
       " 'банк хочет',\n",
       " 'банк ценит',\n",
       " 'банк человеческим',\n",
       " 'банк это',\n",
       " 'банка',\n",
       " 'банка банк',\n",
       " 'банка восточный',\n",
       " 'банка встречал',\n",
       " 'банка втб',\n",
       " 'банка кредитной',\n",
       " 'банка открытие',\n",
       " 'банка оформлении',\n",
       " 'банка русский',\n",
       " 'банка своим',\n",
       " 'банка тинькофф',\n",
       " 'банка условиях',\n",
       " 'банка хоум',\n",
       " 'банках',\n",
       " 'банке',\n",
       " 'банке восточный',\n",
       " 'банке втб',\n",
       " 'банке дом',\n",
       " 'банке открытие',\n",
       " 'банке работают',\n",
       " 'банки',\n",
       " 'банки ру',\n",
       " 'банкинг',\n",
       " 'банков',\n",
       " 'банковская',\n",
       " 'банковские',\n",
       " 'банковский',\n",
       " 'банковских',\n",
       " 'банковского',\n",
       " 'банковской',\n",
       " 'банковской карты',\n",
       " 'банковскую',\n",
       " 'банковскую карту',\n",
       " 'банком',\n",
       " 'банком условий',\n",
       " 'банкомат',\n",
       " 'банкомат взял',\n",
       " 'банкомат выдал',\n",
       " 'банкомат забрал',\n",
       " 'банкомат зажевал',\n",
       " 'банкомат зачислил',\n",
       " 'банкомат принял',\n",
       " 'банкомат съел',\n",
       " 'банкомата',\n",
       " 'банкомате',\n",
       " 'банкоматов',\n",
       " 'банкоматом',\n",
       " 'банкоматы',\n",
       " 'банкротства',\n",
       " 'банку',\n",
       " 'банку нужны',\n",
       " 'банку открытие',\n",
       " 'банку плевать',\n",
       " 'банку сотрудникам',\n",
       " 'бардак',\n",
       " 'барнаул',\n",
       " 'барс',\n",
       " 'барс банк',\n",
       " 'бдительны',\n",
       " 'бегите',\n",
       " 'беде',\n",
       " 'безалаберность',\n",
       " 'безграмотные',\n",
       " 'безграмотные сотрудники',\n",
       " 'бездействие',\n",
       " 'бездействие банка',\n",
       " 'бездействие сотрудников',\n",
       " 'бездействия',\n",
       " 'беззаконие',\n",
       " 'безобразие',\n",
       " 'безобразная',\n",
       " 'безобразная работа',\n",
       " 'безобразное',\n",
       " 'безобразное обслуживание',\n",
       " 'безобразный',\n",
       " 'безопасности',\n",
       " 'безопасность',\n",
       " 'безопасностью',\n",
       " 'безответственное',\n",
       " 'безответственное отношение',\n",
       " 'безответственность',\n",
       " 'безразличие',\n",
       " 'безразличие клиентам',\n",
       " 'безразличное',\n",
       " 'безразличное отношение',\n",
       " 'берет',\n",
       " 'берите',\n",
       " 'берите ипотеку',\n",
       " 'берите кредит',\n",
       " 'берите кредиты',\n",
       " 'берут',\n",
       " 'бесконечные',\n",
       " 'бесконечные звонки',\n",
       " 'бесконечный',\n",
       " 'бесплатная',\n",
       " 'бесплатное',\n",
       " 'бесплатное обслуживание',\n",
       " 'бесплатной',\n",
       " 'бесплатную',\n",
       " 'бесплатный',\n",
       " 'бесполезная',\n",
       " 'бесполезная трата',\n",
       " 'бесполезно',\n",
       " 'беспредел',\n",
       " 'бессовестное',\n",
       " 'бизнес',\n",
       " 'бизнеса',\n",
       " 'бизнеса бумаг',\n",
       " 'бизнесу',\n",
       " 'билеты',\n",
       " 'бки',\n",
       " 'бкс',\n",
       " 'благодарен',\n",
       " 'благодарим',\n",
       " 'благодарна',\n",
       " 'благодарности',\n",
       " 'благодарность',\n",
       " 'благодарность банку',\n",
       " 'благодарность менеджеру',\n",
       " 'благодарность обслуживание',\n",
       " 'благодарность персональному',\n",
       " 'благодарность помощь',\n",
       " 'благодарность представителю',\n",
       " 'благодарность профессионализм',\n",
       " 'благодарность работнику',\n",
       " 'благодарность работу',\n",
       " 'благодарность решение',\n",
       " 'благодарность руководителю',\n",
       " 'благодарность сотрудникам',\n",
       " 'благодарность сотруднику',\n",
       " 'благодарность сотруднице',\n",
       " 'благодарность специалисту',\n",
       " 'благодарностью',\n",
       " 'благодарственное',\n",
       " 'благодарственное письмо',\n",
       " 'благодарственный',\n",
       " 'благодарственный отзыв',\n",
       " 'благодарю',\n",
       " 'благодарю банк',\n",
       " 'благодарю помощь',\n",
       " 'благодарю сотрудника',\n",
       " 'благодарю сотрудников',\n",
       " 'благодаря',\n",
       " 'блокировка',\n",
       " 'блокировка карты',\n",
       " 'блокировка кредитной',\n",
       " 'блокировка счета',\n",
       " 'блокировки',\n",
       " 'блокирует',\n",
       " 'блокируют',\n",
       " 'боль',\n",
       " 'большая',\n",
       " 'большая благодарность',\n",
       " 'большие',\n",
       " 'большое',\n",
       " 'большое спасибо',\n",
       " 'большой',\n",
       " 'большой буквы',\n",
       " 'бонус',\n",
       " 'бонусами',\n",
       " 'бонусная',\n",
       " 'бонусная программа',\n",
       " 'бонусной',\n",
       " 'бонусной программе',\n",
       " 'бонусной программы',\n",
       " 'бонусов',\n",
       " 'бонусы',\n",
       " 'бонусы спасибо',\n",
       " 'брал',\n",
       " 'брала',\n",
       " 'брать',\n",
       " 'брать комиссию',\n",
       " 'бред',\n",
       " 'брокер',\n",
       " 'брокера',\n",
       " 'брокерский',\n",
       " 'брокерский счет',\n",
       " 'брокерский счёт',\n",
       " 'брокерского',\n",
       " 'брокерского счета',\n",
       " 'брокерского счёта',\n",
       " 'брокерское',\n",
       " 'брокерское обслуживание',\n",
       " 'будем',\n",
       " 'буду',\n",
       " 'будут',\n",
       " 'будьте',\n",
       " 'будьте бдительны',\n",
       " 'будьте внимательны',\n",
       " 'будьте осторожны',\n",
       " 'буквы',\n",
       " 'бумаг',\n",
       " 'бывает',\n",
       " 'быстрая',\n",
       " 'быстрее',\n",
       " 'быстро',\n",
       " 'быстро качественно',\n",
       " 'быстро оформили',\n",
       " 'быстро решили',\n",
       " 'быстрое',\n",
       " 'быстрое обслуживание',\n",
       " 'быстрое решение',\n",
       " 'быстрый',\n",
       " 'быстрых',\n",
       " 'быстрых платежей',\n",
       " 'бэк',\n",
       " 'бюро',\n",
       " 'бюро кредитных',\n",
       " 'бюрократия',\n",
       " 'валют',\n",
       " 'валюте',\n",
       " 'валютный',\n",
       " 'валютный перевод',\n",
       " 'валюту',\n",
       " 'валюты',\n",
       " 'вами',\n",
       " 'вариант',\n",
       " 'ваш',\n",
       " 'ваш банк',\n",
       " 'ваше',\n",
       " 'вашего',\n",
       " 'вашей',\n",
       " 'ваши',\n",
       " 'ваши деньги',\n",
       " 'введение',\n",
       " 'введение заблуждение',\n",
       " 'ввел',\n",
       " 'ввел заблуждение',\n",
       " 'ввели',\n",
       " 'ввели заблуждение',\n",
       " 'ввод',\n",
       " 'ввод заблуждение',\n",
       " 'вводит',\n",
       " 'вводит заблуждение',\n",
       " 'вводят',\n",
       " 'вводят заблуждение',\n",
       " 'ведома',\n",
       " 'ведома клиента',\n",
       " 'вежливо',\n",
       " 'вежливое',\n",
       " 'вежливые',\n",
       " 'вежливый',\n",
       " 'век',\n",
       " 'века',\n",
       " 'веке',\n",
       " 'верить',\n",
       " 'верните',\n",
       " 'верните деньги',\n",
       " 'верните мои',\n",
       " 'вернул',\n",
       " 'вернул деньги',\n",
       " 'вернули',\n",
       " 'вернули деньги',\n",
       " 'вернули комиссию',\n",
       " 'вернуть',\n",
       " 'вернуть деньги',\n",
       " 'верьте',\n",
       " 'весь',\n",
       " 'взаимодействие',\n",
       " 'взаимодействии',\n",
       " 'взаимодействия',\n",
       " 'взимание',\n",
       " 'взимание комиссии',\n",
       " 'взноса',\n",
       " 'взыскание',\n",
       " 'взыскания',\n",
       " 'взял',\n",
       " 'взял кредит',\n",
       " 'взяла',\n",
       " 'взяли',\n",
       " 'взять',\n",
       " 'взять ипотеку',\n",
       " 'взять кредит',\n",
       " 'вид',\n",
       " 'виде',\n",
       " 'видел',\n",
       " 'видимо',\n",
       " 'видом',\n",
       " 'визит',\n",
       " 'визита',\n",
       " 'вине',\n",
       " 'вине банка',\n",
       " 'вине сотрудника',\n",
       " 'вип',\n",
       " 'виртуальная',\n",
       " 'виртуальная карта',\n",
       " 'висит',\n",
       " 'вклад',\n",
       " 'вклада',\n",
       " 'вкладам',\n",
       " 'вкладов',\n",
       " 'вкладу',\n",
       " 'вкладчика',\n",
       " 'вкладчиков',\n",
       " 'вклады',\n",
       " 'включение',\n",
       " 'вместе',\n",
       " 'вместо',\n",
       " 'вне',\n",
       " 'внезапно',\n",
       " 'внес',\n",
       " 'внесение',\n",
       " 'внесение наличных',\n",
       " 'внесении',\n",
       " 'внесении наличных',\n",
       " 'внесенные',\n",
       " 'внесенных',\n",
       " 'внести',\n",
       " 'внимание',\n",
       " 'внимательное',\n",
       " 'внимательное отношение',\n",
       " 'внимательность',\n",
       " 'внимательны',\n",
       " 'внимательные',\n",
       " 'внимательный',\n",
       " 'вновь',\n",
       " 'внутри',\n",
       " 'внутри банка',\n",
       " 'вовремя',\n",
       " 'военная',\n",
       " 'военная ипотека',\n",
       " 'военной',\n",
       " 'военной ипотеки',\n",
       " 'возврат',\n",
       " 'возврат денег',\n",
       " 'возврат денежных',\n",
       " 'возврат закладной',\n",
       " 'возврат комиссии',\n",
       " 'возврат процентов',\n",
       " 'возврат средств',\n",
       " 'возврат страховки',\n",
       " 'возврат страховой',\n",
       " 'возврата',\n",
       " 'возврата денег',\n",
       " 'возврата средств',\n",
       " 'возврате',\n",
       " 'возврате денег',\n",
       " 'возврате денежных',\n",
       " 'возврате средств',\n",
       " 'возврате страховки',\n",
       " 'возвратом',\n",
       " 'возвратом денег',\n",
       " 'возврату',\n",
       " 'возвращает',\n",
       " 'возвращает деньги',\n",
       " 'возвращает закладную',\n",
       " 'возвращать',\n",
       " 'возвращать деньги',\n",
       " 'возвращают',\n",
       " 'возвращают деньги',\n",
       " 'возвращают закладную',\n",
       " 'воздух',\n",
       " 'воздуха',\n",
       " 'возмещение',\n",
       " 'возможно',\n",
       " 'возможности',\n",
       " 'возможности закрыть',\n",
       " 'возможности получить',\n",
       " 'возможность',\n",
       " 'вознаграждения',\n",
       " 'возобновление',\n",
       " 'возобновление деятельности',\n",
       " 'войти',\n",
       " 'волгоград',\n",
       " 'волокита',\n",
       " 'вообще',\n",
       " 'вопреки',\n",
       " 'вопрос',\n",
       " 'вопроса',\n",
       " 'вопросов',\n",
       " 'вопросу',\n",
       " 'вопросы',\n",
       " 'воровство',\n",
       " 'воронеж',\n",
       " 'воспользоваться',\n",
       " 'восстановление',\n",
       " 'восстановление бизнеса',\n",
       " 'восторг',\n",
       " 'восточном',\n",
       " 'восточный',\n",
       " 'восточный банк',\n",
       " 'вошли',\n",
       " 'вошли положение',\n",
       " 'впервые',\n",
       " 'впечатление',\n",
       " 'впечатления',\n",
       " 'впустую',\n",
       " 'вранье',\n",
       " 'враньё',\n",
       " 'времени',\n",
       " 'время',\n",
       " 'время деньги',\n",
       " 'время карантина',\n",
       " 'время пандемии',\n",
       " 'время самоизоляции',\n",
       " 'время эпидемии',\n",
       " 'врет',\n",
       " 'вроде',\n",
       " 'врут',\n",
       " 'всей',\n",
       " 'всем',\n",
       " 'всем доволен',\n",
       " 'всем советую',\n",
       " 'всеми',\n",
       " 'всесразу',\n",
       " 'вск',\n",
       " 'встреча',\n",
       " 'встречал',\n",
       " 'встречала',\n",
       " 'встречу',\n",
       " 'встречу клиентам',\n",
       " 'всё',\n",
       " 'всё контролем',\n",
       " 'всё отлично',\n",
       " 'втб',\n",
       " 'втб банк',\n",
       " 'втб банка',\n",
       " 'втб возвращает',\n",
       " 'втб г',\n",
       " 'втб онлайн',\n",
       " 'втб отдает',\n",
       " 'втб привилегия',\n",
       " 'втб это',\n",
       " 'втихаря',\n",
       " 'втихую',\n",
       " 'второй',\n",
       " 'второй месяц',\n",
       " 'вторую',\n",
       " 'вход',\n",
       " 'выбор',\n",
       " 'вывели',\n",
       " 'вывести',\n",
       " 'вывод',\n",
       " 'выгодная',\n",
       " 'выгодно',\n",
       " 'выгодные',\n",
       " 'выгодные условия',\n",
       " 'выгодный',\n",
       " 'выгодных',\n",
       " 'выгодных условиях',\n",
       " 'выдавать',\n",
       " 'выдает',\n",
       " 'выдает закладную',\n",
       " 'выдал',\n",
       " 'выдал денежные',\n",
       " 'выдал деньги',\n",
       " 'выдали',\n",
       " 'выдали карту',\n",
       " 'выдали кредит',\n",
       " 'выдать',\n",
       " 'выдача',\n",
       " 'выдача закладной',\n",
       " 'выдаче',\n",
       " 'выдаче дебетовой',\n",
       " 'выдаче закладной',\n",
       " 'выдаче кредита',\n",
       " 'выдачей',\n",
       " 'выдачи',\n",
       " 'выдачи закладной',\n",
       " 'выдачу',\n",
       " 'выдачу закладной',\n",
       " 'выдают',\n",
       " 'выдают закладную',\n",
       " 'выдаёт',\n",
       " 'выдаёт закладную',\n",
       " 'вызывает',\n",
       " 'выйти',\n",
       " 'вымогательство',\n",
       " 'вынуждают',\n",
       " 'выписка',\n",
       " 'выписки',\n",
       " 'выписку',\n",
       " 'выплат',\n",
       " 'выплата',\n",
       " 'выплате',\n",
       " 'выплатил',\n",
       " 'выплатили',\n",
       " 'выплату',\n",
       " 'выплаты',\n",
       " 'выплачен',\n",
       " 'выплачивают',\n",
       " 'выполнение',\n",
       " 'выполнении',\n",
       " 'выполнить',\n",
       " 'выполняет',\n",
       " 'выполняет свои',\n",
       " 'выполняет условия',\n",
       " 'выполнять',\n",
       " 'выполняют',\n",
       " 'выпуск',\n",
       " 'выпуск карты',\n",
       " 'выпуске',\n",
       " 'выпустили',\n",
       " 'выражаю',\n",
       " 'выражаю благодарность',\n",
       " 'выражение',\n",
       " 'выражение благодарности',\n",
       " 'выразить',\n",
       " 'выразить благодарность',\n",
       " 'выручили',\n",
       " 'высокие',\n",
       " 'высокий',\n",
       " 'высокое',\n",
       " 'высокое качество',\n",
       " 'высоте',\n",
       " 'выставил',\n",
       " 'высшем',\n",
       " 'высшем уровне',\n",
       " 'выхода',\n",
       " 'выходит',\n",
       " 'выходит связь',\n",
       " 'выходят',\n",
       " 'выходят связь',\n",
       " 'выше',\n",
       " 'вышло',\n",
       " 'г',\n",
       " 'газпромбанк',\n",
       " 'газпромбанка',\n",
       " 'газпромбанке',\n",
       " 'гарантированная',\n",
       " 'гарантированная ставка',\n",
       " 'гарантированной',\n",
       " 'гашение',\n",
       " 'гибкий',\n",
       " 'гибкий график',\n",
       " 'гк',\n",
       " 'гк рф',\n",
       " 'главное',\n",
       " 'го',\n",
       " 'говорит',\n",
       " 'говорят',\n",
       " 'год',\n",
       " 'года',\n",
       " 'годового',\n",
       " 'годового обслуживания',\n",
       " 'годовое',\n",
       " 'годовое обслуживание',\n",
       " 'годовых',\n",
       " 'году',\n",
       " 'голову',\n",
       " 'голосовой',\n",
       " 'голосовой помощник',\n",
       " 'город',\n",
       " 'города',\n",
       " 'городе',\n",
       " 'горячая',\n",
       " 'горячая линия',\n",
       " 'горячей',\n",
       " 'горячей линии',\n",
       " 'гос',\n",
       " 'господдержка',\n",
       " 'господдержке',\n",
       " 'господдержки',\n",
       " 'господдержкой',\n",
       " 'госпрограмме',\n",
       " 'готов',\n",
       " 'готовы',\n",
       " 'гпб',\n",
       " 'граждан',\n",
       " 'гражданский',\n",
       " 'грамотная',\n",
       " 'грамотно',\n",
       " 'грамотное',\n",
       " 'грамотные',\n",
       " 'грамотные сотрудники',\n",
       " 'грамотный',\n",
       " 'границ',\n",
       " 'график',\n",
       " 'график платежей',\n",
       " 'графика',\n",
       " 'графиком',\n",
       " 'грейс',\n",
       " 'грейс периода',\n",
       " 'грубое',\n",
       " 'грубость',\n",
       " 'грубые',\n",
       " 'д',\n",
       " 'давно',\n",
       " 'дает',\n",
       " 'дал',\n",
       " 'дали',\n",
       " 'дальше',\n",
       " 'данного',\n",
       " 'данного банка',\n",
       " 'данном',\n",
       " 'данные',\n",
       " 'данные бки',\n",
       " 'данные клиентов',\n",
       " 'данный',\n",
       " 'данный банк',\n",
       " 'данным',\n",
       " 'данным банком',\n",
       " 'данными',\n",
       " 'данных',\n",
       " 'дату',\n",
       " 'дату платежа',\n",
       " 'даты',\n",
       " 'даты платежа',\n",
       " 'дать',\n",
       " 'дают',\n",
       " 'дают закрыть',\n",
       " 'дают отсрочку',\n",
       " 'даёт',\n",
       " 'дбо',\n",
       " 'дважды',\n",
       " 'две',\n",
       " 'две недели',\n",
       " 'двойное',\n",
       " 'двойное списание',\n",
       " 'двойные',\n",
       " 'двойные списания',\n",
       " 'двух',\n",
       " 'двух недель',\n",
       " 'дду',\n",
       " 'дебетовая',\n",
       " 'дебетовая карта',\n",
       " 'дебетовой',\n",
       " 'дебетовой карте',\n",
       " 'дебетовой картой',\n",
       " 'дебетовой карты',\n",
       " 'дебетовую',\n",
       " 'дебетовую карту',\n",
       " 'дебетовых',\n",
       " 'дебетовых карт',\n",
       " 'девиз',\n",
       " 'дезинформация',\n",
       " 'действие',\n",
       " 'действий',\n",
       " 'действительно',\n",
       " 'действия',\n",
       " 'действия банка',\n",
       " 'действия сотрудника',\n",
       " 'действия сотрудников',\n",
       " 'действия стороны',\n",
       " 'действующей',\n",
       " 'действующим',\n",
       " 'действующих',\n",
       " 'дела',\n",
       " 'делает',\n",
       " 'делать',\n",
       " 'делают',\n",
       " 'деле',\n",
       " 'дело',\n",
       " 'делу',\n",
       " 'денег',\n",
       " 'денег карты',\n",
       " 'денежные',\n",
       " 'денежные переводы',\n",
       " 'денежные средства',\n",
       " 'денежный',\n",
       " 'денежный перевод',\n",
       " 'денежных',\n",
       " 'денежных средств',\n",
       " 'день',\n",
       " 'день обращения',\n",
       " 'день сделки',\n",
       " 'деньгам',\n",
       " 'деньгами',\n",
       " 'деньги',\n",
       " 'деньги авиабилеты',\n",
       " 'деньги банкомат',\n",
       " 'деньги вернули',\n",
       " 'деньги вклада',\n",
       " 'деньги возвращают',\n",
       " 'деньги дебетовой',\n",
       " 'деньги зачислены',\n",
       " 'деньги зачислил',\n",
       " 'деньги карту',\n",
       " 'деньги карты',\n",
       " 'деньги клиентов',\n",
       " 'деньги которые',\n",
       " 'деньги переводе',\n",
       " 'деньги поступили',\n",
       " 'деньги пришли',\n",
       " 'деньги списали',\n",
       " 'деньги счет',\n",
       " 'деньги счета',\n",
       " 'деньги счёт',\n",
       " 'депозит',\n",
       " 'депозита',\n",
       " 'держат',\n",
       " 'детей',\n",
       " 'детские',\n",
       " 'детские пособия',\n",
       " 'детских',\n",
       " 'детских пособий',\n",
       " 'детское',\n",
       " 'детское пособие',\n",
       " 'детьми',\n",
       " 'деятельности',\n",
       " 'диалог',\n",
       " 'дизайном',\n",
       " 'дискриминация',\n",
       " 'дистанционно',\n",
       " 'дистанционного',\n",
       " 'дистанционное',\n",
       " 'дистанционное обслуживание',\n",
       " 'дистанционных',\n",
       " 'длинной',\n",
       " 'длительное',\n",
       " 'длится',\n",
       " 'дней',\n",
       " 'дней процентов',\n",
       " 'дно',\n",
       " 'дня',\n",
       " 'добиться',\n",
       " 'доброжелательность',\n",
       " 'доверенности',\n",
       " 'доверенность',\n",
       " 'доверие',\n",
       " 'доверия',\n",
       " 'доверять',\n",
       " 'доволен',\n",
       " 'доволен работой',\n",
       " 'довольна',\n",
       " 'довольна банком',\n",
       " 'довольна обслуживанием',\n",
       " 'договор',\n",
       " 'договор страхования',\n",
       " 'договора',\n",
       " 'договора страхования',\n",
       " 'договоре',\n",
       " 'договором',\n",
       " 'договору',\n",
       " 'дождаться',\n",
       " 'дозвониться',\n",
       " 'доктор',\n",
       " 'документ',\n",
       " 'документа',\n",
       " 'документами',\n",
       " 'документах',\n",
       " 'документов',\n",
       " 'документы',\n",
       " 'долг',\n",
       " 'долга',\n",
       " 'долгая',\n",
       " 'долги',\n",
       " 'долгие',\n",
       " 'долгие сроки',\n",
       " 'долгий',\n",
       " 'долго',\n",
       " 'долгое',\n",
       " 'долгое обслуживание',\n",
       " 'долгое ожидание',\n",
       " 'долгое рассмотрение',\n",
       " 'долгу',\n",
       " 'долей',\n",
       " 'должен',\n",
       " 'должна',\n",
       " 'должника',\n",
       " 'должно',\n",
       " 'должны',\n",
       " 'доллары',\n",
       " 'дом',\n",
       " 'дом клик',\n",
       " 'дом рф',\n",
       " 'дома',\n",
       " 'домклик',\n",
       " 'домклик сбербанка',\n",
       " 'дону',\n",
       " 'доп',\n",
       " 'доп услуг',\n",
       " 'доп услуги',\n",
       " 'дополнительные',\n",
       " 'дополнительные услуги',\n",
       " 'дополнительный',\n",
       " 'дополнительный процент',\n",
       " 'дополнительных',\n",
       " 'дополнительных услуг',\n",
       " 'дорогой',\n",
       " 'досрочно',\n",
       " 'досрочно погасить',\n",
       " 'досрочного',\n",
       " 'досрочного погашения',\n",
       " 'досрочное',\n",
       " 'досрочное погашение',\n",
       " 'досрочном',\n",
       " 'досрочном погашении',\n",
       " 'досрочному',\n",
       " 'досрочному погашению',\n",
       " 'досрочным',\n",
       " 'досрочным погашением',\n",
       " 'доставка',\n",
       " 'доставка карты',\n",
       " 'доставки',\n",
       " 'достали',\n",
       " 'достали звонками',\n",
       " 'достойный',\n",
       " 'достойный банк',\n",
       " 'доступ',\n",
       " 'доступ личный',\n",
       " 'доступа',\n",
       " 'доступом',\n",
       " 'доход',\n",
       " 'доходов',\n",
       " 'дошли',\n",
       " 'друг',\n",
       " 'друга',\n",
       " 'другие',\n",
       " 'другим',\n",
       " 'других',\n",
       " 'других банках',\n",
       " 'других банков',\n",
       " 'другого',\n",
       " 'другого банка',\n",
       " 'другого человека',\n",
       " 'другое',\n",
       " 'другом',\n",
       " 'другом банке',\n",
       " 'другому',\n",
       " 'другую',\n",
       " 'дс',\n",
       " 'думайте',\n",
       " 'души',\n",
       " 'е',\n",
       " 'европа',\n",
       " 'европа банк',\n",
       " 'единственный',\n",
       " 'единственный банк',\n",
       " 'ежемесячного',\n",
       " 'ежемесячного платежа',\n",
       " 'ежемесячный',\n",
       " 'ежемесячный платеж',\n",
       " 'ежемесячный платёж',\n",
       " 'екатеринбург',\n",
       " 'екатерине',\n",
       " 'елене',\n",
       " 'ехать',\n",
       " 'ещё',\n",
       " 'еюс',\n",
       " 'её',\n",
       " 'жадность',\n",
       " 'жадный',\n",
       " 'жалоба',\n",
       " 'жалоба банк',\n",
       " 'жалоба работу',\n",
       " 'жалоба сотрудника',\n",
       " 'жалоба сотрудников',\n",
       " 'жалобу',\n",
       " 'жаль',\n",
       " 'ждал',\n",
       " 'ждать',\n",
       " 'ждем',\n",
       " 'ждите',\n",
       " 'жду',\n",
       " ...]"
      ]
     },
     "execution_count": 71,
     "metadata": {},
     "output_type": "execute_result"
    }
   ],
   "source": [
    "vectorizer.get_feature_names()"
   ]
  },
  {
   "cell_type": "markdown",
   "metadata": {
    "id": "Vqy-VO9P9LAt"
   },
   "source": [
    "## Визуализация отзывов"
   ]
  },
  {
   "cell_type": "markdown",
   "metadata": {
    "ExecuteTime": {
     "end_time": "2020-11-01T21:14:31.607959Z",
     "start_time": "2020-11-01T21:14:31.540967Z"
    },
    "id": "IehAXYGs9LAt"
   },
   "source": [
    "Мы обучали модель классификации с помощью бинарной кросс-энтропии (log_loss):\n",
    "$$\n",
    "L = - y \\log\\left(\\hat{y}\\right) - (1 - y) \\log\\left(1 - \\hat{y}\\right)\n",
    "$$\n",
    "\n",
    "первое слагаемое в функции потерь отвечает за ложно-положительные срабатывания, второе — за ложно-отрицательные\n",
    "\n",
    "посмотрим, на каких примерах полученная модель сильнее всего ошибается в одну и другую сторону"
   ]
  },
  {
   "cell_type": "code",
   "execution_count": 72,
   "metadata": {
    "ExecuteTime": {
     "end_time": "2021-04-14T09:55:11.223876Z",
     "start_time": "2021-04-14T09:55:10.181762Z"
    },
    "id": "sTv6omdh9LAt"
   },
   "outputs": [],
   "source": [
    "y_val_proba = count_model.predict_proba(x_val)[:, 1]\n",
    "\n",
    "y_val_rating = df_val.reset_index().rating.values"
   ]
  },
  {
   "cell_type": "code",
   "execution_count": 73,
   "metadata": {
    "ExecuteTime": {
     "end_time": "2021-04-14T09:55:11.279674Z",
     "start_time": "2021-04-14T09:55:11.226124Z"
    },
    "id": "ULP6Co-l9LAu"
   },
   "outputs": [],
   "source": [
    "def false_positive(y, y_proba, eps=1e-15):\n",
    "    if y:\n",
    "        return (-y) * np.log(y_proba + eps)\n",
    "    else:\n",
    "        return 0.0\n",
    "\n",
    "def false_negative(y, y_proba, eps=1e-15):\n",
    "    if y:\n",
    "        return 0.0\n",
    "    else:\n",
    "        return (y - 1) * np.log(1 - y_proba + eps)\n",
    "\n",
    "\n",
    "review_count = 5\n",
    "\n",
    "\n",
    "positive_error = np.array([false_positive(y, y_proba) for (y, y_proba) in zip(y_val, y_val_proba)])\n",
    "\n",
    "negative_error = np.array([false_negative(y, y_proba) for (y, y_proba) in zip(y_val, y_val_proba)])\n",
    "\n",
    "max_loss_ids = np.concatenate((\n",
    "    positive_error.argsort()[::-1][:review_count],\n",
    "    negative_error.argsort()[::-1][:review_count]\n",
    "))"
   ]
  },
  {
   "cell_type": "code",
   "execution_count": 74,
   "metadata": {
    "ExecuteTime": {
     "end_time": "2021-04-14T09:55:11.334296Z",
     "start_time": "2021-04-14T09:55:11.283374Z"
    },
    "id": "tTUQmeJD9LAu"
   },
   "outputs": [],
   "source": [
    "vectorizer = count_model.steps[0][1]\n",
    "\n",
    "token2id = {token: i for i, token in enumerate(vectorizer.get_feature_names())}\n",
    "\n",
    "importance = count_model.steps[1][1].coef_[0]\n",
    "\n",
    "min_importance = importance.min()\n",
    "max_importance = importance.max()"
   ]
  },
  {
   "cell_type": "code",
   "execution_count": 75,
   "metadata": {
    "ExecuteTime": {
     "end_time": "2021-04-14T09:55:11.403249Z",
     "start_time": "2021-04-14T09:55:11.338947Z"
    },
    "id": "nR_tpdHj9LAu",
    "scrolled": false
   },
   "outputs": [
    {
     "name": "stdout",
     "output_type": "stream",
     "text": [
      "rating: 5\n",
      "predicted proba: 2.730241377105066e-10\n"
     ]
    },
    {
     "data": {
      "text/html": [
       "\n",
       "    <p style=\"font-size:16px; color:#000000; border: 2px solid #000; text-align: justify; background-color:#ffffff; border-radius: 25px; padding: 20px;\">\n",
       "    <span style=\"background-color: #fffcfc\"; title=\"0.02\">срочно</span> <span style=\"background-color: #fff8f8\"; title=\"0.07\">понадобились</span> <span style=\"background-color: #fafaff\"; title=\"-0.02\">деньги</span> <span style=\"background-color: #ffffff\"; title=\"0.00\">и</span> <span style=\"background-color: #fcfcff\"; title=\"-0.01\">дабы</span> <span style=\"background-color: #ffffff\"; title=\"0.00\">не</span> <span style=\"background-color: #f9f9ff\"; title=\"-0.02\">просить</span> <span style=\"background-color: #ffffff\"; title=\"0.00\">у</span> <span style=\"background-color: #9696ff\"; title=\"-0.41\">друзей</span> <span style=\"background-color: #ffffff\"; title=\"0.00\">и</span> <span style=\"background-color: #e6e6ff\"; title=\"-0.10\">знакомых</span> <span style=\"background-color: #ffdfdf\"; title=\"0.29\">решил</span> <span style=\"background-color: #a9a9ff\"; title=\"-0.34\">взять</span> <span style=\"background-color: #ffd8d8\"; title=\"0.36\">нужную</span> <span style=\"background-color: #ebebff\"; title=\"-0.08\">сумму</span> <span style=\"background-color: #ffffff\"; title=\"0.00\">в</span> <span style=\"background-color: #d0d0ff\"; title=\"-0.19\">банке</span> <span style=\"background-color: #ffffff\"; title=\"0.00\">под</span> <span style=\"background-color: #bebeff\"; title=\"-0.25\">проценты</span> <span style=\"background-color: #ffffff\"; title=\"0.00\">мне</span> <span style=\"background-color: #ffffff\"; title=\"0.00\">так</span> <span style=\"background-color: #f1f1ff\"; title=\"-0.05\">проще</span> <span style=\"background-color: #ffdfdf\"; title=\"0.29\">решил</span> <span style=\"background-color: #fff2f2\"; title=\"0.12\">обратиться</span> <span style=\"background-color: #ffffff\"; title=\"0.00\">на</span> <span style=\"background-color: #ffffff\"; title=\"0.00\">тот</span> <span style=\"background-color: #fff3f3\"; title=\"0.11\">момент</span> <span style=\"background-color: #b3b3ff\"; title=\"-0.30\">судя</span> <span style=\"background-color: #ffffff\"; title=\"0.00\">по</span> <span style=\"background-color: #9d9dff\"; title=\"-0.39\">рекламе</span> <span style=\"background-color: #ffffff\"; title=\"0.00\">и</span> <span style=\"background-color: #fffdfd\"; title=\"0.02\">отзывам</span> <span style=\"background-color: #ffffff\"; title=\"0.00\">в</span> <span style=\"background-color: #f5f5ff\"; title=\"-0.04\">надёжный</span> <span style=\"background-color: #ffffff\"; title=\"0.00\">и</span> <span style=\"background-color: #d5d5ff\"; title=\"-0.16\">порядочный</span> <span style=\"background-color: #ffffff\"; title=\"0.00\">как</span> <span style=\"background-color: #ffffff\"; title=\"0.00\">в</span> <span style=\"background-color: #dbdbff\"; title=\"-0.14\">последствии</span> <span style=\"background-color: #e6e6ff\"; title=\"-0.10\">выяснилось</span> <span style=\"background-color: #ffffff\"; title=\"0.00\">в</span> <span style=\"background-color: #dfdfff\"; title=\"-0.12\">кавычках</span> <span style=\"background-color: #fafaff\"; title=\"-0.02\">почта</span> <span style=\"background-color: #dbdbff\"; title=\"-0.14\">банк</span> <span style=\"background-color: #fff7f7\"; title=\"0.07\">мной</span> <span style=\"background-color: #ffecec\"; title=\"0.18\">юрием</span> <span style=\"background-color: #ffffff\"; title=\"0.00\">александровичем</span> <span style=\"background-color: #fff7f7\"; title=\"0.08\">г</span> <span style=\"background-color: #ffffff\"; title=\"0.00\">был</span> <span style=\"background-color: #d4d4ff\"; title=\"-0.17\">взят</span> <span style=\"background-color: #e3e3ff\"; title=\"-0.11\">кредит</span> <span style=\"background-color: #ffffff\"; title=\"0.00\">на</span> <span style=\"background-color: #f9f9ff\"; title=\"-0.02\">рублей</span> <span style=\"background-color: #ffffff\"; title=\"0.00\">по</span> <span style=\"background-color: #ffd5d5\"; title=\"0.39\">кредитному</span> <span style=\"background-color: #ffe8e8\"; title=\"0.21\">договору</span> <span style=\"background-color: #ffffff\"; title=\"0.00\">от</span> <span style=\"background-color: #ffeaea\"; title=\"0.19\">сроком</span> <span style=\"background-color: #ffffff\"; title=\"0.00\">на</span> <span style=\"background-color: #cbcbff\"; title=\"-0.20\">месяцев</span> <span style=\"background-color: #ffffff\"; title=\"0.00\">под</span> <span style=\"background-color: #9797ff\"; title=\"-0.41\">годовых</span> <span style=\"background-color: #ffffff\"; title=\"0.00\">при</span> <span style=\"background-color: #ececff\"; title=\"-0.07\">оформлении</span> <span style=\"background-color: #ebebff\"; title=\"-0.08\">кредита</span> <span style=\"background-color: #ffffff\"; title=\"0.00\">мне</span> <span style=\"background-color: #ffffff\"; title=\"0.00\">была</span> <span style=\"background-color: #d0d0ff\"; title=\"-0.18\">включена</span> <span style=\"background-color: #ffe0e0\"; title=\"0.29\">услуга</span> <span style=\"background-color: #ffe7e7\"; title=\"0.22\">гарантированная</span> <span style=\"background-color: #dcdcff\"; title=\"-0.14\">ставка</span> <span style=\"background-color: #ffffff\"; title=\"0.00\">за</span> <span style=\"background-color: #ffffff\"; title=\"0.00\">эту</span> <span style=\"background-color: #f3f3ff\"; title=\"-0.05\">услугу</span> <span style=\"background-color: #ffffff\"; title=\"0.00\">мой</span> <span style=\"background-color: #e3e3ff\"; title=\"-0.11\">кредит</span> <span style=\"background-color: #ffbaba\"; title=\"0.64\">моментально</span> <span style=\"background-color: #ffefef\"; title=\"0.14\">увеличился</span> <span style=\"background-color: #ffffff\"; title=\"0.00\">на</span> <span style=\"background-color: #ffffff\"; title=\"0.00\">три</span> <span style=\"background-color: #ffffff\"; title=\"0.00\">с</span> <span style=\"background-color: #e2e2ff\"; title=\"-0.11\">лишним</span> <span style=\"background-color: #5252ff\"; title=\"-0.68\">тысячи</span> <span style=\"background-color: #f9f9ff\"; title=\"-0.02\">рублей</span> <span style=\"background-color: #ffffff\"; title=\"0.00\">но</span> <span style=\"background-color: #fff2f2\"; title=\"0.12\">сотрудником</span> <span style=\"background-color: #fafaff\"; title=\"-0.02\">почта</span> <span style=\"background-color: #d7d7ff\"; title=\"-0.16\">банка</span> <span style=\"background-color: #ffffff\"; title=\"0.00\">мне</span> <span style=\"background-color: #ffffff\"; title=\"0.00\">было</span> <span style=\"background-color: #cfcfff\"; title=\"-0.19\">убедительно</span> <span style=\"background-color: #ffe5e5\"; title=\"0.24\">рассказано</span> <span style=\"background-color: #ffffff\"; title=\"0.00\">о</span> <span style=\"background-color: #ffffff\"; title=\"0.00\">том</span> <span style=\"background-color: #ffffff\"; title=\"0.00\">что</span> <span style=\"background-color: #ffffff\"; title=\"0.00\">если</span> <span style=\"background-color: #ffffff\"; title=\"0.00\">я</span> <span style=\"background-color: #ffffff\"; title=\"0.00\">не</span> <span style=\"background-color: #ffffff\"; title=\"0.00\">допущу</span> <span style=\"background-color: #ffffff\"; title=\"0.00\">не</span> <span style=\"background-color: #fff7f7\"; title=\"0.08\">одной</span> <span style=\"background-color: #fffdfd\"; title=\"0.02\">просрочки</span> <span style=\"background-color: #2323ff\"; title=\"-0.87\">ежемесячного</span> <span style=\"background-color: #fff8f8\"; title=\"0.06\">платежа</span> <span style=\"background-color: #ffffff\"; title=\"0.00\">в</span> <span style=\"background-color: #ffe0e0\"; title=\"0.29\">течении</span> <span style=\"background-color: #ffd1d1\"; title=\"0.43\">первых</span> <span style=\"background-color: #ffdbdb\"; title=\"0.34\">ти</span> <span style=\"background-color: #cbcbff\"; title=\"-0.20\">месяцев</span> <span style=\"background-color: #ffe7e7\"; title=\"0.22\">год</span> <span style=\"background-color: #ffffff\"; title=\"0.00\">то</span> <span style=\"background-color: #ffffff\"; title=\"0.00\">моя</span> <span style=\"background-color: #ffa3a3\"; title=\"0.87\">процентная</span> <span style=\"background-color: #dcdcff\"; title=\"-0.14\">ставка</span> <span style=\"background-color: #e0e0ff\"; title=\"-0.12\">гарантированно</span> <span style=\"background-color: #ffdbdb\"; title=\"0.33\">уменьшится</span> <span style=\"background-color: #ffffff\"; title=\"0.00\">с</span> <span style=\"background-color: #ffffff\"; title=\"0.00\">до</span> <span style=\"background-color: #fff7f7\"; title=\"0.07\">чудесно</span> <span style=\"background-color: #e6e6ff\"; title=\"-0.10\">подумал</span> <span style=\"background-color: #ffffff\"; title=\"0.00\">я</span> <span style=\"background-color: #ffffff\"; title=\"0.00\">и</span> <span style=\"background-color: #dbdbff\"; title=\"-0.14\">начал</span> <span style=\"background-color: #ffffff\"; title=\"0.00\">как</span> <span style=\"background-color: #d5d5ff\"; title=\"-0.16\">порядочный</span> <span style=\"background-color: #b2b2ff\"; title=\"-0.30\">человек</span> <span style=\"background-color: #efefff\"; title=\"-0.06\">своевременно</span> <span style=\"background-color: #ffe7e7\"; title=\"0.23\">вносить</span> <span style=\"background-color: #eeeeff\"; title=\"-0.06\">ежемесячный</span> <span style=\"background-color: #d6d6ff\"; title=\"-0.16\">платёж</span> <span style=\"background-color: #ffeeee\"; title=\"0.15\">который</span> <span style=\"background-color: #e8e8ff\"; title=\"-0.09\">составлял</span> <span style=\"background-color: #bfbfff\"; title=\"-0.25\">рубля</span> <span style=\"background-color: #ddddff\"; title=\"-0.13\">основное</span> <span style=\"background-color: #ececff\"; title=\"-0.07\">тело</span> <span style=\"background-color: #ebebff\"; title=\"-0.08\">кредита</span> <span style=\"background-color: #ffefef\"; title=\"0.15\">вместе</span> <span style=\"background-color: #ffffff\"; title=\"0.00\">с</span> <span style=\"background-color: #fffcfc\"; title=\"0.02\">процентами</span> <span style=\"background-color: #ffffff\"; title=\"0.00\">на</span> <span style=\"background-color: #e0e0ff\"; title=\"-0.12\">протяжении</span> <span style=\"background-color: #f5f5ff\"; title=\"-0.04\">ми</span> <span style=\"background-color: #cbcbff\"; title=\"-0.20\">месяцев</span> <span style=\"background-color: #ffffff\"; title=\"0.00\">в</span> <span style=\"background-color: #9c9cff\"; title=\"-0.39\">последний</span> <span style=\"background-color: #e2e2ff\"; title=\"-0.11\">й</span> <span style=\"background-color: #b6b6ff\"; title=\"-0.28\">месяц</span> <span style=\"background-color: #9c9cff\"; title=\"-0.39\">последний</span> <span style=\"background-color: #d6d6ff\"; title=\"-0.16\">платёж</span> <span style=\"background-color: #f2f2ff\"; title=\"-0.05\">незначительно</span> <span style=\"background-color: #fefeff\"; title=\"-0.00\">уменьшался</span> <span style=\"background-color: #ffffff\"; title=\"0.00\">до</span> <span style=\"background-color: #9292ff\"; title=\"-0.43\">последнего</span> <span style=\"background-color: #d3d3ff\"; title=\"-0.17\">месяца</span> <span style=\"background-color: #ffffff\"; title=\"0.00\">и</span> <span style=\"background-color: #fff8f8\"; title=\"0.06\">платежа</span> <span style=\"background-color: #ffffff\"; title=\"0.00\">мы</span> <span style=\"background-color: #ffffff\"; title=\"0.00\">дойдём</span> <span style=\"background-color: #ffffff\"; title=\"0.00\">чуть</span> <span style=\"background-color: #9999ff\"; title=\"-0.40\">позже</span> <span style=\"background-color: #ffe7e7\"; title=\"0.22\">год</span> <span style=\"background-color: #ffffff\"; title=\"0.00\">пролетел</span> <span style=\"background-color: #ffffff\"; title=\"0.00\">как</span> <span style=\"background-color: #a9a9ff\"; title=\"-0.34\">лист</span> <span style=\"background-color: #ffffff\"; title=\"0.00\">с</span> <span style=\"background-color: #ffffff\"; title=\"0.00\">куста</span> <span style=\"background-color: #ffffff\"; title=\"0.00\">я</span> <span style=\"background-color: #efefff\"; title=\"-0.06\">своевременно</span> <span style=\"background-color: #ffdcdc\"; title=\"0.33\">всё</span> <span style=\"background-color: #f9f9ff\"; title=\"-0.02\">оплачивал</span> <span style=\"background-color: #ffffff\"; title=\"0.00\">и</span> <span style=\"background-color: #9b9bff\"; title=\"-0.39\">естественно</span> <span style=\"background-color: #ffffff\"; title=\"0.00\">через</span> <span style=\"background-color: #ffe7e7\"; title=\"0.22\">год</span> <span style=\"background-color: #ffffff\"; title=\"0.00\">на</span> <span style=\"background-color: #ffffff\"; title=\"0.00\">крыльях</span> <span style=\"background-color: #fffafa\"; title=\"0.05\">любви</span> <span style=\"background-color: #ffffff\"; title=\"0.00\">к</span> <span style=\"background-color: #fffafa\"; title=\"0.04\">банку</span> <span style=\"background-color: #fff6f6\"; title=\"0.08\">полетел</span> <span style=\"background-color: #ffffff\"; title=\"0.00\">в</span> <span style=\"background-color: #fafaff\"; title=\"-0.02\">почта</span> <span style=\"background-color: #dbdbff\"; title=\"-0.14\">банк</span> <span style=\"background-color: #e8e8ff\"; title=\"-0.09\">уменьшать</span> <span style=\"background-color: #d3d3ff\"; title=\"-0.17\">свои</span> <span style=\"background-color: #bebeff\"; title=\"-0.25\">проценты</span> <span style=\"background-color: #ffffff\"; title=\"0.00\">по</span> <span style=\"background-color: #a5a5ff\"; title=\"-0.36\">кредиту</span> <span style=\"background-color: #fffdfd\"; title=\"0.01\">придя</span> <span style=\"background-color: #ffffff\"; title=\"0.00\">в</span> <span style=\"background-color: #dbdbff\"; title=\"-0.14\">банк</span> <span style=\"background-color: #ffffff\"; title=\"0.00\">и</span> <span style=\"background-color: #fffefe\"; title=\"0.01\">напомнив</span> <span style=\"background-color: #fffdfd\"; title=\"0.01\">девушке</span> <span style=\"background-color: #ffc6c6\"; title=\"0.54\">оператору</span> <span style=\"background-color: #ffffff\"; title=\"0.00\">о</span> <span style=\"background-color: #f6f6ff\"; title=\"-0.03\">данной</span> <span style=\"background-color: #ffbebe\"; title=\"0.61\">услуге</span> <span style=\"background-color: #ffffff\"; title=\"0.00\">мне</span> <span style=\"background-color: #ffffff\"; title=\"0.00\">был</span> <span style=\"background-color: #ffeaea\"; title=\"0.19\">дан</span> <span style=\"background-color: #fff2f2\"; title=\"0.12\">сотрудником</span> <span style=\"background-color: #d7d7ff\"; title=\"-0.16\">банка</span> <span style=\"background-color: #cacaff\"; title=\"-0.21\">ответ</span> <span style=\"background-color: #ffffff\"; title=\"0.00\">что</span> <span style=\"background-color: #cacaff\"; title=\"-0.21\">мол</span> <span style=\"background-color: #ffffff\"; title=\"0.00\">да</span> <span style=\"background-color: #ffffff\"; title=\"0.00\">у</span> <span style=\"background-color: #ffffff\"; title=\"0.00\">вас</span> <span style=\"background-color: #ffdcdc\"; title=\"0.33\">всё</span> <span style=\"background-color: #ffffff\"; title=\"0.00\">хорошо</span> <span style=\"background-color: #ededff\"; title=\"-0.07\">просрочек</span> <span style=\"background-color: #ffffff\"; title=\"0.00\">нет</span> <span style=\"background-color: #ffffff\"; title=\"0.00\">но</span> <span style=\"background-color: #ffffff\"; title=\"0.00\">если</span> <span style=\"background-color: #ffffff\"; title=\"0.00\">вам</span> <span style=\"background-color: #ffffff\"; title=\"0.00\">сейчас</span> <span style=\"background-color: #fff8f8\"; title=\"0.06\">пересчитать</span> <span style=\"background-color: #ffffff\"; title=\"0.00\">вы</span> <span style=\"background-color: #6565ff\"; title=\"-0.61\">получите</span> <span style=\"background-color: #ffffff\"; title=\"0.00\">всего</span> <span style=\"background-color: #fffafa\"; title=\"0.04\">пять</span> <span style=\"background-color: #ffffff\"; title=\"0.00\">с</span> <span style=\"background-color: #e2e2ff\"; title=\"-0.11\">лишним</span> <span style=\"background-color: #acacff\"; title=\"-0.33\">тысяч</span> <span style=\"background-color: #f9f9ff\"; title=\"-0.02\">рублей</span> <span style=\"background-color: #ffffff\"; title=\"0.00\">а</span> <span style=\"background-color: #ffffff\"; title=\"0.00\">вот</span> <span style=\"background-color: #ffffff\"; title=\"0.00\">если</span> <span style=\"background-color: #ffffff\"; title=\"0.00\">вы</span> <span style=\"background-color: #ffffff\"; title=\"0.00\">проплатите</span> <span style=\"background-color: #e3e3ff\"; title=\"-0.11\">кредит</span> <span style=\"background-color: #ffffff\"; title=\"0.00\">без</span> <span style=\"background-color: #ededff\"; title=\"-0.07\">просрочек</span> <span style=\"background-color: #fff8f8\"; title=\"0.06\">платежа</span> <span style=\"background-color: #fff5f5\"; title=\"0.09\">весь</span> <span style=\"background-color: #dcdcff\"; title=\"-0.14\">свой</span> <span style=\"background-color: #fbfbff\"; title=\"-0.01\">период</span> <span style=\"background-color: #fff6f6\"; title=\"0.08\">года</span> <span style=\"background-color: #ffffff\"; title=\"0.00\">и</span> <span style=\"background-color: #d3d3ff\"; title=\"-0.17\">месяца</span> <span style=\"background-color: #ffffff\"; title=\"0.00\">то</span> <span style=\"background-color: #ffffff\"; title=\"0.00\">вы</span> <span style=\"background-color: #ffffff\"; title=\"0.00\">по</span> <span style=\"background-color: #ffffff\"; title=\"0.00\">перерасчёту</span> <span style=\"background-color: #6565ff\"; title=\"-0.61\">получите</span> <span style=\"background-color: #bebeff\"; title=\"-0.26\">аж</span> <span style=\"background-color: #f9f9ff\"; title=\"-0.02\">рублей</span> <span style=\"background-color: #d7d7ff\"; title=\"-0.16\">хм</span> <span style=\"background-color: #ffe9e9\"; title=\"0.20\">значительно</span> <span style=\"background-color: #ffffff\"; title=\"0.00\">лучше</span> <span style=\"background-color: #ffffff\"; title=\"0.00\">чем</span> <span style=\"background-color: #e6e6ff\"; title=\"-0.10\">подумал</span> <span style=\"background-color: #ffffff\"; title=\"0.00\">я</span> <span style=\"background-color: #ffffff\"; title=\"0.00\">тем</span> <span style=\"background-color: #ffffff\"; title=\"0.00\">более</span> <span style=\"background-color: #ffffff\"; title=\"0.00\">что</span> <span style=\"background-color: #ffffff\"; title=\"0.00\">на</span> <span style=\"background-color: #ffffff\"; title=\"0.00\">тот</span> <span style=\"background-color: #fff3f3\"; title=\"0.11\">момент</span> <span style=\"background-color: #ffffff\"; title=\"0.00\">мне</span> <span style=\"background-color: #f5f5ff\"; title=\"-0.04\">погоды</span> <span style=\"background-color: #ffffff\"; title=\"0.00\">не</span> <span style=\"background-color: #ffdada\"; title=\"0.34\">делали</span> <span style=\"background-color: #ffffff\"; title=\"0.00\">и</span> <span style=\"background-color: #ffeaea\"; title=\"0.19\">стал</span> <span style=\"background-color: #ffe7e7\"; title=\"0.22\">дальше</span> <span style=\"background-color: #9e9eff\"; title=\"-0.38\">исправно</span> <span style=\"background-color: #b6b6ff\"; title=\"-0.28\">месяц</span> <span style=\"background-color: #ffffff\"; title=\"0.00\">за</span> <span style=\"background-color: #e5e5ff\"; title=\"-0.10\">месяцем</span> <span style=\"background-color: #ffe7e7\"; title=\"0.23\">вносить</span> <span style=\"background-color: #ffffff\"; title=\"0.00\">на</span> <span style=\"background-color: #d8d8ff\"; title=\"-0.15\">счёт</span> <span style=\"background-color: #ffd8d8\"; title=\"0.36\">нужную</span> <span style=\"background-color: #ebebff\"; title=\"-0.08\">сумму</span> <span style=\"background-color: #ffffff\"; title=\"0.00\">для</span> <span style=\"background-color: #fffafa\"; title=\"0.04\">погашения</span> <span style=\"background-color: #ebebff\"; title=\"-0.08\">кредита</span> <span style=\"background-color: #ffecec\"; title=\"0.17\">кстати</span> <span style=\"background-color: #ffffff\"; title=\"0.00\">о</span> <span style=\"background-color: #cfcfff\"; title=\"-0.19\">счёте</span> <span style=\"background-color: #ffffff\"; title=\"0.00\">и</span> <span style=\"background-color: #fff4f4\"; title=\"0.10\">погашении</span> <span style=\"background-color: #bfbfff\"; title=\"-0.25\">абсолютно</span> <span style=\"background-color: #fffefe\"; title=\"0.01\">неважно</span> <span style=\"background-color: #ffffff\"; title=\"0.00\">когда</span> <span style=\"background-color: #ffffff\"; title=\"0.00\">вы</span> <span style=\"background-color: #e5e5ff\"; title=\"-0.10\">положите</span> <span style=\"background-color: #fafaff\"; title=\"-0.02\">деньги</span> <span style=\"background-color: #ffffff\"; title=\"0.00\">на</span> <span style=\"background-color: #dcdcff\"; title=\"-0.14\">свой</span> <span style=\"background-color: #fff3f3\"; title=\"0.11\">открытый</span> <span style=\"background-color: #d0d0ff\"; title=\"-0.18\">банком</span> <span style=\"background-color: #d8d8ff\"; title=\"-0.15\">счёт</span> <span style=\"background-color: #ffffff\"; title=\"0.00\">и</span> <span style=\"background-color: #ffffff\"; title=\"0.00\">не</span> <span style=\"background-color: #ffdddd\"; title=\"0.32\">важно</span> <span style=\"background-color: #e0e0ff\"; title=\"-0.12\">сколько</span> <span style=\"background-color: #ffffff\"; title=\"0.00\">хоть</span> <span style=\"background-color: #ffffff\"; title=\"0.00\">всю</span> <span style=\"background-color: #ebebff\"; title=\"-0.08\">сумму</span> <span style=\"background-color: #ebebff\"; title=\"-0.08\">кредита</span> <span style=\"background-color: #ffe3e3\"; title=\"0.26\">нужная</span> <span style=\"background-color: #9c9cff\"; title=\"-0.39\">ежемесячная</span> <span style=\"background-color: #f9f9ff\"; title=\"-0.02\">сумма</span> <span style=\"background-color: #b0b0ff\"; title=\"-0.31\">списывается</span> <span style=\"background-color: #fff2f2\"; title=\"0.12\">автоматически</span> <span style=\"background-color: #ffffff\"; title=\"0.00\">в</span> <span style=\"background-color: #fff9f9\"; title=\"0.05\">нужный</span> <span style=\"background-color: #fff2f2\"; title=\"0.12\">день</span> <span style=\"background-color: #ffffff\"; title=\"0.00\">не</span> <span style=\"background-color: #9999ff\"; title=\"-0.40\">позже</span> <span style=\"background-color: #ffffff\"; title=\"0.00\">не</span> <span style=\"background-color: #9f9fff\"; title=\"-0.38\">раньше</span> <span style=\"background-color: #ffffff\"; title=\"0.00\">у</span> <span style=\"background-color: #ffffff\"; title=\"0.00\">меня</span> <span style=\"background-color: #c7c7ff\"; title=\"-0.22\">это</span> <span style=\"background-color: #ffffff\"; title=\"0.00\">было</span> <span style=\"background-color: #fcfcff\"; title=\"-0.01\">е</span> <span style=\"background-color: #6161ff\"; title=\"-0.62\">число</span> <span style=\"background-color: #ffb3b3\"; title=\"0.72\">каждого</span> <span style=\"background-color: #d3d3ff\"; title=\"-0.17\">месяца</span> <span style=\"background-color: #f2f2ff\"; title=\"-0.05\">ночью</span> <span style=\"background-color: #ffe3e3\"; title=\"0.26\">наступил</span> <span style=\"background-color: #ffffff\"; title=\"0.00\">он</span> <span style=\"background-color: #9c9cff\"; title=\"-0.39\">последний</span> <span style=\"background-color: #b6b6ff\"; title=\"-0.28\">месяц</span> <span style=\"background-color: #ffffff\"; title=\"0.00\">и</span> <span style=\"background-color: #9c9cff\"; title=\"-0.39\">последний</span> <span style=\"background-color: #ffffff\"; title=\"0.00\">же</span> <span style=\"background-color: #d6d6ff\"; title=\"-0.16\">платёж</span> <span style=\"background-color: #ffffff\"; title=\"0.00\">по</span> <span style=\"background-color: #a5a5ff\"; title=\"-0.36\">кредиту</span> <span style=\"background-color: #ffffff\"; title=\"0.00\">а</span> <span style=\"background-color: #fffafa\"; title=\"0.04\">именно</span> <span style=\"background-color: #eaeaff\"; title=\"-0.08\">март</span> <span style=\"background-color: #e7e7ff\"; title=\"-0.09\">го</span> <span style=\"background-color: #ffffff\"; title=\"0.00\">я</span> <span style=\"background-color: #ffffff\"; title=\"0.00\">не</span> <span style=\"background-color: #fff8f8\"; title=\"0.06\">допустил</span> <span style=\"background-color: #ffffff\"; title=\"0.00\">ни</span> <span style=\"background-color: #b8b8ff\"; title=\"-0.28\">единой</span> <span style=\"background-color: #fffdfd\"; title=\"0.02\">просрочки</span> <span style=\"background-color: #ffffff\"; title=\"0.00\">по</span> <span style=\"background-color: #f6f6ff\"; title=\"-0.03\">платежам</span> <span style=\"background-color: #ffffff\"; title=\"0.00\">и</span> <span style=\"background-color: #9b9bff\"; title=\"-0.39\">естественно</span> <span style=\"background-color: #ffffff\"; title=\"0.00\">был</span> <span style=\"background-color: #ffffff\"; title=\"0.00\">в</span> <span style=\"background-color: #f4f4ff\"; title=\"-0.04\">предвкушении</span> <span style=\"background-color: #fff2f2\"; title=\"0.12\">приятных</span> <span style=\"background-color: #b0b0ff\"; title=\"-0.31\">эмоций</span> <span style=\"background-color: #ffffff\"; title=\"0.00\">от</span> <span style=\"background-color: #dadaff\"; title=\"-0.14\">понижения</span> <span style=\"background-color: #fbfbff\"; title=\"-0.01\">процентной</span> <span style=\"background-color: #ffe3e3\"; title=\"0.26\">ставки</span> <span style=\"background-color: #ffffff\"; title=\"0.00\">и</span> <span style=\"background-color: #ddddff\"; title=\"-0.13\">возврате</span> <span style=\"background-color: #f9f9ff\"; title=\"-0.02\">рублей</span> <span style=\"background-color: #ffffff\"; title=\"0.00\">у</span> <span style=\"background-color: #ffffff\"; title=\"0.00\">меня</span> <span style=\"background-color: #ffffff\"; title=\"0.00\">в</span> <span style=\"background-color: #ffecec\"; title=\"0.17\">мобильном</span> <span style=\"background-color: #ffdfdf\"; title=\"0.29\">приложении</span> <span style=\"background-color: #fafaff\"; title=\"-0.02\">почта</span> <span style=\"background-color: #d7d7ff\"; title=\"-0.16\">банка</span> <span style=\"background-color: #ffffff\"; title=\"0.00\">был</span> <span style=\"background-color: #ffdfdf\"; title=\"0.30\">написан</span> <span style=\"background-color: #9c9cff\"; title=\"-0.39\">последний</span> <span style=\"background-color: #d6d6ff\"; title=\"-0.16\">платёж</span> <span style=\"background-color: #ffffff\"; title=\"0.00\">в</span> <span style=\"background-color: #a6a6ff\"; title=\"-0.35\">сумме</span> <span style=\"background-color: #bfbfff\"; title=\"-0.25\">рубля</span> <span style=\"background-color: #e8e8ff\"; title=\"-0.09\">копеек</span> <span style=\"background-color: #ffffff\"; title=\"0.00\">как</span> <span style=\"background-color: #ffffff\"; title=\"0.00\">и</span> <span style=\"background-color: #9c9cff\"; title=\"-0.39\">говорил</span> <span style=\"background-color: #8484ff\"; title=\"-0.48\">ранее</span> <span style=\"background-color: #ffffff\"; title=\"0.00\">он</span> <span style=\"background-color: #ffffff\"; title=\"0.00\">чуть</span> <span style=\"background-color: #ffe5e5\"; title=\"0.24\">меньше</span> <span style=\"background-color: #e2e2ff\"; title=\"-0.11\">предыдущих</span> <span style=\"background-color: #c1c1ff\"; title=\"-0.24\">обратите</span> <span style=\"background-color: #ababff\"; title=\"-0.33\">внимание</span> <span style=\"background-color: #ffffff\"; title=\"0.00\">на</span> <span style=\"background-color: #ffffff\"; title=\"0.00\">эту</span> <span style=\"background-color: #fff1f1\"; title=\"0.13\">цифру</span> <span style=\"background-color: #ffffff\"; title=\"0.00\">на</span> <span style=\"background-color: #fff5f5\"; title=\"0.09\">моём</span> <span style=\"background-color: #cfcfff\"; title=\"-0.19\">счёте</span> <span style=\"background-color: #ffffff\"; title=\"0.00\">от</span> <span style=\"background-color: #ceceff\"; title=\"-0.19\">последних</span> <span style=\"background-color: #c9c9ff\"; title=\"-0.21\">платежей</span> <span style=\"background-color: #f8f8ff\"; title=\"-0.02\">оставались</span> <span style=\"background-color: #fdfdff\"; title=\"-0.01\">какие</span> <span style=\"background-color: #ffffff\"; title=\"0.00\">то</span> <span style=\"background-color: #fff9f9\"; title=\"0.05\">рубли</span> <span style=\"background-color: #ffffff\"; title=\"0.00\">я</span> <span style=\"background-color: #9b9bff\"; title=\"-0.39\">естественно</span> <span style=\"background-color: #cacaff\"; title=\"-0.21\">накануне</span> <span style=\"background-color: #9292ff\"; title=\"-0.43\">последнего</span> <span style=\"background-color: #fffdfd\"; title=\"0.01\">списания</span> <span style=\"background-color: #fffafa\"; title=\"0.04\">кладу</span> <span style=\"background-color: #ffffff\"; title=\"0.00\">на</span> <span style=\"background-color: #d8d8ff\"; title=\"-0.15\">счёт</span> <span style=\"background-color: #ffffff\"; title=\"0.00\">округляя</span> <span style=\"background-color: #ffffff\"; title=\"0.00\">в</span> <span style=\"background-color: #fff1f1\"; title=\"0.13\">большую</span> <span style=\"background-color: #ffecec\"; title=\"0.18\">сторону</span> <span style=\"background-color: #ffffff\"; title=\"0.00\">на</span> <span style=\"background-color: #fff9f9\"; title=\"0.05\">всякий</span> <span style=\"background-color: #fff9f9\"; title=\"0.05\">случай</span> <span style=\"background-color: #f9f9ff\"; title=\"-0.02\">рублей</span> <span style=\"background-color: #ffffff\"; title=\"0.00\">чего</span> <span style=\"background-color: #ffffff\"; title=\"0.00\">в</span> <span style=\"background-color: #fff5f5\"; title=\"0.09\">моём</span> <span style=\"background-color: #dbdbff\"; title=\"-0.14\">понимании</span> <span style=\"background-color: #ffb7b7\"; title=\"0.68\">вполне</span> <span style=\"background-color: #e9e9ff\"; title=\"-0.08\">хватает</span> <span style=\"background-color: #ffffff\"; title=\"0.00\">для</span> <span style=\"background-color: #fffafa\"; title=\"0.04\">погашения</span> <span style=\"background-color: #ebebff\"; title=\"-0.08\">кредита</span> <span style=\"background-color: #ffffff\"; title=\"0.00\">и</span> <span style=\"background-color: #f0f0ff\"; title=\"-0.06\">обещанного</span> <span style=\"background-color: #fafaff\"; title=\"-0.02\">почта</span> <span style=\"background-color: #d0d0ff\"; title=\"-0.18\">банком</span> <span style=\"background-color: #dadaff\"; title=\"-0.14\">понижения</span> <span style=\"background-color: #f9f9ff\"; title=\"-0.02\">гарантированной</span> <span style=\"background-color: #ffe3e3\"; title=\"0.26\">ставки</span> <span style=\"background-color: #ffffff\"; title=\"0.00\">с</span> <span style=\"background-color: #fffcfc\"; title=\"0.02\">последующей</span> <span style=\"background-color: #e6e6ff\"; title=\"-0.09\">выплатой</span> <span style=\"background-color: #ffffff\"; title=\"0.00\">мне</span> <span style=\"background-color: #ffffff\"; title=\"0.00\">надлежащей</span> <span style=\"background-color: #e2e2ff\"; title=\"-0.11\">суммы</span> <span style=\"background-color: #b4b4ff\"; title=\"-0.29\">наступило</span> <span style=\"background-color: #fcfcff\"; title=\"-0.01\">е</span> <span style=\"background-color: #f7f7ff\"; title=\"-0.03\">марта</span> <span style=\"background-color: #ffffff\"; title=\"0.00\">и</span> <span style=\"background-color: #ffffff\"; title=\"0.00\">я</span> <span style=\"background-color: #ffffff\"; title=\"0.00\">пребывал</span> <span style=\"background-color: #ffffff\"; title=\"0.00\">в</span> <span style=\"background-color: #d0d0ff\"; title=\"-0.18\">полной</span> <span style=\"background-color: #d6d6ff\"; title=\"-0.16\">уверенности</span> <span style=\"background-color: #ffffff\"; title=\"0.00\">в</span> <span style=\"background-color: #ffffff\"; title=\"0.00\">том</span> <span style=\"background-color: #ffffff\"; title=\"0.00\">что</span> <span style=\"background-color: #e3e3ff\"; title=\"-0.11\">кредит</span> <span style=\"background-color: #9e9eff\"; title=\"-0.38\">погашен</span> <span style=\"background-color: #ffffff\"; title=\"0.00\">и</span> <span style=\"background-color: #ffffff\"; title=\"0.00\">мне</span> <span style=\"background-color: #ffffff\"; title=\"0.00\">вот</span> <span style=\"background-color: #ffffff\"; title=\"0.00\">вот</span> <span style=\"background-color: #ffffff\"; title=\"0.00\">капнут</span> <span style=\"background-color: #f2f2ff\"; title=\"-0.05\">заветные</span> <span style=\"background-color: #fafaff\"; title=\"-0.02\">деньги</span> <span style=\"background-color: #ffffff\"; title=\"0.00\">от</span> <span style=\"background-color: #fafaff\"; title=\"-0.02\">почта</span> <span style=\"background-color: #d7d7ff\"; title=\"-0.16\">банка</span> <span style=\"background-color: #ffffff\"; title=\"0.00\">но</span> <span style=\"background-color: #ffffff\"; title=\"0.00\">не</span> <span style=\"background-color: #ffffff\"; title=\"0.00\">в</span> <span style=\"background-color: #ffffff\"; title=\"0.00\">этот</span> <span style=\"background-color: #fff2f2\"; title=\"0.12\">день</span> <span style=\"background-color: #ffffff\"; title=\"0.00\">не</span> <span style=\"background-color: #ffffff\"; title=\"0.00\">на</span> <span style=\"background-color: #ffc1c1\"; title=\"0.58\">следующий</span> <span style=\"background-color: #e5e5ff\"; title=\"-0.10\">никаких</span> <span style=\"background-color: #e1e1ff\"; title=\"-0.12\">уведомлений</span> <span style=\"background-color: #ffffff\"; title=\"0.00\">о</span> <span style=\"background-color: #ffb3b3\"; title=\"0.71\">поступлении</span> <span style=\"background-color: #d1d1ff\"; title=\"-0.18\">денег</span> <span style=\"background-color: #ffffff\"; title=\"0.00\">я</span> <span style=\"background-color: #ffffff\"; title=\"0.00\">не</span> <span style=\"background-color: #ccccff\"; title=\"-0.20\">дождался</span> <span style=\"background-color: #ffffff\"; title=\"0.00\">тогда</span> <span style=\"background-color: #ffffff\"; title=\"0.00\">я</span> <span style=\"background-color: #ffdfdf\"; title=\"0.29\">решил</span> <span style=\"background-color: #bcbcff\"; title=\"-0.26\">открыть</span> <span style=\"background-color: #fff0f0\"; title=\"0.14\">мобильное</span> <span style=\"background-color: #ffe8e8\"; title=\"0.22\">приложение</span> <span style=\"background-color: #ffffff\"; title=\"0.00\">и</span> <span style=\"background-color: #f1f1ff\"; title=\"-0.05\">проверить</span> <span style=\"background-color: #ffffff\"; title=\"0.00\">может</span> <span style=\"background-color: #ffe9e9\"; title=\"0.21\">обещанные</span> <span style=\"background-color: #fff6f6\"; title=\"0.08\">средства</span> <span style=\"background-color: #ffffff\"; title=\"0.00\">уже</span> <span style=\"background-color: #ffffff\"; title=\"0.00\">покоятся</span> <span style=\"background-color: #ffffff\"; title=\"0.00\">на</span> <span style=\"background-color: #fff5f5\"; title=\"0.09\">моём</span> <span style=\"background-color: #cfcfff\"; title=\"-0.19\">счёте</span> <span style=\"background-color: #ffffff\"; title=\"0.00\">а</span> <span style=\"background-color: #ffffff\"; title=\"0.00\">я</span> <span style=\"background-color: #ffffff\"; title=\"0.00\">и</span> <span style=\"background-color: #ffffff\"; title=\"0.00\">не</span> <span style=\"background-color: #ffffff\"; title=\"0.00\">в</span> <span style=\"background-color: #a5a5ff\"; title=\"-0.35\">курсе</span> <span style=\"background-color: #9a9aff\"; title=\"-0.40\">открывается</span> <span style=\"background-color: #ffe8e8\"; title=\"0.22\">приложение</span> <span style=\"background-color: #ffffff\"; title=\"0.00\">и</span> <span style=\"background-color: #e1e1ff\"; title=\"-0.12\">ваша</span> <span style=\"background-color: #d0d0ff\"; title=\"-0.18\">задолженность</span> <span style=\"background-color: #ffffff\"; title=\"0.00\">по</span> <span style=\"background-color: #a5a5ff\"; title=\"-0.36\">кредиту</span> <span style=\"background-color: #f0f0ff\"; title=\"-0.06\">составляет</span> <span style=\"background-color: #f9f9ff\"; title=\"-0.02\">рублей</span> <span style=\"background-color: #f9f9ff\"; title=\"-0.02\">рублей</span> <span style=\"background-color: #adadff\"; title=\"-0.32\">карл</span> <span style=\"background-color: #ffffff\"; title=\"0.00\">в</span> <span style=\"background-color: #ffecec\"; title=\"0.17\">мобильном</span> <span style=\"background-color: #ffdfdf\"; title=\"0.29\">приложении</span> <span style=\"background-color: #9c9cff\"; title=\"-0.39\">последний</span> <span style=\"background-color: #d6d6ff\"; title=\"-0.16\">платёж</span> <span style=\"background-color: #ffffff\"; title=\"0.00\">был</span> <span style=\"background-color: #f6f6ff\"; title=\"-0.03\">равен</span> <span style=\"background-color: #ffd9d9\"; title=\"0.35\">начинаю</span> <span style=\"background-color: #cacaff\"; title=\"-0.21\">выяснять</span> <span style=\"background-color: #ffffff\"; title=\"0.00\">что</span> <span style=\"background-color: #ffffff\"; title=\"0.00\">за</span> <span style=\"background-color: #c3c3ff\"; title=\"-0.24\">выясняю</span> <span style=\"background-color: #ffffff\"; title=\"0.00\">что</span> <span style=\"background-color: #fafaff\"; title=\"-0.02\">почта</span> <span style=\"background-color: #dbdbff\"; title=\"-0.14\">банк</span> <span style=\"background-color: #d9d9ff\"; title=\"-0.15\">делает</span> <span style=\"background-color: #ffdcdc\"; title=\"0.33\">всё</span> <span style=\"background-color: #fff5f5\"; title=\"0.09\">возможное</span> <span style=\"background-color: #ffffff\"; title=\"0.00\">и</span> <span style=\"background-color: #fffdfd\"; title=\"0.01\">идёт</span> <span style=\"background-color: #ffffff\"; title=\"0.00\">на</span> <span style=\"background-color: #ffe8e8\"; title=\"0.21\">любые</span> <span style=\"background-color: #f8f8ff\"; title=\"-0.03\">ухищрения</span> <span style=\"background-color: #fcfcff\"; title=\"-0.01\">дабы</span> <span style=\"background-color: #fffbfb\"; title=\"0.04\">заёмщик</span> <span style=\"background-color: #ffffff\"; title=\"0.00\">не</span> <span style=\"background-color: #f6f6ff\"; title=\"-0.03\">желая</span> <span style=\"background-color: #ffffff\"; title=\"0.00\">того</span> <span style=\"background-color: #fff8f8\"; title=\"0.06\">допустил</span> <span style=\"background-color: #8d8dff\"; title=\"-0.45\">просрочку</span> <span style=\"background-color: #ffffff\"; title=\"0.00\">по</span> <span style=\"background-color: #ffdada\"; title=\"0.35\">платежу</span> <span style=\"background-color: #f9f9ff\"; title=\"-0.02\">оказывается</span> <span style=\"background-color: #ffffff\"; title=\"0.00\">в</span> <span style=\"background-color: #ffecec\"; title=\"0.17\">мобильном</span> <span style=\"background-color: #ffdfdf\"; title=\"0.29\">приложении</span> <span style=\"background-color: #ffe6e6\"; title=\"0.23\">намерено</span> <span style=\"background-color: #ffffff\"; title=\"0.00\">как</span> <span style=\"background-color: #ffffff\"; title=\"0.00\">я</span> <span style=\"background-color: #bdbdff\"; title=\"-0.26\">считаю</span> <span style=\"background-color: #ffffff\"; title=\"0.00\">и</span> <span style=\"background-color: #ffdede\"; title=\"0.31\">уверен</span> <span style=\"background-color: #ffffff\"; title=\"0.00\">в</span> <span style=\"background-color: #ffffff\"; title=\"0.00\">этом</span> <span style=\"background-color: #ffffff\"; title=\"0.00\">не</span> <span style=\"background-color: #ffffff\"; title=\"0.00\">была</span> <span style=\"background-color: #f5f5ff\"; title=\"-0.04\">указана</span> <span style=\"background-color: #f9f9ff\"; title=\"-0.02\">сумма</span> <span style=\"background-color: #ceceff\"; title=\"-0.19\">последних</span> <span style=\"background-color: #fff4f4\"; title=\"0.10\">процентов</span> <span style=\"background-color: #ffffff\"; title=\"0.00\">по</span> <span style=\"background-color: #a5a5ff\"; title=\"-0.36\">кредиту</span> <span style=\"background-color: #f8f8ff\"; title=\"-0.02\">которая</span> <span style=\"background-color: #ffffff\"; title=\"0.00\">в</span> <span style=\"background-color: #fff1f1\"; title=\"0.12\">последнем</span> <span style=\"background-color: #ffd5d5\"; title=\"0.40\">платеже</span> <span style=\"background-color: #eeeeff\"; title=\"-0.06\">равнялась</span> <span style=\"background-color: #bfbfff\"; title=\"-0.25\">рубля</span> <span style=\"background-color: #e8e8ff\"; title=\"-0.09\">копеек</span> <span style=\"background-color: #ffffff\"; title=\"0.00\">и</span> <span style=\"background-color: #f8f8ff\"; title=\"-0.02\">которая</span> <span style=\"background-color: #fff5f5\"; title=\"0.09\">должна</span> <span style=\"background-color: #ffffff\"; title=\"0.00\">была</span> <span style=\"background-color: #ffffff\"; title=\"0.00\">быть</span> <span style=\"background-color: #f5f5ff\"; title=\"-0.04\">указана</span> <span style=\"background-color: #ffffff\"; title=\"0.00\">с</span> <span style=\"background-color: #b9b9ff\"; title=\"-0.27\">основной</span> <span style=\"background-color: #ffbfbf\"; title=\"0.60\">суммой</span> <span style=\"background-color: #fffcfc\"; title=\"0.02\">долга</span> <span style=\"background-color: #fbfbff\"; title=\"-0.01\">равной</span> <span style=\"background-color: #b6b6ff\"; title=\"-0.29\">итого</span> <span style=\"background-color: #e3e3ff\"; title=\"-0.11\">последняя</span> <span style=\"background-color: #f9f9ff\"; title=\"-0.02\">сумма</span> <span style=\"background-color: #fff8f8\"; title=\"0.06\">платежа</span> <span style=\"background-color: #ffffff\"; title=\"0.00\">по</span> <span style=\"background-color: #ffe5e5\"; title=\"0.24\">моему</span> <span style=\"background-color: #a5a5ff\"; title=\"-0.36\">кредиту</span> <span style=\"background-color: #eeeeff\"; title=\"-0.06\">равнялась</span> <span style=\"background-color: #f9f9ff\"; title=\"-0.02\">рублей</span> <span style=\"background-color: #ffeeee\"; title=\"0.16\">копейки</span> <span style=\"background-color: #b3b3ff\"; title=\"-0.30\">напомню</span> <span style=\"background-color: #ffffff\"; title=\"0.00\">что</span> <span style=\"background-color: #ffffff\"; title=\"0.00\">у</span> <span style=\"background-color: #ffffff\"; title=\"0.00\">меня</span> <span style=\"background-color: #f8f8ff\"; title=\"-0.02\">оставались</span> <span style=\"background-color: #fdfdff\"; title=\"-0.01\">какие</span> <span style=\"background-color: #ffffff\"; title=\"0.00\">то</span> <span style=\"background-color: #fff9f9\"; title=\"0.05\">рубли</span> <span style=\"background-color: #ffffff\"; title=\"0.00\">на</span> <span style=\"background-color: #cfcfff\"; title=\"-0.19\">счёте</span> <span style=\"background-color: #ffffff\"; title=\"0.00\">и</span> <span style=\"background-color: #ffcaca\"; title=\"0.50\">поэтому</span> <span style=\"background-color: #fff9f9\"; title=\"0.05\">недостающая</span> <span style=\"background-color: #f9f9ff\"; title=\"-0.02\">сумма</span> <span style=\"background-color: #ffe6e6\"; title=\"0.23\">составила</span> <span style=\"background-color: #f9f9ff\"; title=\"-0.02\">рублей</span> <span style=\"background-color: #ffffff\"; title=\"0.00\">с</span> <span style=\"background-color: #ffe0e0\"; title=\"0.29\">копейками</span> <span style=\"background-color: #ffffff\"; title=\"0.00\">как</span> <span style=\"background-color: #ffffff\"; title=\"0.00\">по</span> <span style=\"background-color: #6363ff\"; title=\"-0.61\">вашему</span> <span style=\"background-color: #e0e0ff\"; title=\"-0.12\">оплачивая</span> <span style=\"background-color: #e3e3ff\"; title=\"-0.11\">кредит</span> <span style=\"background-color: #ffffff\"; title=\"0.00\">на</span> <span style=\"background-color: #e0e0ff\"; title=\"-0.12\">протяжении</span> <span style=\"background-color: #fff5f5\"; title=\"0.09\">лет</span> <span style=\"background-color: #ffffff\"; title=\"0.00\">по</span> <span style=\"background-color: #c9c9ff\"; title=\"-0.21\">ежемесячно</span> <span style=\"background-color: #ffffff\"; title=\"0.00\">и</span> <span style=\"background-color: #ffffff\"; title=\"0.00\">питая</span> <span style=\"background-color: #f3f3ff\"; title=\"-0.05\">надежду</span> <span style=\"background-color: #ffffff\"; title=\"0.00\">на</span> <span style=\"background-color: #fff5f5\"; title=\"0.09\">получение</span> <span style=\"background-color: #ffeeee\"; title=\"0.15\">возврат</span> <span style=\"background-color: #acacff\"; title=\"-0.33\">тысяч</span> <span style=\"background-color: #f9f9ff\"; title=\"-0.02\">рублей</span> <span style=\"background-color: #ffffff\"; title=\"0.00\">я</span> <span style=\"background-color: #ffdfdf\"; title=\"0.29\">решил</span> <span style=\"background-color: #d1d1ff\"; title=\"-0.18\">зажать</span> <span style=\"background-color: #f9f9ff\"; title=\"-0.02\">рублей</span> <span style=\"background-color: #ffffff\"; title=\"0.00\">мой</span> <span style=\"background-color: #fff9f9\"; title=\"0.05\">случай</span> <span style=\"background-color: #ffffff\"; title=\"0.00\">не</span> <span style=\"background-color: #d0d0ff\"; title=\"-0.18\">единичный</span> <span style=\"background-color: #ffffff\"; title=\"0.00\">углубившись</span> <span style=\"background-color: #ffffff\"; title=\"0.00\">в</span> <span style=\"background-color: #e0e0ff\"; title=\"-0.12\">вопрос</span> <span style=\"background-color: #ffffff\"; title=\"0.00\">и</span> <span style=\"background-color: #ffffff\"; title=\"0.00\">проштудировав</span> <span style=\"background-color: #fffbfb\"; title=\"0.03\">интернет</span> <span style=\"background-color: #ffc8c8\"; title=\"0.52\">обнаружил</span> <span style=\"background-color: #ffffff\"; title=\"0.00\">что</span> <span style=\"background-color: #f6f6ff\"; title=\"-0.03\">данная</span> <span style=\"background-color: #c5c5ff\"; title=\"-0.23\">практика</span> <span style=\"background-color: #ffffff\"; title=\"0.00\">в</span> <span style=\"background-color: #fafaff\"; title=\"-0.02\">почта</span> <span style=\"background-color: #d0d0ff\"; title=\"-0.19\">банке</span> <span style=\"background-color: #fff5f5\"; title=\"0.09\">имеет</span> <span style=\"background-color: #e1e1ff\"; title=\"-0.12\">массовый</span> <span style=\"background-color: #e1e1ff\"; title=\"-0.12\">характер</span> <span style=\"background-color: #dcdcff\"; title=\"-0.14\">могу</span> <span style=\"background-color: #bfbfff\"; title=\"-0.25\">привести</span> <span style=\"background-color: #a6a6ff\"; title=\"-0.35\">кучу</span> <span style=\"background-color: #c9c9ff\"; title=\"-0.21\">ссылок</span> <span style=\"background-color: #ffffff\"; title=\"0.00\">на</span> <span style=\"background-color: #ffffff\"; title=\"0.00\">то</span> <span style=\"background-color: #ffffff\"; title=\"0.00\">где</span> <span style=\"background-color: #fff5f5\"; title=\"0.09\">люди</span> <span style=\"background-color: #f3f3ff\"; title=\"-0.05\">описывают</span> <span style=\"background-color: #ffffff\"; title=\"0.00\">и</span> <span style=\"background-color: #fff3f3\"; title=\"0.11\">рассказывают</span> <span style=\"background-color: #ffffff\"; title=\"0.00\">почти</span> <span style=\"background-color: #c9c9ff\"; title=\"-0.21\">слово</span> <span style=\"background-color: #ffffff\"; title=\"0.00\">в</span> <span style=\"background-color: #c9c9ff\"; title=\"-0.21\">слово</span> <span style=\"background-color: #ffffff\"; title=\"0.00\">с</span> <span style=\"background-color: #ffe7e7\"; title=\"0.22\">моей</span> <span style=\"background-color: #b9b9ff\"; title=\"-0.27\">ситуацией</span> <span style=\"background-color: #ffffff\"; title=\"0.00\">у</span> <span style=\"background-color: #d7d7ff\"; title=\"-0.16\">кого</span> <span style=\"background-color: #ffffff\"; title=\"0.00\">в</span> <span style=\"background-color: #9c9cff\"; title=\"-0.39\">последний</span> <span style=\"background-color: #d6d6ff\"; title=\"-0.16\">платёж</span> <span style=\"background-color: #ffe8e8\"; title=\"0.22\">приложение</span> <span style=\"background-color: #ffffff\"; title=\"0.00\">переставало</span> <span style=\"background-color: #fafaff\"; title=\"-0.02\">работать</span> <span style=\"background-color: #ffffff\"; title=\"0.00\">и</span> <span style=\"background-color: #fbfbff\"; title=\"-0.01\">появлялась</span> <span style=\"background-color: #c5c5ff\"; title=\"-0.23\">просрочка</span> <span style=\"background-color: #ffffff\"; title=\"0.00\">у</span> <span style=\"background-color: #d7d7ff\"; title=\"-0.16\">кого</span> <span style=\"background-color: #ffffff\"; title=\"0.00\">еще</span> <span style=\"background-color: #ffffff\"; title=\"0.00\">что</span> <span style=\"background-color: #ffffff\"; title=\"0.00\">то</span> <span style=\"background-color: #fff8f8\"; title=\"0.06\">случалось</span> <span style=\"background-color: #ffffff\"; title=\"0.00\">и</span> <span style=\"background-color: #c7c7ff\"; title=\"-0.22\">это</span> <span style=\"background-color: #e8e8ff\"; title=\"-0.09\">происходило</span> <span style=\"background-color: #ffffff\"; title=\"0.00\">у</span> <span style=\"background-color: #ffffff\"; title=\"0.00\">всех</span> <span style=\"background-color: #ffffff\"; title=\"0.00\">в</span> <span style=\"background-color: #9c9cff\"; title=\"-0.39\">последний</span> <span style=\"background-color: #b6b6ff\"; title=\"-0.28\">месяц</span> <span style=\"background-color: #fff8f8\"; title=\"0.06\">платежа</span> <span style=\"background-color: #fafaff\"; title=\"-0.02\">апреля</span> <span style=\"background-color: #fffbfb\"; title=\"0.03\">сего</span> <span style=\"background-color: #fff6f6\"; title=\"0.08\">года</span> <span style=\"background-color: #c9c9ff\"; title=\"-0.21\">написал</span> <span style=\"background-color: #bebeff\"; title=\"-0.26\">претензию</span> <span style=\"background-color: #ffffff\"; title=\"0.00\">в</span> <span style=\"background-color: #dbdbff\"; title=\"-0.14\">банк</span> <span style=\"background-color: #ffffff\"; title=\"0.00\">за</span> <span style=\"background-color: #ffd5d5\"; title=\"0.40\">номером</span> <span style=\"background-color: #d3d3ff\"; title=\"-0.17\">резюме</span> <span style=\"background-color: #adadff\"; title=\"-0.32\">бегите</span> <span style=\"background-color: #ffffff\"; title=\"0.00\">глупцы</span> <span style=\"background-color: #fafaff\"; title=\"-0.02\">почта</span> <span style=\"background-color: #dbdbff\"; title=\"-0.14\">банк</span> <span style=\"background-color: #d9d9ff\"; title=\"-0.15\">делает</span> <span style=\"background-color: #ffdcdc\"; title=\"0.33\">всё</span> <span style=\"background-color: #fcfcff\"; title=\"-0.01\">дабы</span> <span style=\"background-color: #ffffff\"; title=\"0.00\">не</span> <span style=\"background-color: #ffdddd\"; title=\"0.32\">выполнять</span> <span style=\"background-color: #d3d3ff\"; title=\"-0.17\">свои</span> <span style=\"background-color: #c9c9ff\"; title=\"-0.21\">обещания</span> <span style=\"background-color: #ffffff\"; title=\"0.00\">и</span> <span style=\"background-color: #aeaeff\"; title=\"-0.32\">обязательства</span> <span style=\"background-color: #9f9fff\"; title=\"-0.38\">людей</span> <span style=\"background-color: #c8c8ff\"; title=\"-0.22\">вводят</span> <span style=\"background-color: #ffffff\"; title=\"0.00\">в</span> <span style=\"background-color: #4747ff\"; title=\"-0.72\">заблуждение</span> <span style=\"background-color: #f2f2ff\"; title=\"-0.05\">навязывают</span> <span style=\"background-color: #bfbfff\"; title=\"-0.25\">абсолютно</span> <span style=\"background-color: #eeeeff\"; title=\"-0.07\">лишние</span> <span style=\"background-color: #ffffff\"; title=\"0.00\">и</span> <span style=\"background-color: #cacaff\"; title=\"-0.21\">ненужные</span> <span style=\"background-color: #ffffff\"; title=\"0.00\">им</span> <span style=\"background-color: #fefeff\"; title=\"-0.00\">услуги</span> <span style=\"background-color: #fafaff\"; title=\"-0.02\">лгут</span> <span style=\"background-color: #00ff\"; title=\"-1.01\">никому</span> <span style=\"background-color: #ffffff\"; title=\"0.00\">не</span> <span style=\"background-color: #ffdcdc\"; title=\"0.32\">рекомендую</span> <span style=\"background-color: #5252ff\"; title=\"-0.68\">связываться</span> <span style=\"background-color: #ffffff\"; title=\"0.00\">с</span> <span style=\"background-color: #fafaff\"; title=\"-0.02\">почта</span> <span style=\"background-color: #d0d0ff\"; title=\"-0.18\">банком</span> </p>"
      ],
      "text/plain": [
       "<IPython.core.display.HTML object>"
      ]
     },
     "metadata": {},
     "output_type": "display_data"
    },
    {
     "name": "stdout",
     "output_type": "stream",
     "text": [
      "rating: 4\n",
      "predicted proba: 1.7047224163873442e-08\n"
     ]
    },
    {
     "data": {
      "text/html": [
       "\n",
       "    <p style=\"font-size:16px; color:#000000; border: 2px solid #000; text-align: justify; background-color:#ffffff; border-radius: 25px; padding: 20px;\">\n",
       "    <span style=\"background-color: #ffb9b9\"; title=\"0.66\">хотелось</span> <span style=\"background-color: #ffffff\"; title=\"0.00\">бы</span> <span style=\"background-color: #ffdede\"; title=\"0.31\">поделиться</span> <span style=\"background-color: #fffcfc\"; title=\"0.02\">мыслями</span> <span style=\"background-color: #ffffff\"; title=\"0.00\">о</span> <span style=\"background-color: #ffd3d3\"; title=\"0.41\">работе</span> <span style=\"background-color: #ffdddd\"; title=\"0.31\">регионального</span> <span style=\"background-color: #f0f0ff\"; title=\"-0.06\">отделения</span> <span style=\"background-color: #d7d7ff\"; title=\"-0.16\">банка</span> <span style=\"background-color: #ababff\"; title=\"-0.33\">открытие</span> <span style=\"background-color: #a7a7ff\"; title=\"-0.34\">просьба</span> <span style=\"background-color: #f4f4ff\"; title=\"-0.04\">администрации</span> <span style=\"background-color: #fdfdff\"; title=\"-0.01\">форума</span> <span style=\"background-color: #b8b8ff\"; title=\"-0.28\">самостоятельно</span> <span style=\"background-color: #fff2f2\"; title=\"0.12\">поставить</span> <span style=\"background-color: #ffe0e0\"; title=\"0.29\">оценку</span> <span style=\"background-color: #ffffff\"; title=\"0.00\">у</span> <span style=\"background-color: #ffffff\"; title=\"0.00\">меня</span> <span style=\"background-color: #ffffff\"; title=\"0.00\">их</span> <span style=\"background-color: #bbbbff\"; title=\"-0.27\">две</span> <span style=\"background-color: #ffffff\"; title=\"0.00\">от</span> <span style=\"background-color: #ffd9d9\"; title=\"0.35\">отлично</span> <span style=\"background-color: #ffffff\"; title=\"0.00\">до</span> <span style=\"background-color: #eeeeff\"; title=\"-0.07\">единицы</span> <span style=\"background-color: #ffffff\"; title=\"0.00\">а</span> <span style=\"background-color: #ffffff\"; title=\"0.00\">три</span> <span style=\"background-color: #f6f6ff\"; title=\"-0.04\">явно</span> <span style=\"background-color: #ffffff\"; title=\"0.00\">не</span> <span style=\"background-color: #e9e9ff\"; title=\"-0.08\">подходит</span> <span style=\"background-color: #dedeff\"; title=\"-0.13\">ситуация</span> <span style=\"background-color: #ffffff\"; title=\"0.00\">у</span> <span style=\"background-color: #ffffff\"; title=\"0.00\">меня</span> <span style=\"background-color: #ffffff\"; title=\"0.00\">есть</span> <span style=\"background-color: #c9c9ff\"; title=\"-0.21\">дебетовая</span> <span style=\"background-color: #ffeded\"; title=\"0.17\">карта</span> <span style=\"background-color: #d7d7ff\"; title=\"-0.16\">банка</span> <span style=\"background-color: #ffc9c9\"; title=\"0.50\">недавно</span> <span style=\"background-color: #ffefef\"; title=\"0.14\">появилась</span> <span style=\"background-color: #bfbfff\"; title=\"-0.25\">замечательная</span> <span style=\"background-color: #ffd7d7\"; title=\"0.37\">возможность</span> <span style=\"background-color: #a9a9ff\"; title=\"-0.34\">её</span> <span style=\"background-color: #eaeaff\"; title=\"-0.08\">пополнять</span> <span style=\"background-color: #ffffff\"; title=\"0.00\">через</span> <span style=\"background-color: #d0d0ff\"; title=\"-0.18\">систему</span> <span style=\"background-color: #6e6eff\"; title=\"-0.57\">быстрых</span> <span style=\"background-color: #c9c9ff\"; title=\"-0.21\">платежей</span> <span style=\"background-color: #ffffff\"; title=\"0.00\">чем</span> <span style=\"background-color: #ffffff\"; title=\"0.00\">я</span> <span style=\"background-color: #ffffff\"; title=\"0.00\">и</span> <span style=\"background-color: #ffdfdf\"; title=\"0.29\">решил</span> <span style=\"background-color: #8a8aff\"; title=\"-0.46\">воспользоваться</span> <span style=\"background-color: #ffffff\"; title=\"0.00\">в</span> <span style=\"background-color: #ffdfdf\"; title=\"0.29\">приложении</span> <span style=\"background-color: #fffcfc\"; title=\"0.03\">поставил</span> <span style=\"background-color: #fbfbff\"; title=\"-0.02\">галочку</span> <span style=\"background-color: #ffffff\"; title=\"0.00\">в</span> <span style=\"background-color: #fff8f8\"; title=\"0.06\">настройках</span> <span style=\"background-color: #ffffff\"; title=\"0.00\">даже</span> <span style=\"background-color: #ffd5d5\"; title=\"0.39\">установил</span> <span style=\"background-color: #dbdbff\"; title=\"-0.14\">банк</span> <span style=\"background-color: #ababff\"; title=\"-0.33\">открытие</span> <span style=\"background-color: #ffffff\"; title=\"0.00\">для</span> <span style=\"background-color: #eaeaff\"; title=\"-0.08\">приёма</span> <span style=\"background-color: #ffffff\"; title=\"0.00\">через</span> <span style=\"background-color: #9c9cff\"; title=\"-0.39\">сбп</span> <span style=\"background-color: #ffffff\"; title=\"0.00\">по</span> <span style=\"background-color: #fff4f4\"; title=\"0.10\">умолчанию</span> <span style=\"background-color: #3c3cff\"; title=\"-0.77\">пытаюсь</span> <span style=\"background-color: #fff4f4\"; title=\"0.10\">отправить</span> <span style=\"background-color: #ffffff\"; title=\"0.00\">из</span> <span style=\"background-color: #f9f9ff\"; title=\"-0.02\">другого</span> <span style=\"background-color: #d7d7ff\"; title=\"-0.16\">банка</span> <span style=\"background-color: #ffffff\"; title=\"0.00\">по</span> <span style=\"background-color: #ffe5e5\"; title=\"0.24\">номеру</span> <span style=\"background-color: #ababff\"; title=\"-0.33\">своего</span> <span style=\"background-color: #c0c0ff\"; title=\"-0.25\">телефона</span> <span style=\"background-color: #ffffff\"; title=\"0.00\">но</span> <span style=\"background-color: #ffffff\"; title=\"0.00\">не</span> <span style=\"background-color: #6969ff\"; title=\"-0.59\">работает</span> <span style=\"background-color: #a9a9ff\"; title=\"-0.34\">пишет</span> <span style=\"background-color: #ffffff\"; title=\"0.00\">что</span> <span style=\"background-color: #ffffff\"; title=\"0.00\">нет</span> <span style=\"background-color: #6363ff\"; title=\"-0.61\">такого</span> <span style=\"background-color: #9f9fff\"; title=\"-0.38\">номера</span> <span style=\"background-color: #ffcaca\"; title=\"0.50\">задаю</span> <span style=\"background-color: #e0e0ff\"; title=\"-0.12\">вопрос</span> <span style=\"background-color: #ffffff\"; title=\"0.00\">в</span> <span style=\"background-color: #b8b8ff\"; title=\"-0.28\">чате</span> <span style=\"background-color: #c9c9ff\"; title=\"-0.21\">приложения</span> <span style=\"background-color: #ffffff\"; title=\"0.00\">там</span> <span style=\"background-color: #a7a7ff\"; title=\"-0.35\">отправляют</span> <span style=\"background-color: #ffffff\"; title=\"0.00\">в</span> <span style=\"background-color: #dbdbff\"; title=\"-0.14\">банк</span> <span style=\"background-color: #ffffff\"; title=\"0.00\">для</span> <span style=\"background-color: #fff7f7\"; title=\"0.07\">актуализации</span> <span style=\"background-color: #c2c2ff\"; title=\"-0.24\">данных</span> <span style=\"background-color: #8080ff\"; title=\"-0.50\">хотя</span> <span style=\"background-color: #d1d1ff\"; title=\"-0.18\">номер</span> <span style=\"background-color: #ffffff\"; title=\"0.00\">у</span> <span style=\"background-color: #ffffff\"; title=\"0.00\">меня</span> <span style=\"background-color: #ffffff\"; title=\"0.00\">в</span> <span style=\"background-color: #d0d0ff\"; title=\"-0.19\">банке</span> <span style=\"background-color: #ffffff\"; title=\"0.00\">и</span> <span style=\"background-color: #ffffff\"; title=\"0.00\">не</span> <span style=\"background-color: #fffbfb\"; title=\"0.03\">менялся</span> <span style=\"background-color: #ffffff\"; title=\"0.00\">но</span> <span style=\"background-color: #7373ff\"; title=\"-0.55\">ладно</span> <span style=\"background-color: #d9d9ff\"; title=\"-0.15\">сходил</span> <span style=\"background-color: #ffffff\"; title=\"0.00\">в</span> <span style=\"background-color: #e7e7ff\"; title=\"-0.09\">офис</span> <span style=\"background-color: #ffffff\"; title=\"0.00\">там</span> <span style=\"background-color: #ffdcdc\"; title=\"0.33\">всё</span> <span style=\"background-color: #eaeaff\"; title=\"-0.08\">посмотрели</span> <span style=\"background-color: #ffffff\"; title=\"0.00\">и</span> <span style=\"background-color: #fffafa\"; title=\"0.04\">попросили</span> <span style=\"background-color: #ffe6e6\"; title=\"0.24\">написать</span> <span style=\"background-color: #fff5f5\"; title=\"0.09\">заявление</span> <span style=\"background-color: #ffffff\"; title=\"0.00\">о</span> <span style=\"background-color: #e8e8ff\"; title=\"-0.09\">удалении</span> <span style=\"background-color: #ffffff\"; title=\"0.00\">из</span> <span style=\"background-color: #b5b5ff\"; title=\"-0.29\">базы</span> <span style=\"background-color: #f7f7ff\"; title=\"-0.03\">домашнего</span> <span style=\"background-color: #9f9fff\"; title=\"-0.38\">номера</span> <span style=\"background-color: #c0c0ff\"; title=\"-0.25\">телефона</span> <span style=\"background-color: #ffffff\"; title=\"0.00\">и</span> <span style=\"background-color: #fefeff\"; title=\"-0.00\">дополнительного</span> <span style=\"background-color: #9f9fff\"; title=\"-0.38\">номера</span> <span style=\"background-color: #ffffff\"; title=\"0.00\">для</span> <span style=\"background-color: #e2e2ff\"; title=\"-0.11\">связи</span> <span style=\"background-color: #f4f4ff\"; title=\"-0.04\">пробую</span> <span style=\"background-color: #ffffff\"; title=\"0.00\">опять</span> <span style=\"background-color: #fff4f4\"; title=\"0.10\">отправить</span> <span style=\"background-color: #ffffff\"; title=\"0.00\">опять</span> <span style=\"background-color: #ffffff\"; title=\"0.00\">не</span> <span style=\"background-color: #6969ff\"; title=\"-0.59\">работает</span> <span style=\"background-color: #f5f5ff\"; title=\"-0.04\">снова</span> <span style=\"background-color: #ffe6e6\"; title=\"0.23\">обращаюсь</span> <span style=\"background-color: #ffffff\"; title=\"0.00\">в</span> <span style=\"background-color: #fff8f8\"; title=\"0.06\">чат</span> <span style=\"background-color: #ffffff\"; title=\"0.00\">там</span> <span style=\"background-color: #ffffff\"; title=\"0.00\">опять</span> <span style=\"background-color: #a7a7ff\"; title=\"-0.35\">отправляют</span> <span style=\"background-color: #ffffff\"; title=\"0.00\">в</span> <span style=\"background-color: #dbdbff\"; title=\"-0.14\">банк</span> <span style=\"background-color: #9090ff\"; title=\"-0.44\">повторно</span> <span style=\"background-color: #fefeff\"; title=\"-0.00\">актуализировать</span> <span style=\"background-color: #afafff\"; title=\"-0.31\">данные</span> <span style=\"background-color: #ffffff\"; title=\"0.00\">после</span> <span style=\"background-color: #fafaff\"; title=\"-0.02\">ругани</span> <span style=\"background-color: #ffffff\"; title=\"0.00\">в</span> <span style=\"background-color: #b8b8ff\"; title=\"-0.28\">чате</span> <span style=\"background-color: #ffd1d1\"; title=\"0.43\">удалось</span> <span style=\"background-color: #fff2f2\"; title=\"0.12\">заставить</span> <span style=\"background-color: #e0e0ff\"; title=\"-0.12\">оператора</span> <span style=\"background-color: #fff4f4\"; title=\"0.10\">создать</span> <span style=\"background-color: #cdcdff\"; title=\"-0.19\">обращение</span> <span style=\"background-color: #ffffff\"; title=\"0.00\">и</span> <span style=\"background-color: #efefff\"; title=\"-0.06\">присвоить</span> <span style=\"background-color: #ffffff\"; title=\"0.00\">ему</span> <span style=\"background-color: #d1d1ff\"; title=\"-0.18\">номер</span> <span style=\"background-color: #e6e6ff\"; title=\"-0.10\">создалось</span> <span style=\"background-color: #ffeeee\"; title=\"0.16\">впечатление</span> <span style=\"background-color: #ffffff\"; title=\"0.00\">что</span> <span style=\"background-color: #ffffff\"; title=\"0.00\">их</span> <span style=\"background-color: #ffffff\"; title=\"0.00\">там</span> <span style=\"background-color: #fefeff\"; title=\"-0.00\">штрафуют</span> <span style=\"background-color: #ffffff\"; title=\"0.00\">за</span> <span style=\"background-color: #cdcdff\"; title=\"-0.19\">каждое</span> <span style=\"background-color: #cdcdff\"; title=\"-0.19\">обращение</span> <span style=\"background-color: #ffffff\"; title=\"0.00\">с</span> <span style=\"background-color: #c9c9ff\"; title=\"-0.21\">таким</span> <span style=\"background-color: #cbcbff\"; title=\"-0.20\">боем</span> <span style=\"background-color: #bdbdff\"; title=\"-0.26\">оно</span> <span style=\"background-color: #ffffff\"; title=\"0.00\">родилось</span> <span style=\"background-color: #f4f4ff\"; title=\"-0.04\">параллельно</span> <span style=\"background-color: #fff5f5\"; title=\"0.09\">обратился</span> <span style=\"background-color: #ffffff\"; title=\"0.00\">с</span> <span style=\"background-color: #e1e1ff\"; title=\"-0.12\">этим</span> <span style=\"background-color: #c0c0ff\"; title=\"-0.25\">вопросом</span> <span style=\"background-color: #ffffff\"; title=\"0.00\">к</span> <span style=\"background-color: #f7f7ff\"; title=\"-0.03\">представителю</span> <span style=\"background-color: #d7d7ff\"; title=\"-0.16\">банка</span> <span style=\"background-color: #ffffff\"; title=\"0.00\">на</span> <span style=\"background-color: #cdcdff\"; title=\"-0.19\">форуме</span> <span style=\"background-color: #ffffff\"; title=\"0.00\">надо</span> <span style=\"background-color: #f8f8ff\"; title=\"-0.03\">сказать</span> <span style=\"background-color: #ffffff\"; title=\"0.00\">что</span> <span style=\"background-color: #ffffff\"; title=\"0.00\">у</span> <span style=\"background-color: #ffcccc\"; title=\"0.47\">жены</span> <span style=\"background-color: #ffffff\"; title=\"0.00\">когда</span> <span style=\"background-color: #ffffff\"; title=\"0.00\">то</span> <span style=\"background-color: #ffffff\"; title=\"0.00\">была</span> <span style=\"background-color: #dbdbff\"; title=\"-0.14\">кредитная</span> <span style=\"background-color: #ffecec\"; title=\"0.18\">карточка</span> <span style=\"background-color: #ffffff\"; title=\"0.00\">в</span> <span style=\"background-color: #ffffff\"; title=\"0.00\">этом</span> <span style=\"background-color: #d0d0ff\"; title=\"-0.19\">банке</span> <span style=\"background-color: #ffffff\"; title=\"0.00\">но</span> <span style=\"background-color: #a9a9ff\"; title=\"-0.34\">её</span> <span style=\"background-color: #ffe8e8\"; title=\"0.22\">закрыли</span> <span style=\"background-color: #ffffff\"; title=\"0.00\">в</span> <span style=\"background-color: #ffd4d4\"; title=\"0.41\">сентябре</span> <span style=\"background-color: #d9d9ff\"; title=\"-0.15\">прошлого</span> <span style=\"background-color: #fff6f6\"; title=\"0.08\">года</span> <span style=\"background-color: #ffffff\"; title=\"0.00\">и</span> <span style=\"background-color: #ffffff\"; title=\"0.00\">на</span> <span style=\"background-color: #ffe8e8\"; title=\"0.21\">данный</span> <span style=\"background-color: #fff3f3\"; title=\"0.11\">момент</span> <span style=\"background-color: #e5e5ff\"; title=\"-0.10\">никаких</span> <span style=\"background-color: #cdcdff\"; title=\"-0.19\">счетов</span> <span style=\"background-color: #ffffff\"; title=\"0.00\">и</span> <span style=\"background-color: #cdcdff\"; title=\"-0.20\">продуктов</span> <span style=\"background-color: #ffffff\"; title=\"0.00\">в</span> <span style=\"background-color: #d0d0ff\"; title=\"-0.19\">банке</span> <span style=\"background-color: #ffffff\"; title=\"0.00\">у</span> <span style=\"background-color: #bebeff\"; title=\"-0.25\">неё</span> <span style=\"background-color: #ffffff\"; title=\"0.00\">нет</span> <span style=\"background-color: #ffffff\"; title=\"0.00\">после</span> <span style=\"background-color: #ffe7e7\"; title=\"0.22\">создания</span> <span style=\"background-color: #ceceff\"; title=\"-0.19\">обращения</span> <span style=\"background-color: #ffffff\"; title=\"0.00\">по</span> <span style=\"background-color: #e1e1ff\"; title=\"-0.12\">неработающий</span> <span style=\"background-color: #9c9cff\"; title=\"-0.39\">сбп</span> <span style=\"background-color: #eaeaff\"; title=\"-0.08\">жене</span> <span style=\"background-color: #ffffff\"; title=\"0.00\">из</span> <span style=\"background-color: #d7d7ff\"; title=\"-0.16\">банка</span> <span style=\"background-color: #fff0f0\"; title=\"0.14\">позвонили</span> <span style=\"background-color: #ffffff\"; title=\"0.00\">и</span> <span style=\"background-color: #3737ff\"; title=\"-0.79\">просят</span> <span style=\"background-color: #a9a9ff\"; title=\"-0.34\">её</span> <span style=\"background-color: #dadaff\"; title=\"-0.14\">явиться</span> <span style=\"background-color: #ffffff\"; title=\"0.00\">в</span> <span style=\"background-color: #e7e7ff\"; title=\"-0.09\">офис</span> <span style=\"background-color: #ffffff\"; title=\"0.00\">и</span> <span style=\"background-color: #ffffff\"; title=\"0.00\">тоже</span> <span style=\"background-color: #fefeff\"; title=\"-0.00\">актуализировать</span> <span style=\"background-color: #afafff\"; title=\"-0.31\">данные</span> <span style=\"background-color: #4242ff\"; title=\"-0.74\">видимо</span> <span style=\"background-color: #ffffff\"; title=\"0.00\">у</span> <span style=\"background-color: #ffffff\"; title=\"0.00\">них</span> <span style=\"background-color: #ffffff\"; title=\"0.00\">там</span> <span style=\"background-color: #ffffff\"; title=\"0.00\">какой</span> <span style=\"background-color: #ffffff\"; title=\"0.00\">то</span> <span style=\"background-color: #fff2f2\"; title=\"0.12\">день</span> <span style=\"background-color: #ffffff\"; title=\"0.00\">актуализатора</span> <span style=\"background-color: #ffffff\"; title=\"0.00\">отмечается</span> <span style=\"background-color: #ffffff\"; title=\"0.00\">вот</span> <span style=\"background-color: #ffffff\"; title=\"0.00\">они</span> <span style=\"background-color: #ffffff\"; title=\"0.00\">всех</span> <span style=\"background-color: #ffffff\"; title=\"0.00\">в</span> <span style=\"background-color: #e7e7ff\"; title=\"-0.09\">офис</span> <span style=\"background-color: #ffffff\"; title=\"0.00\">и</span> <span style=\"background-color: #f7f7ff\"; title=\"-0.03\">зазывают</span> <span style=\"background-color: #e6e6ff\"; title=\"-0.10\">выяснилось</span> <span style=\"background-color: #ffffff\"; title=\"0.00\">что</span> <span style=\"background-color: #ffffff\"; title=\"0.00\">мой</span> <span style=\"background-color: #d1d1ff\"; title=\"-0.18\">номер</span> <span style=\"background-color: #fffafa\"; title=\"0.04\">указан</span> <span style=\"background-color: #ffffff\"; title=\"0.00\">в</span> <span style=\"background-color: #fffdfd\"; title=\"0.01\">качестве</span> <span style=\"background-color: #fefeff\"; title=\"-0.00\">дополнительного</span> <span style=\"background-color: #dfdfff\"; title=\"-0.13\">контакта</span> <span style=\"background-color: #ffffff\"; title=\"0.00\">у</span> <span style=\"background-color: #ffe7e7\"; title=\"0.22\">моей</span> <span style=\"background-color: #ffcccc\"; title=\"0.47\">жены</span> <span style=\"background-color: #ffffff\"; title=\"0.00\">и</span> <span style=\"background-color: #ffffff\"; title=\"0.00\">из</span> <span style=\"background-color: #ffffff\"; title=\"0.00\">за</span> <span style=\"background-color: #ffffff\"; title=\"0.00\">этого</span> <span style=\"background-color: #ffe6e6\"; title=\"0.23\">система</span> <span style=\"background-color: #ffffff\"; title=\"0.00\">не</span> <span style=\"background-color: #fffcfc\"; title=\"0.02\">даёт</span> <span style=\"background-color: #b2b2ff\"; title=\"-0.30\">совершить</span> <span style=\"background-color: #ffffff\"; title=\"0.00\">на</span> <span style=\"background-color: #ffffff\"; title=\"0.00\">него</span> <span style=\"background-color: #8383ff\"; title=\"-0.49\">перевод</span> <span style=\"background-color: #ffffff\"; title=\"0.00\">по</span> <span style=\"background-color: #9c9cff\"; title=\"-0.39\">сбп</span> <span style=\"background-color: #ffffff\"; title=\"0.00\">ну</span> <span style=\"background-color: #ffffff\"; title=\"0.00\">вот</span> <span style=\"background-color: #ffffff\"; title=\"0.00\">так</span> <span style=\"background-color: #fff8f8\"; title=\"0.06\">программисты</span> <span style=\"background-color: #ffeded\"; title=\"0.17\">сработали</span> <span style=\"background-color: #ffffff\"; title=\"0.00\">у</span> <span style=\"background-color: #ffffff\"; title=\"0.00\">всех</span> <span style=\"background-color: #ffe5e5\"; title=\"0.24\">бывают</span> <span style=\"background-color: #fefeff\"; title=\"-0.00\">ошибки</span> <span style=\"background-color: #ffffff\"; title=\"0.00\">ничего</span> <span style=\"background-color: #bdbdff\"; title=\"-0.26\">страшного</span> <span style=\"background-color: #e1e1ff\"; title=\"-0.12\">само</span> <span style=\"background-color: #ffeded\"; title=\"0.17\">собой</span> <span style=\"background-color: #9f9fff\"; title=\"-0.38\">жена</span> <span style=\"background-color: #ffffff\"; title=\"0.00\">по</span> <span style=\"background-color: #ffb3b3\"; title=\"0.72\">банкам</span> <span style=\"background-color: #ffffff\"; title=\"0.00\">бродить</span> <span style=\"background-color: #ffffff\"; title=\"0.00\">не</span> <span style=\"background-color: #ffe8e8\"; title=\"0.22\">собиралась</span> <span style=\"background-color: #ffffff\"; title=\"0.00\">да</span> <span style=\"background-color: #ffffff\"; title=\"0.00\">и</span> <span style=\"background-color: #fff2f2\"; title=\"0.12\">ещё</span> <span style=\"background-color: #ffffff\"; title=\"0.00\">не</span> <span style=\"background-color: #fff8f8\"; title=\"0.06\">известно</span> <span style=\"background-color: #ffffff\"; title=\"0.00\">у</span> <span style=\"background-color: #d7d7ff\"; title=\"-0.16\">кого</span> <span style=\"background-color: #ffffff\"; title=\"0.00\">из</span> <span style=\"background-color: #9f9fff\"; title=\"-0.38\">клиентов</span> <span style=\"background-color: #d7d7ff\"; title=\"-0.16\">банка</span> <span style=\"background-color: #ffcece\"; title=\"0.45\">мог</span> <span style=\"background-color: #ffffff\"; title=\"0.00\">мой</span> <span style=\"background-color: #d1d1ff\"; title=\"-0.18\">номер</span> <span style=\"background-color: #ffffff\"; title=\"0.00\">быть</span> <span style=\"background-color: #fffafa\"; title=\"0.04\">указан</span> <span style=\"background-color: #ffffff\"; title=\"0.00\">в</span> <span style=\"background-color: #fffdfd\"; title=\"0.01\">качестве</span> <span style=\"background-color: #fefeff\"; title=\"-0.00\">дополнительного</span> <span style=\"background-color: #dfdfff\"; title=\"-0.13\">контакта</span> <span style=\"background-color: #8080ff\"; title=\"-0.50\">родственников</span> <span style=\"background-color: #ffffff\"; title=\"0.00\">и</span> <span style=\"background-color: #e6e6ff\"; title=\"-0.10\">знакомых</span> <span style=\"background-color: #ffffff\"; title=\"0.00\">у</span> <span style=\"background-color: #ffffff\"; title=\"0.00\">меня</span> <span style=\"background-color: #a3a3ff\"; title=\"-0.36\">полно</span> <span style=\"background-color: #fffdfd\"; title=\"0.01\">девушке</span> <span style=\"background-color: #fffefe\"; title=\"0.00\">звонившей</span> <span style=\"background-color: #ffffff\"; title=\"0.00\">из</span> <span style=\"background-color: #d7d7ff\"; title=\"-0.16\">банка</span> <span style=\"background-color: #ffffff\"; title=\"0.00\">было</span> <span style=\"background-color: #5454ff\"; title=\"-0.67\">отказано</span> <span style=\"background-color: #ffffff\"; title=\"0.00\">в</span> <span style=\"background-color: #ffffff\"; title=\"0.00\">удовольствии</span> <span style=\"background-color: #b2b2ff\"; title=\"-0.30\">увидеть</span> <span style=\"background-color: #ffffff\"; title=\"0.00\">всех</span> <span style=\"background-color: #ffecec\"; title=\"0.17\">моих</span> <span style=\"background-color: #8080ff\"; title=\"-0.50\">родственников</span> <span style=\"background-color: #9696ff\"; title=\"-0.41\">похоже</span> <span style=\"background-color: #ffffff\"; title=\"0.00\">она</span> <span style=\"background-color: #fff6f6\"; title=\"0.08\">обиделась</span> <span style=\"background-color: #fff2f2\"; title=\"0.12\">сказала</span> <span style=\"background-color: #ffffff\"; title=\"0.00\">что</span> <span style=\"background-color: #fffbfb\"; title=\"0.03\">других</span> <span style=\"background-color: #fffafa\"; title=\"0.04\">вариантов</span> <span style=\"background-color: #ffffff\"; title=\"0.00\">нет</span> <span style=\"background-color: #ffffff\"; title=\"0.00\">и</span> <span style=\"background-color: #ffdbdb\"; title=\"0.33\">бросила</span> <span style=\"background-color: #2d2dff\"; title=\"-0.83\">трубку</span> <span style=\"background-color: #ffffff\"; title=\"0.00\">я</span> <span style=\"background-color: #ffffff\"; title=\"0.00\">опять</span> <span style=\"background-color: #c9c9ff\"; title=\"-0.21\">написал</span> <span style=\"background-color: #f7f7ff\"; title=\"-0.03\">представителю</span> <span style=\"background-color: #d7d7ff\"; title=\"-0.16\">банка</span> <span style=\"background-color: #ffffff\"; title=\"0.00\">на</span> <span style=\"background-color: #cdcdff\"; title=\"-0.19\">форуме</span> <span style=\"background-color: #ffffff\"; title=\"0.00\">и</span> <span style=\"background-color: #e6e6ff\"; title=\"-0.10\">сообщил</span> <span style=\"background-color: #ffffff\"; title=\"0.00\">что</span> <span style=\"background-color: #fffcfc\"; title=\"0.02\">проблема</span> <span style=\"background-color: #ffffff\"; title=\"0.00\">не</span> <span style=\"background-color: #aeaeff\"; title=\"-0.32\">решается</span> <span style=\"background-color: #ffffff\"; title=\"0.00\">и</span> <span style=\"background-color: #ffffff\"; title=\"0.00\">о</span> <span style=\"background-color: #fff4f4\"; title=\"0.10\">чудо</span> <span style=\"background-color: #fefeff\"; title=\"-0.00\">пришёл</span> <span style=\"background-color: #cacaff\"; title=\"-0.21\">ответ</span> <span style=\"background-color: #ffffff\"; title=\"0.00\">что</span> <span style=\"background-color: #ffdcdc\"; title=\"0.33\">всё</span> <span style=\"background-color: #ffd1d1\"; title=\"0.43\">удалось</span> <span style=\"background-color: #c4c4ff\"; title=\"-0.23\">починить</span> <span style=\"background-color: #ffffff\"; title=\"0.00\">без</span> <span style=\"background-color: #f2f2ff\"; title=\"-0.05\">общего</span> <span style=\"background-color: #fffafa\"; title=\"0.04\">сбора</span> <span style=\"background-color: #ffe7e7\"; title=\"0.22\">моей</span> <span style=\"background-color: #fafaff\"; title=\"-0.02\">родни</span> <span style=\"background-color: #ffffff\"; title=\"0.00\">с</span> <span style=\"background-color: #ffffff\"; title=\"0.00\">паспортами</span> <span style=\"background-color: #ffffff\"; title=\"0.00\">в</span> <span style=\"background-color: #ffffff\"; title=\"0.00\">зубах</span> <span style=\"background-color: #ffffff\"; title=\"0.00\">в</span> <span style=\"background-color: #ffeeee\"; title=\"0.16\">офисе</span> <span style=\"background-color: #d7d7ff\"; title=\"-0.16\">банка</span> <span style=\"background-color: #b1b1ff\"; title=\"-0.30\">уважаемые</span> <span style=\"background-color: #fff3f3\"; title=\"0.11\">руководители</span> <span style=\"background-color: #d7d7ff\"; title=\"-0.16\">банка</span> <span style=\"background-color: #ababff\"; title=\"-0.33\">открытие</span> <span style=\"background-color: #ffffff\"; title=\"0.00\">у</span> <span style=\"background-color: #ffffff\"; title=\"0.00\">вас</span> <span style=\"background-color: #ffffff\"; title=\"0.00\">на</span> <span style=\"background-color: #fff5f5\"; title=\"0.09\">местах</span> <span style=\"background-color: #bfbfff\"; title=\"-0.25\">абсолютно</span> <span style=\"background-color: #ffffff\"; title=\"0.00\">инертные</span> <span style=\"background-color: #8b8bff\"; title=\"-0.46\">работники</span> <span style=\"background-color: #ffffff\"; title=\"0.00\">ну</span> <span style=\"background-color: #fcfcff\"; title=\"-0.01\">неужели</span> <span style=\"background-color: #ffffff\"; title=\"0.00\">для</span> <span style=\"background-color: #fff1f1\"; title=\"0.12\">решения</span> <span style=\"background-color: #ffffff\"; title=\"0.00\">такой</span> <span style=\"background-color: #ededff\"; title=\"-0.07\">ерунды</span> <span style=\"background-color: #e0e0ff\"; title=\"-0.12\">необходимо</span> <span style=\"background-color: #ffffff\"; title=\"0.00\">было</span> <span style=\"background-color: #fff8f8\"; title=\"0.07\">разводить</span> <span style=\"background-color: #ffffff\"; title=\"0.00\">всю</span> <span style=\"background-color: #ffffff\"; title=\"0.00\">эту</span> <span style=\"background-color: #fff6f6\"; title=\"0.08\">канитель</span> <span style=\"background-color: #ffffff\"; title=\"0.00\">или</span> <span style=\"background-color: #c7c7ff\"; title=\"-0.22\">это</span> <span style=\"background-color: #ffffff\"; title=\"0.00\">вы</span> <span style=\"background-color: #ffffff\"; title=\"0.00\">так</span> <span style=\"background-color: #ffffff\"; title=\"0.00\">из</span> <span style=\"background-color: #fff6f6\"; title=\"0.08\">центра</span> <span style=\"background-color: #ffffff\"; title=\"0.00\">всех</span> <span style=\"background-color: #ffffff\"; title=\"0.00\">на</span> <span style=\"background-color: #fff5f5\"; title=\"0.09\">местах</span> <span style=\"background-color: #ffffff\"; title=\"0.00\">так</span> <span style=\"background-color: #f8f8ff\"; title=\"-0.03\">зажали</span> <span style=\"background-color: #ffffff\"; title=\"0.00\">что</span> <span style=\"background-color: #ffffff\"; title=\"0.00\">они</span> <span style=\"background-color: #fffefe\"; title=\"0.01\">шагу</span> <span style=\"background-color: #ffffff\"; title=\"0.00\">ступить</span> <span style=\"background-color: #b8b8ff\"; title=\"-0.28\">самостоятельно</span> <span style=\"background-color: #ffffff\"; title=\"0.00\">не</span> <span style=\"background-color: #ffffff\"; title=\"0.00\">смеют</span> </p>"
      ],
      "text/plain": [
       "<IPython.core.display.HTML object>"
      ]
     },
     "metadata": {},
     "output_type": "display_data"
    },
    {
     "name": "stdout",
     "output_type": "stream",
     "text": [
      "rating: 5\n",
      "predicted proba: 6.097717358665765e-08\n"
     ]
    },
    {
     "data": {
      "text/html": [
       "\n",
       "    <p style=\"font-size:16px; color:#000000; border: 2px solid #000; text-align: justify; background-color:#ffffff; border-radius: 25px; padding: 20px;\">\n",
       "    <span style=\"background-color: #fffbfb\"; title=\"0.03\">здравствуйте</span> <span style=\"background-color: #dcdcff\"; title=\"-0.14\">второй</span> <span style=\"background-color: #fff2f2\"; title=\"0.12\">день</span> <span style=\"background-color: #ffffff\"; title=\"0.00\">по</span> <span style=\"background-color: #9f9fff\"; title=\"-0.38\">телефону</span> <span style=\"background-color: #a9a9ff\"; title=\"-0.34\">указанному</span> <span style=\"background-color: #ffffff\"; title=\"0.00\">в</span> <span style=\"background-color: #fff1f1\"; title=\"0.13\">разделе</span> <span style=\"background-color: #c6c6ff\"; title=\"-0.22\">контакты</span> <span style=\"background-color: #ffffff\"; title=\"0.00\">на</span> <span style=\"background-color: #c1c1ff\"; title=\"-0.24\">сайте</span> <span style=\"background-color: #d7d7ff\"; title=\"-0.16\">банка</span> <span style=\"background-color: #ffffff\"; title=\"0.00\">и</span> <span style=\"background-color: #ffffff\"; title=\"0.00\">в</span> <span style=\"background-color: #ffeded\"; title=\"0.16\">договоре</span> <span style=\"background-color: #a9a9ff\"; title=\"-0.34\">вклада</span> <span style=\"background-color: #3c3cff\"; title=\"-0.77\">пытаюсь</span> <span style=\"background-color: #b8b8ff\"; title=\"-0.28\">выяснить</span> <span style=\"background-color: #ffffff\"; title=\"0.00\">как</span> <span style=\"background-color: #ffffff\"; title=\"0.00\">в</span> <span style=\"background-color: #d1d1ff\"; title=\"-0.18\">условиях</span> <span style=\"background-color: #fffefe\"; title=\"0.00\">введенных</span> <span style=\"background-color: #ffffff\"; title=\"0.00\">властями</span> <span style=\"background-color: #ffe1e1\"; title=\"0.28\">самоизоляции</span> <span style=\"background-color: #ffffff\"; title=\"0.00\">и</span> <span style=\"background-color: #ffe6e6\"; title=\"0.23\">штрафов</span> <span style=\"background-color: #ffffff\"; title=\"0.00\">за</span> <span style=\"background-color: #ffffff\"; title=\"0.00\">ее</span> <span style=\"background-color: #dedeff\"; title=\"-0.13\">нарушение</span> <span style=\"background-color: #d4d4ff\"; title=\"-0.17\">отделений</span> <span style=\"background-color: #d7d7ff\"; title=\"-0.16\">банка</span> <span style=\"background-color: #ffffff\"; title=\"0.00\">на</span> <span style=\"background-color: #fff8f8\"; title=\"0.06\">расстоянии</span> <span style=\"background-color: #fffcfc\"; title=\"0.02\">м</span> <span style=\"background-color: #ffffff\"; title=\"0.00\">от</span> <span style=\"background-color: #a6a6ff\"; title=\"-0.35\">места</span> <span style=\"background-color: #ffeaea\"; title=\"0.20\">моего</span> <span style=\"background-color: #fff2f2\"; title=\"0.11\">жительства</span> <span style=\"background-color: #ffffff\"; title=\"0.00\">не</span> <span style=\"background-color: #fffbfb\"; title=\"0.03\">наблюдается</span> <span style=\"background-color: #f3f3ff\"; title=\"-0.04\">возможно</span> <span style=\"background-color: #ffebeb\"; title=\"0.18\">дистанционно</span> <span style=\"background-color: #ffffff\"; title=\"0.00\">по</span> <span style=\"background-color: #ffe3e3\"; title=\"0.26\">сроку</span> <span style=\"background-color: #babaff\"; title=\"-0.27\">закрыть</span> <span style=\"background-color: #e6e6ff\"; title=\"-0.10\">вклад</span> <span style=\"background-color: #ffffff\"; title=\"0.00\">с</span> <span style=\"background-color: #ffffff\"; title=\"0.00\">тем</span> <span style=\"background-color: #ffffff\"; title=\"0.00\">чтобы</span> <span style=\"background-color: #e6e6ff\"; title=\"-0.10\">вклад</span> <span style=\"background-color: #ffffff\"; title=\"0.00\">не</span> <span style=\"background-color: #f7f7ff\"; title=\"-0.03\">пролонгировался</span> <span style=\"background-color: #ffffff\"; title=\"0.00\">как</span> <span style=\"background-color: #c7c7ff\"; title=\"-0.22\">это</span> <span style=\"background-color: #cbcbff\"; title=\"-0.21\">предусмотрено</span> <span style=\"background-color: #eeeeff\"; title=\"-0.07\">условиями</span> <span style=\"background-color: #fffbfb\"; title=\"0.03\">договора</span> <span style=\"background-color: #ffffff\"; title=\"0.00\">а</span> <span style=\"background-color: #adadff\"; title=\"-0.32\">денежные</span> <span style=\"background-color: #fff6f6\"; title=\"0.08\">средства</span> <span style=\"background-color: #ffffff\"; title=\"0.00\">после</span> <span style=\"background-color: #fffdfd\"; title=\"0.01\">закрытия</span> <span style=\"background-color: #a4a4ff\"; title=\"-0.36\">поступили</span> <span style=\"background-color: #ffffff\"; title=\"0.00\">на</span> <span style=\"background-color: #f7f7ff\"; title=\"-0.03\">связанный</span> <span style=\"background-color: #fff1f1\"; title=\"0.13\">текущий</span> <span style=\"background-color: #fffafa\"; title=\"0.04\">счет</span> <span style=\"background-color: #ffffff\"; title=\"0.00\">в</span> <span style=\"background-color: #d0d0ff\"; title=\"-0.19\">банке</span> <span style=\"background-color: #ffffff\"; title=\"0.00\">как</span> <span style=\"background-color: #fff8f8\"; title=\"0.06\">известно</span> <span style=\"background-color: #fff2f2\"; title=\"0.12\">дистанционный</span> <span style=\"background-color: #f1f1ff\"; title=\"-0.05\">способ</span> <span style=\"background-color: #9494ff\"; title=\"-0.42\">получения</span> <span style=\"background-color: #ffdede\"; title=\"0.31\">банковских</span> <span style=\"background-color: #dfdfff\"; title=\"-0.13\">услуг</span> <span style=\"background-color: #e7e7ff\"; title=\"-0.09\">считается</span> <span style=\"background-color: #f8f8ff\"; title=\"-0.03\">приоритетным</span> <span style=\"background-color: #ffffff\"; title=\"0.00\">в</span> <span style=\"background-color: #7f7fff\"; title=\"-0.51\">текущей</span> <span style=\"background-color: #ffe5e5\"; title=\"0.24\">ситуации</span> <span style=\"background-color: #ffffff\"; title=\"0.00\">с</span> <span style=\"background-color: #d2d2ff\"; title=\"-0.18\">коронавирусом</span> <span style=\"background-color: #eaeaff\"; title=\"-0.08\">согласно</span> <span style=\"background-color: #fdfdff\"; title=\"-0.00\">нормативным</span> <span style=\"background-color: #fefeff\"; title=\"-0.00\">актам</span> <span style=\"background-color: #a6a6ff\"; title=\"-0.35\">москвы</span> <span style=\"background-color: #ffffff\"; title=\"0.00\">и</span> <span style=\"background-color: #fffdfd\"; title=\"0.01\">мо</span> <span style=\"background-color: #8080ff\"; title=\"-0.50\">работник</span> <span style=\"background-color: #d7d7ff\"; title=\"-0.16\">банка</span> <span style=\"background-color: #ffffff\"; title=\"0.00\">с</span> <span style=\"background-color: #b2b2ff\"; title=\"-0.30\">которым</span> <span style=\"background-color: #ffffff\"; title=\"0.00\">я</span> <span style=\"background-color: #9898ff\"; title=\"-0.41\">разговаривала</span> <span style=\"background-color: #fffefe\"; title=\"0.01\">вчера</span> <span style=\"background-color: #ffcfcf\"; title=\"0.45\">рассказал</span> <span style=\"background-color: #ffffff\"; title=\"0.00\">что</span> <span style=\"background-color: #ffffff\"; title=\"0.00\">в</span> <span style=\"background-color: #fffbfb\"; title=\"0.03\">интернет</span> <span style=\"background-color: #d0d0ff\"; title=\"-0.19\">банке</span> <span style=\"background-color: #ffeaea\"; title=\"0.20\">имеется</span> <span style=\"background-color: #dedeff\"; title=\"-0.13\">опция</span> <span style=\"background-color: #babaff\"; title=\"-0.27\">закрыть</span> <span style=\"background-color: #e6e6ff\"; title=\"-0.10\">вклад</span> <span style=\"background-color: #ffffff\"; title=\"0.00\">и</span> <span style=\"background-color: #ffffff\"; title=\"0.00\">что</span> <span style=\"background-color: #ffffff\"; title=\"0.00\">в</span> <span style=\"background-color: #fff2f2\"; title=\"0.12\">день</span> <span style=\"background-color: #ffffff\"; title=\"0.00\">когда</span> <span style=\"background-color: #ffffff\"; title=\"0.00\">по</span> <span style=\"background-color: #ffdede\"; title=\"0.31\">условиям</span> <span style=\"background-color: #fffbfb\"; title=\"0.03\">договора</span> <span style=\"background-color: #e6e6ff\"; title=\"-0.10\">вклад</span> <span style=\"background-color: #fffefe\"; title=\"0.01\">должен</span> <span style=\"background-color: #ffffff\"; title=\"0.00\">быть</span> <span style=\"background-color: #babaff\"; title=\"-0.27\">закрыть</span> <span style=\"background-color: #ffffff\"; title=\"0.00\">я</span> <span style=\"background-color: #ffebeb\"; title=\"0.18\">смогу</span> <span style=\"background-color: #ffffff\"; title=\"0.00\">ее</span> <span style=\"background-color: #d8d8ff\"; title=\"-0.15\">воспользовавшись</span> <span style=\"background-color: #babaff\"; title=\"-0.27\">закрыть</span> <span style=\"background-color: #e6e6ff\"; title=\"-0.10\">вклад</span> <span style=\"background-color: #ffffff\"; title=\"0.00\">и</span> <span style=\"background-color: #fafaff\"; title=\"-0.02\">деньги</span> <span style=\"background-color: #bebeff\"; title=\"-0.26\">поступят</span> <span style=\"background-color: #ffffff\"; title=\"0.00\">на</span> <span style=\"background-color: #f7f7ff\"; title=\"-0.03\">связанный</span> <span style=\"background-color: #fffafa\"; title=\"0.04\">счет</span> <span style=\"background-color: #ffffff\"; title=\"0.00\">между</span> <span style=\"background-color: #ffffff\"; title=\"0.00\">тем</span> <span style=\"background-color: #ffffff\"; title=\"0.00\">на</span> <span style=\"background-color: #c1c1ff\"; title=\"-0.24\">сайте</span> <span style=\"background-color: #d7d7ff\"; title=\"-0.16\">банка</span> <span style=\"background-color: #ffeaea\"; title=\"0.20\">имеется</span> <span style=\"background-color: #fff2f2\"; title=\"0.12\">описание</span> <span style=\"background-color: #ffe6e6\"; title=\"0.23\">информационного</span> <span style=\"background-color: #ffffff\"; title=\"0.00\">сервисаинтернет</span> <span style=\"background-color: #dbdbff\"; title=\"-0.14\">банк</span> <span style=\"background-color: #ffffff\"; title=\"0.00\">где</span> <span style=\"background-color: #c3c3ff\"; title=\"-0.24\">указано</span> <span style=\"background-color: #ffffff\"; title=\"0.00\">что</span> <span style=\"background-color: #fffbfb\"; title=\"0.03\">интернет</span> <span style=\"background-color: #dbdbff\"; title=\"-0.14\">банк</span> <span style=\"background-color: #ffffff\"; title=\"0.00\">в</span> <span style=\"background-color: #9e9eff\"; title=\"-0.38\">отношении</span> <span style=\"background-color: #a9a9ff\"; title=\"-0.34\">вклада</span> <span style=\"background-color: #c9c9ff\"; title=\"-0.21\">предоставляет</span> <span style=\"background-color: #f6f6ff\"; title=\"-0.03\">следующие</span> <span style=\"background-color: #9393ff\"; title=\"-0.42\">возможности</span> <span style=\"background-color: #c1c1ff\"; title=\"-0.24\">пополнение</span> <span style=\"background-color: #a9a9ff\"; title=\"-0.34\">вклада</span> <span style=\"background-color: #adadff\"; title=\"-0.32\">путем</span> <span style=\"background-color: #fff8f8\"; title=\"0.06\">перевода</span> <span style=\"background-color: #d8d8ff\"; title=\"-0.15\">денежных</span> <span style=\"background-color: #c6c6ff\"; title=\"-0.22\">средств</span> <span style=\"background-color: #ffffff\"; title=\"0.00\">с</span> <span style=\"background-color: #d5d5ff\"; title=\"-0.17\">дебетовой</span> <span style=\"background-color: #ddddff\"; title=\"-0.13\">карты</span> <span style=\"background-color: #d7d7ff\"; title=\"-0.16\">банка</span> <span style=\"background-color: #ffeeee\"; title=\"0.15\">досрочное</span> <span style=\"background-color: #d2d2ff\"; title=\"-0.18\">закрытие</span> <span style=\"background-color: #fffbfb\"; title=\"0.03\">договора</span> <span style=\"background-color: #ffdada\"; title=\"0.35\">срочного</span> <span style=\"background-color: #a9a9ff\"; title=\"-0.34\">вклада</span> <span style=\"background-color: #adadff\"; title=\"-0.32\">путем</span> <span style=\"background-color: #fff8f8\"; title=\"0.06\">перевода</span> <span style=\"background-color: #e2e2ff\"; title=\"-0.11\">суммы</span> <span style=\"background-color: #a9a9ff\"; title=\"-0.34\">вклада</span> <span style=\"background-color: #ffffff\"; title=\"0.00\">ипроцентов</span> <span style=\"background-color: #ffffff\"; title=\"0.00\">на</span> <span style=\"background-color: #f7f7ff\"; title=\"-0.03\">связанный</span> <span style=\"background-color: #fffafa\"; title=\"0.04\">счет</span> <span style=\"background-color: #ffffff\"; title=\"0.00\">то</span> <span style=\"background-color: #ffffff\"; title=\"0.00\">есть</span> <span style=\"background-color: #d8d8ff\"; title=\"-0.15\">речь</span> <span style=\"background-color: #ffefef\"; title=\"0.15\">идет</span> <span style=\"background-color: #ffffff\"; title=\"0.00\">о</span> <span style=\"background-color: #fff7f7\"; title=\"0.07\">досрочном</span> <span style=\"background-color: #f4f4ff\"; title=\"-0.04\">закрытии</span> <span style=\"background-color: #a9a9ff\"; title=\"-0.34\">вклада</span> <span style=\"background-color: #ffffff\"; title=\"0.00\">как</span> <span style=\"background-color: #ffffff\"; title=\"0.00\">я</span> <span style=\"background-color: #acacff\"; title=\"-0.33\">понимаю</span> <span style=\"background-color: #ffffff\"; title=\"0.00\">с</span> <span style=\"background-color: #ffe3e3\"; title=\"0.26\">последующим</span> <span style=\"background-color: #ededff\"; title=\"-0.07\">удержанием</span> <span style=\"background-color: #ffffff\"; title=\"0.00\">всех</span> <span style=\"background-color: #fffbfb\"; title=\"0.04\">выплаченных</span> <span style=\"background-color: #8484ff\"; title=\"-0.48\">ранее</span> <span style=\"background-color: #fff4f4\"; title=\"0.10\">процентов</span> <span style=\"background-color: #ffffff\"; title=\"0.00\">по</span> <span style=\"background-color: #ffeaea\"; title=\"0.19\">ставке</span> <span style=\"background-color: #a9a9ff\"; title=\"-0.34\">вклада</span> <span style=\"background-color: #ffffff\"; title=\"0.00\">и</span> <span style=\"background-color: #fffdfd\"; title=\"0.02\">перерасчетом</span> <span style=\"background-color: #ffffff\"; title=\"0.00\">их</span> <span style=\"background-color: #ffffff\"; title=\"0.00\">по</span> <span style=\"background-color: #ffeaea\"; title=\"0.19\">ставке</span> <span style=\"background-color: #9797ff\"; title=\"-0.41\">годовых</span> <span style=\"background-color: #f9f9ff\"; title=\"-0.02\">либо</span> <span style=\"background-color: #fff8f8\"; title=\"0.06\">вкладчик</span> <span style=\"background-color: #fffefe\"; title=\"0.01\">должен</span> <span style=\"background-color: #ffffff\"; title=\"0.00\">в</span> <span style=\"background-color: #fff2f2\"; title=\"0.12\">день</span> <span style=\"background-color: #fffdfd\"; title=\"0.01\">закрытия</span> <span style=\"background-color: #a9a9ff\"; title=\"-0.34\">вклада</span> <span style=\"background-color: #dadaff\"; title=\"-0.14\">явиться</span> <span style=\"background-color: #ffffff\"; title=\"0.00\">в</span> <span style=\"background-color: #e7e7ff\"; title=\"-0.09\">офис</span> <span style=\"background-color: #d7d7ff\"; title=\"-0.16\">банка</span> <span style=\"background-color: #ffffff\"; title=\"0.00\">для</span> <span style=\"background-color: #ffe7e7\"; title=\"0.22\">осуществления</span> <span style=\"background-color: #fbfbff\"; title=\"-0.02\">волеизъявления</span> <span style=\"background-color: #6767ff\"; title=\"-0.60\">сегодняшний</span> <span style=\"background-color: #ffffff\"; title=\"0.00\">мой</span> <span style=\"background-color: #f4f4ff\"; title=\"-0.04\">собеседник</span> <span style=\"background-color: #ffffff\"; title=\"0.00\">из</span> <span style=\"background-color: #fffbfb\"; title=\"0.03\">числа</span> <span style=\"background-color: #f8f8ff\"; title=\"-0.03\">работников</span> <span style=\"background-color: #d7d7ff\"; title=\"-0.16\">банка</span> <span style=\"background-color: #ffcfcf\"; title=\"0.45\">посоветовал</span> <span style=\"background-color: #fff4f4\"; title=\"0.10\">обратится</span> <span style=\"background-color: #ffffff\"; title=\"0.00\">в</span> <span style=\"background-color: #dbdbff\"; title=\"-0.14\">банк</span> <span style=\"background-color: #fff4f4\"; title=\"0.10\">посредством</span> <span style=\"background-color: #d2d2ff\"; title=\"-0.17\">чата</span> <span style=\"background-color: #ffffff\"; title=\"0.00\">в</span> <span style=\"background-color: #ffdfdf\"; title=\"0.29\">приложении</span> <span style=\"background-color: #ffffff\"; title=\"0.00\">мой</span> <span style=\"background-color: #e3e3ff\"; title=\"-0.11\">кредит</span> <span style=\"background-color: #ffffff\"; title=\"0.00\">и</span> <span style=\"background-color: #ffffff\"; title=\"0.00\">там</span> <span style=\"background-color: #bdbdff\"; title=\"-0.26\">попросить</span> <span style=\"background-color: #babaff\"; title=\"-0.27\">закрыть</span> <span style=\"background-color: #e6e6ff\"; title=\"-0.10\">вклад</span> <span style=\"background-color: #ffffff\"; title=\"0.00\">при</span> <span style=\"background-color: #ffffff\"; title=\"0.00\">этом</span> <span style=\"background-color: #fff2f2\"; title=\"0.12\">описание</span> <span style=\"background-color: #ffeded\"; title=\"0.16\">функционала</span> <span style=\"background-color: #c3c3ff\"; title=\"-0.24\">данного</span> <span style=\"background-color: #c9c9ff\"; title=\"-0.21\">приложения</span> <span style=\"background-color: #ffffff\"; title=\"0.00\">на</span> <span style=\"background-color: #c1c1ff\"; title=\"-0.24\">сайте</span> <span style=\"background-color: #9090ff\"; title=\"-0.44\">отсутствует</span> <span style=\"background-color: #ffffff\"; title=\"0.00\">что</span> <span style=\"background-color: #7f7fff\"; title=\"-0.50\">подтвердил</span> <span style=\"background-color: #fff3f3\"; title=\"0.11\">упомянутый</span> <span style=\"background-color: #f4f4ff\"; title=\"-0.04\">собеседник</span> <span style=\"background-color: #ffffff\"; title=\"0.00\">и</span> <span style=\"background-color: #ffffff\"; title=\"0.00\">что</span> <span style=\"background-color: #ffffff\"; title=\"0.00\">не</span> <span style=\"background-color: #fff8f8\"; title=\"0.06\">позволяет</span> <span style=\"background-color: #f1f1ff\"; title=\"-0.05\">проверить</span> <span style=\"background-color: #fff6f6\"; title=\"0.08\">надежность</span> <span style=\"background-color: #ffffff\"; title=\"0.00\">его</span> <span style=\"background-color: #dbdbff\"; title=\"-0.14\">рекомендаций</span> <span style=\"background-color: #ffffff\"; title=\"0.00\">при</span> <span style=\"background-color: #a5a5ff\"; title=\"-0.35\">попытке</span> <span style=\"background-color: #fff8f8\"; title=\"0.07\">войти</span> <span style=\"background-color: #ffffff\"; title=\"0.00\">в</span> <span style=\"background-color: #d3d3ff\"; title=\"-0.17\">данное</span> <span style=\"background-color: #ffe8e8\"; title=\"0.22\">приложение</span> <span style=\"background-color: #ffffff\"; title=\"0.00\">было</span> <span style=\"background-color: #7d7dff\"; title=\"-0.51\">предложено</span> <span style=\"background-color: #e2e2ff\"; title=\"-0.11\">ввести</span> <span style=\"background-color: #cdcdff\"; title=\"-0.20\">кодовое</span> <span style=\"background-color: #c9c9ff\"; title=\"-0.21\">слово</span> <span style=\"background-color: #d5d5ff\"; title=\"-0.17\">дебетовой</span> <span style=\"background-color: #ddddff\"; title=\"-0.13\">карты</span> <span style=\"background-color: #fefeff\"; title=\"-0.00\">срок</span> <span style=\"background-color: #ffe1e1\"; title=\"0.28\">действия</span> <span style=\"background-color: #d9d9ff\"; title=\"-0.15\">которой</span> <span style=\"background-color: #ffffff\"; title=\"0.00\">у</span> <span style=\"background-color: #ffffff\"; title=\"0.00\">меня</span> <span style=\"background-color: #8f8fff\"; title=\"-0.44\">истек</span> <span style=\"background-color: #ffeaea\"; title=\"0.20\">имеется</span> <span style=\"background-color: #ffffff\"; title=\"0.00\">только</span> <span style=\"background-color: #e6e6ff\"; title=\"-0.10\">вклад</span> <span style=\"background-color: #ffffff\"; title=\"0.00\">и</span> <span style=\"background-color: #f7f7ff\"; title=\"-0.03\">связанный</span> <span style=\"background-color: #fffafa\"; title=\"0.04\">счет</span> <span style=\"background-color: #c9c9ff\"; title=\"-0.21\">таким</span> <span style=\"background-color: #ffeaea\"; title=\"0.20\">образом</span> <span style=\"background-color: #ffffff\"; title=\"0.00\">у</span> <span style=\"background-color: #ffffff\"; title=\"0.00\">меня</span> <span style=\"background-color: #ffffff\"; title=\"0.00\">есть</span> <span style=\"background-color: #f4f4ff\"; title=\"-0.04\">выбор</span> <span style=\"background-color: #ffffff\"; title=\"0.00\">между</span> <span style=\"background-color: #8b8bff\"; title=\"-0.46\">использованием</span> <span style=\"background-color: #fff6f6\"; title=\"0.08\">опции</span> <span style=\"background-color: #babaff\"; title=\"-0.27\">закрыть</span> <span style=\"background-color: #e6e6ff\"; title=\"-0.10\">вклад</span> <span style=\"background-color: #ffffff\"; title=\"0.00\">в</span> <span style=\"background-color: #fffbfb\"; title=\"0.03\">интернет</span> <span style=\"background-color: #d0d0ff\"; title=\"-0.19\">банке</span> <span style=\"background-color: #ffffff\"; title=\"0.00\">и</span> <span style=\"background-color: #e8e8ff\"; title=\"-0.09\">соответствующими</span> <span style=\"background-color: #fff2f2\"; title=\"0.11\">последствиями</span> <span style=\"background-color: #f9f9ff\"; title=\"-0.02\">либо</span> <span style=\"background-color: #ffffff\"; title=\"0.00\">по</span> <span style=\"background-color: #ffefef\"; title=\"0.14\">версии</span> <span style=\"background-color: #e4e4ff\"; title=\"-0.10\">работника</span> <span style=\"background-color: #d7d7ff\"; title=\"-0.16\">банка</span> <span style=\"background-color: #f9f9ff\"; title=\"-0.02\">либо</span> <span style=\"background-color: #ffffff\"; title=\"0.00\">по</span> <span style=\"background-color: #ffefef\"; title=\"0.14\">версии</span> <span style=\"background-color: #fffbfb\"; title=\"0.03\">описания</span> <span style=\"background-color: #ffe6e6\"; title=\"0.23\">информационного</span> <span style=\"background-color: #f0f0ff\"; title=\"-0.06\">сервиса</span> <span style=\"background-color: #fffbfb\"; title=\"0.03\">интернет</span> <span style=\"background-color: #dbdbff\"; title=\"-0.14\">банк</span> <span style=\"background-color: #bcbcff\"; title=\"-0.26\">нарушением</span> <span style=\"background-color: #ffe1e1\"; title=\"0.28\">самоизоляции</span> <span style=\"background-color: #ffffff\"; title=\"0.00\">с</span> <span style=\"background-color: #f8f8ff\"; title=\"-0.03\">возможными</span> <span style=\"background-color: #fff2f2\"; title=\"0.11\">последствиями</span> <span style=\"background-color: #ffffff\"; title=\"0.00\">в</span> <span style=\"background-color: #ffe4e4\"; title=\"0.25\">виде</span> <span style=\"background-color: #f5f5ff\"; title=\"-0.04\">штрафа</span> <span style=\"background-color: #f1f1ff\"; title=\"-0.05\">пролонгацией</span> <span style=\"background-color: #a9a9ff\"; title=\"-0.34\">вклада</span> <span style=\"background-color: #ffffff\"; title=\"0.00\">под</span> <span style=\"background-color: #9797ff\"; title=\"-0.41\">годовых</span> <span style=\"background-color: #ffffff\"; title=\"0.00\">на</span> <span style=\"background-color: #fff5f5\"; title=\"0.09\">мес</span> <span style=\"background-color: #a8a8ff\"; title=\"-0.34\">уважаемый</span> <span style=\"background-color: #dbdbff\"; title=\"-0.14\">банк</span> <span style=\"background-color: #ffffff\"; title=\"0.00\">из</span> <span style=\"background-color: #e9e9ff\"; title=\"-0.08\">трех</span> <span style=\"background-color: #fffcfc\"; title=\"0.02\">зол</span> <span style=\"background-color: #ffffff\"; title=\"0.00\">я</span> <span style=\"background-color: #ffdfdf\"; title=\"0.29\">наверное</span> <span style=\"background-color: #e9e9ff\"; title=\"-0.08\">выберу</span> <span style=\"background-color: #afafff\"; title=\"-0.31\">третье</span> <span style=\"background-color: #ffffff\"; title=\"0.00\">но</span> <span style=\"background-color: #ffffff\"; title=\"0.00\">в</span> <span style=\"background-color: #ffefef\"; title=\"0.14\">конечном</span> <span style=\"background-color: #ffebeb\"; title=\"0.18\">счете</span> <span style=\"background-color: #ffffff\"; title=\"0.00\">после</span> <span style=\"background-color: #c6c6ff\"; title=\"-0.22\">снятия</span> <span style=\"background-color: #ceceff\"; title=\"-0.19\">режима</span> <span style=\"background-color: #ffe1e1\"; title=\"0.28\">самоизоляции</span> <span style=\"background-color: #efefff\"; title=\"-0.06\">расторгну</span> <span style=\"background-color: #f7f7ff\"; title=\"-0.03\">пролонгированный</span> <span style=\"background-color: #9393ff\"; title=\"-0.43\">договор</span> <span style=\"background-color: #fff9f9\"; title=\"0.05\">потеряв</span> <span style=\"background-color: #ffffff\"; title=\"0.00\">на</span> <span style=\"background-color: #b3b3ff\"; title=\"-0.30\">процентах</span> <span style=\"background-color: #ffdbdb\"; title=\"0.33\">учитывая</span> <span style=\"background-color: #fff9f9\"; title=\"0.05\">неопределенность</span> <span style=\"background-color: #ffffff\"; title=\"0.00\">со</span> <span style=\"background-color: #ffeded\"; title=\"0.16\">сроками</span> <span style=\"background-color: #ffe1e1\"; title=\"0.28\">самоизоляции</span> <span style=\"background-color: #ffffff\"; title=\"0.00\">и</span> <span style=\"background-color: #ffffff\"; title=\"0.00\">непривлекательность</span> <span style=\"background-color: #f6f6ff\"; title=\"-0.03\">данной</span> <span style=\"background-color: #ffe3e3\"; title=\"0.26\">ставки</span> <span style=\"background-color: #ffffff\"; title=\"0.00\">на</span> <span style=\"background-color: #cacaff\"; title=\"-0.21\">столь</span> <span style=\"background-color: #fff8f8\"; title=\"0.06\">длительный</span> <span style=\"background-color: #fefeff\"; title=\"-0.00\">срок</span> <span style=\"background-color: #ffffff\"; title=\"0.00\">в</span> <span style=\"background-color: #ffd4d4\"; title=\"0.40\">текущих</span> <span style=\"background-color: #d1d1ff\"; title=\"-0.18\">условиях</span> <span style=\"background-color: #ffffff\"; title=\"0.00\">а</span> <span style=\"background-color: #ffffff\"; title=\"0.00\">ведь</span> <span style=\"background-color: #dbdbff\"; title=\"-0.14\">банк</span> <span style=\"background-color: #ffffff\"; title=\"0.00\">с</span> <span style=\"background-color: #ffe7e7\"; title=\"0.22\">учетом</span> <span style=\"background-color: #ffffff\"; title=\"0.00\">тренда</span> <span style=\"background-color: #ffffff\"; title=\"0.00\">на</span> <span style=\"background-color: #d9d9ff\"; title=\"-0.15\">повышение</span> <span style=\"background-color: #dedeff\"; title=\"-0.13\">ставок</span> <span style=\"background-color: #ffffff\"; title=\"0.00\">по</span> <span style=\"background-color: #ffd0d0\"; title=\"0.44\">вкладам</span> <span style=\"background-color: #ffcece\"; title=\"0.45\">мог</span> <span style=\"background-color: #ffffff\"; title=\"0.00\">бы</span> <span style=\"background-color: #b2b2ff\"; title=\"-0.30\">предложить</span> <span style=\"background-color: #d6d6ff\"; title=\"-0.16\">своим</span> <span style=\"background-color: #ffe7e7\"; title=\"0.23\">постоянным</span> <span style=\"background-color: #a0a0ff\"; title=\"-0.37\">клиентам</span> <span style=\"background-color: #fffdfd\"; title=\"0.02\">пролонгацию</span> <span style=\"background-color: #ffffff\"; title=\"0.00\">под</span> <span style=\"background-color: #ffffff\"; title=\"0.00\">тот</span> <span style=\"background-color: #ffffff\"; title=\"0.00\">же</span> <span style=\"background-color: #fff5f5\"; title=\"0.09\">процент</span> <span style=\"background-color: #ffeeee\"; title=\"0.15\">который</span> <span style=\"background-color: #ffeaea\"; title=\"0.19\">действовал</span> <span style=\"background-color: #ffffff\"; title=\"0.00\">на</span> <span style=\"background-color: #fff3f3\"; title=\"0.11\">момент</span> <span style=\"background-color: #fffafa\"; title=\"0.05\">истечения</span> <span style=\"background-color: #ffe7e7\"; title=\"0.22\">срока</span> <span style=\"background-color: #a9a9ff\"; title=\"-0.34\">вклада</span> <span style=\"background-color: #ffffff\"; title=\"0.00\">на</span> <span style=\"background-color: #fefeff\"; title=\"-0.00\">срок</span> <span style=\"background-color: #ffffff\"; title=\"0.00\">до</span> <span style=\"background-color: #c6c6ff\"; title=\"-0.22\">снятия</span> <span style=\"background-color: #ceceff\"; title=\"-0.19\">режима</span> <span style=\"background-color: #ffe1e1\"; title=\"0.28\">самоизоляции</span> </p>"
      ],
      "text/plain": [
       "<IPython.core.display.HTML object>"
      ]
     },
     "metadata": {},
     "output_type": "display_data"
    },
    {
     "name": "stdout",
     "output_type": "stream",
     "text": [
      "rating: 4\n",
      "predicted proba: 1.0147657854859243e-06\n"
     ]
    },
    {
     "data": {
      "text/html": [
       "\n",
       "    <p style=\"font-size:16px; color:#000000; border: 2px solid #000; text-align: justify; background-color:#ffffff; border-radius: 25px; padding: 20px;\">\n",
       "    <span style=\"background-color: #ffffff\"; title=\"0.00\">в</span> <span style=\"background-color: #aeaeff\"; title=\"-0.32\">мае</span> <span style=\"background-color: #fff7f7\"; title=\"0.08\">г</span> <span style=\"background-color: #ffdfdf\"; title=\"0.29\">решил</span> <span style=\"background-color: #ffffff\"; title=\"0.00\">я</span> <span style=\"background-color: #bcbcff\"; title=\"-0.26\">открыть</span> <span style=\"background-color: #fff5f5\"; title=\"0.09\">кредитную</span> <span style=\"background-color: #bebeff\"; title=\"-0.25\">карту</span> <span style=\"background-color: #ffffff\"; title=\"0.00\">в</span> <span style=\"background-color: #d0d0ff\"; title=\"-0.19\">банке</span> <span style=\"background-color: #d0d0ff\"; title=\"-0.18\">втб</span> <span style=\"background-color: #ffffff\"; title=\"0.00\">ну</span> <span style=\"background-color: #ffffff\"; title=\"0.00\">потому</span> <span style=\"background-color: #ffffff\"; title=\"0.00\">как</span> <span style=\"background-color: #ffffff\"; title=\"0.00\">был</span> <span style=\"background-color: #ffffff\"; title=\"0.00\">их</span> <span style=\"background-color: #fffefe\"; title=\"0.01\">клиентом</span> <span style=\"background-color: #ffd6d6\"; title=\"0.38\">впечатления</span> <span style=\"background-color: #dbdbff\"; title=\"-0.14\">банк</span> <span style=\"background-color: #c1c1ff\"; title=\"-0.24\">оставлял</span> <span style=\"background-color: #ff9999\"; title=\"0.96\">положительные</span> <span style=\"background-color: #b7b7ff\"; title=\"-0.28\">мнения</span> <span style=\"background-color: #9f9fff\"; title=\"-0.38\">людей</span> <span style=\"background-color: #f3f3ff\"; title=\"-0.05\">которые</span> <span style=\"background-color: #ffffff\"; title=\"0.00\">высказывались</span> <span style=\"background-color: #e8e8ff\"; title=\"-0.09\">отрицательно</span> <span style=\"background-color: #ffffff\"; title=\"0.00\">не</span> <span style=\"background-color: #ffffff\"; title=\"0.00\">разделял</span> <span style=\"background-color: #ffffff\"; title=\"0.00\">может</span> <span style=\"background-color: #ffffff\"; title=\"0.00\">быть</span> <span style=\"background-color: #ffffff\"; title=\"0.00\">за</span> <span style=\"background-color: #d0d0ff\"; title=\"-0.18\">глаза</span> <span style=\"background-color: #ffffff\"; title=\"0.00\">даже</span> <span style=\"background-color: #ffc5c5\"; title=\"0.54\">немного</span> <span style=\"background-color: #ffffff\"; title=\"0.00\">осуждал</span> <span style=\"background-color: #ffffff\"; title=\"0.00\">в</span> <span style=\"background-color: #ffffff\"; title=\"0.00\">чем</span> <span style=\"background-color: #fafaff\"; title=\"-0.02\">каюсь</span> <span style=\"background-color: #ffffff\"; title=\"0.00\">был</span> <span style=\"background-color: #fdfdff\"; title=\"-0.00\">грех</span> <span style=\"background-color: #6565ff\"; title=\"-0.61\">кредитку</span> <span style=\"background-color: #ffdfdf\"; title=\"0.29\">решил</span> <span style=\"background-color: #bcbcff\"; title=\"-0.26\">открыть</span> <span style=\"background-color: #ffffff\"; title=\"0.00\">не</span> <span style=\"background-color: #ffffff\"; title=\"0.00\">потому</span> <span style=\"background-color: #ffffff\"; title=\"0.00\">что</span> <span style=\"background-color: #fffcfc\"; title=\"0.02\">срочно</span> <span style=\"background-color: #6363ff\"; title=\"-0.61\">нужны</span> <span style=\"background-color: #ffffff\"; title=\"0.00\">были</span> <span style=\"background-color: #fafaff\"; title=\"-0.02\">деньги</span> <span style=\"background-color: #a7a7ff\"; title=\"-0.35\">просто</span> <span style=\"background-color: #ffffff\"; title=\"0.00\">мне</span> <span style=\"background-color: #ffffff\"; title=\"0.00\">так</span> <span style=\"background-color: #ffd0d0\"; title=\"0.44\">удобнее</span> <span style=\"background-color: #ffd5d5\"; title=\"0.39\">пользуюсь</span> <span style=\"background-color: #ffe8e8\"; title=\"0.21\">заемными</span> <span style=\"background-color: #fffefe\"; title=\"0.01\">деньгами</span> <span style=\"background-color: #ffffff\"; title=\"0.00\">потом</span> <span style=\"background-color: #ffe4e4\"; title=\"0.26\">погашаю</span> <span style=\"background-color: #d0d0ff\"; title=\"-0.18\">задолженность</span> <span style=\"background-color: #ffffff\"; title=\"0.00\">в</span> <span style=\"background-color: #f2f2ff\"; title=\"-0.05\">грейс</span> <span style=\"background-color: #ffffff\"; title=\"0.00\">за</span> <span style=\"background-color: #d6d6ff\"; title=\"-0.16\">рамки</span> <span style=\"background-color: #ceceff\"; title=\"-0.19\">которого</span> <span style=\"background-color: #ffffff\"; title=\"0.00\">ни</span> <span style=\"background-color: #ffdcdc\"; title=\"0.33\">разу</span> <span style=\"background-color: #ffffff\"; title=\"0.00\">не</span> <span style=\"background-color: #dadaff\"; title=\"-0.14\">выходил</span> <span style=\"background-color: #ffdbdb\"; title=\"0.34\">знаю</span> <span style=\"background-color: #ffffff\"; title=\"0.00\">что</span> <span style=\"background-color: #b8b8ff\"; title=\"-0.28\">такое</span> <span style=\"background-color: #7474ff\"; title=\"-0.55\">поведение</span> <span style=\"background-color: #c7c7ff\"; title=\"-0.22\">клиента</span> <span style=\"background-color: #fffafa\"; title=\"0.04\">банку</span> <span style=\"background-color: #ffffff\"; title=\"0.00\">не</span> <span style=\"background-color: #c2c2ff\"; title=\"-0.24\">слишком</span> <span style=\"background-color: #a0a0ff\"; title=\"-0.38\">интересно</span> <span style=\"background-color: #ffffff\"; title=\"0.00\">но</span> <span style=\"background-color: #ffffff\"; title=\"0.00\">сейчас</span> <span style=\"background-color: #ffffff\"; title=\"0.00\">не</span> <span style=\"background-color: #ffffff\"; title=\"0.00\">о</span> <span style=\"background-color: #ffffff\"; title=\"0.00\">том</span> <span style=\"background-color: #ffffff\"; title=\"0.00\">моя</span> <span style=\"background-color: #ffffff\"; title=\"0.00\">идиллия</span> <span style=\"background-color: #ffffff\"; title=\"0.00\">с</span> <span style=\"background-color: #ffeaea\"; title=\"0.20\">пао</span> <span style=\"background-color: #d0d0ff\"; title=\"-0.18\">втб</span> <span style=\"background-color: #fffdfd\"; title=\"0.02\">длилась</span> <span style=\"background-color: #f9f9ff\"; title=\"-0.02\">немногим</span> <span style=\"background-color: #ffffff\"; title=\"0.00\">больше</span> <span style=\"background-color: #fff6f6\"; title=\"0.08\">года</span> <span style=\"background-color: #ffffff\"; title=\"0.00\">так</span> <span style=\"background-color: #ffffff\"; title=\"0.00\">уж</span> <span style=\"background-color: #ffd9d9\"; title=\"0.35\">сложилось</span> <span style=\"background-color: #ffffff\"; title=\"0.00\">что</span> <span style=\"background-color: #ffffff\"; title=\"0.00\">розовые</span> <span style=\"background-color: #f6f6ff\"; title=\"-0.03\">очки</span> <span style=\"background-color: #ffffff\"; title=\"0.00\">я</span> <span style=\"background-color: #fff9f9\"; title=\"0.05\">снял</span> <span style=\"background-color: #fff8f8\"; title=\"0.06\">поскольку</span> <span style=\"background-color: #ffffff\"; title=\"0.00\">из</span> <span style=\"background-color: #ffffff\"; title=\"0.00\">за</span> <span style=\"background-color: #ffd4d4\"; title=\"0.40\">всем</span> <span style=\"background-color: #fffdfd\"; title=\"0.01\">известных</span> <span style=\"background-color: #fff7f7\"; title=\"0.07\">событий</span> <span style=\"background-color: #b1b1ff\"; title=\"-0.31\">съездить</span> <span style=\"background-color: #ffffff\"; title=\"0.00\">на</span> <span style=\"background-color: #ffffff\"; title=\"0.00\">юга</span> <span style=\"background-color: #ffffff\"; title=\"0.00\">не</span> <span style=\"background-color: #ffd1d1\"; title=\"0.43\">удалось</span> <span style=\"background-color: #ffe6e6\"; title=\"0.23\">пришлось</span> <span style=\"background-color: #7676ff\"; title=\"-0.54\">сидеть</span> <span style=\"background-color: #fff4f4\"; title=\"0.10\">дома</span> <span style=\"background-color: #fefeff\"; title=\"-0.00\">пребывая</span> <span style=\"background-color: #ffffff\"; title=\"0.00\">в</span> <span style=\"background-color: #ffffff\"; title=\"0.00\">праздном</span> <span style=\"background-color: #ffffff\"; title=\"0.00\">безделье</span> <span style=\"background-color: #ffffff\"; title=\"0.00\">я</span> <span style=\"background-color: #b1b1ff\"; title=\"-0.30\">запросил</span> <span style=\"background-color: #fff5f5\"; title=\"0.09\">кредитную</span> <span style=\"background-color: #ddddff\"; title=\"-0.13\">историю</span> <span style=\"background-color: #ffffff\"; title=\"0.00\">в</span> <span style=\"background-color: #ffecec\"; title=\"0.18\">нбки</span> <span style=\"background-color: #ffffff\"; title=\"0.00\">созерцание</span> <span style=\"background-color: #1c1cff\"; title=\"-0.89\">ответа</span> <span style=\"background-color: #fefeff\"; title=\"-0.00\">вывело</span> <span style=\"background-color: #ffffff\"; title=\"0.00\">меня</span> <span style=\"background-color: #ffffff\"; title=\"0.00\">из</span> <span style=\"background-color: #ddddff\"; title=\"-0.13\">состояния</span> <span style=\"background-color: #fefeff\"; title=\"-0.00\">легкой</span> <span style=\"background-color: #ffffff\"; title=\"0.00\">дремы</span> <span style=\"background-color: #fffcfc\"; title=\"0.03\">оказалось</span> <span style=\"background-color: #dbdbff\"; title=\"-0.14\">банк</span> <span style=\"background-color: #ffffff\"; title=\"0.00\">с</span> <span style=\"background-color: #ceceff\"; title=\"-0.19\">мая</span> <span style=\"background-color: #4f4fff\"; title=\"-0.69\">раза</span> <span style=\"background-color: #ffffff\"; title=\"0.00\">в</span> <span style=\"background-color: #b6b6ff\"; title=\"-0.28\">месяц</span> <span style=\"background-color: #ffdfdf\"; title=\"0.30\">запрашивал</span> <span style=\"background-color: #ffbbbb\"; title=\"0.64\">мою</span> <span style=\"background-color: #fff5f5\"; title=\"0.09\">кредитную</span> <span style=\"background-color: #ddddff\"; title=\"-0.13\">историю</span> <span style=\"background-color: #ffffff\"; title=\"0.00\">я</span> <span style=\"background-color: #fff9f9\"; title=\"0.05\">сделал</span> <span style=\"background-color: #e2e2ff\"; title=\"-0.11\">аналогичные</span> <span style=\"background-color: #e1e1ff\"; title=\"-0.12\">запрос</span> <span style=\"background-color: #ffffff\"; title=\"0.00\">еще</span> <span style=\"background-color: #ffffff\"; title=\"0.00\">в</span> <span style=\"background-color: #ffffff\"; title=\"0.00\">два</span> <span style=\"background-color: #fff1f1\"; title=\"0.13\">кредитных</span> <span style=\"background-color: #c9c9ff\"; title=\"-0.21\">бюро</span> <span style=\"background-color: #ffffff\"; title=\"0.00\">но</span> <span style=\"background-color: #ffffff\"; title=\"0.00\">и</span> <span style=\"background-color: #ffffff\"; title=\"0.00\">там</span> <span style=\"background-color: #ffffff\"; title=\"0.00\">все</span> <span style=\"background-color: #ffffff\"; title=\"0.00\">мельтешило</span> <span style=\"background-color: #ffffff\"; title=\"0.00\">в</span> <span style=\"background-color: #ffffff\"; title=\"0.00\">аббревиатуре</span> <span style=\"background-color: #ffeaea\"; title=\"0.20\">пао</span> <span style=\"background-color: #d0d0ff\"; title=\"-0.18\">втб</span> <span style=\"background-color: #eeeeff\"; title=\"-0.06\">полагая</span> <span style=\"background-color: #ffffff\"; title=\"0.00\">что</span> <span style=\"background-color: #c7c7ff\"; title=\"-0.22\">это</span> <span style=\"background-color: #bdbdff\"; title=\"-0.26\">ошибка</span> <span style=\"background-color: #ffffff\"; title=\"0.00\">я</span> <span style=\"background-color: #fff5f5\"; title=\"0.09\">обратился</span> <span style=\"background-color: #ffffff\"; title=\"0.00\">на</span> <span style=\"background-color: #c8c8ff\"; title=\"-0.22\">телефон</span> <span style=\"background-color: #fffbfb\"; title=\"0.03\">горячей</span> <span style=\"background-color: #9999ff\"; title=\"-0.40\">линии</span> <span style=\"background-color: #f5f5ff\"; title=\"-0.04\">милая</span> <span style=\"background-color: #f4f4ff\"; title=\"-0.04\">девушка</span> <span style=\"background-color: #fcfcff\"; title=\"-0.01\">записала</span> <span style=\"background-color: #ffbbbb\"; title=\"0.64\">мою</span> <span style=\"background-color: #fff3f3\"; title=\"0.11\">просьбу</span> <span style=\"background-color: #f0f0ff\"; title=\"-0.06\">разобраться</span> <span style=\"background-color: #ffffff\"; title=\"0.00\">тут</span> <span style=\"background-color: #ffffff\"; title=\"0.00\">же</span> <span style=\"background-color: #fff0f0\"; title=\"0.13\">бодро</span> <span style=\"background-color: #ffffff\"; title=\"0.00\">звякнула</span> <span style=\"background-color: #fffbfb\"; title=\"0.04\">смс</span> <span style=\"background-color: #c7c7ff\"; title=\"-0.22\">это</span> <span style=\"background-color: #dbdbff\"; title=\"-0.14\">банк</span> <span style=\"background-color: #e6e6ff\"; title=\"-0.10\">сообщил</span> <span style=\"background-color: #ffffff\"; title=\"0.00\">что</span> <span style=\"background-color: #ffffff\"; title=\"0.00\">они</span> <span style=\"background-color: #ffffff\"; title=\"0.00\">меня</span> <span style=\"background-color: #fff4f4\"; title=\"0.10\">уважают</span> <span style=\"background-color: #ffffff\"; title=\"0.00\">и</span> <span style=\"background-color: #cdcdff\"; title=\"-0.19\">обращение</span> <span style=\"background-color: #ffffff\"; title=\"0.00\">будет</span> <span style=\"background-color: #fff5f5\"; title=\"0.09\">рассмотрено</span> <span style=\"background-color: #ffffff\"; title=\"0.00\">до</span> <span style=\"background-color: #ffabab\"; title=\"0.79\">будучи</span> <span style=\"background-color: #ff3333\"; title=\"1.93\">приятно</span> <span style=\"background-color: #ffe9e9\"; title=\"0.20\">удивлен</span> <span style=\"background-color: #c9c9ff\"; title=\"-0.21\">таким</span> <span style=\"background-color: #b9b9ff\"; title=\"-0.27\">отношением</span> <span style=\"background-color: #ffffff\"; title=\"0.00\">я</span> <span style=\"background-color: #ffeaea\"; title=\"0.19\">стал</span> <span style=\"background-color: #cfcfff\"; title=\"-0.19\">ждать</span> <span style=\"background-color: #4242ff\"; title=\"-0.74\">видимо</span> <span style=\"background-color: #ffffff\"; title=\"0.00\">из</span> <span style=\"background-color: #ffffff\"; title=\"0.00\">за</span> <span style=\"background-color: #ededff\"; title=\"-0.07\">программного</span> <span style=\"background-color: #ffe3e3\"; title=\"0.26\">сбоя</span> <span style=\"background-color: #cacaff\"; title=\"-0.21\">ответ</span> <span style=\"background-color: #ffffff\"; title=\"0.00\">я</span> <span style=\"background-color: #ffffff\"; title=\"0.00\">не</span> <span style=\"background-color: #fff6f6\"; title=\"0.09\">получил</span> <span style=\"background-color: #ffcaca\"; title=\"0.50\">поэтому</span> <span style=\"background-color: #9090ff\"; title=\"-0.44\">повторно</span> <span style=\"background-color: #fff5f5\"; title=\"0.09\">обратился</span> <span style=\"background-color: #ffffff\"; title=\"0.00\">на</span> <span style=\"background-color: #fff5f5\"; title=\"0.09\">горячую</span> <span style=\"background-color: #cacaff\"; title=\"-0.21\">линию</span> <span style=\"background-color: #ffffff\"; title=\"0.00\">там</span> <span style=\"background-color: #ffffff\"; title=\"0.00\">мне</span> <span style=\"background-color: #ffe5e5\"; title=\"0.24\">сообщили</span> <span style=\"background-color: #ffffff\"; title=\"0.00\">что</span> <span style=\"background-color: #ffffff\"; title=\"0.00\">для</span> <span style=\"background-color: #c0c0ff\"; title=\"-0.25\">рассмотрения</span> <span style=\"background-color: #ffd4d4\"; title=\"0.41\">запроса</span> <span style=\"background-color: #b1b1ff\"; title=\"-0.30\">недостаточно</span> <span style=\"background-color: #c2c2ff\"; title=\"-0.24\">данных</span> <span style=\"background-color: #fff2f2\"; title=\"0.12\">нужно</span> <span style=\"background-color: #fff6f6\"; title=\"0.08\">направить</span> <span style=\"background-color: #ffe3e3\"; title=\"0.26\">подтверждающие</span> <span style=\"background-color: #ffeeee\"; title=\"0.16\">документы</span> <span style=\"background-color: #ffffff\"; title=\"0.00\">из</span> <span style=\"background-color: #fffcfc\"; title=\"0.02\">бки</span> <span style=\"background-color: #ffffff\"; title=\"0.00\">я</span> <span style=\"background-color: #ffffff\"; title=\"0.00\">был</span> <span style=\"background-color: #e0e0ff\"; title=\"-0.12\">слегка</span> <span style=\"background-color: #ffffff\"; title=\"0.00\">озадачен</span> <span style=\"background-color: #ffffff\"; title=\"0.00\">как</span> <span style=\"background-color: #ffffff\"; title=\"0.00\">же</span> <span style=\"background-color: #ffffff\"; title=\"0.00\">так</span> <span style=\"background-color: #dbdbff\"; title=\"-0.14\">банк</span> <span style=\"background-color: #f4f4ff\"; title=\"-0.04\">запрашивает</span> <span style=\"background-color: #fff5f5\"; title=\"0.09\">кредитную</span> <span style=\"background-color: #ddddff\"; title=\"-0.13\">историю</span> <span style=\"background-color: #ffffff\"; title=\"0.00\">и</span> <span style=\"background-color: #ffffff\"; title=\"0.00\">потом</span> <span style=\"background-color: #bdbdff\"; title=\"-0.26\">говорит</span> <span style=\"background-color: #ffffff\"; title=\"0.00\">что</span> <span style=\"background-color: #ffffff\"; title=\"0.00\">мне</span> <span style=\"background-color: #c7c7ff\"; title=\"-0.22\">это</span> <span style=\"background-color: #ffffff\"; title=\"0.00\">надо</span> <span style=\"background-color: #ffffff\"; title=\"0.00\">еще</span> <span style=\"background-color: #5b5bff\"; title=\"-0.65\">доказать</span> <span style=\"background-color: #c0c0ff\"; title=\"-0.25\">своими</span> <span style=\"background-color: #ffffff\"; title=\"0.00\">сомнениями</span> <span style=\"background-color: #ffffff\"; title=\"0.00\">я</span> <span style=\"background-color: #fbfbff\"; title=\"-0.01\">поделился</span> <span style=\"background-color: #ffffff\"; title=\"0.00\">с</span> <span style=\"background-color: #d4d4ff\"; title=\"-0.17\">оператором</span> <span style=\"background-color: #ffffff\"; title=\"0.00\">но</span> <span style=\"background-color: #dedeff\"; title=\"-0.13\">спорить</span> <span style=\"background-color: #ffffff\"; title=\"0.00\">не</span> <span style=\"background-color: #ffeaea\"; title=\"0.19\">стал</span> <span style=\"background-color: #ffffff\"; title=\"0.00\">тут</span> <span style=\"background-color: #ffffff\"; title=\"0.00\">же</span> <span style=\"background-color: #b9b9ff\"; title=\"-0.27\">пришли</span> <span style=\"background-color: #ffffff\"; title=\"0.00\">два</span> <span style=\"background-color: #fffbfb\"; title=\"0.04\">смс</span> <span style=\"background-color: #cacaff\"; title=\"-0.21\">ответ</span> <span style=\"background-color: #ffffff\"; title=\"0.00\">на</span> <span style=\"background-color: #ffb8b8\"; title=\"0.67\">первое</span> <span style=\"background-color: #cdcdff\"; title=\"-0.19\">обращение</span> <span style=\"background-color: #ffffff\"; title=\"0.00\">и</span> <span style=\"background-color: #ffffff\"; title=\"0.00\">то</span> <span style=\"background-color: #ffffff\"; title=\"0.00\">что</span> <span style=\"background-color: #a2a2ff\"; title=\"-0.37\">второе</span> <span style=\"background-color: #aaaaff\"; title=\"-0.33\">зарегистрировано</span> <span style=\"background-color: #ffffff\"; title=\"0.00\">будет</span> <span style=\"background-color: #fff5f5\"; title=\"0.09\">рассмотрено</span> <span style=\"background-color: #ffffff\"; title=\"0.00\">до</span> <span style=\"background-color: #9d9dff\"; title=\"-0.38\">июля</span> <span style=\"background-color: #dbdbff\"; title=\"-0.14\">банк</span> <span style=\"background-color: #ffffff\"; title=\"0.00\">опять</span> <span style=\"background-color: #fdfdff\"; title=\"-0.01\">признался</span> <span style=\"background-color: #ffffff\"; title=\"0.00\">в</span> <span style=\"background-color: #ffe1e1\"; title=\"0.28\">своем</span> <span style=\"background-color: #fff0f0\"; title=\"0.13\">уважении</span> <span style=\"background-color: #ffffff\"; title=\"0.00\">в</span> <span style=\"background-color: #fff0f0\"; title=\"0.14\">одном</span> <span style=\"background-color: #fffbfb\"; title=\"0.04\">смс</span> <span style=\"background-color: #ffffff\"; title=\"0.00\">даже</span> <span style=\"background-color: #7777ff\"; title=\"-0.54\">дважды</span> <span style=\"background-color: #ffffff\"; title=\"0.00\">на</span> <span style=\"background-color: #ffffff\"; title=\"0.00\">том</span> <span style=\"background-color: #ffffff\"; title=\"0.00\">и</span> <span style=\"background-color: #fffafa\"; title=\"0.05\">расстались</span> <span style=\"background-color: #ffffff\"; title=\"0.00\">я</span> <span style=\"background-color: #ffffff\"; title=\"0.00\">как</span> <span style=\"background-color: #ffffff\"; title=\"0.00\">и</span> <span style=\"background-color: #ffeeee\"; title=\"0.15\">обещал</span> <span style=\"background-color: #fff1f1\"; title=\"0.13\">отправил</span> <span style=\"background-color: #ffffff\"; title=\"0.00\">на</span> <span style=\"background-color: #b4b4ff\"; title=\"-0.30\">почту</span> <span style=\"background-color: #d7d7ff\"; title=\"-0.16\">банка</span> <span style=\"background-color: #d0d0ff\"; title=\"-0.18\">отчеты</span> <span style=\"background-color: #fffcfc\"; title=\"0.02\">бки</span> <span style=\"background-color: #ffffff\"; title=\"0.00\">через</span> <span style=\"background-color: #fff2f2\"; title=\"0.12\">какое</span> <span style=\"background-color: #ffffff\"; title=\"0.00\">то</span> <span style=\"background-color: #f8f8ff\"; title=\"-0.02\">время</span> <span style=\"background-color: #ffffff\"; title=\"0.00\">мне</span> <span style=\"background-color: #fff0f0\"; title=\"0.14\">позвонили</span> <span style=\"background-color: #f4f4ff\"; title=\"-0.04\">девушка</span> <span style=\"background-color: #ffffff\"; title=\"0.00\">с</span> <span style=\"background-color: #fbfbff\"; title=\"-0.02\">интонацией</span> <span style=\"background-color: #b3b3ff\"; title=\"-0.30\">робота</span> <span style=\"background-color: #ffd2d2\"; title=\"0.42\">стала</span> <span style=\"background-color: #f5f5ff\"; title=\"-0.04\">зачитывать</span> <span style=\"background-color: #babaff\"; title=\"-0.27\">текст</span> <span style=\"background-color: #1c1cff\"; title=\"-0.89\">ответа</span> <span style=\"background-color: #ffffff\"; title=\"0.00\">что</span> <span style=\"background-color: #fffbfb\"; title=\"0.04\">нарушений</span> <span style=\"background-color: #ffffff\"; title=\"0.00\">не</span> <span style=\"background-color: #ffeaea\"; title=\"0.20\">имеется</span> <span style=\"background-color: #dbdbff\"; title=\"-0.14\">банк</span> <span style=\"background-color: #fff5f5\"; title=\"0.09\">имеет</span> <span style=\"background-color: #a5a5ff\"; title=\"-0.35\">право</span> <span style=\"background-color: #ffffff\"; title=\"0.00\">и</span> <span style=\"background-color: #c1c1ff\"; title=\"-0.24\">тд</span> <span style=\"background-color: #fffbfb\"; title=\"0.04\">смс</span> <span style=\"background-color: #ffffff\"; title=\"0.00\">с</span> <span style=\"background-color: #fffcfc\"; title=\"0.03\">ответом</span> <span style=\"background-color: #9b9bff\"; title=\"-0.39\">естественно</span> <span style=\"background-color: #ffffff\"; title=\"0.00\">не</span> <span style=\"background-color: #fff0f0\"; title=\"0.13\">пришло</span> <span style=\"background-color: #ffffff\"; title=\"0.00\">ни</span> <span style=\"background-color: #ffffff\"; title=\"0.00\">до</span> <span style=\"background-color: #ffffff\"; title=\"0.00\">ни</span> <span style=\"background-color: #ffffff\"; title=\"0.00\">после</span> <span style=\"background-color: #ffffff\"; title=\"0.00\">на</span> <span style=\"background-color: #ffffff\"; title=\"0.00\">что</span> <span style=\"background-color: #ffffff\"; title=\"0.00\">в</span> <span style=\"background-color: #ffe3e3\"; title=\"0.26\">общем</span> <span style=\"background-color: #ffffff\"; title=\"0.00\">то</span> <span style=\"background-color: #ffffff\"; title=\"0.00\">и</span> <span style=\"background-color: #ffffff\"; title=\"0.00\">то</span> <span style=\"background-color: #ffffff\"; title=\"0.00\">не</span> <span style=\"background-color: #fefeff\"; title=\"-0.00\">претендую</span> <span style=\"background-color: #ffffff\"; title=\"0.00\">что</span> <span style=\"background-color: #ffffff\"; title=\"0.00\">тут</span> <span style=\"background-color: #9898ff\"; title=\"-0.40\">ответить</span> <span style=\"background-color: #ffffff\"; title=\"0.00\">я</span> <span style=\"background-color: #9e9eff\"; title=\"-0.38\">сказал</span> <span style=\"background-color: #fffdfd\"; title=\"0.01\">девушке</span> <span style=\"background-color: #ffffff\"; title=\"0.00\">что</span> <span style=\"background-color: #dbdbff\"; title=\"-0.14\">банк</span> <span style=\"background-color: #fff5f5\"; title=\"0.09\">имеет</span> <span style=\"background-color: #a5a5ff\"; title=\"-0.35\">право</span> <span style=\"background-color: #bfbfff\"; title=\"-0.25\">закон</span> <span style=\"background-color: #ffffff\"; title=\"0.00\">я</span> <span style=\"background-color: #ffdbdb\"; title=\"0.34\">знаю</span> <span style=\"background-color: #ffffff\"; title=\"0.00\">но</span> <span style=\"background-color: #ffffff\"; title=\"0.00\">я</span> <span style=\"background-color: #f4f4ff\"; title=\"-0.04\">просил</span> <span style=\"background-color: #f0f0ff\"; title=\"-0.06\">разобраться</span> <span style=\"background-color: #ffffff\"; title=\"0.00\">а</span> <span style=\"background-color: #ffffff\"; title=\"0.00\">не</span> <span style=\"background-color: #e2e2ff\"; title=\"-0.11\">давать</span> <span style=\"background-color: #7a7aff\"; title=\"-0.52\">отписку</span> <span style=\"background-color: #fffcfc\"; title=\"0.03\">поговорив</span> <span style=\"background-color: #ffffff\"; title=\"0.00\">я</span> <span style=\"background-color: #ffdfdf\"; title=\"0.29\">решил</span> <span style=\"background-color: #f6f6ff\"; title=\"-0.03\">отпустить</span> <span style=\"background-color: #ffffff\"; title=\"0.00\">эту</span> <span style=\"background-color: #ffecec\"; title=\"0.17\">ситуацию</span> <span style=\"background-color: #fbfbff\"; title=\"-0.01\">думаю</span> <span style=\"background-color: #7373ff\"; title=\"-0.55\">ладно</span> <span style=\"background-color: #8787ff\"; title=\"-0.47\">сентября</span> <span style=\"background-color: #ffffff\"; title=\"0.00\">у</span> <span style=\"background-color: #ffffff\"; title=\"0.00\">меня</span> <span style=\"background-color: #ffffff\"; title=\"0.00\">выдалось</span> <span style=\"background-color: #fefeff\"; title=\"-0.00\">свободное</span> <span style=\"background-color: #f8f8ff\"; title=\"-0.02\">время</span> <span style=\"background-color: #ffffff\"; title=\"0.00\">я</span> <span style=\"background-color: #ffdfdf\"; title=\"0.29\">решил</span> <span style=\"background-color: #ffffff\"; title=\"0.00\">опять</span> <span style=\"background-color: #f1f1ff\"; title=\"-0.05\">запросить</span> <span style=\"background-color: #fff5f5\"; title=\"0.09\">кредитную</span> <span style=\"background-color: #ddddff\"; title=\"-0.13\">историю</span> <span style=\"background-color: #ffffff\"; title=\"0.00\">в</span> <span style=\"background-color: #fff3f3\"; title=\"0.10\">эквифакс</span> <span style=\"background-color: #fffcfc\"; title=\"0.03\">оказалось</span> <span style=\"background-color: #ffffff\"; title=\"0.00\">что</span> <span style=\"background-color: #ffffff\"; title=\"0.00\">с</span> <span style=\"background-color: #fffafa\"; title=\"0.04\">прибавилось</span> <span style=\"background-color: #ffffff\"; title=\"0.00\">еще</span> <span style=\"background-color: #bfbfff\"; title=\"-0.25\">четыре</span> <span style=\"background-color: #ffd4d4\"; title=\"0.41\">запроса</span> <span style=\"background-color: #ffffff\"; title=\"0.00\">от</span> <span style=\"background-color: #ffeaea\"; title=\"0.20\">пао</span> <span style=\"background-color: #d0d0ff\"; title=\"-0.18\">втб</span> <span style=\"background-color: #7f7fff\"; title=\"-0.50\">та</span> <span style=\"background-color: #ffffff\"; title=\"0.00\">же</span> <span style=\"background-color: #9f9fff\"; title=\"-0.38\">история</span> <span style=\"background-color: #ffffff\"; title=\"0.00\">наблюдалась</span> <span style=\"background-color: #ffffff\"; title=\"0.00\">в</span> <span style=\"background-color: #ffecec\"; title=\"0.18\">нбки</span> <span style=\"background-color: #afafff\"; title=\"-0.31\">третье</span> <span style=\"background-color: #c9c9ff\"; title=\"-0.21\">бюро</span> <span style=\"background-color: #ffffff\"; title=\"0.00\">уже</span> <span style=\"background-color: #fff0f0\"; title=\"0.14\">запрашивать</span> <span style=\"background-color: #ffffff\"; title=\"0.00\">не</span> <span style=\"background-color: #ffeaea\"; title=\"0.19\">стал</span> <span style=\"background-color: #8d8dff\"; title=\"-0.45\">получается</span> <span style=\"background-color: #ffffff\"; title=\"0.00\">что</span> <span style=\"background-color: #ffffff\"; title=\"0.00\">в</span> <span style=\"background-color: #f3f3ff\"; title=\"-0.04\">каждом</span> <span style=\"background-color: #c9c9ff\"; title=\"-0.21\">бюро</span> <span style=\"background-color: #ffbbbb\"; title=\"0.64\">мою</span> <span style=\"background-color: #ddddff\"; title=\"-0.13\">историю</span> <span style=\"background-color: #ffffff\"; title=\"0.00\">с</span> <span style=\"background-color: #ceceff\"; title=\"-0.19\">мая</span> <span style=\"background-color: #ffffff\"; title=\"0.00\">по</span> <span style=\"background-color: #fff7f7\"; title=\"0.07\">начало</span> <span style=\"background-color: #8787ff\"; title=\"-0.47\">сентября</span> <span style=\"background-color: #fff7f7\"; title=\"0.08\">г</span> <span style=\"background-color: #ffe3e3\"; title=\"0.26\">запросили</span> <span style=\"background-color: #ffffff\"; title=\"0.00\">по</span> <span style=\"background-color: #ffffff\"; title=\"0.00\">раз</span> <span style=\"background-color: #b6b6ff\"; title=\"-0.29\">итого</span> <span style=\"background-color: #e1e1ff\"; title=\"-0.12\">запрос</span> <span style=\"background-color: #ffffff\"; title=\"0.00\">за</span> <span style=\"background-color: #ffe7e7\"; title=\"0.22\">год</span> <span style=\"background-color: #d3d3ff\"; title=\"-0.17\">месяца</span> <span style=\"background-color: #ffffff\"; title=\"0.00\">чем</span> <span style=\"background-color: #f5f5ff\"; title=\"-0.04\">вызван</span> <span style=\"background-color: #ffdddd\"; title=\"0.32\">подобный</span> <span style=\"background-color: #fff0f0\"; title=\"0.14\">интерес</span> <span style=\"background-color: #ffffff\"; title=\"0.00\">к</span> <span style=\"background-color: #ffe7e7\"; title=\"0.22\">моей</span> <span style=\"background-color: #fafaff\"; title=\"-0.02\">персоне</span> <span style=\"background-color: #ffffff\"; title=\"0.00\">и</span> <span style=\"background-color: #ffffff\"; title=\"0.00\">зачем</span> <span style=\"background-color: #ffe4e4\"; title=\"0.25\">портить</span> <span style=\"background-color: #fff5f5\"; title=\"0.09\">кредитную</span> <span style=\"background-color: #ddddff\"; title=\"-0.13\">историю</span> <span style=\"background-color: #ffffff\"; title=\"0.00\">когда</span> <span style=\"background-color: #ffffff\"; title=\"0.00\">я</span> <span style=\"background-color: #ffefef\"; title=\"0.15\">открывал</span> <span style=\"background-color: #6565ff\"; title=\"-0.61\">кредитку</span> <span style=\"background-color: #ffffff\"; title=\"0.00\">мне</span> <span style=\"background-color: #d8d8ff\"; title=\"-0.15\">говорили</span> <span style=\"background-color: #ffffff\"; title=\"0.00\">что</span> <span style=\"background-color: #c4c4ff\"; title=\"-0.23\">запросы</span> <span style=\"background-color: #f0f0ff\"; title=\"-0.06\">будут</span> <span style=\"background-color: #fffefe\"; title=\"0.00\">делать</span> <span style=\"background-color: #e2e2ff\"; title=\"-0.11\">максимум</span> <span style=\"background-color: #ffffff\"; title=\"0.00\">раз</span> <span style=\"background-color: #ffffff\"; title=\"0.00\">в</span> <span style=\"background-color: #fffcfc\"; title=\"0.02\">полгода</span> <span style=\"background-color: #8d8dff\"; title=\"-0.45\">получается</span> <span style=\"background-color: #c7c7ff\"; title=\"-0.22\">это</span> <span style=\"background-color: #ffffff\"; title=\"0.00\">было</span> <span style=\"background-color: #ffffff\"; title=\"0.00\">лукавство</span> <span style=\"background-color: #c7c7ff\"; title=\"-0.22\">это</span> <span style=\"background-color: #ffb8b8\"; title=\"0.67\">первое</span> <span style=\"background-color: #a2a2ff\"; title=\"-0.37\">второе</span> <span style=\"background-color: #ffffff\"; title=\"0.00\">если</span> <span style=\"background-color: #d3d3ff\"; title=\"-0.17\">посмотреть</span> <span style=\"background-color: #fefeff\"; title=\"-0.00\">кредитка</span> <span style=\"background-color: #c7c7ff\"; title=\"-0.22\">это</span> <span style=\"background-color: #ffffff\"; title=\"0.00\">второстепенный</span> <span style=\"background-color: #e0e0ff\"; title=\"-0.12\">вопрос</span> <span style=\"background-color: #ffecec\"; title=\"0.17\">моих</span> <span style=\"background-color: #fff8f8\"; title=\"0.06\">взаимоотношений</span> <span style=\"background-color: #ffffff\"; title=\"0.00\">с</span> <span style=\"background-color: #d0d0ff\"; title=\"-0.18\">банком</span> <span style=\"background-color: #f9f9ff\"; title=\"-0.02\">сумма</span> <span style=\"background-color: #b1b1ff\"; title=\"-0.30\">лимита</span> <span style=\"background-color: #ffffff\"; title=\"0.00\">ну</span> <span style=\"background-color: #f3f3ff\"; title=\"-0.04\">скажем</span> <span style=\"background-color: #ffffff\"; title=\"0.00\">так</span> <span style=\"background-color: #ffffff\"; title=\"0.00\">не</span> <span style=\"background-color: #fffafa\"; title=\"0.04\">серьезная</span> <span style=\"background-color: #ffffff\"; title=\"0.00\">для</span> <span style=\"background-color: #ffffff\"; title=\"0.00\">меня</span> <span style=\"background-color: #c7c7ff\"; title=\"-0.22\">это</span> <span style=\"background-color: #ffecec\"; title=\"0.18\">карточка</span> <span style=\"background-color: #d9d9ff\"; title=\"-0.15\">которой</span> <span style=\"background-color: #ffefef\"; title=\"0.15\">расплачиваюсь</span> <span style=\"background-color: #ffffff\"; title=\"0.00\">в</span> <span style=\"background-color: #fff3f3\"; title=\"0.11\">магазине</span> <span style=\"background-color: #ffffff\"; title=\"0.00\">неужто</span> <span style=\"background-color: #dbdbff\"; title=\"-0.14\">банк</span> <span style=\"background-color: #dfdfff\"; title=\"-0.12\">настолько</span> <span style=\"background-color: #ffffff\"; title=\"0.00\">не</span> <span style=\"background-color: #ffe8e8\"; title=\"0.21\">доверяет</span> <span style=\"background-color: #d6d6ff\"; title=\"-0.16\">своим</span> <span style=\"background-color: #a0a0ff\"; title=\"-0.37\">клиентам</span> <span style=\"background-color: #ffffff\"; title=\"0.00\">я</span> <span style=\"background-color: #acacff\"; title=\"-0.33\">понимаю</span> <span style=\"background-color: #ffffff\"; title=\"0.00\">что</span> <span style=\"background-color: #adadff\"; title=\"-0.32\">самый</span> <span style=\"background-color: #9292ff\"; title=\"-0.43\">простой</span> <span style=\"background-color: #ffeeee\"; title=\"0.16\">путь</span> <span style=\"background-color: #fffefe\"; title=\"0.01\">прекратить</span> <span style=\"background-color: #ffffff\"; title=\"0.00\">всю</span> <span style=\"background-color: #ffffff\"; title=\"0.00\">эту</span> <span style=\"background-color: #ddddff\"; title=\"-0.13\">историю</span> <span style=\"background-color: #babaff\"; title=\"-0.27\">закрыть</span> <span style=\"background-color: #6565ff\"; title=\"-0.61\">кредитку</span> <span style=\"background-color: #fffbfb\"; title=\"0.03\">других</span> <span style=\"background-color: #fffbfb\"; title=\"0.04\">обязательств</span> <span style=\"background-color: #ffffff\"; title=\"0.00\">перед</span> <span style=\"background-color: #d0d0ff\"; title=\"-0.18\">банком</span> <span style=\"background-color: #ffffff\"; title=\"0.00\">у</span> <span style=\"background-color: #ffffff\"; title=\"0.00\">меня</span> <span style=\"background-color: #ffffff\"; title=\"0.00\">нет</span> <span style=\"background-color: #ffffff\"; title=\"0.00\">так</span> <span style=\"background-color: #ffffff\"; title=\"0.00\">что</span> <span style=\"background-color: #ffcaca\"; title=\"0.50\">точка</span> <span style=\"background-color: #ffffff\"; title=\"0.00\">будет</span> <span style=\"background-color: #fff5f5\"; title=\"0.09\">поставлена</span> <span style=\"background-color: #4242ff\"; title=\"-0.74\">видимо</span> <span style=\"background-color: #ffffff\"; title=\"0.00\">не</span> <span style=\"background-color: #ffd8d8\"; title=\"0.37\">случайно</span> <span style=\"background-color: #fafaff\"; title=\"-0.02\">дата</span> <span style=\"background-color: #ffffff\"; title=\"0.00\">когда</span> <span style=\"background-color: #ffffff\"; title=\"0.00\">был</span> <span style=\"background-color: #9999ff\"; title=\"-0.40\">сделан</span> <span style=\"background-color: #e1e1ff\"; title=\"-0.12\">запрос</span> <span style=\"background-color: #ffffff\"; title=\"0.00\">и</span> <span style=\"background-color: #dfdfff\"; title=\"-0.13\">написано</span> <span style=\"background-color: #c7c7ff\"; title=\"-0.22\">это</span> <span style=\"background-color: #babaff\"; title=\"-0.27\">письмо</span> <span style=\"background-color: #fffefe\"; title=\"0.00\">совпала</span> <span style=\"background-color: #ffffff\"; title=\"0.00\">с</span> <span style=\"background-color: #ffffff\"; title=\"0.00\">одноименной</span> <span style=\"background-color: #ffffff\"; title=\"0.00\">песней</span> <span style=\"background-color: #fafaff\"; title=\"-0.02\">известного</span> <span style=\"background-color: #fff0f0\"; title=\"0.14\">российского</span> <span style=\"background-color: #ffffff\"; title=\"0.00\">певца</span> <span style=\"background-color: #ffffff\"; title=\"0.00\">по</span> <span style=\"background-color: #e5e5ff\"; title=\"-0.10\">смыслу</span> <span style=\"background-color: #ffffff\"; title=\"0.00\">и</span> <span style=\"background-color: #f8f8ff\"; title=\"-0.03\">содержанию</span> <span style=\"background-color: #ffffff\"; title=\"0.00\">но</span> <span style=\"background-color: #c7c7ff\"; title=\"-0.22\">это</span> <span style=\"background-color: #ffffff\"; title=\"0.00\">все</span> <span style=\"background-color: #f6f6ff\"; title=\"-0.03\">лирика</span> <span style=\"background-color: #ffffff\"; title=\"0.00\">а</span> <span style=\"background-color: #ffe5e5\"; title=\"0.24\">пока</span> <span style=\"background-color: #ffb9b9\"; title=\"0.66\">хотелось</span> <span style=\"background-color: #ffffff\"; title=\"0.00\">бы</span> <span style=\"background-color: #f0f0ff\"; title=\"-0.06\">разобраться</span> <span style=\"background-color: #acacff\"; title=\"-0.33\">почему</span> </p>"
      ],
      "text/plain": [
       "<IPython.core.display.HTML object>"
      ]
     },
     "metadata": {},
     "output_type": "display_data"
    },
    {
     "name": "stdout",
     "output_type": "stream",
     "text": [
      "rating: 4\n",
      "predicted proba: 1.2162001458849035e-06\n"
     ]
    },
    {
     "data": {
      "text/html": [
       "\n",
       "    <p style=\"font-size:16px; color:#000000; border: 2px solid #000; text-align: justify; background-color:#ffffff; border-radius: 25px; padding: 20px;\">\n",
       "    <span style=\"background-color: #e7e7ff\"; title=\"-0.09\">являюсь</span> <span style=\"background-color: #fffefe\"; title=\"0.01\">клиентом</span> <span style=\"background-color: #d7d7ff\"; title=\"-0.16\">банка</span> <span style=\"background-color: #ffffff\"; title=\"0.00\">в</span> <span style=\"background-color: #ffdddd\"; title=\"0.32\">течение</span> <span style=\"background-color: #ffdddd\"; title=\"0.32\">примерно</span> <span style=\"background-color: #ddddff\"; title=\"-0.13\">ух</span> <span style=\"background-color: #fff5f5\"; title=\"0.09\">лет</span> <span style=\"background-color: #fff0f0\"; title=\"0.14\">оформил</span> <span style=\"background-color: #ffffff\"; title=\"0.00\">и</span> <span style=\"background-color: #9e9eff\"; title=\"-0.38\">исправно</span> <span style=\"background-color: #ffe4e4\"; title=\"0.25\">выплачиваю</span> <span style=\"background-color: #bebeff\"; title=\"-0.25\">ипотеку</span> <span style=\"background-color: #ffffff\"; title=\"0.00\">в</span> <span style=\"background-color: #d0d0ff\"; title=\"-0.19\">банке</span> <span style=\"background-color: #ababff\"; title=\"-0.33\">открытие</span> <span style=\"background-color: #d1d1ff\"; title=\"-0.18\">номер</span> <span style=\"background-color: #babaff\"; title=\"-0.27\">кредитного</span> <span style=\"background-color: #fffbfb\"; title=\"0.03\">договора</span> <span style=\"background-color: #ffffff\"; title=\"0.00\">от</span> <span style=\"background-color: #fff7f7\"; title=\"0.08\">г</span> <span style=\"background-color: #ffffff\"; title=\"0.00\">в</span> <span style=\"background-color: #e2e2ff\"; title=\"-0.11\">связи</span> <span style=\"background-color: #ffffff\"; title=\"0.00\">с</span> <span style=\"background-color: #e2e2ff\"; title=\"-0.11\">понижением</span> <span style=\"background-color: #b5b5ff\"; title=\"-0.29\">ключевой</span> <span style=\"background-color: #ffe3e3\"; title=\"0.26\">ставки</span> <span style=\"background-color: #7474ff\"; title=\"-0.55\">цб</span> <span style=\"background-color: #ffffff\"; title=\"0.00\">как</span> <span style=\"background-color: #ffffff\"; title=\"0.00\">и</span> <span style=\"background-color: #ffffff\"; title=\"0.00\">умногих</span> <span style=\"background-color: #ffb9b9\"; title=\"0.65\">появилось</span> <span style=\"background-color: #e1e1ff\"; title=\"-0.12\">соответствующее</span> <span style=\"background-color: #ffe5e5\"; title=\"0.24\">желание</span> <span style=\"background-color: #b5b5ff\"; title=\"-0.29\">снизить</span> <span style=\"background-color: #fff4f4\"; title=\"0.10\">ставку</span> <span style=\"background-color: #ffffff\"; title=\"0.00\">по</span> <span style=\"background-color: #ffd9d9\"; title=\"0.36\">имеющейся</span> <span style=\"background-color: #dcdcff\"; title=\"-0.14\">ипотеке</span> <span style=\"background-color: #ffffff\"; title=\"0.00\">по</span> <span style=\"background-color: #fafaff\"; title=\"-0.02\">имеющемуся</span> <span style=\"background-color: #ffe8e8\"; title=\"0.21\">договору</span> <span style=\"background-color: #ffebeb\"; title=\"0.19\">занял</span> <span style=\"background-color: #ffffff\"; title=\"0.00\">под</span> <span style=\"background-color: #fff7f7\"; title=\"0.07\">начитавшись</span> <span style=\"background-color: #ffd3d3\"; title=\"0.41\">отзывов</span> <span style=\"background-color: #ffffff\"; title=\"0.00\">на</span> <span style=\"background-color: #ffffff\"; title=\"0.00\">не</span> <span style=\"background-color: #ffeaea\"; title=\"0.19\">стал</span> <span style=\"background-color: #f1f1ff\"; title=\"-0.05\">терять</span> <span style=\"background-color: #f8f8ff\"; title=\"-0.02\">время</span> <span style=\"background-color: #ffffff\"; title=\"0.00\">и</span> <span style=\"background-color: #e5e5ff\"; title=\"-0.10\">обращаться</span> <span style=\"background-color: #ffffff\"; title=\"0.00\">в</span> <span style=\"background-color: #dbdbff\"; title=\"-0.14\">банк</span> <span style=\"background-color: #ffffff\"; title=\"0.00\">с</span> <span style=\"background-color: #fafaff\"; title=\"-0.02\">заявлением</span> <span style=\"background-color: #ffffff\"; title=\"0.00\">на</span> <span style=\"background-color: #cdcdff\"; title=\"-0.20\">снижение</span> <span style=\"background-color: #fff4f4\"; title=\"0.10\">процентов</span> <span style=\"background-color: #fff4f4\"; title=\"0.10\">попробовал</span> <span style=\"background-color: #eaeaff\"; title=\"-0.08\">подать</span> <span style=\"background-color: #fffcfc\"; title=\"0.02\">заявку</span> <span style=\"background-color: #ffffff\"; title=\"0.00\">на</span> <span style=\"background-color: #aeaeff\"; title=\"-0.32\">рефинансирование</span> <span style=\"background-color: #fff6f6\"; title=\"0.08\">собственного</span> <span style=\"background-color: #ebebff\"; title=\"-0.08\">кредита</span> <span style=\"background-color: #ffffff\"; title=\"0.00\">в</span> <span style=\"background-color: #ffffff\"; title=\"0.00\">этом</span> <span style=\"background-color: #ffffff\"; title=\"0.00\">же</span> <span style=\"background-color: #d0d0ff\"; title=\"-0.19\">банке</span> <span style=\"background-color: #ffffff\"; title=\"0.00\">где</span> <span style=\"background-color: #ffffff\"; title=\"0.00\">меня</span> <span style=\"background-color: #ffffff\"; title=\"0.00\">поджидала</span> <span style=\"background-color: #ffe3e3\"; title=\"0.26\">первая</span> <span style=\"background-color: #f4f4ff\"; title=\"-0.04\">неприятная</span> <span style=\"background-color: #fff9f9\"; title=\"0.05\">неожиданность</span> <span style=\"background-color: #e0e0ff\"; title=\"-0.12\">сторонним</span> <span style=\"background-color: #a0a0ff\"; title=\"-0.37\">клиентам</span> <span style=\"background-color: #ffffff\"; title=\"0.00\">на</span> <span style=\"background-color: #ffe5e5\"; title=\"0.24\">меньше</span> <span style=\"background-color: #dcdcff\"; title=\"-0.14\">ставка</span> <span style=\"background-color: #ffffff\"; title=\"0.00\">чем</span> <span style=\"background-color: #ffe7e7\"; title=\"0.23\">постоянным</span> <span style=\"background-color: #a0a0ff\"; title=\"-0.37\">клиентам</span> <span style=\"background-color: #ffecec\"; title=\"0.18\">вторая</span> <span style=\"background-color: #a5a5ff\"; title=\"-0.35\">невозможно</span> <span style=\"background-color: #4040ff\"; title=\"-0.75\">рефинансировать</span> <span style=\"background-color: #e3e3ff\"; title=\"-0.11\">кредит</span> <span style=\"background-color: #ffffff\"; title=\"0.00\">на</span> <span style=\"background-color: #e3e3ff\"; title=\"-0.11\">квартиру</span> <span style=\"background-color: #ffffff\"; title=\"0.00\">с</span> <span style=\"background-color: #ffffff\"; title=\"0.00\">внесенным</span> <span style=\"background-color: #ffffff\"; title=\"0.00\">в</span> <span style=\"background-color: #fffdfd\"; title=\"0.01\">качестве</span> <span style=\"background-color: #f9f9ff\"; title=\"-0.02\">уплаты</span> <span style=\"background-color: #ffe8e8\"; title=\"0.21\">основного</span> <span style=\"background-color: #fffcfc\"; title=\"0.02\">долга</span> <span style=\"background-color: #f8f8ff\"; title=\"-0.02\">маткапиталом</span> <span style=\"background-color: #ffffff\"; title=\"0.00\">в</span> <span style=\"background-color: #e2e2ff\"; title=\"-0.11\">связи</span> <span style=\"background-color: #ececff\"; title=\"-0.07\">пандемией</span> <span style=\"background-color: #fafaff\"; title=\"-0.02\">изоляцией</span> <span style=\"background-color: #ffffff\"; title=\"0.00\">и</span> <span style=\"background-color: #fff5f5\"; title=\"0.09\">удаленной</span> <span style=\"background-color: #cfcfff\"; title=\"-0.19\">работой</span> <span style=\"background-color: #ffd0d0\"; title=\"0.44\">оказался</span> <span style=\"background-color: #ffffff\"; title=\"0.00\">в</span> <span style=\"background-color: #cfcfff\"; title=\"-0.19\">км</span> <span style=\"background-color: #ffffff\"; title=\"0.00\">от</span> <span style=\"background-color: #a6a6ff\"; title=\"-0.35\">москвы</span> <span style=\"background-color: #ffffff\"; title=\"0.00\">где</span> <span style=\"background-color: #ffd9d9\"; title=\"0.36\">оформлял</span> <span style=\"background-color: #9898ff\"; title=\"-0.40\">ипотечный</span> <span style=\"background-color: #e3e3ff\"; title=\"-0.11\">кредит</span> <span style=\"background-color: #ffffff\"; title=\"0.00\">там</span> <span style=\"background-color: #ffffff\"; title=\"0.00\">же</span> <span style=\"background-color: #fff4f4\"; title=\"0.10\">дома</span> <span style=\"background-color: #d6d6ff\"; title=\"-0.16\">лежит</span> <span style=\"background-color: #e7e7ff\"; title=\"-0.09\">копия</span> <span style=\"background-color: #babaff\"; title=\"-0.27\">кредитного</span> <span style=\"background-color: #fffbfb\"; title=\"0.03\">договора</span> <span style=\"background-color: #ffdada\"; title=\"0.34\">нашёл</span> <span style=\"background-color: #dbdbff\"; title=\"-0.14\">банк</span> <span style=\"background-color: #ffeeee\"; title=\"0.15\">который</span> <span style=\"background-color: #fff6f6\"; title=\"0.08\">согласен</span> <span style=\"background-color: #4040ff\"; title=\"-0.75\">рефинансировать</span> <span style=\"background-color: #f8f8ff\"; title=\"-0.03\">имеющуюся</span> <span style=\"background-color: #bebeff\"; title=\"-0.25\">ипотеку</span> <span style=\"background-color: #ffffff\"; title=\"0.00\">на</span> <span style=\"background-color: #fffefe\"; title=\"0.00\">вышеуказанных</span> <span style=\"background-color: #d1d1ff\"; title=\"-0.18\">условиях</span> <span style=\"background-color: #ffffff\"; title=\"0.00\">но</span> <span style=\"background-color: #ffffff\"; title=\"0.00\">в</span> <span style=\"background-color: #f4f4ff\"; title=\"-0.04\">перечне</span> <span style=\"background-color: #ffd4d4\"; title=\"0.41\">необходимых</span> <span style=\"background-color: #f7f7ff\"; title=\"-0.03\">документов</span> <span style=\"background-color: #fff8f8\"; title=\"0.06\">значится</span> <span style=\"background-color: #fff7f7\"; title=\"0.07\">действующий</span> <span style=\"background-color: #ffd8d8\"; title=\"0.37\">кредитный</span> <span style=\"background-color: #9393ff\"; title=\"-0.43\">договор</span> <span style=\"background-color: #e7e7ff\"; title=\"-0.09\">копия</span> <span style=\"background-color: #ffffff\"; title=\"0.00\">в</span> <span style=\"background-color: #9a9aff\"; title=\"-0.40\">поддержке</span> <span style=\"background-color: #d7d7ff\"; title=\"-0.16\">банка</span> <span style=\"background-color: #6262ff\"; title=\"-0.62\">заверили</span> <span style=\"background-color: #ffffff\"; title=\"0.00\">что</span> <span style=\"background-color: #e4e4ff\"; title=\"-0.10\">копию</span> <span style=\"background-color: #fffbfb\"; title=\"0.03\">договора</span> <span style=\"background-color: #ffffff\"; title=\"0.00\">можно</span> <span style=\"background-color: #c2c2ff\"; title=\"-0.24\">получить</span> <span style=\"background-color: #ffffff\"; title=\"0.00\">в</span> <span style=\"background-color: #ffeaea\"; title=\"0.20\">любом</span> <span style=\"background-color: #ebebff\"; title=\"-0.08\">городе</span> <span style=\"background-color: #ffeaea\"; title=\"0.20\">присутствия</span> <span style=\"background-color: #d7d7ff\"; title=\"-0.16\">банка</span> <span style=\"background-color: #ffffff\"; title=\"0.00\">по</span> <span style=\"background-color: #fff5f5\"; title=\"0.09\">паспорту</span> <span style=\"background-color: #ffffff\"; title=\"0.00\">я</span> <span style=\"background-color: #5f5fff\"; title=\"-0.63\">специально</span> <span style=\"background-color: #aaaaff\"; title=\"-0.33\">уточнил</span> <span style=\"background-color: #ffffff\"; title=\"0.00\">этот</span> <span style=\"background-color: #fff3f3\"; title=\"0.11\">момент</span> <span style=\"background-color: #ffffff\"; title=\"0.00\">у</span> <span style=\"background-color: #e0e0ff\"; title=\"-0.12\">оператора</span> <span style=\"background-color: #ffffff\"; title=\"0.00\">в</span> <span style=\"background-color: #b8b8ff\"; title=\"-0.28\">чате</span> <span style=\"background-color: #b8b8ff\"; title=\"-0.28\">поддержки</span> <span style=\"background-color: #ffffff\"; title=\"0.00\">в</span> <span style=\"background-color: #d6d6ff\"; title=\"-0.16\">отделении</span> <span style=\"background-color: #d7d7ff\"; title=\"-0.16\">банка</span> <span style=\"background-color: #ffffff\"; title=\"0.00\">по</span> <span style=\"background-color: #cacaff\"; title=\"-0.21\">адресу</span> <span style=\"background-color: #c6c6ff\"; title=\"-0.22\">гор</span> <span style=\"background-color: #f3f3ff\"; title=\"-0.05\">рязань</span> <span style=\"background-color: #c8c8ff\"; title=\"-0.21\">ул</span> <span style=\"background-color: #fffafa\"; title=\"0.05\">грибоедова</span> <span style=\"background-color: #fffafa\"; title=\"0.04\">д</span> <span style=\"background-color: #ffffff\"; title=\"0.00\">мне</span> <span style=\"background-color: #ffe5e5\"; title=\"0.24\">сообщили</span> <span style=\"background-color: #ffffff\"; title=\"0.00\">что</span> <span style=\"background-color: #7f7fff\"; title=\"-0.51\">видят</span> <span style=\"background-color: #ffffff\"; title=\"0.00\">мой</span> <span style=\"background-color: #9393ff\"; title=\"-0.43\">договор</span> <span style=\"background-color: #ffffff\"; title=\"0.00\">но</span> <span style=\"background-color: #ffffff\"; title=\"0.00\">не</span> <span style=\"background-color: #7272ff\"; title=\"-0.56\">могут</span> <span style=\"background-color: #ffffff\"; title=\"0.00\">его</span> <span style=\"background-color: #7979ff\"; title=\"-0.53\">распечатать</span> <span style=\"background-color: #fff4f4\"; title=\"0.10\">вспоминается</span> <span style=\"background-color: #ffffff\"; title=\"0.00\">наболевшая</span> <span style=\"background-color: #9f9fff\"; title=\"-0.38\">история</span> <span style=\"background-color: #ffffff\"; title=\"0.00\">с</span> <span style=\"background-color: #9797ff\"; title=\"-0.41\">другим</span> <span style=\"background-color: #d0d0ff\"; title=\"-0.18\">банком</span> <span style=\"background-color: #ffffff\"; title=\"0.00\">и</span> <span style=\"background-color: #c9c9ff\"; title=\"-0.21\">езжайте</span> <span style=\"background-color: #ffeeee\"; title=\"0.16\">туда</span> <span style=\"background-color: #ffffff\"; title=\"0.00\">где</span> <span style=\"background-color: #ffe3e3\"; title=\"0.26\">оформляли</span> <span style=\"background-color: #cbcbff\"; title=\"-0.20\">однако</span> <span style=\"background-color: #ffe0e0\"; title=\"0.29\">пошли</span> <span style=\"background-color: #ff9e9e\"; title=\"0.92\">навстречу</span> <span style=\"background-color: #ffffff\"; title=\"0.00\">и</span> <span style=\"background-color: #fff6f6\"; title=\"0.08\">приняли</span> <span style=\"background-color: #fff5f5\"; title=\"0.09\">заявление</span> <span style=\"background-color: #ffffff\"; title=\"0.00\">на</span> <span style=\"background-color: #d5d5ff\"; title=\"-0.16\">внесение</span> <span style=\"background-color: #a3a3ff\"; title=\"-0.36\">изменений</span> <span style=\"background-color: #ffffff\"; title=\"0.00\">в</span> <span style=\"background-color: #6f6fff\"; title=\"-0.57\">персональные</span> <span style=\"background-color: #afafff\"; title=\"-0.31\">данные</span> <span style=\"background-color: #e4e4ff\"; title=\"-0.11\">добавил</span> <span style=\"background-color: #fafaff\"; title=\"-0.02\">эл</span> <span style=\"background-color: #b4b4ff\"; title=\"-0.30\">почту</span> <span style=\"background-color: #ffffff\"; title=\"0.00\">и</span> <span style=\"background-color: #ffffff\"; title=\"0.00\">на</span> <span style=\"background-color: #ff9898\"; title=\"0.97\">предоставление</span> <span style=\"background-color: #fff8f8\"; title=\"0.06\">копии</span> <span style=\"background-color: #fffbfb\"; title=\"0.03\">договора</span> <span style=\"background-color: #ffffff\"; title=\"0.00\">на</span> <span style=\"background-color: #d7d7ff\"; title=\"-0.16\">указанную</span> <span style=\"background-color: #fafaff\"; title=\"-0.02\">эл</span> <span style=\"background-color: #b4b4ff\"; title=\"-0.30\">почту</span> <span style=\"background-color: #a7a7ff\"; title=\"-0.35\">просто</span> <span style=\"background-color: #f6f6ff\"; title=\"-0.04\">выслать</span> <span style=\"background-color: #e4e4ff\"; title=\"-0.10\">копию</span> <span style=\"background-color: #ffffff\"; title=\"0.00\">на</span> <span style=\"background-color: #bdbdff\"; title=\"-0.26\">указанный</span> <span style=\"background-color: #fff7f7\"; title=\"0.07\">мной</span> <span style=\"background-color: #f8f8ff\"; title=\"-0.03\">адрес</span> <span style=\"background-color: #fafaff\"; title=\"-0.02\">эл</span> <span style=\"background-color: #f3f3ff\"; title=\"-0.05\">почты</span> <span style=\"background-color: #9d9dff\"; title=\"-0.39\">отказались</span> <span style=\"background-color: #ffffff\"; title=\"0.00\">по</span> <span style=\"background-color: #fcfcff\"; title=\"-0.01\">соображениям</span> <span style=\"background-color: #f9f9ff\"; title=\"-0.02\">безопасности</span> <span style=\"background-color: #ffffff\"; title=\"0.00\">сокращаю</span> <span style=\"background-color: #ffffff\"; title=\"0.00\">растянутый</span> <span style=\"background-color: #f8f8ff\"; title=\"-0.03\">рассказ</span> <span style=\"background-color: #a9a9ff\"; title=\"-0.34\">сегодня</span> <span style=\"background-color: #8787ff\"; title=\"-0.47\">сентября</span> <span style=\"background-color: #fff6f6\"; title=\"0.08\">года</span> <span style=\"background-color: #fdfdff\"; title=\"-0.01\">шестой</span> <span style=\"background-color: #fff2f2\"; title=\"0.12\">день</span> <span style=\"background-color: #ffffff\"; title=\"0.00\">с</span> <span style=\"background-color: #ffe3e3\"; title=\"0.26\">даты</span> <span style=\"background-color: #dadaff\"; title=\"-0.14\">подачи</span> <span style=\"background-color: #7777ff\"; title=\"-0.53\">заявления</span> <span style=\"background-color: #ffffff\"; title=\"0.00\">и</span> <span style=\"background-color: #ffffff\"; title=\"0.00\">этого</span> <span style=\"background-color: #f3f3ff\"; title=\"-0.05\">времени</span> <span style=\"background-color: #b1b1ff\"; title=\"-0.30\">недостаточно</span> <span style=\"background-color: #ffffff\"; title=\"0.00\">чтобы</span> <span style=\"background-color: #fff4f4\"; title=\"0.10\">отправить</span> <span style=\"background-color: #c7c7ff\"; title=\"-0.22\">скан</span> <span style=\"background-color: #fffbfb\"; title=\"0.03\">договора</span> <span style=\"background-color: #ffffff\"; title=\"0.00\">на</span> <span style=\"background-color: #ffe0e0\"; title=\"0.29\">электронную</span> <span style=\"background-color: #b4b4ff\"; title=\"-0.30\">почту</span> <span style=\"background-color: #e4e4ff\"; title=\"-0.10\">копию</span> <span style=\"background-color: #fffbfb\"; title=\"0.03\">договора</span> <span style=\"background-color: #ffffff\"; title=\"0.00\">так</span> <span style=\"background-color: #ffffff\"; title=\"0.00\">и</span> <span style=\"background-color: #ffffff\"; title=\"0.00\">не</span> <span style=\"background-color: #fff6f6\"; title=\"0.09\">получил</span> <span style=\"background-color: #ffffff\"; title=\"0.00\">в</span> <span style=\"background-color: #9a9aff\"; title=\"-0.40\">поддержке</span> <span style=\"background-color: #adadff\"; title=\"-0.32\">каждый</span> <span style=\"background-color: #fff2f2\"; title=\"0.12\">день</span> <span style=\"background-color: #3737ff\"; title=\"-0.79\">просят</span> <span style=\"background-color: #eaeaff\"; title=\"-0.08\">набраться</span> <span style=\"background-color: #ffe8e8\"; title=\"0.21\">терпения</span> <span style=\"background-color: #ffe7e7\"; title=\"0.22\">складывается</span> <span style=\"background-color: #a0a0ff\"; title=\"-0.37\">ощущение</span> <span style=\"background-color: #ffffff\"; title=\"0.00\">что</span> <span style=\"background-color: #9898ff\"; title=\"-0.40\">ипотечный</span> <span style=\"background-color: #ffe7e7\"; title=\"0.22\">отдел</span> <span style=\"background-color: #ceceff\"; title=\"-0.19\">отделение</span> <span style=\"background-color: #d7d7ff\"; title=\"-0.16\">банка</span> <span style=\"background-color: #ffffff\"; title=\"0.00\">парализован</span> <span style=\"background-color: #e2e2ff\"; title=\"-0.11\">т</span> <span style=\"background-color: #ffffff\"; title=\"0.00\">к</span> <span style=\"background-color: #b3b3ff\"; title=\"-0.30\">судя</span> <span style=\"background-color: #ffffff\"; title=\"0.00\">по</span> <span style=\"background-color: #fffdfd\"; title=\"0.02\">отзывам</span> <span style=\"background-color: #e7e7ff\"; title=\"-0.09\">потенциальных</span> <span style=\"background-color: #ffe6e6\"; title=\"0.23\">заёмщиков</span> <span style=\"background-color: #fffbfb\"; title=\"0.03\">также</span> <span style=\"background-color: #fff0f0\"; title=\"0.13\">неделями</span> <span style=\"background-color: #ffffff\"; title=\"0.00\">все</span> <span style=\"background-color: #ffc9c9\"; title=\"0.51\">вопросы</span> <span style=\"background-color: #ffeeee\"; title=\"0.16\">решаются</span> <span style=\"background-color: #ffebeb\"; title=\"0.18\">скорость</span> <span style=\"background-color: #d7d7ff\"; title=\"-0.16\">банка</span> <span style=\"background-color: #ffffff\"; title=\"0.00\">и</span> <span style=\"background-color: #fff9f9\"; title=\"0.05\">сложности</span> <span style=\"background-color: #ffffff\"; title=\"0.00\">в</span> <span style=\"background-color: #f7f7ff\"; title=\"-0.03\">документообороте</span> <span style=\"background-color: #ffffff\"; title=\"0.00\">настораживают</span> <span style=\"background-color: #c7c7ff\"; title=\"-0.22\">это</span> <span style=\"background-color: #fff7f7\"; title=\"0.07\">прошлый</span> <span style=\"background-color: #4f4fff\"; title=\"-0.69\">век</span> <span style=\"background-color: #fefeff\"; title=\"-0.00\">ребята</span> <span style=\"background-color: #eeeeff\"; title=\"-0.06\">сравниваю</span> <span style=\"background-color: #ffffff\"; title=\"0.00\">с</span> <span style=\"background-color: #ffffff\"; title=\"0.00\">эталонным</span> <span style=\"background-color: #ffffff\"; title=\"0.00\">на</span> <span style=\"background-color: #ffffff\"; title=\"0.00\">мой</span> <span style=\"background-color: #fffefe\"; title=\"0.00\">субъективный</span> <span style=\"background-color: #ffd1d1\"; title=\"0.43\">взгляд</span> <span style=\"background-color: #9797ff\"; title=\"-0.41\">другим</span> <span style=\"background-color: #d0d0ff\"; title=\"-0.18\">банком</span> <span style=\"background-color: #ffffff\"; title=\"0.00\">в</span> <span style=\"background-color: #fff6f6\"; title=\"0.08\">критерии</span> <span style=\"background-color: #f9f9ff\"; title=\"-0.02\">скорости</span> <span style=\"background-color: #ffffff\"; title=\"0.00\">и</span> <span style=\"background-color: #f3f3ff\"; title=\"-0.04\">гибкости</span> <span style=\"background-color: #fff6f6\"; title=\"0.08\">предоставления</span> <span style=\"background-color: #f7f7ff\"; title=\"-0.03\">документов</span> <span style=\"background-color: #fff1f1\"; title=\"0.12\">решения</span> <span style=\"background-color: #ffecec\"; title=\"0.18\">вопросов</span> </p>"
      ],
      "text/plain": [
       "<IPython.core.display.HTML object>"
      ]
     },
     "metadata": {},
     "output_type": "display_data"
    },
    {
     "name": "stdout",
     "output_type": "stream",
     "text": [
      "rating: 1\n",
      "predicted proba: 0.9996527536516763\n"
     ]
    },
    {
     "data": {
      "text/html": [
       "\n",
       "    <p style=\"font-size:16px; color:#000000; border: 2px solid #000; text-align: justify; background-color:#ffffff; border-radius: 25px; padding: 20px;\">\n",
       "    <span style=\"background-color: #fffbfb\"; title=\"0.03\">здравствуйте</span> <span style=\"background-color: #f7f7ff\"; title=\"-0.03\">марта</span> <span style=\"background-color: #ffffff\"; title=\"0.00\">я</span> <span style=\"background-color: #fffdfd\"; title=\"0.02\">впервые</span> <span style=\"background-color: #ffd8d8\"; title=\"0.36\">общался</span> <span style=\"background-color: #ffffff\"; title=\"0.00\">со</span> <span style=\"background-color: #d6d6ff\"; title=\"-0.16\">своим</span> <span style=\"background-color: #fffefe\"; title=\"0.01\">персональным</span> <span style=\"background-color: #ffe4e4\"; title=\"0.25\">менеджером</span> <span style=\"background-color: #fdfdff\"; title=\"-0.01\">евгением</span> <span style=\"background-color: #ffffff\"; title=\"0.00\">я</span> <span style=\"background-color: #ffe3e3\"; title=\"0.26\">перечислил</span> <span style=\"background-color: #ffffff\"; title=\"0.00\">ему</span> <span style=\"background-color: #fff4f4\"; title=\"0.09\">проблемы</span> <span style=\"background-color: #f1f1ff\"; title=\"-0.05\">ситибанка</span> <span style=\"background-color: #ffffff\"; title=\"0.00\">с</span> <span style=\"background-color: #ffd9d9\"; title=\"0.36\">которыми</span> <span style=\"background-color: #ffffff\"; title=\"0.00\">мне</span> <span style=\"background-color: #ffe6e6\"; title=\"0.23\">пришлось</span> <span style=\"background-color: #adadff\"; title=\"-0.32\">столкнуться</span> <span style=\"background-color: #ffffff\"; title=\"0.00\">в</span> <span style=\"background-color: #ffb1b1\"; title=\"0.74\">частности</span> <span style=\"background-color: #ffffff\"; title=\"0.00\">не</span> <span style=\"background-color: #ff9898\"; title=\"0.97\">предоставление</span> <span style=\"background-color: #d0d0ff\"; title=\"-0.18\">банком</span> <span style=\"background-color: #fffafa\"; title=\"0.04\">заявленной</span> <span style=\"background-color: #fefeff\"; title=\"-0.00\">услуги</span> <span style=\"background-color: #ffffff\"; title=\"0.00\">и</span> <span style=\"background-color: #ff9898\"; title=\"0.97\">предоставление</span> <span style=\"background-color: #b6b6ff\"; title=\"-0.29\">заведомо</span> <span style=\"background-color: #fff4f4\"; title=\"0.10\">недостоверной</span> <span style=\"background-color: #8c8cff\"; title=\"-0.45\">информации</span> <span style=\"background-color: #ffe6e6\"; title=\"0.23\">евгений</span> <span style=\"background-color: #ffeeee\"; title=\"0.15\">обещал</span> <span style=\"background-color: #b8b8ff\"; title=\"-0.28\">выяснить</span> <span style=\"background-color: #fff3f3\"; title=\"0.11\">причины</span> <span style=\"background-color: #ffaaaa\"; title=\"0.80\">проблем</span> <span style=\"background-color: #ffffff\"; title=\"0.00\">на</span> <span style=\"background-color: #fff6f6\"; title=\"0.08\">стороне</span> <span style=\"background-color: #f1f1ff\"; title=\"-0.05\">ситибанка</span> <span style=\"background-color: #ffffff\"; title=\"0.00\">я</span> <span style=\"background-color: #e9e9ff\"; title=\"-0.09\">отдельно</span> <span style=\"background-color: #f9f9ff\"; title=\"-0.02\">явным</span> <span style=\"background-color: #ffeaea\"; title=\"0.20\">образом</span> <span style=\"background-color: #ffffff\"; title=\"0.00\">в</span> <span style=\"background-color: #aeaeff\"; title=\"-0.32\">письменной</span> <span style=\"background-color: #fff9f9\"; title=\"0.05\">форме</span> <span style=\"background-color: #cbcbff\"; title=\"-0.21\">попросил</span> <span style=\"background-color: #ffffff\"; title=\"0.00\">его</span> <span style=\"background-color: #ffb6b6\"; title=\"0.68\">держать</span> <span style=\"background-color: #ffffff\"; title=\"0.00\">меня</span> <span style=\"background-color: #ffffff\"; title=\"0.00\">в</span> <span style=\"background-color: #a5a5ff\"; title=\"-0.35\">курсе</span> <span style=\"background-color: #ffecec\"; title=\"0.18\">хода</span> <span style=\"background-color: #fff1f1\"; title=\"0.12\">решения</span> <span style=\"background-color: #fffbfb\"; title=\"0.04\">этих</span> <span style=\"background-color: #ffaaaa\"; title=\"0.80\">проблем</span> <span style=\"background-color: #ffffff\"; title=\"0.00\">он</span> <span style=\"background-color: #d4d4ff\"; title=\"-0.17\">ответил</span> <span style=\"background-color: #ffffff\"; title=\"0.00\">хорошо</span> <span style=\"background-color: #ffcdcd\"; title=\"0.47\">понял</span> <span style=\"background-color: #ffffff\"; title=\"0.00\">с</span> <span style=\"background-color: #fffbfb\"; title=\"0.04\">тех</span> <span style=\"background-color: #bbbbff\"; title=\"-0.27\">пор</span> <span style=\"background-color: #ffe6e6\"; title=\"0.23\">евгений</span> <span style=\"background-color: #eaeaff\"; title=\"-0.08\">никак</span> <span style=\"background-color: #ffffff\"; title=\"0.00\">со</span> <span style=\"background-color: #fff7f7\"; title=\"0.07\">мной</span> <span style=\"background-color: #ffffff\"; title=\"0.00\">не</span> <span style=\"background-color: #bdbdff\"; title=\"-0.26\">связывался</span> <span style=\"background-color: #ffffff\"; title=\"0.00\">и</span> <span style=\"background-color: #d2d2ff\"; title=\"-0.18\">никакой</span> <span style=\"background-color: #8c8cff\"; title=\"-0.45\">информации</span> <span style=\"background-color: #ffffff\"; title=\"0.00\">не</span> <span style=\"background-color: #ffe6e6\"; title=\"0.23\">предоставил</span> <span style=\"background-color: #ffffff\"; title=\"0.00\">сейчас</span> <span style=\"background-color: #ffffff\"; title=\"0.00\">уже</span> <span style=\"background-color: #fff2f2\"; title=\"0.12\">июнь</span> <span style=\"background-color: #ffffff\"; title=\"0.00\">а</span> <span style=\"background-color: #e2e2ff\"; title=\"-0.11\">наш</span> <span style=\"background-color: #ddddff\"; title=\"-0.13\">первый</span> <span style=\"background-color: #a5a5ff\"; title=\"-0.36\">разговор</span> <span style=\"background-color: #ffffff\"; title=\"0.00\">от</span> <span style=\"background-color: #f7f7ff\"; title=\"-0.03\">марта</span> <span style=\"background-color: #ffd0d0\"; title=\"0.44\">оказался</span> <span style=\"background-color: #ffffff\"; title=\"0.00\">и</span> <span style=\"background-color: #cdcdff\"; title=\"-0.19\">последним</span> <span style=\"background-color: #ffffff\"; title=\"0.00\">что</span> <span style=\"background-color: #ffffff\"; title=\"0.00\">за</span> <span style=\"background-color: #c7c7ff\"; title=\"-0.22\">это</span> <span style=\"background-color: #f8f8ff\"; title=\"-0.02\">время</span> <span style=\"background-color: #ffffff\"; title=\"0.00\">он</span> <span style=\"background-color: #fff9f9\"; title=\"0.05\">сделал</span> <span style=\"background-color: #ffffff\"; title=\"0.00\">для</span> <span style=\"background-color: #fff1f1\"; title=\"0.12\">решения</span> <span style=\"background-color: #ececff\"; title=\"-0.07\">имеющихся</span> <span style=\"background-color: #ffaaaa\"; title=\"0.80\">проблем</span> <span style=\"background-color: #ffffff\"; title=\"0.00\">и</span> <span style=\"background-color: #fffcfc\"; title=\"0.03\">делал</span> <span style=\"background-color: #ffffff\"; title=\"0.00\">ли</span> <span style=\"background-color: #ffffff\"; title=\"0.00\">что</span> <span style=\"background-color: #ffffff\"; title=\"0.00\">то</span> <span style=\"background-color: #aeaeff\"; title=\"-0.32\">вообще</span> <span style=\"background-color: #ffffff\"; title=\"0.00\">мне</span> <span style=\"background-color: #ffffff\"; title=\"0.00\">не</span> <span style=\"background-color: #fff8f8\"; title=\"0.06\">известно</span> <span style=\"background-color: #ffffff\"; title=\"0.00\">на</span> <span style=\"background-color: #fff3f3\"; title=\"0.11\">днях</span> <span style=\"background-color: #ffffff\"; title=\"0.00\">я</span> <span style=\"background-color: #aaaaff\"; title=\"-0.33\">уточнил</span> <span style=\"background-color: #ffffff\"; title=\"0.00\">в</span> <span style=\"background-color: #ffffff\"; title=\"0.00\">ситифоне</span> <span style=\"background-color: #ffffff\"; title=\"0.00\">что</span> <span style=\"background-color: #ffe6e6\"; title=\"0.23\">евгений</span> <span style=\"background-color: #ffffff\"; title=\"0.00\">как</span> <span style=\"background-color: #ffffff\"; title=\"0.00\">и</span> <span style=\"background-color: #fff1f1\"; title=\"0.13\">прежде</span> <span style=\"background-color: #ffefef\"; title=\"0.15\">является</span> <span style=\"background-color: #fffefe\"; title=\"0.01\">моим</span> <span style=\"background-color: #fffefe\"; title=\"0.01\">персональным</span> <span style=\"background-color: #ffe4e4\"; title=\"0.25\">менеджером</span> <span style=\"background-color: #ffffff\"; title=\"0.00\">я</span> <span style=\"background-color: #ffffff\"; title=\"0.00\">не</span> <span style=\"background-color: #bdbdff\"; title=\"-0.26\">считаю</span> <span style=\"background-color: #fff3f3\"; title=\"0.11\">подобное</span> <span style=\"background-color: #ffdede\"; title=\"0.30\">обслуживание</span> <span style=\"background-color: #ffffff\"; title=\"0.00\">в</span> <span style=\"background-color: #ffcfcf\"; title=\"0.45\">рамках</span> <span style=\"background-color: #ffdbdb\"; title=\"0.34\">премиального</span> <span style=\"background-color: #d5d5ff\"; title=\"-0.16\">пакета</span> <span style=\"background-color: #fefeff\"; title=\"-0.00\">приемлемым</span> <span style=\"background-color: #ffffff\"; title=\"0.00\">и</span> <span style=\"background-color: #bdbdff\"; title=\"-0.26\">ожидаю</span> <span style=\"background-color: #e8e8ff\"; title=\"-0.09\">следующих</span> <span style=\"background-color: #c2c2ff\"; title=\"-0.24\">действий</span> <span style=\"background-color: #ffffff\"; title=\"0.00\">от</span> <span style=\"background-color: #ffd7d7\"; title=\"0.38\">евгения</span> <span style=\"background-color: #8c8cff\"; title=\"-0.45\">предоставить</span> <span style=\"background-color: #ffffff\"; title=\"0.00\">мне</span> <span style=\"background-color: #ffffff\"; title=\"0.00\">в</span> <span style=\"background-color: #aeaeff\"; title=\"-0.32\">письменной</span> <span style=\"background-color: #fff9f9\"; title=\"0.05\">форме</span> <span style=\"background-color: #ffffff\"; title=\"0.00\">по</span> <span style=\"background-color: #ededff\"; title=\"-0.07\">электронной</span> <span style=\"background-color: #fffbfb\"; title=\"0.03\">почте</span> <span style=\"background-color: #ffd5d5\"; title=\"0.40\">список</span> <span style=\"background-color: #efefff\"; title=\"-0.06\">принятых</span> <span style=\"background-color: #ffffff\"; title=\"0.00\">им</span> <span style=\"background-color: #ffc6c6\"; title=\"0.53\">мер</span> <span style=\"background-color: #ffffff\"; title=\"0.00\">по</span> <span style=\"background-color: #fff1f1\"; title=\"0.13\">каждой</span> <span style=\"background-color: #ffffff\"; title=\"0.00\">из</span> <span style=\"background-color: #ffaaaa\"; title=\"0.80\">проблем</span> <span style=\"background-color: #f3f3ff\"; title=\"-0.05\">которые</span> <span style=\"background-color: #ffffff\"; title=\"0.00\">я</span> <span style=\"background-color: #ffe3e3\"; title=\"0.26\">перечислил</span> <span style=\"background-color: #ffffff\"; title=\"0.00\">ему</span> <span style=\"background-color: #ffffff\"; title=\"0.00\">в</span> <span style=\"background-color: #fff2f2\"; title=\"0.12\">день</span> <span style=\"background-color: #ffdede\"; title=\"0.31\">нашего</span> <span style=\"background-color: #ffdada\"; title=\"0.35\">первого</span> <span style=\"background-color: #ffffff\"; title=\"0.00\">и</span> <span style=\"background-color: #9292ff\"; title=\"-0.43\">последнего</span> <span style=\"background-color: #c2c2ff\"; title=\"-0.24\">разговора</span> <span style=\"background-color: #ffffff\"; title=\"0.00\">от</span> <span style=\"background-color: #f1f1ff\"; title=\"-0.05\">ситибанка</span> <span style=\"background-color: #9999ff\"; title=\"-0.40\">дать</span> <span style=\"background-color: #ffe0e0\"; title=\"0.29\">оценку</span> <span style=\"background-color: #ffd5d5\"; title=\"0.39\">действиям</span> <span style=\"background-color: #ffffff\"; title=\"0.00\">бездействию</span> <span style=\"background-color: #ffe5e5\"; title=\"0.24\">сотрудника</span> <span style=\"background-color: #ffffff\"; title=\"0.00\">от</span> <span style=\"background-color: #f1f1ff\"; title=\"-0.05\">ситибанка</span> <span style=\"background-color: #8c8cff\"; title=\"-0.45\">предоставить</span> <span style=\"background-color: #ffffff\"; title=\"0.00\">мне</span> <span style=\"background-color: #f9f9ff\"; title=\"-0.02\">другого</span> <span style=\"background-color: #ffdbdb\"; title=\"0.34\">персонального</span> <span style=\"background-color: #f2f2ff\"; title=\"-0.05\">менеджера</span> <span style=\"background-color: #ffeeee\"; title=\"0.15\">который</span> <span style=\"background-color: #dedeff\"; title=\"-0.13\">относится</span> <span style=\"background-color: #ffffff\"; title=\"0.00\">к</span> <span style=\"background-color: #d6d6ff\"; title=\"-0.16\">своим</span> <span style=\"background-color: #fff5f5\"; title=\"0.09\">обязанностям</span> <span style=\"background-color: #ffffff\"; title=\"0.00\">более</span> <span style=\"background-color: #ffe5e5\"; title=\"0.24\">ответственно</span> <span style=\"background-color: #ffffff\"; title=\"0.00\">по</span> <span style=\"background-color: #ffe5e5\"; title=\"0.24\">моему</span> <span style=\"background-color: #ffecec\"; title=\"0.17\">опыту</span> <span style=\"background-color: #ffdddd\"; title=\"0.32\">подобный</span> <span style=\"background-color: #9b9bff\"; title=\"-0.39\">уровень</span> <span style=\"background-color: #f9f9ff\"; title=\"-0.02\">обслуживания</span> <span style=\"background-color: #9f9fff\"; title=\"-0.38\">клиентов</span> <span style=\"background-color: #c7c7ff\"; title=\"-0.22\">это</span> <span style=\"background-color: #ffffff\"; title=\"0.00\">не</span> <span style=\"background-color: #ffecec\"; title=\"0.18\">исключение</span> <span style=\"background-color: #ffffff\"; title=\"0.00\">а</span> <span style=\"background-color: #ffe5e5\"; title=\"0.25\">правило</span> <span style=\"background-color: #ffffff\"; title=\"0.00\">я</span> <span style=\"background-color: #ffffff\"; title=\"0.00\">все</span> <span style=\"background-color: #d3d3ff\"; title=\"-0.17\">свои</span> <span style=\"background-color: #aeaeff\"; title=\"-0.32\">обязательства</span> <span style=\"background-color: #ffffff\"; title=\"0.00\">в</span> <span style=\"background-color: #ffcfcf\"; title=\"0.45\">рамках</span> <span style=\"background-color: #ffdbdb\"; title=\"0.34\">премиального</span> <span style=\"background-color: #c7c7ff\"; title=\"-0.22\">тарифа</span> <span style=\"background-color: #fffbfb\"; title=\"0.04\">выполняю</span> <span style=\"background-color: #d1d1ff\"; title=\"-0.18\">сити</span> <span style=\"background-color: #ffffff\"; title=\"0.00\">же</span> <span style=\"background-color: #dfdfff\"; title=\"-0.12\">сначала</span> <span style=\"background-color: #a7a7ff\"; title=\"-0.35\">просто</span> <span style=\"background-color: #ececff\"; title=\"-0.07\">бездействует</span> <span style=\"background-color: #ffffff\"; title=\"0.00\">а</span> <span style=\"background-color: #ffffff\"; title=\"0.00\">потом</span> <span style=\"background-color: #f9f9ff\"; title=\"-0.02\">извиняется</span> <span style=\"background-color: #ffffff\"; title=\"0.00\">и</span> <span style=\"background-color: #fcfcff\"; title=\"-0.01\">считает</span> <span style=\"background-color: #ffffff\"; title=\"0.00\">будто</span> <span style=\"background-color: #ffdcdc\"; title=\"0.33\">всё</span> <span style=\"background-color: #ffffff\"; title=\"0.00\">в</span> <span style=\"background-color: #e9e9ff\"; title=\"-0.08\">порядке</span> </p>"
      ],
      "text/plain": [
       "<IPython.core.display.HTML object>"
      ]
     },
     "metadata": {},
     "output_type": "display_data"
    },
    {
     "name": "stdout",
     "output_type": "stream",
     "text": [
      "rating: 1\n",
      "predicted proba: 0.9988035246131061\n"
     ]
    },
    {
     "data": {
      "text/html": [
       "\n",
       "    <p style=\"font-size:16px; color:#000000; border: 2px solid #000; text-align: justify; background-color:#ffffff; border-radius: 25px; padding: 20px;\">\n",
       "    <span style=\"background-color: #e7e7ff\"; title=\"-0.09\">являюсь</span> <span style=\"background-color: #fffefe\"; title=\"0.01\">клиентом</span> <span style=\"background-color: #d7d7ff\"; title=\"-0.16\">банка</span> <span style=\"background-color: #fff5f5\"; title=\"0.09\">лет</span> <span style=\"background-color: #ffffff\"; title=\"0.00\">всегда</span> <span style=\"background-color: #ffffff\"; title=\"0.00\">был</span> <span style=\"background-color: #ffe3e3\"; title=\"0.26\">очень</span> <span style=\"background-color: #ff7a7a\"; title=\"1.26\">доволен</span> <span style=\"background-color: #ffffff\"; title=\"0.00\">за</span> <span style=\"background-color: #ffffff\"; title=\"0.00\">все</span> <span style=\"background-color: #ffffff\"; title=\"0.00\">эти</span> <span style=\"background-color: #fff3f3\"; title=\"0.11\">годы</span> <span style=\"background-color: #ffffff\"; title=\"0.00\">был</span> <span style=\"background-color: #ffefef\"; title=\"0.15\">лишь</span> <span style=\"background-color: #ffffff\"; title=\"0.00\">один</span> <span style=\"background-color: #fff3f3\"; title=\"0.11\">нестандартный</span> <span style=\"background-color: #fff3f3\"; title=\"0.11\">момент</span> <span style=\"background-color: #ffeeee\"; title=\"0.15\">который</span> <span style=\"background-color: #ffffff\"; title=\"0.00\">был</span> <span style=\"background-color: #ffffff\"; title=\"0.00\">решем</span> <span style=\"background-color: #ffffff\"; title=\"0.00\">в</span> <span style=\"background-color: #ffbbbb\"; title=\"0.64\">мою</span> <span style=\"background-color: #ffffff\"; title=\"0.00\">польщу</span> <span style=\"background-color: #ffffff\"; title=\"0.00\">почти</span> <span style=\"background-color: #ffd8d8\"; title=\"0.37\">мгновенно</span> <span style=\"background-color: #f6f6ff\"; title=\"-0.03\">нахожусь</span> <span style=\"background-color: #ffffff\"; title=\"0.00\">в</span> <span style=\"background-color: #fff5f5\"; title=\"0.09\">отъезде</span> <span style=\"background-color: #ffffff\"; title=\"0.00\">за</span> <span style=\"background-color: #ffc1c1\"; title=\"0.58\">границей</span> <span style=\"background-color: #ddddff\"; title=\"-0.13\">рф</span> <span style=\"background-color: #ffe5e5\"; title=\"0.24\">понадобился</span> <span style=\"background-color: #fff6f6\"; title=\"0.08\">выпуск</span> <span style=\"background-color: #f7f7ff\"; title=\"-0.03\">новой</span> <span style=\"background-color: #d5d5ff\"; title=\"-0.17\">дебетовой</span> <span style=\"background-color: #ddddff\"; title=\"-0.13\">карты</span> <span style=\"background-color: #bfbfff\"; title=\"-0.25\">заказал</span> <span style=\"background-color: #bebeff\"; title=\"-0.25\">карту</span> <span style=\"background-color: #ffffff\"; title=\"0.00\">через</span> <span style=\"background-color: #fcfcff\"; title=\"-0.01\">сайт</span> <span style=\"background-color: #ffffff\"; title=\"0.00\">с</span> <span style=\"background-color: #ffffff\"; title=\"0.00\">самовывозом</span> <span style=\"background-color: #ffffff\"; title=\"0.00\">из</span> <span style=\"background-color: #fffafa\"; title=\"0.04\">офиса</span> <span style=\"background-color: #efefff\"; title=\"-0.06\">москва</span> <span style=\"background-color: #f8f8ff\"; title=\"-0.03\">б</span> <span style=\"background-color: #ededff\"; title=\"-0.07\">р</span> <span style=\"background-color: #ffe2e2\"; title=\"0.27\">яна</span> <span style=\"background-color: #f9f9ff\"; title=\"-0.02\">райниса</span> <span style=\"background-color: #ffffff\"; title=\"0.00\">к</span> <span style=\"background-color: #ffffff\"; title=\"0.00\">когда</span> <span style=\"background-color: #ffeded\"; title=\"0.17\">карта</span> <span style=\"background-color: #ffffff\"; title=\"0.00\">была</span> <span style=\"background-color: #ffefef\"; title=\"0.14\">готова</span> <span style=\"background-color: #fff1f1\"; title=\"0.13\">отправил</span> <span style=\"background-color: #ffeeee\"; title=\"0.16\">туда</span> <span style=\"background-color: #ffffff\"; title=\"0.00\">свою</span> <span style=\"background-color: #ffcbcb\"; title=\"0.49\">мать</span> <span style=\"background-color: #f8f8ff\"; title=\"-0.02\">которая</span> <span style=\"background-color: #fff5f5\"; title=\"0.09\">имеет</span> <span style=\"background-color: #fdfdff\"; title=\"-0.01\">генеральную</span> <span style=\"background-color: #fffefe\"; title=\"0.00\">доверенность</span> <span style=\"background-color: #ffffff\"; title=\"0.00\">на</span> <span style=\"background-color: #d2d2ff\"; title=\"-0.18\">совершение</span> <span style=\"background-color: #ffffff\"; title=\"0.00\">всех</span> <span style=\"background-color: #ffffff\"; title=\"0.00\">дейтсвий</span> <span style=\"background-color: #ffffff\"; title=\"0.00\">от</span> <span style=\"background-color: #ffeaea\"; title=\"0.20\">моего</span> <span style=\"background-color: #fbfbff\"; title=\"-0.01\">лица</span> <span style=\"background-color: #ffeded\"; title=\"0.17\">включая</span> <span style=\"background-color: #fff5f5\"; title=\"0.09\">получение</span> <span style=\"background-color: #ffc3c3\"; title=\"0.57\">дебетовых</span> <span style=\"background-color: #fff1f1\"; title=\"0.13\">кредитных</span> <span style=\"background-color: #cacaff\"; title=\"-0.21\">карт</span> <span style=\"background-color: #ffffff\"; title=\"0.00\">в</span> <span style=\"background-color: #ffe2e2\"; title=\"0.27\">любых</span> <span style=\"background-color: #fff6f6\"; title=\"0.08\">коммерческих</span> <span style=\"background-color: #ffe9e9\"; title=\"0.20\">банках</span> <span style=\"background-color: #ffffff\"; title=\"0.00\">в</span> <span style=\"background-color: #d6d6ff\"; title=\"-0.16\">отделении</span> <span style=\"background-color: #7171ff\"; title=\"-0.56\">сказали</span> <span style=\"background-color: #ffffff\"; title=\"0.00\">у</span> <span style=\"background-color: #ffffff\"; title=\"0.00\">нас</span> <span style=\"background-color: #fff0f0\"; title=\"0.14\">компьютеры</span> <span style=\"background-color: #ffffff\"; title=\"0.00\">не</span> <span style=\"background-color: #fdfdff\"; title=\"-0.01\">работают</span> <span style=\"background-color: #8f8fff\"; title=\"-0.44\">приходите</span> <span style=\"background-color: #dfdfff\"; title=\"-0.13\">завтра</span> <span style=\"background-color: #ffffff\"; title=\"0.00\">при</span> <span style=\"background-color: #ffffff\"; title=\"0.00\">этом</span> <span style=\"background-color: #ffffff\"; title=\"0.00\">через</span> <span style=\"background-color: #ffd8d8\"; title=\"0.37\">пару</span> <span style=\"background-color: #fefeff\"; title=\"-0.00\">часов</span> <span style=\"background-color: #ffffff\"; title=\"0.00\">на</span> <span style=\"background-color: #fffdfd\"; title=\"0.02\">пришел</span> <span style=\"background-color: #e1e1ff\"; title=\"-0.12\">запрос</span> <span style=\"background-color: #ffffff\"; title=\"0.00\">от</span> <span style=\"background-color: #ffe5e5\"; title=\"0.24\">сотрудника</span> <span style=\"background-color: #ececff\"; title=\"-0.07\">дирекция</span> <span style=\"background-color: #bebeff\"; title=\"-0.26\">сопровождения</span> <span style=\"background-color: #ffffff\"; title=\"0.00\">бп</span> <span style=\"background-color: #ffffff\"; title=\"0.00\">и</span> <span style=\"background-color: #c3c3ff\"; title=\"-0.24\">тб</span> <span style=\"background-color: #f0f0ff\"; title=\"-0.06\">департамент</span> <span style=\"background-color: #f9f9ff\"; title=\"-0.02\">безопасности</span> <span style=\"background-color: #fff5f5\"; title=\"0.09\">ао</span> <span style=\"background-color: #ffeeee\"; title=\"0.16\">альфа</span> <span style=\"background-color: #dbdbff\"; title=\"-0.14\">банк</span> <span style=\"background-color: #ffeeee\"; title=\"0.15\">который</span> <span style=\"background-color: #f4f4ff\"; title=\"-0.04\">просил</span> <span style=\"background-color: #c3c3ff\"; title=\"-0.24\">подтвердить</span> <span style=\"background-color: #ffffff\"; title=\"0.00\">во</span> <span style=\"background-color: #fffdfd\"; title=\"0.02\">избежание</span> <span style=\"background-color: #eeeeff\"; title=\"-0.07\">мошеннических</span> <span style=\"background-color: #c2c2ff\"; title=\"-0.24\">действий</span> <span style=\"background-color: #fffdfd\"; title=\"0.01\">выдавал</span> <span style=\"background-color: #ffffff\"; title=\"0.00\">ли</span> <span style=\"background-color: #ffffff\"; title=\"0.00\">я</span> <span style=\"background-color: #fffefe\"; title=\"0.00\">доверенность</span> <span style=\"background-color: #eaeaff\"; title=\"-0.08\">такому</span> <span style=\"background-color: #ffffff\"; title=\"0.00\">то</span> <span style=\"background-color: #f3f3ff\"; title=\"-0.05\">физическому</span> <span style=\"background-color: #ffcbcb\"; title=\"0.49\">лицу</span> <span style=\"background-color: #ffffff\"; title=\"0.00\">на</span> <span style=\"background-color: #ffffff\"; title=\"0.00\">что</span> <span style=\"background-color: #ffffff\"; title=\"0.00\">я</span> <span style=\"background-color: #ffd3d3\"; title=\"0.41\">сразу</span> <span style=\"background-color: #ffffff\"; title=\"0.00\">же</span> <span style=\"background-color: #d4d4ff\"; title=\"-0.17\">ответил</span> <span style=\"background-color: #ffffff\"; title=\"0.00\">что</span> <span style=\"background-color: #ffffff\"; title=\"0.00\">да</span> <span style=\"background-color: #ffffff\"; title=\"0.00\">все</span> <span style=\"background-color: #ffefef\"; title=\"0.15\">подтверждаю</span> <span style=\"background-color: #ffffff\"; title=\"0.00\">на</span> <span style=\"background-color: #ffc1c1\"; title=\"0.58\">следующий</span> <span style=\"background-color: #fff2f2\"; title=\"0.12\">день</span> <span style=\"background-color: #ffffff\"; title=\"0.00\">мой</span> <span style=\"background-color: #e1e1ff\"; title=\"-0.12\">представитель</span> <span style=\"background-color: #ffb6b6\"; title=\"0.68\">пошел</span> <span style=\"background-color: #ffffff\"; title=\"0.00\">в</span> <span style=\"background-color: #e7e7ff\"; title=\"-0.09\">офис</span> <span style=\"background-color: #ffffff\"; title=\"0.00\">опять</span> <span style=\"background-color: #ffffff\"; title=\"0.00\">где</span> <span style=\"background-color: #ffffff\"; title=\"0.00\">у</span> <span style=\"background-color: #fffefe\"; title=\"0.00\">доверенность</span> <span style=\"background-color: #dedeff\"; title=\"-0.13\">взяли</span> <span style=\"background-color: #ffffff\"; title=\"0.00\">на</span> <span style=\"background-color: #c5c5ff\"; title=\"-0.23\">проверку</span> <span style=\"background-color: #ffffff\"; title=\"0.00\">и</span> <span style=\"background-color: #7171ff\"; title=\"-0.56\">сказали</span> <span style=\"background-color: #ffffff\"; title=\"0.00\">что</span> <span style=\"background-color: #9b9bff\"; title=\"-0.39\">перезвонят</span> <span style=\"background-color: #ffffff\"; title=\"0.00\">через</span> <span style=\"background-color: #fff8f8\"; title=\"0.06\">несколько</span> <span style=\"background-color: #fefeff\"; title=\"-0.00\">часов</span> <span style=\"background-color: #ff9c9c\"; title=\"0.93\">действительно</span> <span style=\"background-color: #ffd5d5\"; title=\"0.39\">перезвонили</span> <span style=\"background-color: #ffffff\"; title=\"0.00\">и</span> <span style=\"background-color: #ffe5e5\"; title=\"0.24\">сообщили</span> <span style=\"background-color: #ffffff\"; title=\"0.00\">что</span> <span style=\"background-color: #fffefe\"; title=\"0.00\">доверенность</span> <span style=\"background-color: #c5c5ff\"; title=\"-0.23\">проверку</span> <span style=\"background-color: #e9e9ff\"; title=\"-0.09\">прошла</span> <span style=\"background-color: #fff6f6\"; title=\"0.08\">успешно</span> <span style=\"background-color: #ffffff\"; title=\"0.00\">но</span> <span style=\"background-color: #bebeff\"; title=\"-0.25\">карту</span> <span style=\"background-color: #ffffff\"; title=\"0.00\">не</span> <span style=\"background-color: #ffefef\"; title=\"0.15\">выдадут</span> <span style=\"background-color: #ffffff\"; title=\"0.00\">так</span> <span style=\"background-color: #ffffff\"; title=\"0.00\">как</span> <span style=\"background-color: #e0e0ff\"; title=\"-0.12\">необходимо</span> <span style=\"background-color: #fff8f8\"; title=\"0.06\">моё</span> <span style=\"background-color: #fff2f2\"; title=\"0.12\">личное</span> <span style=\"background-color: #ffebeb\"; title=\"0.18\">присутствие</span> <span style=\"background-color: #ffffff\"; title=\"0.00\">и</span> <span style=\"background-color: #dcdcff\"; title=\"-0.14\">паспорт</span> <span style=\"background-color: #ffffff\"; title=\"0.00\">я</span> <span style=\"background-color: #ffffff\"; title=\"0.00\">не</span> <span style=\"background-color: #ffdbdb\"; title=\"0.34\">знаю</span> <span style=\"background-color: #fffefe\"; title=\"0.00\">чья</span> <span style=\"background-color: #c7c7ff\"; title=\"-0.22\">это</span> <span style=\"background-color: #f9f9ff\"; title=\"-0.02\">инициатива</span> <span style=\"background-color: #ffffff\"; title=\"0.00\">но</span> <span style=\"background-color: #fff4f4\"; title=\"0.10\">полагаю</span> <span style=\"background-color: #ffffff\"; title=\"0.00\">что</span> <span style=\"background-color: #d5d5ff\"; title=\"-0.16\">какого</span> <span style=\"background-color: #ffffff\"; title=\"0.00\">то</span> <span style=\"background-color: #ffe5e5\"; title=\"0.24\">сотрудника</span> <span style=\"background-color: #fff1f1\"; title=\"0.13\">местного</span> <span style=\"background-color: #fffafa\"; title=\"0.04\">офиса</span> <span style=\"background-color: #ffeeee\"; title=\"0.15\">который</span> <span style=\"background-color: #ffffff\"; title=\"0.00\">не</span> <span style=\"background-color: #fffbfb\"; title=\"0.03\">понимает</span> <span style=\"background-color: #ffffff\"; title=\"0.00\">что</span> <span style=\"background-color: #fffefe\"; title=\"0.00\">доверенность</span> <span style=\"background-color: #ffffff\"; title=\"0.00\">для</span> <span style=\"background-color: #ffffff\"; title=\"0.00\">того</span> <span style=\"background-color: #ffffff\"; title=\"0.00\">и</span> <span style=\"background-color: #c2c2ff\"; title=\"-0.24\">существует</span> <span style=\"background-color: #ffffff\"; title=\"0.00\">чтобы</span> <span style=\"background-color: #ffe0e0\"; title=\"0.29\">избежать</span> <span style=\"background-color: #aeaeff\"; title=\"-0.32\">личного</span> <span style=\"background-color: #ffeaea\"; title=\"0.20\">присутствия</span> <span style=\"background-color: #ffffff\"; title=\"0.00\">я</span> <span style=\"background-color: #ffffff\"; title=\"0.00\">бы</span> <span style=\"background-color: #ccccff\"; title=\"-0.20\">хотел</span> <span style=\"background-color: #ffffff\"; title=\"0.00\">чтобы</span> <span style=\"background-color: #f6f6ff\"; title=\"-0.03\">данная</span> <span style=\"background-color: #dedeff\"; title=\"-0.13\">ситуация</span> <span style=\"background-color: #ffd2d2\"; title=\"0.42\">решилась</span> <span style=\"background-color: #ffffff\"; title=\"0.00\">в</span> <span style=\"background-color: #aaaaff\"; title=\"-0.33\">ближайшее</span> <span style=\"background-color: #f8f8ff\"; title=\"-0.02\">время</span> </p>"
      ],
      "text/plain": [
       "<IPython.core.display.HTML object>"
      ]
     },
     "metadata": {},
     "output_type": "display_data"
    },
    {
     "name": "stdout",
     "output_type": "stream",
     "text": [
      "rating: 1\n",
      "predicted proba: 0.998653195578374\n"
     ]
    },
    {
     "data": {
      "text/html": [
       "\n",
       "    <p style=\"font-size:16px; color:#000000; border: 2px solid #000; text-align: justify; background-color:#ffffff; border-radius: 25px; padding: 20px;\">\n",
       "    <span style=\"background-color: #ffffff\"; title=\"0.00\">я</span> <span style=\"background-color: #d2d2ff\"; title=\"-0.18\">владелец</span> <span style=\"background-color: #ddddff\"; title=\"-0.13\">карты</span> <span style=\"background-color: #ffbcbc\"; title=\"0.63\">халва</span> <span style=\"background-color: #ffd2d2\"; title=\"0.42\">покупал</span> <span style=\"background-color: #fffdfd\"; title=\"0.02\">товар</span> <span style=\"background-color: #ffffff\"; title=\"0.00\">в</span> <span style=\"background-color: #fff3f3\"; title=\"0.11\">магазине</span> <span style=\"background-color: #d6d6ff\"; title=\"-0.16\">партнёре</span> <span style=\"background-color: #ffe6e6\"; title=\"0.23\">связной</span> <span style=\"background-color: #ffeaea\"; title=\"0.19\">кеш</span> <span style=\"background-color: #ffe0e0\"; title=\"0.29\">бек</span> <span style=\"background-color: #ffffff\"; title=\"0.00\">не</span> <span style=\"background-color: #ffdcdc\"; title=\"0.33\">начислили</span> <span style=\"background-color: #cfcfff\"; title=\"-0.19\">код</span> <span style=\"background-color: #c9c9ff\"; title=\"-0.21\">оплаты</span> <span style=\"background-color: #fff3f3\"; title=\"0.11\">магазина</span> <span style=\"background-color: #ffd0d0\"; title=\"0.44\">оказался</span> <span style=\"background-color: #ffffff\"; title=\"0.00\">в</span> <span style=\"background-color: #fff2f2\"; title=\"0.12\">исключениях</span> <span style=\"background-color: #ffffff\"; title=\"0.00\">по</span> <span style=\"background-color: #bcbcff\"; title=\"-0.26\">программе</span> <span style=\"background-color: #ffdede\"; title=\"0.31\">лояльности</span> <span style=\"background-color: #fff5f5\"; title=\"0.09\">обратился</span> <span style=\"background-color: #ffffff\"; title=\"0.00\">в</span> <span style=\"background-color: #fff8f8\"; title=\"0.06\">чат</span> <span style=\"background-color: #fff9f9\"; title=\"0.05\">совкомбанка</span> <span style=\"background-color: #f6f6ff\"; title=\"-0.03\">июня</span> <span style=\"background-color: #dadaff\"; title=\"-0.14\">сотрудники</span> <span style=\"background-color: #ffffff\"; title=\"0.00\">с</span> <span style=\"background-color: #f7f7ff\"; title=\"-0.03\">вниманием</span> <span style=\"background-color: #ffb5b5\"; title=\"0.70\">рассмотрели</span> <span style=\"background-color: #fff8f8\"; title=\"0.06\">проблему</span> <span style=\"background-color: #ffffff\"; title=\"0.00\">и</span> <span style=\"background-color: #ffffff\"; title=\"0.00\">все</span> <span style=\"background-color: #ffbcbc\"; title=\"0.63\">решилось</span> <span style=\"background-color: #ff9595\"; title=\"1.00\">положительно</span> <span style=\"background-color: #ffffff\"; title=\"0.00\">в</span> <span style=\"background-color: #ffffff\"; title=\"0.00\">этот</span> <span style=\"background-color: #ffffff\"; title=\"0.00\">же</span> <span style=\"background-color: #fff2f2\"; title=\"0.12\">день</span> <span style=\"background-color: #ff4646\"; title=\"1.74\">благодарю</span> <span style=\"background-color: #fffdfd\"; title=\"0.01\">сотрудников</span> <span style=\"background-color: #fff9f9\"; title=\"0.05\">совкомбанка</span> <span style=\"background-color: #ffffff\"; title=\"0.00\">за</span> <span style=\"background-color: #fff1f1\"; title=\"0.13\">отношение</span> <span style=\"background-color: #ffffff\"; title=\"0.00\">к</span> <span style=\"background-color: #a0a0ff\"; title=\"-0.37\">клиентам</span> </p>"
      ],
      "text/plain": [
       "<IPython.core.display.HTML object>"
      ]
     },
     "metadata": {},
     "output_type": "display_data"
    },
    {
     "name": "stdout",
     "output_type": "stream",
     "text": [
      "rating: 1\n",
      "predicted proba: 0.9986151120201464\n"
     ]
    },
    {
     "data": {
      "text/html": [
       "\n",
       "    <p style=\"font-size:16px; color:#000000; border: 2px solid #000; text-align: justify; background-color:#ffffff; border-radius: 25px; padding: 20px;\">\n",
       "    <span style=\"background-color: #fffbfb\"; title=\"0.03\">здравствуйте</span> <span style=\"background-color: #fffcfc\"; title=\"0.02\">напишу</span> <span style=\"background-color: #9f9fff\"; title=\"-0.38\">номера</span> <span style=\"background-color: #d4d4ff\"; title=\"-0.17\">обращений</span> <span style=\"background-color: #f3f3ff\"; title=\"-0.05\">которые</span> <span style=\"background-color: #ffffff\"; title=\"0.00\">были</span> <span style=\"background-color: #fffbfb\"; title=\"0.04\">рассмотрены</span> <span style=\"background-color: #8484ff\"; title=\"-0.48\">ранее</span> <span style=\"background-color: #ffffff\"; title=\"0.00\">от</span> <span style=\"background-color: #ffffff\"; title=\"0.00\">от</span> <span style=\"background-color: #ffffff\"; title=\"0.00\">не</span> <span style=\"background-color: #dcdcff\"; title=\"-0.14\">могу</span> <span style=\"background-color: #ffffff\"; title=\"0.00\">быть</span> <span style=\"background-color: #ff7a7a\"; title=\"1.26\">доволен</span> <span style=\"background-color: #ffffff\"; title=\"0.00\">как</span> <span style=\"background-color: #ffffff\"; title=\"0.00\">были</span> <span style=\"background-color: #fffbfb\"; title=\"0.04\">рассмотрены</span> <span style=\"background-color: #ceceff\"; title=\"-0.19\">обращения</span> <span style=\"background-color: #ffffff\"; title=\"0.00\">к</span> <span style=\"background-color: #d3d3ff\"; title=\"-0.17\">сожалению</span> <span style=\"background-color: #ffffff\"; title=\"0.00\">для</span> <span style=\"background-color: #ffffff\"; title=\"0.00\">нас</span> <span style=\"background-color: #ffffff\"; title=\"0.00\">с</span> <span style=\"background-color: #fff1f1\"; title=\"0.12\">мамой</span> <span style=\"background-color: #ffffff\"; title=\"0.00\">были</span> <span style=\"background-color: #ffabab\"; title=\"0.79\">огромная</span> <span style=\"background-color: #fffcfc\"; title=\"0.02\">неудача</span> <span style=\"background-color: #ffeeee\"; title=\"0.16\">попасть</span> <span style=\"background-color: #ffffff\"; title=\"0.00\">к</span> <span style=\"background-color: #ffffff\"; title=\"0.00\">не</span> <span style=\"background-color: #ffe3e3\"; title=\"0.26\">очень</span> <span style=\"background-color: #fff5f5\"; title=\"0.09\">компетентной</span> <span style=\"background-color: #ffbcbc\"; title=\"0.63\">сотруднице</span> <span style=\"background-color: #ddddff\"; title=\"-0.13\">п</span> <span style=\"background-color: #ffe8e8\"; title=\"0.22\">ной</span> <span style=\"background-color: #fffcfc\"; title=\"0.02\">м</span> <span style=\"background-color: #fcfcff\"; title=\"-0.01\">е</span> <span style=\"background-color: #ffffff\"; title=\"0.00\">с</span> <span style=\"background-color: #ffffff\"; title=\"0.00\">инициалами</span> <span style=\"background-color: #dcdcff\"; title=\"-0.14\">могу</span> <span style=\"background-color: #ffeded\"; title=\"0.16\">ошибаться</span> <span style=\"background-color: #ffffff\"; title=\"0.00\">мы</span> <span style=\"background-color: #f2f2ff\"; title=\"-0.05\">посещали</span> <span style=\"background-color: #ceceff\"; title=\"-0.19\">отделение</span> <span style=\"background-color: #ffffff\"; title=\"0.00\">на</span> <span style=\"background-color: #ffffff\"; title=\"0.00\">боткинской</span> <span style=\"background-color: #ffffff\"; title=\"0.00\">чтобы</span> <span style=\"background-color: #ebebff\"; title=\"-0.08\">открывать</span> <span style=\"background-color: #e0e0ff\"; title=\"-0.12\">сберегательный</span> <span style=\"background-color: #d8d8ff\"; title=\"-0.15\">счёт</span> <span style=\"background-color: #bcbcff\"; title=\"-0.26\">открыть</span> <span style=\"background-color: #e0e0ff\"; title=\"-0.12\">сберегательный</span> <span style=\"background-color: #d8d8ff\"; title=\"-0.15\">счёт</span> <span style=\"background-color: #ffffff\"; title=\"0.00\">в</span> <span style=\"background-color: #fffbfb\"; title=\"0.03\">других</span> <span style=\"background-color: #ffc4c4\"; title=\"0.55\">отделениях</span> <span style=\"background-color: #c7c7ff\"; title=\"-0.22\">это</span> <span style=\"background-color: #fff2f2\"; title=\"0.12\">дело</span> <span style=\"background-color: #ffe3e3\"; title=\"0.26\">очень</span> <span style=\"background-color: #ff9999\"; title=\"0.96\">быстрое</span> <span style=\"background-color: #ffffff\"; title=\"0.00\">но</span> <span style=\"background-color: #ffffff\"; title=\"0.00\">у</span> <span style=\"background-color: #9494ff\"; title=\"-0.42\">сотрудницы</span> <span style=\"background-color: #ddddff\"; title=\"-0.13\">п</span> <span style=\"background-color: #ffe8e8\"; title=\"0.22\">ной</span> <span style=\"background-color: #c7c7ff\"; title=\"-0.22\">это</span> <span style=\"background-color: #ffb3b3\"; title=\"0.72\">заняло</span> <span style=\"background-color: #ffe3e3\"; title=\"0.26\">очень</span> <span style=\"background-color: #ffffff\"; title=\"0.00\">много</span> <span style=\"background-color: #f3f3ff\"; title=\"-0.05\">времени</span> <span style=\"background-color: #ffffff\"; title=\"0.00\">в</span> <span style=\"background-color: #c0c0ff\"; title=\"-0.25\">первом</span> <span style=\"background-color: #e6e6ff\"; title=\"-0.10\">обращении</span> <span style=\"background-color: #ffffff\"; title=\"0.00\">более</span> <span style=\"background-color: #ff8d8d\"; title=\"1.07\">подробно</span> <span style=\"background-color: #dfdfff\"; title=\"-0.13\">написано</span> <span style=\"background-color: #ffffff\"; title=\"0.00\">чем</span> <span style=\"background-color: #ffffff\"; title=\"0.00\">мы</span> <span style=\"background-color: #ffffff\"; title=\"0.00\">были</span> <span style=\"background-color: #e5e5ff\"; title=\"-0.10\">недовольны</span> <span style=\"background-color: #f6f6ff\"; title=\"-0.03\">сотрудница</span> <span style=\"background-color: #ddddff\"; title=\"-0.13\">п</span> <span style=\"background-color: #ffffff\"; title=\"0.00\">на</span> <span style=\"background-color: #ffffff\"; title=\"0.00\">не</span> <span style=\"background-color: #ffc7c7\"; title=\"0.53\">могла</span> <span style=\"background-color: #fffefe\"; title=\"0.00\">идентифицировать</span> <span style=\"background-color: #ffdede\"; title=\"0.31\">маму</span> <span style=\"background-color: #8080ff\"; title=\"-0.50\">хотя</span> <span style=\"background-color: #ffffff\"; title=\"0.00\">ей</span> <span style=\"background-color: #ffffff\"; title=\"0.00\">были</span> <span style=\"background-color: #fff8f8\"; title=\"0.06\">даны</span> <span style=\"background-color: #ffffff\"; title=\"0.00\">все</span> <span style=\"background-color: #ffeeee\"; title=\"0.16\">документы</span> <span style=\"background-color: #ffc6c6\"; title=\"0.53\">странно</span> <span style=\"background-color: #ffffff\"; title=\"0.00\">что</span> <span style=\"background-color: #ffffff\"; title=\"0.00\">у</span> <span style=\"background-color: #fffdfd\"; title=\"0.01\">сотрудников</span> <span style=\"background-color: #fafaff\"; title=\"-0.02\">иц</span> <span style=\"background-color: #d3d3ff\"; title=\"-0.17\">сбербанка</span> <span style=\"background-color: #fffbfb\"; title=\"0.03\">других</span> <span style=\"background-color: #d4d4ff\"; title=\"-0.17\">отделений</span> <span style=\"background-color: #fffbfb\"; title=\"0.04\">таких</span> <span style=\"background-color: #ffaaaa\"; title=\"0.80\">проблем</span> <span style=\"background-color: #ffffff\"; title=\"0.00\">не</span> <span style=\"background-color: #ffe3e3\"; title=\"0.26\">возникает</span> <span style=\"background-color: #ffffff\"; title=\"0.00\">но</span> <span style=\"background-color: #ffffff\"; title=\"0.00\">у</span> <span style=\"background-color: #fefeff\"; title=\"-0.00\">вышеназванной</span> <span style=\"background-color: #9494ff\"; title=\"-0.42\">сотрудницы</span> <span style=\"background-color: #fffefe\"; title=\"0.00\">идентифицировать</span> <span style=\"background-color: #ffffff\"; title=\"0.00\">не</span> <span style=\"background-color: #ff8d8d\"; title=\"1.07\">получалось</span> <span style=\"background-color: #ffffff\"; title=\"0.00\">в</span> <span style=\"background-color: #a0a0ff\"; title=\"-0.37\">ответе</span> <span style=\"background-color: #ffffff\"; title=\"0.00\">на</span> <span style=\"background-color: #ffb8b8\"; title=\"0.67\">первое</span> <span style=\"background-color: #cdcdff\"; title=\"-0.19\">обращение</span> <span style=\"background-color: #ffe3e3\"; title=\"0.26\">дарья</span> <span style=\"background-color: #ffffff\"; title=\"0.00\">к</span> <span style=\"background-color: #ffffff\"; title=\"0.00\">на</span> <span style=\"background-color: #ffffff\"; title=\"0.00\">не</span> <span style=\"background-color: #fefeff\"; title=\"-0.00\">посчитала</span> <span style=\"background-color: #fffdfd\"; title=\"0.02\">нужным</span> <span style=\"background-color: #fcfcff\"; title=\"-0.01\">признать</span> <span style=\"background-color: #ffe1e1\"; title=\"0.28\">действия</span> <span style=\"background-color: #9494ff\"; title=\"-0.42\">сотрудницы</span> <span style=\"background-color: #ddddff\"; title=\"-0.13\">п</span> <span style=\"background-color: #ffe8e8\"; title=\"0.22\">ной</span> <span style=\"background-color: #eeeeff\"; title=\"-0.07\">некомпетентными</span> <span style=\"background-color: #ffffff\"; title=\"0.00\">как</span> <span style=\"background-color: #ffffff\"; title=\"0.00\">только</span> <span style=\"background-color: #e0e0ff\"; title=\"-0.12\">сберегательный</span> <span style=\"background-color: #fffafa\"; title=\"0.04\">счет</span> <span style=\"background-color: #ffffff\"; title=\"0.00\">был</span> <span style=\"background-color: #fffcfc\"; title=\"0.02\">открыт</span> <span style=\"background-color: #f6f6ff\"; title=\"-0.03\">сотрудница</span> <span style=\"background-color: #ddddff\"; title=\"-0.13\">п</span> <span style=\"background-color: #ffffff\"; title=\"0.00\">на</span> <span style=\"background-color: #ffd5d5\"; title=\"0.39\">предложила</span> <span style=\"background-color: #ccccff\"; title=\"-0.20\">подключить</span> <span style=\"background-color: #ffebeb\"; title=\"0.18\">уведомления</span> <span style=\"background-color: #ffffff\"; title=\"0.00\">по</span> <span style=\"background-color: #ffffff\"; title=\"0.00\">сберегательным</span> <span style=\"background-color: #fffafa\"; title=\"0.04\">счетам</span> <span style=\"background-color: #ffffff\"; title=\"0.00\">но</span> <span style=\"background-color: #ffffff\"; title=\"0.00\">вот</span> <span style=\"background-color: #e0e0ff\"; title=\"-0.12\">незадача</span> <span style=\"background-color: #efefff\"; title=\"-0.06\">приходные</span> <span style=\"background-color: #f3f3ff\"; title=\"-0.05\">операции</span> <span style=\"background-color: #ffffff\"; title=\"0.00\">не</span> <span style=\"background-color: #ffffff\"; title=\"0.00\">сопровождаются</span> <span style=\"background-color: #fffafa\"; title=\"0.04\">уведомлениями</span> <span style=\"background-color: #ffffff\"; title=\"0.00\">по</span> <span style=\"background-color: #fffbfb\"; title=\"0.04\">смс</span> <span style=\"background-color: #ffffff\"; title=\"0.00\">так</span> <span style=\"background-color: #ffffff\"; title=\"0.00\">зачем</span> <span style=\"background-color: #ffffff\"; title=\"0.00\">надо</span> <span style=\"background-color: #ffffff\"; title=\"0.00\">было</span> <span style=\"background-color: #e2e2ff\"; title=\"-0.11\">давать</span> <span style=\"background-color: #fbfbff\"; title=\"-0.02\">мнимую</span> <span style=\"background-color: #f3f3ff\"; title=\"-0.05\">надежду</span> <span style=\"background-color: #ffffff\"; title=\"0.00\">на</span> <span style=\"background-color: #ffebeb\"; title=\"0.18\">уведомления</span> <span style=\"background-color: #ffffff\"; title=\"0.00\">если</span> <span style=\"background-color: #ffffff\"; title=\"0.00\">они</span> <span style=\"background-color: #ffffff\"; title=\"0.00\">не</span> <span style=\"background-color: #f6f6ff\"; title=\"-0.03\">положены</span> <span style=\"background-color: #c6c6ff\"; title=\"-0.22\">смотрите</span> <span style=\"background-color: #cacaff\"; title=\"-0.21\">ответ</span> <span style=\"background-color: #ffffff\"; title=\"0.00\">на</span> <span style=\"background-color: #a2a2ff\"; title=\"-0.37\">второе</span> <span style=\"background-color: #cdcdff\"; title=\"-0.19\">обращение</span> <span style=\"background-color: #ffffff\"; title=\"0.00\">в</span> <span style=\"background-color: #ffe3e3\"; title=\"0.26\">общем</span> <span style=\"background-color: #ffffff\"; title=\"0.00\">мне</span> <span style=\"background-color: #ffb9b9\"; title=\"0.66\">хотелось</span> <span style=\"background-color: #ffffff\"; title=\"0.00\">чтобы</span> <span style=\"background-color: #ffe1e1\"; title=\"0.28\">действия</span> <span style=\"background-color: #9494ff\"; title=\"-0.42\">сотрудницы</span> <span style=\"background-color: #ddddff\"; title=\"-0.13\">п</span> <span style=\"background-color: #ffe8e8\"; title=\"0.22\">ной</span> <span style=\"background-color: #f3f3ff\"; title=\"-0.05\">которые</span> <span style=\"background-color: #ffffff\"; title=\"0.00\">повлекли</span> <span style=\"background-color: #ffffff\"; title=\"0.00\">за</span> <span style=\"background-color: #ffeded\"; title=\"0.17\">собой</span> <span style=\"background-color: #ffe3e3\"; title=\"0.26\">очень</span> <span style=\"background-color: #fff8f8\"; title=\"0.06\">долгое</span> <span style=\"background-color: #ffebeb\"; title=\"0.19\">ожидание</span> <span style=\"background-color: #c3c3ff\"; title=\"-0.23\">признали</span> <span style=\"background-color: #eeeeff\"; title=\"-0.07\">некомпетентными</span> <span style=\"background-color: #f3f3ff\"; title=\"-0.05\">ибо</span> <span style=\"background-color: #ffffff\"; title=\"0.00\">на</span> <span style=\"background-color: #bbbbff\"; title=\"-0.27\">основании</span> <span style=\"background-color: #ffecec\"; title=\"0.17\">дарьи</span> <span style=\"background-color: #ffffff\"; title=\"0.00\">к</span> <span style=\"background-color: #ffe8e8\"; title=\"0.22\">ной</span> <span style=\"background-color: #ffffff\"; title=\"0.00\">может</span> <span style=\"background-color: #fffdfd\"; title=\"0.01\">показаться</span> <span style=\"background-color: #ffffff\"; title=\"0.00\">что</span> <span style=\"background-color: #fff8f8\"; title=\"0.06\">долгое</span> <span style=\"background-color: #f8f8ff\"; title=\"-0.02\">время</span> <span style=\"background-color: #f9f9ff\"; title=\"-0.02\">обслуживания</span> <span style=\"background-color: #c7c7ff\"; title=\"-0.22\">это</span> <span style=\"background-color: #ffffff\"; title=\"0.00\">в</span> <span style=\"background-color: #e9e9ff\"; title=\"-0.08\">порядке</span> <span style=\"background-color: #fffdfd\"; title=\"0.01\">вещей</span> </p>"
      ],
      "text/plain": [
       "<IPython.core.display.HTML object>"
      ]
     },
     "metadata": {},
     "output_type": "display_data"
    },
    {
     "name": "stdout",
     "output_type": "stream",
     "text": [
      "rating: 2\n",
      "predicted proba: 0.9978225222466653\n"
     ]
    },
    {
     "data": {
      "text/html": [
       "\n",
       "    <p style=\"font-size:16px; color:#000000; border: 2px solid #000; text-align: justify; background-color:#ffffff; border-radius: 25px; padding: 20px;\">\n",
       "    <span style=\"background-color: #8686ff\"; title=\"-0.48\">добрый</span> <span style=\"background-color: #fff2f2\"; title=\"0.12\">день</span> <span style=\"background-color: #ffffff\"; title=\"0.00\">уже</span> <span style=\"background-color: #fff8f8\"; title=\"0.06\">несколько</span> <span style=\"background-color: #fff5f5\"; title=\"0.09\">лет</span> <span style=\"background-color: #e7e7ff\"; title=\"-0.09\">являюсь</span> <span style=\"background-color: #ffe7e7\"; title=\"0.23\">постоянным</span> <span style=\"background-color: #fffefe\"; title=\"0.01\">клиентом</span> <span style=\"background-color: #d7d7ff\"; title=\"-0.16\">банка</span> <span style=\"background-color: #ffd1d1\"; title=\"0.43\">тинькофф</span> <span style=\"background-color: #ffd5d5\"; title=\"0.39\">пользуюсь</span> <span style=\"background-color: #d5d5ff\"; title=\"-0.17\">дебетовой</span> <span style=\"background-color: #f6f6ff\"; title=\"-0.03\">картой</span> <span style=\"background-color: #ffffff\"; title=\"0.00\">всегда</span> <span style=\"background-color: #ffffff\"; title=\"0.00\">была</span> <span style=\"background-color: #f6f6ff\"; title=\"-0.03\">полностью</span> <span style=\"background-color: #ff7070\"; title=\"1.35\">довольна</span> <span style=\"background-color: #fff0f0\"; title=\"0.13\">услугами</span> <span style=\"background-color: #d7d7ff\"; title=\"-0.16\">банка</span> <span style=\"background-color: #7f7fff\"; title=\"-0.50\">рекомендовала</span> <span style=\"background-color: #ffffff\"; title=\"0.00\">их</span> <span style=\"background-color: #ffd4d4\"; title=\"0.40\">всем</span> <span style=\"background-color: #ffffff\"; title=\"0.00\">и</span> <span style=\"background-color: #cbcbff\"; title=\"-0.20\">вся</span> <span style=\"background-color: #ffdcdc\"; title=\"0.33\">всё</span> <span style=\"background-color: #ffffff\"; title=\"0.00\">на</span> <span style=\"background-color: #ffdfdf\"; title=\"0.30\">высшем</span> <span style=\"background-color: #ffc4c4\"; title=\"0.56\">уровне</span> <span style=\"background-color: #ffdede\"; title=\"0.30\">обслуживание</span> <span style=\"background-color: #ffa6a6\"; title=\"0.84\">оперативность</span> <span style=\"background-color: #fcfcff\"; title=\"-0.01\">сайт</span> <span style=\"background-color: #ffffff\"; title=\"0.00\">но</span> <span style=\"background-color: #ffffff\"; title=\"0.00\">есть</span> <span style=\"background-color: #ceceff\"; title=\"-0.19\">одно</span> <span style=\"background-color: #ffffff\"; title=\"0.00\">но</span> <span style=\"background-color: #c7c7ff\"; title=\"-0.22\">это</span> <span style=\"background-color: #ffdcdc\"; title=\"0.33\">всё</span> <span style=\"background-color: #ffffff\"; title=\"0.00\">до</span> <span style=\"background-color: #fffbfb\"; title=\"0.04\">тех</span> <span style=\"background-color: #bbbbff\"; title=\"-0.27\">пор</span> <span style=\"background-color: #ffe5e5\"; title=\"0.24\">пока</span> <span style=\"background-color: #ffffff\"; title=\"0.00\">у</span> <span style=\"background-color: #ffffff\"; title=\"0.00\">вас</span> <span style=\"background-color: #ffffff\"; title=\"0.00\">нет</span> <span style=\"background-color: #e5e5ff\"; title=\"-0.10\">никаких</span> <span style=\"background-color: #ffaaaa\"; title=\"0.80\">проблем</span> <span style=\"background-color: #ffffff\"; title=\"0.00\">я</span> <span style=\"background-color: #fff7f7\"; title=\"0.07\">работала</span> <span style=\"background-color: #ffffff\"; title=\"0.00\">у</span> <span style=\"background-color: #ffeaea\"; title=\"0.20\">ип</span> <span style=\"background-color: #ffffff\"; title=\"0.00\">в</span> <span style=\"background-color: #ffc5c5\"; title=\"0.54\">начале</span> <span style=\"background-color: #f7f7ff\"; title=\"-0.03\">марта</span> <span style=\"background-color: #ffffff\"; title=\"0.00\">и</span> <span style=\"background-color: #ffffff\"; title=\"0.00\">как</span> <span style=\"background-color: #e5e5ff\"; title=\"-0.10\">многие</span> <span style=\"background-color: #ececff\"; title=\"-0.07\">мои</span> <span style=\"background-color: #fdfdff\"; title=\"-0.00\">сограждане</span> <span style=\"background-color: #9b9bff\"; title=\"-0.39\">потеряла</span> <span style=\"background-color: #ffcece\"; title=\"0.46\">работу</span> <span style=\"background-color: #b0b0ff\"; title=\"-0.31\">тк</span> <span style=\"background-color: #ffeaea\"; title=\"0.20\">ип</span> <span style=\"background-color: #eeeeff\"; title=\"-0.06\">закрылось</span> <span style=\"background-color: #ffe2e2\"; title=\"0.27\">обратилась</span> <span style=\"background-color: #ffffff\"; title=\"0.00\">в</span> <span style=\"background-color: #dbdbff\"; title=\"-0.14\">банк</span> <span style=\"background-color: #ffffff\"; title=\"0.00\">с</span> <span style=\"background-color: #fffcfc\"; title=\"0.03\">просьбой</span> <span style=\"background-color: #8c8cff\"; title=\"-0.45\">предоставить</span> <span style=\"background-color: #ffe6e6\"; title=\"0.23\">кредитные</span> <span style=\"background-color: #a7a7ff\"; title=\"-0.34\">каникулы</span> <span style=\"background-color: #ffffff\"; title=\"0.00\">но</span> <span style=\"background-color: #ffffff\"; title=\"0.00\">нет</span> <span style=\"background-color: #ffdcdc\"; title=\"0.33\">всё</span> <span style=\"background-color: #ffffff\"; title=\"0.00\">не</span> <span style=\"background-color: #ffffff\"; title=\"0.00\">так</span> <span style=\"background-color: #ffffff\"; title=\"0.00\">то</span> <span style=\"background-color: #a7a7ff\"; title=\"-0.35\">просто</span> <span style=\"background-color: #dfdfff\"; title=\"-0.12\">сначала</span> <span style=\"background-color: #fffafa\"; title=\"0.04\">попросили</span> <span style=\"background-color: #8c8cff\"; title=\"-0.45\">предоставить</span> <span style=\"background-color: #ffeeee\"; title=\"0.16\">документы</span> <span style=\"background-color: #ffffff\"; title=\"0.00\">о</span> <span style=\"background-color: #ffffff\"; title=\"0.00\">том</span> <span style=\"background-color: #ffffff\"; title=\"0.00\">что</span> <span style=\"background-color: #ffffff\"; title=\"0.00\">я</span> <span style=\"background-color: #ffffff\"; title=\"0.00\">не</span> <span style=\"background-color: #fff0f0\"; title=\"0.14\">работаю</span> <span style=\"background-color: #ffffff\"; title=\"0.00\">а</span> <span style=\"background-color: #ffffff\"; title=\"0.00\">потом</span> <span style=\"background-color: #e8e8ff\"; title=\"-0.09\">ответили</span> <span style=\"background-color: #ffffff\"; title=\"0.00\">что</span> <span style=\"background-color: #ffe0e0\"; title=\"0.29\">услуга</span> <span style=\"background-color: #ffe3e3\"; title=\"0.26\">предоставляется</span> <span style=\"background-color: #d3d3ff\"; title=\"-0.17\">месяца</span> <span style=\"background-color: #fbfbff\"; title=\"-0.01\">спустя</span> <span style=\"background-color: #fffefe\"; title=\"0.00\">регулярных</span> <span style=\"background-color: #c9c9ff\"; title=\"-0.21\">платежей</span> <span style=\"background-color: #ffffff\"; title=\"0.00\">то</span> <span style=\"background-color: #ffffff\"; title=\"0.00\">есть</span> <span style=\"background-color: #ffffff\"; title=\"0.00\">я</span> <span style=\"background-color: #fff5f5\"; title=\"0.09\">должна</span> <span style=\"background-color: #ffffff\"; title=\"0.00\">была</span> <span style=\"background-color: #ffecec\"; title=\"0.18\">предусмотреть</span> <span style=\"background-color: #fff8f8\"; title=\"0.06\">пандемию</span> <span style=\"background-color: #fafaff\"; title=\"-0.02\">коронавируса</span> <span style=\"background-color: #ffffff\"; title=\"0.00\">и</span> <span style=\"background-color: #d2d2ff\"; title=\"-0.18\">связанную</span> <span style=\"background-color: #ffffff\"; title=\"0.00\">с</span> <span style=\"background-color: #e1e1ff\"; title=\"-0.12\">этим</span> <span style=\"background-color: #dadaff\"; title=\"-0.14\">потерю</span> <span style=\"background-color: #9f9fff\"; title=\"-0.38\">работы</span> <span style=\"background-color: #ffffff\"; title=\"0.00\">в</span> <span style=\"background-color: #7070ff\"; title=\"-0.56\">итоге</span> <span style=\"background-color: #ff6767\"; title=\"1.43\">оперативно</span> <span style=\"background-color: #a0a0ff\"; title=\"-0.37\">насчитали</span> <span style=\"background-color: #ffffff\"; title=\"0.00\">мне</span> <span style=\"background-color: #a5a5ff\"; title=\"-0.35\">штраф</span> <span style=\"background-color: #ffffff\"; title=\"0.00\">в</span> <span style=\"background-color: #b8b8ff\"; title=\"-0.28\">чате</span> <span style=\"background-color: #ffffff\"; title=\"0.00\">не</span> <span style=\"background-color: #6060ff\"; title=\"-0.63\">отвечают</span> <span style=\"background-color: #f7f7ff\"; title=\"-0.03\">переключили</span> <span style=\"background-color: #ffffff\"; title=\"0.00\">на</span> <span style=\"background-color: #b3b3ff\"; title=\"-0.30\">робота</span> <span style=\"background-color: #ffffff\"; title=\"0.00\">в</span> <span style=\"background-color: #ffe3e3\"; title=\"0.26\">общем</span> <span style=\"background-color: #ffffff\"; title=\"0.00\">что</span> <span style=\"background-color: #ffffff\"; title=\"0.00\">я</span> <span style=\"background-color: #ffc1c1\"; title=\"0.58\">хочу</span> <span style=\"background-color: #f8f8ff\"; title=\"-0.03\">сказать</span> <span style=\"background-color: #f9f9ff\"; title=\"-0.02\">трудные</span> <span style=\"background-color: #ececff\"; title=\"-0.07\">времена</span> <span style=\"background-color: #ffc2c2\"; title=\"0.58\">пройдут</span> <span style=\"background-color: #ffffff\"; title=\"0.00\">а</span> <span style=\"background-color: #9f9fff\"; title=\"-0.38\">клиентов</span> <span style=\"background-color: #ffffff\"; title=\"0.00\">вы</span> <span style=\"background-color: #fefeff\"; title=\"-0.00\">ребята</span> <span style=\"background-color: #ffffff\"; title=\"0.00\">растеряете</span> <span style=\"background-color: #fff5f5\"; title=\"0.09\">видно</span> <span style=\"background-color: #ffcfcf\"; title=\"0.45\">забыли</span> <span style=\"background-color: #ffffff\"; title=\"0.00\">уже</span> <span style=\"background-color: #ffffff\"; title=\"0.00\">как</span> <span style=\"background-color: #ffffff\"; title=\"0.00\">нарабатывали</span> <span style=\"background-color: #fffbfb\"; title=\"0.04\">этих</span> <span style=\"background-color: #ff9595\"; title=\"1.00\">самых</span> <span style=\"background-color: #9f9fff\"; title=\"-0.38\">клиентов</span> <span style=\"background-color: #ffd4d4\"; title=\"0.40\">всем</span> <span style=\"background-color: #ffffff\"; title=\"0.00\">и</span> <span style=\"background-color: #fffdfd\"; title=\"0.01\">каждому</span> <span style=\"background-color: #d3d3ff\"; title=\"-0.17\">свои</span> <span style=\"background-color: #fff8f8\"; title=\"0.06\">продукты</span> <span style=\"background-color: #ffc0c0\"; title=\"0.59\">предлагали</span> <span style=\"background-color: #ffe3e3\"; title=\"0.26\">очень</span> <span style=\"background-color: #c1c1ff\"; title=\"-0.24\">некрасиво</span> </p>"
      ],
      "text/plain": [
       "<IPython.core.display.HTML object>"
      ]
     },
     "metadata": {},
     "output_type": "display_data"
    }
   ],
   "source": [
    "for i in max_loss_ids:\n",
    "    review_body = x_val[i]\n",
    "    \n",
    "    print(f'rating: {y_val_rating[i]}')\n",
    "    print(f'predicted proba: {y_val_proba[i]}')\n",
    "    \n",
    "    review_tokens = re.findall(TOKEN_PATTERN, review_body.lower())\n",
    "    \n",
    "    html_string = '''\n",
    "    <p style=\"font-size:16px; color:#000000; border: 2px solid #000; text-align: justify; background-color:#ffffff; border-radius: 25px; padding: 20px;\">\n",
    "    '''\n",
    "\n",
    "    for token in review_tokens:\n",
    "        if token in token2id:\n",
    "            weight = importance[token2id[token]]\n",
    "            if weight < 0:\n",
    "                component = hex(int(255 - 255 * weight / min_importance))[2:]\n",
    "                color = f'{component}{component}ff'\n",
    "            else:\n",
    "                component = hex(int(255 - 255 * weight / max_importance))[2:]\n",
    "                color = f'ff{component}{component}'\n",
    "        else:\n",
    "            weight = 0.0\n",
    "            color = 'ffffff'\n",
    "        html_string += f'<span style=\"background-color: #{color}\"; title=\"{weight:.2f}\">{token}</span> '\n",
    "\n",
    "    html_string += '</p>'\n",
    "\n",
    "    display(HTML(html_string))"
   ]
  },
  {
   "cell_type": "markdown",
   "metadata": {
    "id": "iNYeNi_09LAu"
   },
   "source": [
    "если присмотреться, то ошибки модели связаны с ошибками в разметке"
   ]
  },
  {
   "cell_type": "markdown",
   "metadata": {
    "ExecuteTime": {
     "end_time": "2020-11-01T20:52:06.817264Z",
     "start_time": "2020-11-01T20:52:06.810876Z"
    },
    "id": "Mi4eYw359LAu"
   },
   "source": [
    "# Проблемы анализа тональности\n",
    "\n",
    "это двойные отрицания и сарказм"
   ]
  },
  {
   "cell_type": "code",
   "execution_count": 76,
   "metadata": {
    "ExecuteTime": {
     "end_time": "2021-04-14T09:55:11.416372Z",
     "start_time": "2021-04-14T09:55:11.406714Z"
    },
    "id": "7zJuUteo9LAv"
   },
   "outputs": [
    {
     "name": "stdout",
     "output_type": "stream",
     "text": [
      "ну да, блин, отношение к клиентам супер, спасибо вам...\n",
      "TRUE: 0 PREDICTED: 0.89\n",
      "\n",
      "####################################################################################################\n",
      "\n",
      "такой клиентоориентированности я еще не видел, сказочные ...\n",
      "TRUE: 0 PREDICTED: 0.61\n",
      "\n",
      "####################################################################################################\n",
      "\n",
      "выражаю огромную благодарность банку, третий раз пытаюсь оформить доставку карты, но воз и ныне там\n",
      "TRUE: 0 PREDICTED: 0.95\n",
      "\n",
      "####################################################################################################\n",
      "\n",
      "я думал, что банк окажется хуже некуда, но обошлось\n",
      "TRUE: 1 PREDICTED: 0.51\n",
      "\n",
      "####################################################################################################\n",
      "\n",
      "раньше ненавидел сбербанк, а теперь всем советую\n",
      "TRUE: 1 PREDICTED: 0.39\n",
      "\n",
      "####################################################################################################\n",
      "\n"
     ]
    }
   ],
   "source": [
    "sentences = [\n",
    "    'ну да, блин, отношение к клиентам супер, спасибо вам...',\n",
    "    'такой клиентоориентированности я еще не видел, сказочные ...',\n",
    "    'выражаю огромную благодарность банку, третий раз пытаюсь оформить доставку карты, но воз и ныне там',\n",
    "    'я думал, что банк окажется хуже некуда, но обошлось',\n",
    "    'раньше ненавидел сбербанк, а теперь всем советую'\n",
    "]\n",
    "\n",
    "labels = [0, 0, 0, 1, 1]\n",
    "\n",
    "predictions = count_model.predict_proba(sentences)[:, 1]\n",
    "\n",
    "\n",
    "for sentence, label, prediction in zip(sentences, labels, predictions):\n",
    "    print(sentence)\n",
    "    print(f\"TRUE: {label} PREDICTED: {prediction:.2f}\\n\")\n",
    "    print(\"#\" * 100, end='\\n\\n')"
   ]
  },
  {
   "cell_type": "code",
   "execution_count": null,
   "metadata": {
    "id": "PeW6e-Yh9LAw"
   },
   "outputs": [],
   "source": []
  }
 ],
 "metadata": {
  "colab": {
   "name": "review_classification.ipynb",
   "provenance": []
  },
  "kernelspec": {
   "display_name": "Python 3 (ipykernel)",
   "language": "python",
   "name": "python3"
  },
  "language_info": {
   "codemirror_mode": {
    "name": "ipython",
    "version": 3
   },
   "file_extension": ".py",
   "mimetype": "text/x-python",
   "name": "python",
   "nbconvert_exporter": "python",
   "pygments_lexer": "ipython3",
   "version": "3.8.8"
  },
  "toc": {
   "base_numbering": 1,
   "nav_menu": {},
   "number_sections": true,
   "sideBar": true,
   "skip_h1_title": false,
   "title_cell": "Table of Contents",
   "title_sidebar": "Contents",
   "toc_cell": true,
   "toc_position": {},
   "toc_section_display": true,
   "toc_window_display": false
  }
 },
 "nbformat": 4,
 "nbformat_minor": 1
}
