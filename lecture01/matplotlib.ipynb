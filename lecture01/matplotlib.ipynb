{
 "cells": [
  {
   "cell_type": "markdown",
   "metadata": {
    "toc": "true"
   },
   "source": [
    "<h1>Table of Contents<span class=\"tocSkip\"></span></h1>\n",
    "<div class=\"toc\"><ul class=\"toc-item\"><li><span><a href=\"#Графики-зависимостей\" data-toc-modified-id=\"Графики-зависимостей-1\"><span class=\"toc-item-num\">1&nbsp;&nbsp;</span>Графики зависимостей</a></span></li><li><span><a href=\"#Круговые-графики\" data-toc-modified-id=\"Круговые-графики-2\"><span class=\"toc-item-num\">2&nbsp;&nbsp;</span>Круговые графики</a></span></li><li><span><a href=\"#Точечные-диаграммы\" data-toc-modified-id=\"Точечные-диаграммы-3\"><span class=\"toc-item-num\">3&nbsp;&nbsp;</span>Точечные диаграммы</a></span></li><li><span><a href=\"#Гистограммы\" data-toc-modified-id=\"Гистограммы-4\"><span class=\"toc-item-num\">4&nbsp;&nbsp;</span>Гистограммы</a></span></li><li><span><a href=\"#Подграфики\" data-toc-modified-id=\"Подграфики-5\"><span class=\"toc-item-num\">5&nbsp;&nbsp;</span>Подграфики</a></span></li><li><span><a href=\"#Зачем-это-нужно?\" data-toc-modified-id=\"Зачем-это-нужно?-6\"><span class=\"toc-item-num\">6&nbsp;&nbsp;</span>Зачем это нужно?</a></span></li></ul></div>"
   ]
  },
  {
   "cell_type": "code",
   "execution_count": null,
   "metadata": {
    "ExecuteTime": {
     "end_time": "2021-10-06T18:18:26.804929Z",
     "start_time": "2021-10-06T18:18:26.797335Z"
    }
   },
   "outputs": [],
   "source": [
    "%matplotlib inline\n",
    "import matplotlib.pyplot as plt\n",
    "import numpy as np"
   ]
  },
  {
   "cell_type": "markdown",
   "metadata": {},
   "source": [
    "# Графики зависимостей\n",
    "plt.plot(x, y)\n"
   ]
  },
  {
   "cell_type": "code",
   "execution_count": null,
   "metadata": {
    "ExecuteTime": {
     "end_time": "2021-10-06T18:19:21.173971Z",
     "start_time": "2021-10-06T18:19:21.171329Z"
    }
   },
   "outputs": [],
   "source": [
    "x = np.linspace(0, 20, 2)"
   ]
  },
  {
   "cell_type": "code",
   "execution_count": null,
   "metadata": {
    "ExecuteTime": {
     "end_time": "2021-10-06T18:19:35.320169Z",
     "start_time": "2021-10-06T18:19:35.176036Z"
    }
   },
   "outputs": [],
   "source": [
    "x = np.linspace(0, 20, 500)\n",
    "y1 = np.sin(x)\n",
    "y2 = np.sin(x - np.pi)\n",
    "\n",
    "plt.figure()\n",
    "\n",
    "plt.plot(x, y1)\n",
    "plt.plot(x, y2)\n",
    "plt.show()"
   ]
  },
  {
   "cell_type": "markdown",
   "metadata": {},
   "source": [
    "* `color`: Цвет линии\n",
    "\n",
    "* `linestyle`: способ соединения точек: толстая линия, прерывистая, её отсутствие\n",
    "\n",
    "* `linewidth`: Задаем тонкость линии\n",
    "\n",
    "* `marker`: Что использовать для обозначения точки(круг, квадрат,треугольник, ничего).\n",
    "\n",
    "* `markersize`: Очевидно.\n",
    "\n",
    "* `label`: Название для данного графика в легенде."
   ]
  },
  {
   "cell_type": "code",
   "execution_count": null,
   "metadata": {
    "ExecuteTime": {
     "end_time": "2021-10-06T18:20:09.926142Z",
     "start_time": "2021-10-06T18:20:09.674822Z"
    }
   },
   "outputs": [],
   "source": [
    "x = np.linspace(0, 20, 10000)\n",
    "y1 = np.sin(x)\n",
    "y2 = np.sin(x - np.pi)\n",
    "\n",
    "plt.figure()\n",
    "\n",
    "plt.plot(x, y1, color='gray', linestyle='-', marker='s', markersize=2, label='sinx')\n",
    "plt.plot(x, y2, color='green', linestyle='--', marker='^', markersize=5, label='sin(x-pi)')\n",
    "plt.legend(loc=\"best\")\n",
    "plt.show()"
   ]
  },
  {
   "cell_type": "markdown",
   "metadata": {},
   "source": [
    "plt.bar(left, height)\n",
    "\n",
    "* `left`: x координата\n",
    "\n",
    "* `height`: соответствующая высота столбца"
   ]
  },
  {
   "cell_type": "code",
   "execution_count": null,
   "metadata": {
    "ExecuteTime": {
     "end_time": "2021-10-06T18:20:43.054522Z",
     "start_time": "2021-10-06T18:20:42.934112Z"
    }
   },
   "outputs": [],
   "source": [
    "years = np.arange(2012, 2015)\n",
    "values = [2, 5, 9]\n",
    "plt.figure()\n",
    "plt.bar(years, values)\n",
    "plt.show()"
   ]
  },
  {
   "cell_type": "markdown",
   "metadata": {},
   "source": [
    "\n",
    "* `color`: Цвет столба\n",
    "\n",
    "* `edgecolor`: Цвет края столба\n",
    "\n",
    "* `width`: Ширина столбика\n",
    "\n",
    "* `label`: аналогично как с plot"
   ]
  },
  {
   "cell_type": "code",
   "execution_count": null,
   "metadata": {
    "ExecuteTime": {
     "end_time": "2021-10-05T21:04:37.151804Z",
     "start_time": "2021-10-05T21:04:37.041048Z"
    }
   },
   "outputs": [],
   "source": [
    "years = np.arange(2012, 2015)\n",
    "category1_values = [2, 5, 9]\n",
    "category2_values = [7, 6, 3]\n",
    "\n",
    "plt.figure()\n",
    "\n",
    "plt.bar(years - 0.2,\n",
    "        category1_values,\n",
    "        color='blue',\n",
    "        edgecolor='none',\n",
    "        width=0.4,\n",
    "        align='center',\n",
    "        label='y1')\n",
    "\n",
    "plt.bar(years + 0.2,\n",
    "        category2_values,\n",
    "        color='orange',\n",
    "        edgecolor='blue',\n",
    "        width=0.4,\n",
    "        align='center',\n",
    "        label='y2')\n",
    "\n",
    "plt.xticks(years, [str(year) for year in years])\n",
    "plt.yticks(years, [str(year) for year in years])\n",
    "\n",
    "plt.legend()\n",
    "plt.show()"
   ]
  },
  {
   "cell_type": "markdown",
   "metadata": {},
   "source": [
    "# Круговые графики\n",
    "\n",
    "\n",
    "plt.pie(sizes)\n",
    "\n",
    "* `sizes`: "
   ]
  },
  {
   "cell_type": "code",
   "execution_count": null,
   "metadata": {
    "ExecuteTime": {
     "end_time": "2021-10-06T18:21:50.980285Z",
     "start_time": "2021-10-06T18:21:50.915833Z"
    }
   },
   "outputs": [],
   "source": [
    "counts = [17, 14]\n",
    "\n",
    "plt.figure(figsize=(10,8))\n",
    "\n",
    "plt.pie(counts)\n",
    "plt.show()"
   ]
  },
  {
   "cell_type": "code",
   "execution_count": null,
   "metadata": {
    "ExecuteTime": {
     "end_time": "2021-10-06T18:22:46.018691Z",
     "start_time": "2021-10-06T18:22:45.975116Z"
    }
   },
   "outputs": [],
   "source": [
    "counts = [17, 3]\n",
    "\n",
    "plt.figure(figsize=(4, 4))\n",
    "\n",
    "plt.pie(counts,\n",
    "        colors=['blue', 'orange'],\n",
    "        labels=['Cats', 'Dogs'],\n",
    "        startangle=90,\n",
    "        autopct='%1.f%%')\n",
    ";\n",
    "plt.show()"
   ]
  },
  {
   "cell_type": "markdown",
   "metadata": {},
   "source": [
    "# Точечные диаграммы\n",
    "\n",
    "plt.scatter(x,y)\n"
   ]
  },
  {
   "cell_type": "code",
   "execution_count": null,
   "metadata": {
    "ExecuteTime": {
     "end_time": "2021-10-06T18:22:55.798195Z",
     "start_time": "2021-10-06T18:22:55.675384Z"
    }
   },
   "outputs": [],
   "source": [
    "x = range(20)\n",
    "y = np.arange(50, 70) + (np.random.random(20) * 10.)\n",
    "\n",
    "plt.figure()\n",
    "\n",
    "plt.scatter(x, y)\n",
    "plt.show()"
   ]
  },
  {
   "cell_type": "markdown",
   "metadata": {},
   "source": [
    "Многие функции данной библиотеки имеют похожие параметры."
   ]
  },
  {
   "cell_type": "code",
   "execution_count": null,
   "metadata": {
    "ExecuteTime": {
     "end_time": "2021-10-06T18:23:19.592733Z",
     "start_time": "2021-10-06T18:23:19.472866Z"
    }
   },
   "outputs": [],
   "source": [
    "x = np.arange(20)\n",
    "y = np.arange(50, 70) + (np.random.random(20) * 10.)\n",
    "\n",
    "plt.figure()\n",
    "\n",
    "plt.scatter(x, y, c='red',\n",
    "            marker='s',\n",
    "            edgecolor='blue')\n",
    "plt.show()"
   ]
  },
  {
   "cell_type": "markdown",
   "metadata": {},
   "source": [
    "# Гистограммы\n",
    "\n",
    "plt.hist(x)\n",
    "`x`: Массив для которого мы хотим посмотреть распределение"
   ]
  },
  {
   "cell_type": "code",
   "execution_count": null,
   "metadata": {
    "ExecuteTime": {
     "end_time": "2021-10-06T18:23:23.016051Z",
     "start_time": "2021-10-06T18:23:22.824440Z"
    }
   },
   "outputs": [],
   "source": [
    "column_data = np.random.normal(42, 3, 1000000)\n",
    "\n",
    "plt.figure()\n",
    "\n",
    "plt.hist(column_data)\n",
    "plt.show()"
   ]
  },
  {
   "cell_type": "code",
   "execution_count": null,
   "metadata": {
    "ExecuteTime": {
     "end_time": "2021-10-06T18:23:43.149255Z",
     "start_time": "2021-10-06T18:23:42.961989Z"
    }
   },
   "outputs": [],
   "source": [
    "column_data = np.random.normal(42, 3, 10000)\n",
    "\n",
    "plt.figure()\n",
    "\n",
    "plt.hist(column_data,color='red',\n",
    "         bins=50,\n",
    "         density=True)\n",
    "plt.show()"
   ]
  },
  {
   "cell_type": "markdown",
   "metadata": {},
   "source": [
    "# Подграфики\n",
    "\n",
    "Позволяет вам строить несколько отдельных графиков на одном изображении.\n",
    "\n",
    "subplot(nrows, ncols, plot_number)\n",
    "\n",
    "* `nrows`: Количество графиков в ряд по вертикали\n",
    "\n",
    "* `ncols`: Количество графиков в ряд по горизонтали\n",
    "\n",
    "* `plot_number`: Расположение графика на изображении, отсчет начинается с 1."
   ]
  },
  {
   "cell_type": "code",
   "execution_count": null,
   "metadata": {
    "ExecuteTime": {
     "end_time": "2021-10-06T18:23:53.403145Z",
     "start_time": "2021-10-06T18:23:53.224098Z"
    }
   },
   "outputs": [],
   "source": [
    "plt.figure()\n",
    "\n",
    "for i in range(1, 7):\n",
    "    plt.subplot(3, 2, i)\n",
    "    plt.title(i)\n",
    "    plt.xticks([])\n",
    "    plt.yticks([])\n",
    "\n",
    "plt.tight_layout()"
   ]
  },
  {
   "cell_type": "markdown",
   "metadata": {},
   "source": [
    "# Зачем это нужно?"
   ]
  },
  {
   "cell_type": "code",
   "execution_count": null,
   "metadata": {
    "ExecuteTime": {
     "end_time": "2021-10-06T18:23:57.356195Z",
     "start_time": "2021-10-06T18:23:57.209280Z"
    }
   },
   "outputs": [],
   "source": [
    "years = np.arange(2010, 2016)\n",
    "\n",
    "plt.figure()\n",
    "\n",
    "for category_num in range(1, 17):\n",
    "    y_vals = np.arange(10, 16) + (np.random.random(6) * category_num / 4.)\n",
    "    plt.plot(years, y_vals)\n",
    "\n",
    "plt.ylim(10, 18)\n",
    "plt.xticks(years, [str(year) for year in years])\n",
    "plt.show()"
   ]
  },
  {
   "cell_type": "code",
   "execution_count": null,
   "metadata": {
    "ExecuteTime": {
     "end_time": "2021-10-05T21:05:43.498290Z",
     "start_time": "2021-10-05T21:05:42.145687Z"
    }
   },
   "outputs": [],
   "source": [
    "years = np.arange(2010, 2016)\n",
    "\n",
    "plt.figure(figsize=(10, 10))\n",
    "\n",
    "for category_num in range(1, 17):\n",
    "    plt.subplot(4, 4, category_num)\n",
    "    y_vals = np.arange(10, 16) + (np.random.random(6) * category_num / 4.)\n",
    "    plt.plot(years, y_vals)\n",
    "    plt.ylim(10, 18)\n",
    "    plt.xticks(years, [str(year) for year in years])\n",
    "    plt.title('Number {}'.format(category_num))\n",
    "    \n",
    "plt.tight_layout()\n",
    "plt.show()"
   ]
  },
  {
   "cell_type": "code",
   "execution_count": null,
   "metadata": {},
   "outputs": [],
   "source": []
  }
 ],
 "metadata": {
  "kernelspec": {
   "display_name": "Python 3",
   "language": "python",
   "name": "python3"
  },
  "language_info": {
   "codemirror_mode": {
    "name": "ipython",
    "version": 3
   },
   "file_extension": ".py",
   "mimetype": "text/x-python",
   "name": "python",
   "nbconvert_exporter": "python",
   "pygments_lexer": "ipython3",
   "version": "3.7.3"
  },
  "toc": {
   "base_numbering": 1,
   "nav_menu": {
    "height": "123px",
    "width": "252px"
   },
   "number_sections": true,
   "sideBar": true,
   "skip_h1_title": false,
   "title_cell": "Table of Contents",
   "title_sidebar": "Contents",
   "toc_cell": true,
   "toc_position": {},
   "toc_section_display": "block",
   "toc_window_display": false
  }
 },
 "nbformat": 4,
 "nbformat_minor": 4
}
